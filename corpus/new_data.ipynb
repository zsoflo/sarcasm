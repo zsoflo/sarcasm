{
 "cells": [
  {
   "cell_type": "code",
   "execution_count": null,
   "metadata": {
    "colab": {
     "base_uri": "https://localhost:8080/",
     "height": 1000,
     "referenced_widgets": [
      "3ba66254e560402eac538accf0ab1a30",
      "2d27c216829946b6967b1661797d2253",
      "c1b2e9884b6046c388f1e73b1bab1585",
      "81b7813381cb483ca3f3c8415882685f",
      "ebbd418073d240b2b42fb224bcdec02d",
      "886241d1da2d4674bfb798165fa47fc6",
      "dc7fa127641e4d239a5bfbf7872babb7",
      "21f9244aa6304483b3c6844e13babd6c",
      "32ee0268c0cc4db097e25ef44fc64cb7",
      "16f519f84a6b4024a086d04856005b17",
      "9ea5ad18762f48dcb3843def6063e7c5",
      "1257aba3202d472788e519c02d005026",
      "414759016046454b82343815d2f83fcf",
      "42a950ba6d894572a54a748dd0c09d76",
      "28c93e95838b40f8b536790ad00b6adf",
      "ef7b420121de4712b46bcd3b86e51b1e",
      "4995d9eed5d0438fa1abaee03a556154",
      "6cbd75d32e0f43498f870201d9d97d28",
      "bbf4481e1534443baa8963f9550a0e1a",
      "6bab6418642c4b9ca49f68ce9a87eeab",
      "6ce454b8d17a409ca246f5c870ed5d97",
      "aa79e127ffb64015ae8c01c71cf024f7",
      "37e406bd58a045f2971f4cc12ca5d00f",
      "68ffc79b683a43b08a4766f2899c837c",
      "f15470b5fc5b4296a6a4cb536f38cee9",
      "8ad3ae91f45a430180b0920aa5d2aed5",
      "68f4f0c7cba44c5ebbfce0db8511e2e1",
      "53053979689c4a1c91a9b414b539be3e",
      "744c63f786e4463c9be256b57dea0059",
      "0fedc5932cf34ddbaa93231677bc945b",
      "6fbf5e183e4b4de887fe4f53590e7e3d",
      "f5368dece07944a09941f6854d14bf7a",
      "d0c2dc11955c462285302c94ec0f1373"
     ]
    },
    "executionInfo": {
     "elapsed": 38013,
     "status": "ok",
     "timestamp": 1734935680538,
     "user": {
      "displayName": "Samba Fall",
      "userId": "17845594153074474775"
     },
     "user_tz": -60
    },
    "id": "g9QEzsGCmJu-",
    "outputId": "eb6baf47-29b3-4301-a7d7-c9a3a0959edf"
   },
   "outputs": [
    {
     "name": "stdout",
     "output_type": "stream",
     "text": [
      "Collecting stanza\n",
      "  Downloading stanza-1.9.2-py3-none-any.whl.metadata (13 kB)\n",
      "Collecting emoji (from stanza)\n",
      "  Downloading emoji-2.14.0-py3-none-any.whl.metadata (5.7 kB)\n",
      "Requirement already satisfied: numpy in /usr/local/lib/python3.10/dist-packages (from stanza) (1.26.4)\n",
      "Requirement already satisfied: protobuf>=3.15.0 in /usr/local/lib/python3.10/dist-packages (from stanza) (4.25.5)\n",
      "Requirement already satisfied: requests in /usr/local/lib/python3.10/dist-packages (from stanza) (2.32.3)\n",
      "Requirement already satisfied: networkx in /usr/local/lib/python3.10/dist-packages (from stanza) (3.4.2)\n",
      "Requirement already satisfied: torch>=1.3.0 in /usr/local/lib/python3.10/dist-packages (from stanza) (2.5.1+cu121)\n",
      "Requirement already satisfied: tqdm in /usr/local/lib/python3.10/dist-packages (from stanza) (4.67.1)\n",
      "Requirement already satisfied: tomli in /usr/local/lib/python3.10/dist-packages (from stanza) (2.2.1)\n",
      "Requirement already satisfied: filelock in /usr/local/lib/python3.10/dist-packages (from torch>=1.3.0->stanza) (3.16.1)\n",
      "Requirement already satisfied: typing-extensions>=4.8.0 in /usr/local/lib/python3.10/dist-packages (from torch>=1.3.0->stanza) (4.12.2)\n",
      "Requirement already satisfied: jinja2 in /usr/local/lib/python3.10/dist-packages (from torch>=1.3.0->stanza) (3.1.4)\n",
      "Requirement already satisfied: fsspec in /usr/local/lib/python3.10/dist-packages (from torch>=1.3.0->stanza) (2024.10.0)\n",
      "Requirement already satisfied: sympy==1.13.1 in /usr/local/lib/python3.10/dist-packages (from torch>=1.3.0->stanza) (1.13.1)\n",
      "Requirement already satisfied: mpmath<1.4,>=1.1.0 in /usr/local/lib/python3.10/dist-packages (from sympy==1.13.1->torch>=1.3.0->stanza) (1.3.0)\n",
      "Requirement already satisfied: charset-normalizer<4,>=2 in /usr/local/lib/python3.10/dist-packages (from requests->stanza) (3.4.0)\n",
      "Requirement already satisfied: idna<4,>=2.5 in /usr/local/lib/python3.10/dist-packages (from requests->stanza) (3.10)\n",
      "Requirement already satisfied: urllib3<3,>=1.21.1 in /usr/local/lib/python3.10/dist-packages (from requests->stanza) (2.2.3)\n",
      "Requirement already satisfied: certifi>=2017.4.17 in /usr/local/lib/python3.10/dist-packages (from requests->stanza) (2024.12.14)\n",
      "Requirement already satisfied: MarkupSafe>=2.0 in /usr/local/lib/python3.10/dist-packages (from jinja2->torch>=1.3.0->stanza) (3.0.2)\n",
      "Downloading stanza-1.9.2-py3-none-any.whl (1.1 MB)\n",
      "\u001b[2K   \u001b[90m━━━━━━━━━━━━━━━━━━━━━━━━━━━━━━━━━━━━━━━━\u001b[0m \u001b[32m1.1/1.1 MB\u001b[0m \u001b[31m19.3 MB/s\u001b[0m eta \u001b[36m0:00:00\u001b[0m\n",
      "\u001b[?25hDownloading emoji-2.14.0-py3-none-any.whl (586 kB)\n",
      "\u001b[2K   \u001b[90m━━━━━━━━━━━━━━━━━━━━━━━━━━━━━━━━━━━━━━━━\u001b[0m \u001b[32m586.9/586.9 kB\u001b[0m \u001b[31m32.0 MB/s\u001b[0m eta \u001b[36m0:00:00\u001b[0m\n",
      "\u001b[?25hInstalling collected packages: emoji, stanza\n",
      "Successfully installed emoji-2.14.0 stanza-1.9.2\n",
      "\u001b[31mERROR: Could not find a version that satisfies the requirement graphiz (from versions: none)\u001b[0m\u001b[31m\n",
      "\u001b[0m\u001b[31mERROR: No matching distribution found for graphiz\u001b[0m\u001b[31m\n",
      "\u001b[0m"
     ]
    },
    {
     "data": {
      "application/vnd.jupyter.widget-view+json": {
       "model_id": "3ba66254e560402eac538accf0ab1a30",
       "version_major": 2,
       "version_minor": 0
      },
      "text/plain": [
       "Downloading https://raw.githubusercontent.com/stanfordnlp/stanza-resources/main/resources_1.9.0.json:   0%|   …"
      ]
     },
     "metadata": {},
     "output_type": "display_data"
    },
    {
     "name": "stderr",
     "output_type": "stream",
     "text": [
      "INFO:stanza:Downloaded file to /root/stanza_resources/resources.json\n",
      "INFO:stanza:Downloading default packages for language: en (English) ...\n"
     ]
    },
    {
     "data": {
      "application/vnd.jupyter.widget-view+json": {
       "model_id": "1257aba3202d472788e519c02d005026",
       "version_major": 2,
       "version_minor": 0
      },
      "text/plain": [
       "Downloading https://huggingface.co/stanfordnlp/stanza-en/resolve/v1.9.0/models/default.zip:   0%|          | 0…"
      ]
     },
     "metadata": {},
     "output_type": "display_data"
    },
    {
     "name": "stderr",
     "output_type": "stream",
     "text": [
      "INFO:stanza:Downloaded file to /root/stanza_resources/en/default.zip\n",
      "INFO:stanza:Finished downloading models and saved to /root/stanza_resources\n",
      "INFO:stanza:Checking for updates to resources.json in case models have been updated.  Note: this behavior can be turned off with download_method=None or download_method=DownloadMethod.REUSE_RESOURCES\n"
     ]
    },
    {
     "data": {
      "application/vnd.jupyter.widget-view+json": {
       "model_id": "37e406bd58a045f2971f4cc12ca5d00f",
       "version_major": 2,
       "version_minor": 0
      },
      "text/plain": [
       "Downloading https://raw.githubusercontent.com/stanfordnlp/stanza-resources/main/resources_1.9.0.json:   0%|   …"
      ]
     },
     "metadata": {},
     "output_type": "display_data"
    },
    {
     "name": "stderr",
     "output_type": "stream",
     "text": [
      "INFO:stanza:Downloaded file to /root/stanza_resources/resources.json\n",
      "WARNING:stanza:Language en package default expects mwt, which has been added\n",
      "INFO:stanza:Loading these models for language: en (English):\n",
      "======================================\n",
      "| Processor    | Package             |\n",
      "--------------------------------------\n",
      "| tokenize     | combined            |\n",
      "| mwt          | combined            |\n",
      "| pos          | combined_charlm     |\n",
      "| constituency | ptb3-revised_charlm |\n",
      "======================================\n",
      "\n",
      "INFO:stanza:Using device: cpu\n",
      "INFO:stanza:Loading: tokenize\n",
      "/usr/local/lib/python3.10/dist-packages/stanza/models/tokenization/trainer.py:82: FutureWarning: You are using `torch.load` with `weights_only=False` (the current default value), which uses the default pickle module implicitly. It is possible to construct malicious pickle data which will execute arbitrary code during unpickling (See https://github.com/pytorch/pytorch/blob/main/SECURITY.md#untrusted-models for more details). In a future release, the default value for `weights_only` will be flipped to `True`. This limits the functions that could be executed during unpickling. Arbitrary objects will no longer be allowed to be loaded via this mode unless they are explicitly allowlisted by the user via `torch.serialization.add_safe_globals`. We recommend you start setting `weights_only=True` for any use case where you don't have full control of the loaded file. Please open an issue on GitHub for any issues related to this experimental feature.\n",
      "  checkpoint = torch.load(filename, lambda storage, loc: storage)\n",
      "INFO:stanza:Loading: mwt\n",
      "/usr/local/lib/python3.10/dist-packages/stanza/models/mwt/trainer.py:201: FutureWarning: You are using `torch.load` with `weights_only=False` (the current default value), which uses the default pickle module implicitly. It is possible to construct malicious pickle data which will execute arbitrary code during unpickling (See https://github.com/pytorch/pytorch/blob/main/SECURITY.md#untrusted-models for more details). In a future release, the default value for `weights_only` will be flipped to `True`. This limits the functions that could be executed during unpickling. Arbitrary objects will no longer be allowed to be loaded via this mode unless they are explicitly allowlisted by the user via `torch.serialization.add_safe_globals`. We recommend you start setting `weights_only=True` for any use case where you don't have full control of the loaded file. Please open an issue on GitHub for any issues related to this experimental feature.\n",
      "  checkpoint = torch.load(filename, lambda storage, loc: storage)\n",
      "INFO:stanza:Loading: pos\n",
      "/usr/local/lib/python3.10/dist-packages/stanza/models/pos/trainer.py:139: FutureWarning: You are using `torch.load` with `weights_only=False` (the current default value), which uses the default pickle module implicitly. It is possible to construct malicious pickle data which will execute arbitrary code during unpickling (See https://github.com/pytorch/pytorch/blob/main/SECURITY.md#untrusted-models for more details). In a future release, the default value for `weights_only` will be flipped to `True`. This limits the functions that could be executed during unpickling. Arbitrary objects will no longer be allowed to be loaded via this mode unless they are explicitly allowlisted by the user via `torch.serialization.add_safe_globals`. We recommend you start setting `weights_only=True` for any use case where you don't have full control of the loaded file. Please open an issue on GitHub for any issues related to this experimental feature.\n",
      "  checkpoint = torch.load(filename, lambda storage, loc: storage)\n",
      "/usr/local/lib/python3.10/dist-packages/stanza/models/common/pretrain.py:56: FutureWarning: You are using `torch.load` with `weights_only=False` (the current default value), which uses the default pickle module implicitly. It is possible to construct malicious pickle data which will execute arbitrary code during unpickling (See https://github.com/pytorch/pytorch/blob/main/SECURITY.md#untrusted-models for more details). In a future release, the default value for `weights_only` will be flipped to `True`. This limits the functions that could be executed during unpickling. Arbitrary objects will no longer be allowed to be loaded via this mode unless they are explicitly allowlisted by the user via `torch.serialization.add_safe_globals`. We recommend you start setting `weights_only=True` for any use case where you don't have full control of the loaded file. Please open an issue on GitHub for any issues related to this experimental feature.\n",
      "  data = torch.load(self.filename, lambda storage, loc: storage)\n",
      "/usr/local/lib/python3.10/dist-packages/stanza/models/common/char_model.py:271: FutureWarning: You are using `torch.load` with `weights_only=False` (the current default value), which uses the default pickle module implicitly. It is possible to construct malicious pickle data which will execute arbitrary code during unpickling (See https://github.com/pytorch/pytorch/blob/main/SECURITY.md#untrusted-models for more details). In a future release, the default value for `weights_only` will be flipped to `True`. This limits the functions that could be executed during unpickling. Arbitrary objects will no longer be allowed to be loaded via this mode unless they are explicitly allowlisted by the user via `torch.serialization.add_safe_globals`. We recommend you start setting `weights_only=True` for any use case where you don't have full control of the loaded file. Please open an issue on GitHub for any issues related to this experimental feature.\n",
      "  state = torch.load(filename, lambda storage, loc: storage)\n",
      "INFO:stanza:Loading: constituency\n",
      "/usr/local/lib/python3.10/dist-packages/stanza/models/constituency/base_trainer.py:87: FutureWarning: You are using `torch.load` with `weights_only=False` (the current default value), which uses the default pickle module implicitly. It is possible to construct malicious pickle data which will execute arbitrary code during unpickling (See https://github.com/pytorch/pytorch/blob/main/SECURITY.md#untrusted-models for more details). In a future release, the default value for `weights_only` will be flipped to `True`. This limits the functions that could be executed during unpickling. Arbitrary objects will no longer be allowed to be loaded via this mode unless they are explicitly allowlisted by the user via `torch.serialization.add_safe_globals`. We recommend you start setting `weights_only=True` for any use case where you don't have full control of the loaded file. Please open an issue on GitHub for any issues related to this experimental feature.\n",
      "  checkpoint = torch.load(filename, lambda storage, loc: storage)\n",
      "INFO:stanza:Done loading processors!\n"
     ]
    }
   ],
   "source": [
    "!pip install stanza\n",
    "import stanza\n",
    "stanza.download('en')\n",
    "stanza_nlp = stanza.Pipeline(lang = 'en', processors = 'tokenize,pos,constituency')"
   ]
  },
  {
   "cell_type": "code",
   "execution_count": 3,
   "metadata": {
    "executionInfo": {
     "elapsed": 4580,
     "status": "ok",
     "timestamp": 1734935796633,
     "user": {
      "displayName": "Samba Fall",
      "userId": "17845594153074474775"
     },
     "user_tz": -60
    },
    "id": "MWPPWmMhmPv1"
   },
   "outputs": [],
   "source": [
    "import pandas as pd\n",
    "import os\n",
    "import re\n",
    "from tqdm import tqdm\n",
    "import spacy\n",
    "nlp = spacy.load('en_core_web_sm')\n",
    "tqdm.pandas()"
   ]
  },
  {
   "cell_type": "code",
   "execution_count": 4,
   "metadata": {
    "executionInfo": {
     "elapsed": 2395,
     "status": "ok",
     "timestamp": 1734935801970,
     "user": {
      "displayName": "Samba Fall",
      "userId": "17845594153074474775"
     },
     "user_tz": -60
    },
    "id": "YsMmyxqgmncF"
   },
   "outputs": [],
   "source": [
    "train = pd.read_csv('train.csv')\n",
    "test = pd.read_csv('test.csv')\n",
    "\n",
    "indexes_train = list(train.index.values)\n",
    "indexes_test = list(test.index.values)\n",
    "train['id'] = indexes_train\n",
    "test['id'] = indexes_test\n",
    "\n",
    "frames = [train, test]\n",
    "merged = pd.concat(frames)\n",
    "sarcasm_rows = merged.loc[merged['class'] == 'sarcasm']\n",
    "regular_rows = merged.loc[merged['class'] == 'regular']\n",
    "all_rows = pd.concat([sarcasm_rows, regular_rows])\n",
    "all_rows[\"sarcastic\"] = all_rows.apply( lambda x : int(x[\"class\"] == 'sarcasm'),  axis=1 )\n",
    "all_rows = all_rows.drop( [\"class\"], axis=1 )\n",
    "all_rows = all_rows.rename(columns={\"tweets\" : \"original_tweet\"})"
   ]
  },
  {
   "cell_type": "code",
   "execution_count": 5,
   "metadata": {
    "executionInfo": {
     "elapsed": 964,
     "status": "ok",
     "timestamp": 1734935868796,
     "user": {
      "displayName": "Samba Fall",
      "userId": "17845594153074474775"
     },
     "user_tz": -60
    },
    "id": "55dVlKjJHaQt"
   },
   "outputs": [],
   "source": [
    "hate = re.compile(r'([\\b]+[Hh]+[Aa]+[Tt]+)')\n",
    "love = re.compile(r'([Ll]+[OoUu]+[Vv]+)')\n",
    "\n",
    "all_rows[\"love/hate\"] = all_rows.apply( lambda x : int( re.search(love, x[\"original_tweet\"]) is not None or re.search(hate, x[\"original_tweet\"] ) is not None ), axis=1 )"
   ]
  },
  {
   "cell_type": "code",
   "execution_count": 6,
   "metadata": {
    "executionInfo": {
     "elapsed": 5,
     "status": "ok",
     "timestamp": 1734935892127,
     "user": {
      "displayName": "Samba Fall",
      "userId": "17845594153074474775"
     },
     "user_tz": -60
    },
    "id": "YSyypnK4H81L"
   },
   "outputs": [],
   "source": [
    "only_love_hate = all_rows[ all_rows[\"love/hate\"] == 1]"
   ]
  },
  {
   "cell_type": "code",
   "execution_count": null,
   "metadata": {
    "colab": {
     "base_uri": "https://localhost:8080/"
    },
    "executionInfo": {
     "elapsed": 224,
     "status": "ok",
     "timestamp": 1734935899011,
     "user": {
      "displayName": "Samba Fall",
      "userId": "17845594153074474775"
     },
     "user_tz": -60
    },
    "id": "O21k2kE9FMHl",
    "outputId": "d1b674f6-041a-41a9-9395-a33f20602a55"
   },
   "outputs": [
    {
     "name": "stderr",
     "output_type": "stream",
     "text": [
      "<ipython-input-7-3eef9d446850>:5: SettingWithCopyWarning: \n",
      "A value is trying to be set on a copy of a slice from a DataFrame.\n",
      "Try using .loc[row_indexer,col_indexer] = value instead\n",
      "\n",
      "See the caveats in the documentation: https://pandas.pydata.org/pandas-docs/stable/user_guide/indexing.html#returning-a-view-versus-a-copy\n",
      "  only_love_hate[\"tweet\"] = only_love_hate.apply( lambda x : re.sub( ' +', ' ', re.sub( sarc, '', re.sub( attr, \"@user\", x[\"original_tweet\"] ) ) ), axis = 1 )\n"
     ]
    }
   ],
   "source": [
    "sarc = re.compile(r'([#]+[Ss]+[Aa]+[Rr]+[Cc]+[^\\s]*)')\n",
    "attr = re.compile(r'([@]+[^\\s]*)')\n",
    "\n",
    "# applying to the original tweet the following substitutions : replaced the @... by @user, removed the #sarcasm, limited to the maximum number of adjacent blankspaces to 1\n",
    "only_love_hate[\"tweet\"] = only_love_hate.apply( lambda x : re.sub( ' +', ' ', re.sub( sarc, '', re.sub( attr, \"@user\", x[\"original_tweet\"] ) ) ), axis = 1 )"
   ]
  },
  {
   "cell_type": "markdown",
   "metadata": {
    "id": "7PL_wNmOm4dX"
   },
   "source": [
    "## Filtering"
   ]
  },
  {
   "cell_type": "code",
   "execution_count": null,
   "metadata": {
    "colab": {
     "base_uri": "https://localhost:8080/"
    },
    "executionInfo": {
     "elapsed": 677,
     "status": "ok",
     "timestamp": 1734937201198,
     "user": {
      "displayName": "Samba Fall",
      "userId": "17845594153074474775"
     },
     "user_tz": -60
    },
    "id": "TzHvJ9CzdHST",
    "outputId": "7f058a05-207c-496d-b941-813efc633a27"
   },
   "outputs": [
    {
     "name": "stdout",
     "output_type": "stream",
     "text": [
      "(ROOT (S (NP (PRP i)) (VP (VBP love) (NP (NN work)) (NP (NN today)) (NFP :-RRB-)) (. .)))\n"
     ]
    }
   ],
   "source": [
    "doc = stanza_nlp(\"i love work today :) .\")\n",
    "\n",
    "# write a function that looks at each layer, and checks, if there is an SBAR, if it is a correct SBAR or not\n",
    "def parse_vp(tree, left_sister_is_verb=False, is_embedded=False, first_VP_passed=False ):\n",
    "\n",
    "    if 'SBAR' == tree.label:\n",
    "      if 'S' == tree.children[0].label and not left_sister_is_verb :\n",
    "        return 'bad'\n",
    "      else:\n",
    "        return parse_vp(tree.children[-1], left_sister_is_verb= len(tree.children) > 1 and tree.children[-2].label.startswith(\"V\"), is_embedded = True, first_VP_passed= first_VP_passed)\n",
    "\n",
    "    if tree.is_preterminal():\n",
    "      return 'good'\n",
    "\n",
    "    if tree.label == \"VP\" and not first_VP_passed :\n",
    "      first_VP_passed = True\n",
    "      if len( [x for x in tree.children if x.label == \"VP\"] ) >= 2 :\n",
    "        return 'bad'\n",
    "\n",
    "    if tree.label == \"UH\" and is_embedded :\n",
    "      return 'bad'\n",
    "\n",
    "    if tree.label == 'NP' and len(tree.children) >= 2 and tree.children[0].label == 'NP' and tree.children[1].label == 'SBAR'  :\n",
    "      x = parse_vp(tree.children[1].children[0], is_embedded=True, first_VP_passed = first_VP_passed)\n",
    "      if x == 'bad' :\n",
    "        return x\n",
    "      for i in range(len(tree.children) - 2) :\n",
    "        idx = len(tree.children) - 1 - i\n",
    "        child = tree.children[idx]\n",
    "        x = parse_vp(child, left_sister_is_verb = idx > 0 and tree.children[idx - 1].label.startswith(\"V\"), is_embedded = is_embedded, first_VP_passed = first_VP_passed)\n",
    "        if x == 'bad':\n",
    "          return x\n",
    "      return 'good'\n",
    "\n",
    "    ignore_S = False\n",
    "    if 'CC' in [ch.label for ch in tree.children[1:]] :\n",
    "      if tree.label == 'S' and not is_embedded :\n",
    "        return 'bad'\n",
    "      else :\n",
    "        ignore_S = True\n",
    "\n",
    "    for i in range(len(tree.children)):\n",
    "      idx = len(tree.children) - i - 1\n",
    "      child = tree.children[idx]\n",
    "\n",
    "      if 'S' == child.label and (not ignore_S) and idx > 0 and not tree.children[0].label.startswith('V') and not tree.children[idx - 1].label.startswith('W') and not tree.children[idx-1].label == \"IN\" :\n",
    "        return 'bad'\n",
    "\n",
    "      x = parse_vp(child, left_sister_is_verb = idx > 0 and tree.children[idx - 1].label.startswith(\"V\"), is_embedded = is_embedded and (tree.label == \"S\"), first_VP_passed=first_VP_passed)\n",
    "      if x == 'bad':\n",
    "        return x\n",
    "    return 'good'"
   ]
  },
  {
   "cell_type": "code",
   "execution_count": null,
   "metadata": {
    "colab": {
     "base_uri": "https://localhost:8080/",
     "height": 55
    },
    "executionInfo": {
     "elapsed": 1718,
     "status": "ok",
     "timestamp": 1734937231184,
     "user": {
      "displayName": "Samba Fall",
      "userId": "17845594153074474775"
     },
     "user_tz": -60
    },
    "id": "makMxXkhm3wt",
    "outputId": "69c4deed-bcea-4b07-92df-c0dbc99d9b7f"
   },
   "outputs": [
    {
     "data": {
      "application/vnd.google.colaboratory.intrinsic+json": {
       "type": "string"
      },
      "text/plain": [
       "'bad'"
      ]
     },
     "execution_count": 10,
     "metadata": {},
     "output_type": "execute_result"
    }
   ],
   "source": [
    "def filtering(s):\n",
    "  doc = stanza_nlp(s)\n",
    "  if len(doc.sentences) == 1:\n",
    "    return parse_vp(doc.sentences[0].constituency)\n",
    "  else:\n",
    "    return 'bad'"
   ]
  },
  {
   "cell_type": "code",
   "execution_count": null,
   "metadata": {
    "id": "yBeL2IDJo__h"
   },
   "outputs": [],
   "source": [
    "def capitalize_I(text) :\n",
    "  lower_case_I = re.compile(r'\\b[i]\\b')\n",
    "  return re.sub(lower_case_I, 'I', text)\n",
    "\n",
    "users = re.compile(r'([@]+\\w*\\s)')\n",
    "def preprocess_tweet(text) :\n",
    "  return str(re.sub(users, '', capitalize_I(text)))"
   ]
  },
  {
   "cell_type": "code",
   "execution_count": 11,
   "metadata": {
    "executionInfo": {
     "elapsed": 233,
     "status": "ok",
     "timestamp": 1734937276165,
     "user": {
      "displayName": "Samba Fall",
      "userId": "17845594153074474775"
     },
     "user_tz": -60
    },
    "id": "eRZ3JOzQCgtM"
   },
   "outputs": [],
   "source": [
    "def exp_1_filtered(s):\n",
    "  s = preprocess_tweet(s)\n",
    "  if (filtering(s) == 'good'):\n",
    "    doc = nlp(s)\n",
    "    for i in range(len(doc)):\n",
    "      if doc[i].pos_ == 'VERB':\n",
    "        if (i != 0) and (doc[i - 1].pos_ != 'ADV') and (doc[i].lemma_ == 'love' or doc[i].lemma_ == 'hate') and [x for x in doc[i].children if x.text.lower() == 'i']:\n",
    "          if doc[i].lemma_ == 'love':\n",
    "            return 'love'\n",
    "          else:\n",
    "            return 'hate'\n",
    "        else:\n",
    "          return None"
   ]
  },
  {
   "cell_type": "code",
   "execution_count": 12,
   "metadata": {
    "executionInfo": {
     "elapsed": 203,
     "status": "ok",
     "timestamp": 1734937301430,
     "user": {
      "displayName": "Samba Fall",
      "userId": "17845594153074474775"
     },
     "user_tz": -60
    },
    "id": "UgsNa4p6LNxX"
   },
   "outputs": [],
   "source": [
    "def exp_2_filtered(s):\n",
    "  s = preprocess_tweet(s)\n",
    "  if (filtering(s) == 'good'):\n",
    "    doc = nlp(s)\n",
    "    if (doc[0].lemma_ == 'love' or doc[0].lemma_ == 'hate'):\n",
    "      if doc[0].lemma_ == 'love':\n",
    "        return 'love'\n",
    "      else:\n",
    "        return 'hate'\n",
    "    else:\n",
    "      return None"
   ]
  },
  {
   "cell_type": "code",
   "execution_count": 13,
   "metadata": {
    "executionInfo": {
     "elapsed": 210,
     "status": "ok",
     "timestamp": 1734937303402,
     "user": {
      "displayName": "Samba Fall",
      "userId": "17845594153074474775"
     },
     "user_tz": -60
    },
    "id": "G_yDhYIfLxh4"
   },
   "outputs": [],
   "source": [
    "def exp_3_filtered(s):\n",
    "  s = preprocess_tweet(s)\n",
    "  if (filtering(s) == 'good'):\n",
    "    doc = nlp(s)\n",
    "    for i in range(len(doc)):\n",
    "      if doc[i].pos_ == 'VERB':\n",
    "        if (i != 0) and (doc[i - 1].pos_ == 'ADV') and (doc[i].lemma_ == 'love' or doc[i].lemma_ == 'hate') and [x for x in doc[i].children if x.text.lower() == 'i']:\n",
    "          if doc[i].lemma_ == 'love':\n",
    "            return 'love'\n",
    "          else:\n",
    "            return 'hate'\n",
    "        else:\n",
    "          return None"
   ]
  },
  {
   "cell_type": "code",
   "execution_count": null,
   "metadata": {
    "colab": {
     "base_uri": "https://localhost:8080/"
    },
    "executionInfo": {
     "elapsed": 2743770,
     "status": "ok",
     "timestamp": 1734892364924,
     "user": {
      "displayName": "Samba Fall",
      "userId": "17845594153074474775"
     },
     "user_tz": -60
    },
    "id": "tthffGOiKWkv",
    "outputId": "75bb99c3-8fe2-4ae2-8e75-0914b1b53c3e"
   },
   "outputs": [
    {
     "name": "stderr",
     "output_type": "stream",
     "text": [
      "100%|██████████| 2824/2824 [45:43<00:00,  1.03it/s]\n",
      "<ipython-input-87-663ae0178ab0>:1: SettingWithCopyWarning: \n",
      "A value is trying to be set on a copy of a slice from a DataFrame.\n",
      "Try using .loc[row_indexer,col_indexer] = value instead\n",
      "\n",
      "See the caveats in the documentation: https://pandas.pydata.org/pandas-docs/stable/user_guide/indexing.html#returning-a-view-versus-a-copy\n",
      "  only_love_hate[\"exp1\"] = only_love_hate.progress_apply( lambda x : exp_1_filtered(x[\"tweet\"]) , axis = 1 )\n"
     ]
    }
   ],
   "source": [
    "only_love_hate[\"exp1\"] = only_love_hate.progress_apply( lambda x : exp_1_filtered(x[\"tweet\"]) , axis = 1 )\n",
    "only_love_hate.to_csv(\"new_data.csv\", index=False)"
   ]
  },
  {
   "cell_type": "code",
   "execution_count": null,
   "metadata": {
    "colab": {
     "base_uri": "https://localhost:8080/"
    },
    "executionInfo": {
     "elapsed": 2771143,
     "status": "ok",
     "timestamp": 1734895136050,
     "user": {
      "displayName": "Samba Fall",
      "userId": "17845594153074474775"
     },
     "user_tz": -60
    },
    "id": "zkLNoAOEMDDp",
    "outputId": "5a2e747f-47d0-4e87-a323-f308734e6366"
   },
   "outputs": [
    {
     "name": "stderr",
     "output_type": "stream",
     "text": [
      "100%|██████████| 2824/2824 [46:11<00:00,  1.02it/s]\n",
      "<ipython-input-88-87db4c8dc970>:1: SettingWithCopyWarning: \n",
      "A value is trying to be set on a copy of a slice from a DataFrame.\n",
      "Try using .loc[row_indexer,col_indexer] = value instead\n",
      "\n",
      "See the caveats in the documentation: https://pandas.pydata.org/pandas-docs/stable/user_guide/indexing.html#returning-a-view-versus-a-copy\n",
      "  only_love_hate[\"exp2\"] = only_love_hate.progress_apply( lambda x : exp_2_filtered(x[\"tweet\"]) , axis = 1 )\n"
     ]
    }
   ],
   "source": [
    "only_love_hate[\"exp2\"] = only_love_hate.progress_apply( lambda x : exp_2_filtered(x[\"tweet\"]) , axis = 1 )\n",
    "only_love_hate.to_csv(\"new_data.csv\", index=False)"
   ]
  },
  {
   "cell_type": "code",
   "execution_count": null,
   "metadata": {
    "colab": {
     "base_uri": "https://localhost:8080/"
    },
    "executionInfo": {
     "elapsed": 2976278,
     "status": "ok",
     "timestamp": 1734898112302,
     "user": {
      "displayName": "Samba Fall",
      "userId": "17845594153074474775"
     },
     "user_tz": -60
    },
    "id": "I-5u9is4MFVW",
    "outputId": "3146c8cc-d4c1-4fe9-ef3c-999c319d33f6"
   },
   "outputs": [
    {
     "name": "stderr",
     "output_type": "stream",
     "text": [
      "100%|██████████| 2824/2824 [49:36<00:00,  1.05s/it]\n",
      "<ipython-input-89-4c80b5f1b8d6>:1: SettingWithCopyWarning: \n",
      "A value is trying to be set on a copy of a slice from a DataFrame.\n",
      "Try using .loc[row_indexer,col_indexer] = value instead\n",
      "\n",
      "See the caveats in the documentation: https://pandas.pydata.org/pandas-docs/stable/user_guide/indexing.html#returning-a-view-versus-a-copy\n",
      "  only_love_hate[\"exp3\"] = only_love_hate.progress_apply( lambda x : exp_3_filtered(x[\"tweet\"]) , axis = 1 )\n"
     ]
    }
   ],
   "source": [
    "only_love_hate[\"exp3\"] = only_love_hate.progress_apply( lambda x : exp_3_filtered(x[\"tweet\"]) , axis = 1 )\n",
    "only_love_hate.to_csv(\"new_data.csv\", index=False)"
   ]
  },
  {
   "cell_type": "code",
   "execution_count": null,
   "metadata": {
    "id": "pIcIv14SMHPK"
   },
   "outputs": [],
   "source": [
    "only_love_hate.to_csv(\"new_data.csv\", index=False)"
   ]
  },
  {
   "cell_type": "markdown",
   "metadata": {
    "id": "chP0YcG05uB2"
   },
   "source": [
    "##"
   ]
  }
 ],
 "metadata": {
  "colab": {
   "provenance": []
  },
  "kernelspec": {
   "display_name": "Python 3",
   "name": "python3"
  },
  "language_info": {
   "name": "python"
  },
  "widgets": {
   "application/vnd.jupyter.widget-state+json": {
    "0fedc5932cf34ddbaa93231677bc945b": {
     "model_module": "@jupyter-widgets/base",
     "model_module_version": "1.2.0",
     "model_name": "LayoutModel",
     "state": {
      "_model_module": "@jupyter-widgets/base",
      "_model_module_version": "1.2.0",
      "_model_name": "LayoutModel",
      "_view_count": null,
      "_view_module": "@jupyter-widgets/base",
      "_view_module_version": "1.2.0",
      "_view_name": "LayoutView",
      "align_content": null,
      "align_items": null,
      "align_self": null,
      "border": null,
      "bottom": null,
      "display": null,
      "flex": null,
      "flex_flow": null,
      "grid_area": null,
      "grid_auto_columns": null,
      "grid_auto_flow": null,
      "grid_auto_rows": null,
      "grid_column": null,
      "grid_gap": null,
      "grid_row": null,
      "grid_template_areas": null,
      "grid_template_columns": null,
      "grid_template_rows": null,
      "height": null,
      "justify_content": null,
      "justify_items": null,
      "left": null,
      "margin": null,
      "max_height": null,
      "max_width": null,
      "min_height": null,
      "min_width": null,
      "object_fit": null,
      "object_position": null,
      "order": null,
      "overflow": null,
      "overflow_x": null,
      "overflow_y": null,
      "padding": null,
      "right": null,
      "top": null,
      "visibility": null,
      "width": null
     }
    },
    "1257aba3202d472788e519c02d005026": {
     "model_module": "@jupyter-widgets/controls",
     "model_module_version": "1.5.0",
     "model_name": "HBoxModel",
     "state": {
      "_dom_classes": [],
      "_model_module": "@jupyter-widgets/controls",
      "_model_module_version": "1.5.0",
      "_model_name": "HBoxModel",
      "_view_count": null,
      "_view_module": "@jupyter-widgets/controls",
      "_view_module_version": "1.5.0",
      "_view_name": "HBoxView",
      "box_style": "",
      "children": [
       "IPY_MODEL_414759016046454b82343815d2f83fcf",
       "IPY_MODEL_42a950ba6d894572a54a748dd0c09d76",
       "IPY_MODEL_28c93e95838b40f8b536790ad00b6adf"
      ],
      "layout": "IPY_MODEL_ef7b420121de4712b46bcd3b86e51b1e"
     }
    },
    "16f519f84a6b4024a086d04856005b17": {
     "model_module": "@jupyter-widgets/base",
     "model_module_version": "1.2.0",
     "model_name": "LayoutModel",
     "state": {
      "_model_module": "@jupyter-widgets/base",
      "_model_module_version": "1.2.0",
      "_model_name": "LayoutModel",
      "_view_count": null,
      "_view_module": "@jupyter-widgets/base",
      "_view_module_version": "1.2.0",
      "_view_name": "LayoutView",
      "align_content": null,
      "align_items": null,
      "align_self": null,
      "border": null,
      "bottom": null,
      "display": null,
      "flex": null,
      "flex_flow": null,
      "grid_area": null,
      "grid_auto_columns": null,
      "grid_auto_flow": null,
      "grid_auto_rows": null,
      "grid_column": null,
      "grid_gap": null,
      "grid_row": null,
      "grid_template_areas": null,
      "grid_template_columns": null,
      "grid_template_rows": null,
      "height": null,
      "justify_content": null,
      "justify_items": null,
      "left": null,
      "margin": null,
      "max_height": null,
      "max_width": null,
      "min_height": null,
      "min_width": null,
      "object_fit": null,
      "object_position": null,
      "order": null,
      "overflow": null,
      "overflow_x": null,
      "overflow_y": null,
      "padding": null,
      "right": null,
      "top": null,
      "visibility": null,
      "width": null
     }
    },
    "21f9244aa6304483b3c6844e13babd6c": {
     "model_module": "@jupyter-widgets/base",
     "model_module_version": "1.2.0",
     "model_name": "LayoutModel",
     "state": {
      "_model_module": "@jupyter-widgets/base",
      "_model_module_version": "1.2.0",
      "_model_name": "LayoutModel",
      "_view_count": null,
      "_view_module": "@jupyter-widgets/base",
      "_view_module_version": "1.2.0",
      "_view_name": "LayoutView",
      "align_content": null,
      "align_items": null,
      "align_self": null,
      "border": null,
      "bottom": null,
      "display": null,
      "flex": null,
      "flex_flow": null,
      "grid_area": null,
      "grid_auto_columns": null,
      "grid_auto_flow": null,
      "grid_auto_rows": null,
      "grid_column": null,
      "grid_gap": null,
      "grid_row": null,
      "grid_template_areas": null,
      "grid_template_columns": null,
      "grid_template_rows": null,
      "height": null,
      "justify_content": null,
      "justify_items": null,
      "left": null,
      "margin": null,
      "max_height": null,
      "max_width": null,
      "min_height": null,
      "min_width": null,
      "object_fit": null,
      "object_position": null,
      "order": null,
      "overflow": null,
      "overflow_x": null,
      "overflow_y": null,
      "padding": null,
      "right": null,
      "top": null,
      "visibility": null,
      "width": null
     }
    },
    "28c93e95838b40f8b536790ad00b6adf": {
     "model_module": "@jupyter-widgets/controls",
     "model_module_version": "1.5.0",
     "model_name": "HTMLModel",
     "state": {
      "_dom_classes": [],
      "_model_module": "@jupyter-widgets/controls",
      "_model_module_version": "1.5.0",
      "_model_name": "HTMLModel",
      "_view_count": null,
      "_view_module": "@jupyter-widgets/controls",
      "_view_module_version": "1.5.0",
      "_view_name": "HTMLView",
      "description": "",
      "description_tooltip": null,
      "layout": "IPY_MODEL_6ce454b8d17a409ca246f5c870ed5d97",
      "placeholder": "​",
      "style": "IPY_MODEL_aa79e127ffb64015ae8c01c71cf024f7",
      "value": " 526M/526M [00:03&lt;00:00, 181MB/s]"
     }
    },
    "2d27c216829946b6967b1661797d2253": {
     "model_module": "@jupyter-widgets/controls",
     "model_module_version": "1.5.0",
     "model_name": "HTMLModel",
     "state": {
      "_dom_classes": [],
      "_model_module": "@jupyter-widgets/controls",
      "_model_module_version": "1.5.0",
      "_model_name": "HTMLModel",
      "_view_count": null,
      "_view_module": "@jupyter-widgets/controls",
      "_view_module_version": "1.5.0",
      "_view_name": "HTMLView",
      "description": "",
      "description_tooltip": null,
      "layout": "IPY_MODEL_886241d1da2d4674bfb798165fa47fc6",
      "placeholder": "​",
      "style": "IPY_MODEL_dc7fa127641e4d239a5bfbf7872babb7",
      "value": "Downloading https://raw.githubusercontent.com/stanfordnlp/stanza-resources/main/resources_1.9.0.json: "
     }
    },
    "32ee0268c0cc4db097e25ef44fc64cb7": {
     "model_module": "@jupyter-widgets/controls",
     "model_module_version": "1.5.0",
     "model_name": "ProgressStyleModel",
     "state": {
      "_model_module": "@jupyter-widgets/controls",
      "_model_module_version": "1.5.0",
      "_model_name": "ProgressStyleModel",
      "_view_count": null,
      "_view_module": "@jupyter-widgets/base",
      "_view_module_version": "1.2.0",
      "_view_name": "StyleView",
      "bar_color": null,
      "description_width": ""
     }
    },
    "37e406bd58a045f2971f4cc12ca5d00f": {
     "model_module": "@jupyter-widgets/controls",
     "model_module_version": "1.5.0",
     "model_name": "HBoxModel",
     "state": {
      "_dom_classes": [],
      "_model_module": "@jupyter-widgets/controls",
      "_model_module_version": "1.5.0",
      "_model_name": "HBoxModel",
      "_view_count": null,
      "_view_module": "@jupyter-widgets/controls",
      "_view_module_version": "1.5.0",
      "_view_name": "HBoxView",
      "box_style": "",
      "children": [
       "IPY_MODEL_68ffc79b683a43b08a4766f2899c837c",
       "IPY_MODEL_f15470b5fc5b4296a6a4cb536f38cee9",
       "IPY_MODEL_8ad3ae91f45a430180b0920aa5d2aed5"
      ],
      "layout": "IPY_MODEL_68f4f0c7cba44c5ebbfce0db8511e2e1"
     }
    },
    "3ba66254e560402eac538accf0ab1a30": {
     "model_module": "@jupyter-widgets/controls",
     "model_module_version": "1.5.0",
     "model_name": "HBoxModel",
     "state": {
      "_dom_classes": [],
      "_model_module": "@jupyter-widgets/controls",
      "_model_module_version": "1.5.0",
      "_model_name": "HBoxModel",
      "_view_count": null,
      "_view_module": "@jupyter-widgets/controls",
      "_view_module_version": "1.5.0",
      "_view_name": "HBoxView",
      "box_style": "",
      "children": [
       "IPY_MODEL_2d27c216829946b6967b1661797d2253",
       "IPY_MODEL_c1b2e9884b6046c388f1e73b1bab1585",
       "IPY_MODEL_81b7813381cb483ca3f3c8415882685f"
      ],
      "layout": "IPY_MODEL_ebbd418073d240b2b42fb224bcdec02d"
     }
    },
    "414759016046454b82343815d2f83fcf": {
     "model_module": "@jupyter-widgets/controls",
     "model_module_version": "1.5.0",
     "model_name": "HTMLModel",
     "state": {
      "_dom_classes": [],
      "_model_module": "@jupyter-widgets/controls",
      "_model_module_version": "1.5.0",
      "_model_name": "HTMLModel",
      "_view_count": null,
      "_view_module": "@jupyter-widgets/controls",
      "_view_module_version": "1.5.0",
      "_view_name": "HTMLView",
      "description": "",
      "description_tooltip": null,
      "layout": "IPY_MODEL_4995d9eed5d0438fa1abaee03a556154",
      "placeholder": "​",
      "style": "IPY_MODEL_6cbd75d32e0f43498f870201d9d97d28",
      "value": "Downloading https://huggingface.co/stanfordnlp/stanza-en/resolve/v1.9.0/models/default.zip: 100%"
     }
    },
    "42a950ba6d894572a54a748dd0c09d76": {
     "model_module": "@jupyter-widgets/controls",
     "model_module_version": "1.5.0",
     "model_name": "FloatProgressModel",
     "state": {
      "_dom_classes": [],
      "_model_module": "@jupyter-widgets/controls",
      "_model_module_version": "1.5.0",
      "_model_name": "FloatProgressModel",
      "_view_count": null,
      "_view_module": "@jupyter-widgets/controls",
      "_view_module_version": "1.5.0",
      "_view_name": "ProgressView",
      "bar_style": "success",
      "description": "",
      "description_tooltip": null,
      "layout": "IPY_MODEL_bbf4481e1534443baa8963f9550a0e1a",
      "max": 526358230,
      "min": 0,
      "orientation": "horizontal",
      "style": "IPY_MODEL_6bab6418642c4b9ca49f68ce9a87eeab",
      "value": 526358230
     }
    },
    "4995d9eed5d0438fa1abaee03a556154": {
     "model_module": "@jupyter-widgets/base",
     "model_module_version": "1.2.0",
     "model_name": "LayoutModel",
     "state": {
      "_model_module": "@jupyter-widgets/base",
      "_model_module_version": "1.2.0",
      "_model_name": "LayoutModel",
      "_view_count": null,
      "_view_module": "@jupyter-widgets/base",
      "_view_module_version": "1.2.0",
      "_view_name": "LayoutView",
      "align_content": null,
      "align_items": null,
      "align_self": null,
      "border": null,
      "bottom": null,
      "display": null,
      "flex": null,
      "flex_flow": null,
      "grid_area": null,
      "grid_auto_columns": null,
      "grid_auto_flow": null,
      "grid_auto_rows": null,
      "grid_column": null,
      "grid_gap": null,
      "grid_row": null,
      "grid_template_areas": null,
      "grid_template_columns": null,
      "grid_template_rows": null,
      "height": null,
      "justify_content": null,
      "justify_items": null,
      "left": null,
      "margin": null,
      "max_height": null,
      "max_width": null,
      "min_height": null,
      "min_width": null,
      "object_fit": null,
      "object_position": null,
      "order": null,
      "overflow": null,
      "overflow_x": null,
      "overflow_y": null,
      "padding": null,
      "right": null,
      "top": null,
      "visibility": null,
      "width": null
     }
    },
    "53053979689c4a1c91a9b414b539be3e": {
     "model_module": "@jupyter-widgets/base",
     "model_module_version": "1.2.0",
     "model_name": "LayoutModel",
     "state": {
      "_model_module": "@jupyter-widgets/base",
      "_model_module_version": "1.2.0",
      "_model_name": "LayoutModel",
      "_view_count": null,
      "_view_module": "@jupyter-widgets/base",
      "_view_module_version": "1.2.0",
      "_view_name": "LayoutView",
      "align_content": null,
      "align_items": null,
      "align_self": null,
      "border": null,
      "bottom": null,
      "display": null,
      "flex": null,
      "flex_flow": null,
      "grid_area": null,
      "grid_auto_columns": null,
      "grid_auto_flow": null,
      "grid_auto_rows": null,
      "grid_column": null,
      "grid_gap": null,
      "grid_row": null,
      "grid_template_areas": null,
      "grid_template_columns": null,
      "grid_template_rows": null,
      "height": null,
      "justify_content": null,
      "justify_items": null,
      "left": null,
      "margin": null,
      "max_height": null,
      "max_width": null,
      "min_height": null,
      "min_width": null,
      "object_fit": null,
      "object_position": null,
      "order": null,
      "overflow": null,
      "overflow_x": null,
      "overflow_y": null,
      "padding": null,
      "right": null,
      "top": null,
      "visibility": null,
      "width": null
     }
    },
    "68f4f0c7cba44c5ebbfce0db8511e2e1": {
     "model_module": "@jupyter-widgets/base",
     "model_module_version": "1.2.0",
     "model_name": "LayoutModel",
     "state": {
      "_model_module": "@jupyter-widgets/base",
      "_model_module_version": "1.2.0",
      "_model_name": "LayoutModel",
      "_view_count": null,
      "_view_module": "@jupyter-widgets/base",
      "_view_module_version": "1.2.0",
      "_view_name": "LayoutView",
      "align_content": null,
      "align_items": null,
      "align_self": null,
      "border": null,
      "bottom": null,
      "display": null,
      "flex": null,
      "flex_flow": null,
      "grid_area": null,
      "grid_auto_columns": null,
      "grid_auto_flow": null,
      "grid_auto_rows": null,
      "grid_column": null,
      "grid_gap": null,
      "grid_row": null,
      "grid_template_areas": null,
      "grid_template_columns": null,
      "grid_template_rows": null,
      "height": null,
      "justify_content": null,
      "justify_items": null,
      "left": null,
      "margin": null,
      "max_height": null,
      "max_width": null,
      "min_height": null,
      "min_width": null,
      "object_fit": null,
      "object_position": null,
      "order": null,
      "overflow": null,
      "overflow_x": null,
      "overflow_y": null,
      "padding": null,
      "right": null,
      "top": null,
      "visibility": null,
      "width": null
     }
    },
    "68ffc79b683a43b08a4766f2899c837c": {
     "model_module": "@jupyter-widgets/controls",
     "model_module_version": "1.5.0",
     "model_name": "HTMLModel",
     "state": {
      "_dom_classes": [],
      "_model_module": "@jupyter-widgets/controls",
      "_model_module_version": "1.5.0",
      "_model_name": "HTMLModel",
      "_view_count": null,
      "_view_module": "@jupyter-widgets/controls",
      "_view_module_version": "1.5.0",
      "_view_name": "HTMLView",
      "description": "",
      "description_tooltip": null,
      "layout": "IPY_MODEL_53053979689c4a1c91a9b414b539be3e",
      "placeholder": "​",
      "style": "IPY_MODEL_744c63f786e4463c9be256b57dea0059",
      "value": "Downloading https://raw.githubusercontent.com/stanfordnlp/stanza-resources/main/resources_1.9.0.json: "
     }
    },
    "6bab6418642c4b9ca49f68ce9a87eeab": {
     "model_module": "@jupyter-widgets/controls",
     "model_module_version": "1.5.0",
     "model_name": "ProgressStyleModel",
     "state": {
      "_model_module": "@jupyter-widgets/controls",
      "_model_module_version": "1.5.0",
      "_model_name": "ProgressStyleModel",
      "_view_count": null,
      "_view_module": "@jupyter-widgets/base",
      "_view_module_version": "1.2.0",
      "_view_name": "StyleView",
      "bar_color": null,
      "description_width": ""
     }
    },
    "6cbd75d32e0f43498f870201d9d97d28": {
     "model_module": "@jupyter-widgets/controls",
     "model_module_version": "1.5.0",
     "model_name": "DescriptionStyleModel",
     "state": {
      "_model_module": "@jupyter-widgets/controls",
      "_model_module_version": "1.5.0",
      "_model_name": "DescriptionStyleModel",
      "_view_count": null,
      "_view_module": "@jupyter-widgets/base",
      "_view_module_version": "1.2.0",
      "_view_name": "StyleView",
      "description_width": ""
     }
    },
    "6ce454b8d17a409ca246f5c870ed5d97": {
     "model_module": "@jupyter-widgets/base",
     "model_module_version": "1.2.0",
     "model_name": "LayoutModel",
     "state": {
      "_model_module": "@jupyter-widgets/base",
      "_model_module_version": "1.2.0",
      "_model_name": "LayoutModel",
      "_view_count": null,
      "_view_module": "@jupyter-widgets/base",
      "_view_module_version": "1.2.0",
      "_view_name": "LayoutView",
      "align_content": null,
      "align_items": null,
      "align_self": null,
      "border": null,
      "bottom": null,
      "display": null,
      "flex": null,
      "flex_flow": null,
      "grid_area": null,
      "grid_auto_columns": null,
      "grid_auto_flow": null,
      "grid_auto_rows": null,
      "grid_column": null,
      "grid_gap": null,
      "grid_row": null,
      "grid_template_areas": null,
      "grid_template_columns": null,
      "grid_template_rows": null,
      "height": null,
      "justify_content": null,
      "justify_items": null,
      "left": null,
      "margin": null,
      "max_height": null,
      "max_width": null,
      "min_height": null,
      "min_width": null,
      "object_fit": null,
      "object_position": null,
      "order": null,
      "overflow": null,
      "overflow_x": null,
      "overflow_y": null,
      "padding": null,
      "right": null,
      "top": null,
      "visibility": null,
      "width": null
     }
    },
    "6fbf5e183e4b4de887fe4f53590e7e3d": {
     "model_module": "@jupyter-widgets/controls",
     "model_module_version": "1.5.0",
     "model_name": "ProgressStyleModel",
     "state": {
      "_model_module": "@jupyter-widgets/controls",
      "_model_module_version": "1.5.0",
      "_model_name": "ProgressStyleModel",
      "_view_count": null,
      "_view_module": "@jupyter-widgets/base",
      "_view_module_version": "1.2.0",
      "_view_name": "StyleView",
      "bar_color": null,
      "description_width": ""
     }
    },
    "744c63f786e4463c9be256b57dea0059": {
     "model_module": "@jupyter-widgets/controls",
     "model_module_version": "1.5.0",
     "model_name": "DescriptionStyleModel",
     "state": {
      "_model_module": "@jupyter-widgets/controls",
      "_model_module_version": "1.5.0",
      "_model_name": "DescriptionStyleModel",
      "_view_count": null,
      "_view_module": "@jupyter-widgets/base",
      "_view_module_version": "1.2.0",
      "_view_name": "StyleView",
      "description_width": ""
     }
    },
    "81b7813381cb483ca3f3c8415882685f": {
     "model_module": "@jupyter-widgets/controls",
     "model_module_version": "1.5.0",
     "model_name": "HTMLModel",
     "state": {
      "_dom_classes": [],
      "_model_module": "@jupyter-widgets/controls",
      "_model_module_version": "1.5.0",
      "_model_name": "HTMLModel",
      "_view_count": null,
      "_view_module": "@jupyter-widgets/controls",
      "_view_module_version": "1.5.0",
      "_view_name": "HTMLView",
      "description": "",
      "description_tooltip": null,
      "layout": "IPY_MODEL_16f519f84a6b4024a086d04856005b17",
      "placeholder": "​",
      "style": "IPY_MODEL_9ea5ad18762f48dcb3843def6063e7c5",
      "value": " 392k/? [00:00&lt;00:00, 18.3MB/s]"
     }
    },
    "886241d1da2d4674bfb798165fa47fc6": {
     "model_module": "@jupyter-widgets/base",
     "model_module_version": "1.2.0",
     "model_name": "LayoutModel",
     "state": {
      "_model_module": "@jupyter-widgets/base",
      "_model_module_version": "1.2.0",
      "_model_name": "LayoutModel",
      "_view_count": null,
      "_view_module": "@jupyter-widgets/base",
      "_view_module_version": "1.2.0",
      "_view_name": "LayoutView",
      "align_content": null,
      "align_items": null,
      "align_self": null,
      "border": null,
      "bottom": null,
      "display": null,
      "flex": null,
      "flex_flow": null,
      "grid_area": null,
      "grid_auto_columns": null,
      "grid_auto_flow": null,
      "grid_auto_rows": null,
      "grid_column": null,
      "grid_gap": null,
      "grid_row": null,
      "grid_template_areas": null,
      "grid_template_columns": null,
      "grid_template_rows": null,
      "height": null,
      "justify_content": null,
      "justify_items": null,
      "left": null,
      "margin": null,
      "max_height": null,
      "max_width": null,
      "min_height": null,
      "min_width": null,
      "object_fit": null,
      "object_position": null,
      "order": null,
      "overflow": null,
      "overflow_x": null,
      "overflow_y": null,
      "padding": null,
      "right": null,
      "top": null,
      "visibility": null,
      "width": null
     }
    },
    "8ad3ae91f45a430180b0920aa5d2aed5": {
     "model_module": "@jupyter-widgets/controls",
     "model_module_version": "1.5.0",
     "model_name": "HTMLModel",
     "state": {
      "_dom_classes": [],
      "_model_module": "@jupyter-widgets/controls",
      "_model_module_version": "1.5.0",
      "_model_name": "HTMLModel",
      "_view_count": null,
      "_view_module": "@jupyter-widgets/controls",
      "_view_module_version": "1.5.0",
      "_view_name": "HTMLView",
      "description": "",
      "description_tooltip": null,
      "layout": "IPY_MODEL_f5368dece07944a09941f6854d14bf7a",
      "placeholder": "​",
      "style": "IPY_MODEL_d0c2dc11955c462285302c94ec0f1373",
      "value": " 392k/? [00:00&lt;00:00, 12.7MB/s]"
     }
    },
    "9ea5ad18762f48dcb3843def6063e7c5": {
     "model_module": "@jupyter-widgets/controls",
     "model_module_version": "1.5.0",
     "model_name": "DescriptionStyleModel",
     "state": {
      "_model_module": "@jupyter-widgets/controls",
      "_model_module_version": "1.5.0",
      "_model_name": "DescriptionStyleModel",
      "_view_count": null,
      "_view_module": "@jupyter-widgets/base",
      "_view_module_version": "1.2.0",
      "_view_name": "StyleView",
      "description_width": ""
     }
    },
    "aa79e127ffb64015ae8c01c71cf024f7": {
     "model_module": "@jupyter-widgets/controls",
     "model_module_version": "1.5.0",
     "model_name": "DescriptionStyleModel",
     "state": {
      "_model_module": "@jupyter-widgets/controls",
      "_model_module_version": "1.5.0",
      "_model_name": "DescriptionStyleModel",
      "_view_count": null,
      "_view_module": "@jupyter-widgets/base",
      "_view_module_version": "1.2.0",
      "_view_name": "StyleView",
      "description_width": ""
     }
    },
    "bbf4481e1534443baa8963f9550a0e1a": {
     "model_module": "@jupyter-widgets/base",
     "model_module_version": "1.2.0",
     "model_name": "LayoutModel",
     "state": {
      "_model_module": "@jupyter-widgets/base",
      "_model_module_version": "1.2.0",
      "_model_name": "LayoutModel",
      "_view_count": null,
      "_view_module": "@jupyter-widgets/base",
      "_view_module_version": "1.2.0",
      "_view_name": "LayoutView",
      "align_content": null,
      "align_items": null,
      "align_self": null,
      "border": null,
      "bottom": null,
      "display": null,
      "flex": null,
      "flex_flow": null,
      "grid_area": null,
      "grid_auto_columns": null,
      "grid_auto_flow": null,
      "grid_auto_rows": null,
      "grid_column": null,
      "grid_gap": null,
      "grid_row": null,
      "grid_template_areas": null,
      "grid_template_columns": null,
      "grid_template_rows": null,
      "height": null,
      "justify_content": null,
      "justify_items": null,
      "left": null,
      "margin": null,
      "max_height": null,
      "max_width": null,
      "min_height": null,
      "min_width": null,
      "object_fit": null,
      "object_position": null,
      "order": null,
      "overflow": null,
      "overflow_x": null,
      "overflow_y": null,
      "padding": null,
      "right": null,
      "top": null,
      "visibility": null,
      "width": null
     }
    },
    "c1b2e9884b6046c388f1e73b1bab1585": {
     "model_module": "@jupyter-widgets/controls",
     "model_module_version": "1.5.0",
     "model_name": "FloatProgressModel",
     "state": {
      "_dom_classes": [],
      "_model_module": "@jupyter-widgets/controls",
      "_model_module_version": "1.5.0",
      "_model_name": "FloatProgressModel",
      "_view_count": null,
      "_view_module": "@jupyter-widgets/controls",
      "_view_module_version": "1.5.0",
      "_view_name": "ProgressView",
      "bar_style": "success",
      "description": "",
      "description_tooltip": null,
      "layout": "IPY_MODEL_21f9244aa6304483b3c6844e13babd6c",
      "max": 48453,
      "min": 0,
      "orientation": "horizontal",
      "style": "IPY_MODEL_32ee0268c0cc4db097e25ef44fc64cb7",
      "value": 48453
     }
    },
    "d0c2dc11955c462285302c94ec0f1373": {
     "model_module": "@jupyter-widgets/controls",
     "model_module_version": "1.5.0",
     "model_name": "DescriptionStyleModel",
     "state": {
      "_model_module": "@jupyter-widgets/controls",
      "_model_module_version": "1.5.0",
      "_model_name": "DescriptionStyleModel",
      "_view_count": null,
      "_view_module": "@jupyter-widgets/base",
      "_view_module_version": "1.2.0",
      "_view_name": "StyleView",
      "description_width": ""
     }
    },
    "dc7fa127641e4d239a5bfbf7872babb7": {
     "model_module": "@jupyter-widgets/controls",
     "model_module_version": "1.5.0",
     "model_name": "DescriptionStyleModel",
     "state": {
      "_model_module": "@jupyter-widgets/controls",
      "_model_module_version": "1.5.0",
      "_model_name": "DescriptionStyleModel",
      "_view_count": null,
      "_view_module": "@jupyter-widgets/base",
      "_view_module_version": "1.2.0",
      "_view_name": "StyleView",
      "description_width": ""
     }
    },
    "ebbd418073d240b2b42fb224bcdec02d": {
     "model_module": "@jupyter-widgets/base",
     "model_module_version": "1.2.0",
     "model_name": "LayoutModel",
     "state": {
      "_model_module": "@jupyter-widgets/base",
      "_model_module_version": "1.2.0",
      "_model_name": "LayoutModel",
      "_view_count": null,
      "_view_module": "@jupyter-widgets/base",
      "_view_module_version": "1.2.0",
      "_view_name": "LayoutView",
      "align_content": null,
      "align_items": null,
      "align_self": null,
      "border": null,
      "bottom": null,
      "display": null,
      "flex": null,
      "flex_flow": null,
      "grid_area": null,
      "grid_auto_columns": null,
      "grid_auto_flow": null,
      "grid_auto_rows": null,
      "grid_column": null,
      "grid_gap": null,
      "grid_row": null,
      "grid_template_areas": null,
      "grid_template_columns": null,
      "grid_template_rows": null,
      "height": null,
      "justify_content": null,
      "justify_items": null,
      "left": null,
      "margin": null,
      "max_height": null,
      "max_width": null,
      "min_height": null,
      "min_width": null,
      "object_fit": null,
      "object_position": null,
      "order": null,
      "overflow": null,
      "overflow_x": null,
      "overflow_y": null,
      "padding": null,
      "right": null,
      "top": null,
      "visibility": null,
      "width": null
     }
    },
    "ef7b420121de4712b46bcd3b86e51b1e": {
     "model_module": "@jupyter-widgets/base",
     "model_module_version": "1.2.0",
     "model_name": "LayoutModel",
     "state": {
      "_model_module": "@jupyter-widgets/base",
      "_model_module_version": "1.2.0",
      "_model_name": "LayoutModel",
      "_view_count": null,
      "_view_module": "@jupyter-widgets/base",
      "_view_module_version": "1.2.0",
      "_view_name": "LayoutView",
      "align_content": null,
      "align_items": null,
      "align_self": null,
      "border": null,
      "bottom": null,
      "display": null,
      "flex": null,
      "flex_flow": null,
      "grid_area": null,
      "grid_auto_columns": null,
      "grid_auto_flow": null,
      "grid_auto_rows": null,
      "grid_column": null,
      "grid_gap": null,
      "grid_row": null,
      "grid_template_areas": null,
      "grid_template_columns": null,
      "grid_template_rows": null,
      "height": null,
      "justify_content": null,
      "justify_items": null,
      "left": null,
      "margin": null,
      "max_height": null,
      "max_width": null,
      "min_height": null,
      "min_width": null,
      "object_fit": null,
      "object_position": null,
      "order": null,
      "overflow": null,
      "overflow_x": null,
      "overflow_y": null,
      "padding": null,
      "right": null,
      "top": null,
      "visibility": null,
      "width": null
     }
    },
    "f15470b5fc5b4296a6a4cb536f38cee9": {
     "model_module": "@jupyter-widgets/controls",
     "model_module_version": "1.5.0",
     "model_name": "FloatProgressModel",
     "state": {
      "_dom_classes": [],
      "_model_module": "@jupyter-widgets/controls",
      "_model_module_version": "1.5.0",
      "_model_name": "FloatProgressModel",
      "_view_count": null,
      "_view_module": "@jupyter-widgets/controls",
      "_view_module_version": "1.5.0",
      "_view_name": "ProgressView",
      "bar_style": "success",
      "description": "",
      "description_tooltip": null,
      "layout": "IPY_MODEL_0fedc5932cf34ddbaa93231677bc945b",
      "max": 48453,
      "min": 0,
      "orientation": "horizontal",
      "style": "IPY_MODEL_6fbf5e183e4b4de887fe4f53590e7e3d",
      "value": 48453
     }
    },
    "f5368dece07944a09941f6854d14bf7a": {
     "model_module": "@jupyter-widgets/base",
     "model_module_version": "1.2.0",
     "model_name": "LayoutModel",
     "state": {
      "_model_module": "@jupyter-widgets/base",
      "_model_module_version": "1.2.0",
      "_model_name": "LayoutModel",
      "_view_count": null,
      "_view_module": "@jupyter-widgets/base",
      "_view_module_version": "1.2.0",
      "_view_name": "LayoutView",
      "align_content": null,
      "align_items": null,
      "align_self": null,
      "border": null,
      "bottom": null,
      "display": null,
      "flex": null,
      "flex_flow": null,
      "grid_area": null,
      "grid_auto_columns": null,
      "grid_auto_flow": null,
      "grid_auto_rows": null,
      "grid_column": null,
      "grid_gap": null,
      "grid_row": null,
      "grid_template_areas": null,
      "grid_template_columns": null,
      "grid_template_rows": null,
      "height": null,
      "justify_content": null,
      "justify_items": null,
      "left": null,
      "margin": null,
      "max_height": null,
      "max_width": null,
      "min_height": null,
      "min_width": null,
      "object_fit": null,
      "object_position": null,
      "order": null,
      "overflow": null,
      "overflow_x": null,
      "overflow_y": null,
      "padding": null,
      "right": null,
      "top": null,
      "visibility": null,
      "width": null
     }
    }
   }
  }
 },
 "nbformat": 4,
 "nbformat_minor": 0
}
