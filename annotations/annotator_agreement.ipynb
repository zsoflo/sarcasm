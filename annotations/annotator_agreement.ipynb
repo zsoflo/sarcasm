{
 "cells": [
  {
   "cell_type": "code",
   "execution_count": 1,
   "id": "43e775c2-a3a8-49fe-a613-cd25453fd9bd",
   "metadata": {},
   "outputs": [],
   "source": [
    "import pandas as pd\n",
    "import numpy as np\n",
    "import os"
   ]
  },
  {
   "cell_type": "code",
   "execution_count": 2,
   "id": "9680256f-d8e8-4166-a5de-5aa32ee5e0d5",
   "metadata": {},
   "outputs": [
    {
     "data": {
      "text/html": [
       "<div>\n",
       "<style scoped>\n",
       "    .dataframe tbody tr th:only-of-type {\n",
       "        vertical-align: middle;\n",
       "    }\n",
       "\n",
       "    .dataframe tbody tr th {\n",
       "        vertical-align: top;\n",
       "    }\n",
       "\n",
       "    .dataframe thead th {\n",
       "        text-align: right;\n",
       "    }\n",
       "</style>\n",
       "<table border=\"1\" class=\"dataframe\">\n",
       "  <thead>\n",
       "    <tr style=\"text-align: right;\">\n",
       "      <th></th>\n",
       "      <th>ID</th>\n",
       "      <th>tweet</th>\n",
       "      <th>samba</th>\n",
       "      <th>zsofia</th>\n",
       "      <th>florian</th>\n",
       "      <th>ivo</th>\n",
       "      <th>joely</th>\n",
       "      <th>maiwenn</th>\n",
       "    </tr>\n",
       "  </thead>\n",
       "  <tbody>\n",
       "    <tr>\n",
       "      <th>0</th>\n",
       "      <td>15430</td>\n",
       "      <td>If its the news, it must be true? No, its not....</td>\n",
       "      <td>0.0</td>\n",
       "      <td>0.0</td>\n",
       "      <td>0.0</td>\n",
       "      <td>0.0</td>\n",
       "      <td>0.0</td>\n",
       "      <td>0.0</td>\n",
       "    </tr>\n",
       "    <tr>\n",
       "      <th>1</th>\n",
       "      <td>8514</td>\n",
       "      <td>Covid is going to ruin Christmas this year</td>\n",
       "      <td>0.0</td>\n",
       "      <td>0.0</td>\n",
       "      <td>0.0</td>\n",
       "      <td>0.0</td>\n",
       "      <td>0.0</td>\n",
       "      <td>0.0</td>\n",
       "    </tr>\n",
       "    <tr>\n",
       "      <th>2</th>\n",
       "      <td>275</td>\n",
       "      <td>today is a big day just went over 300 twitter...</td>\n",
       "      <td>1.0</td>\n",
       "      <td>1.0</td>\n",
       "      <td>0.0</td>\n",
       "      <td>0.0</td>\n",
       "      <td>0.0</td>\n",
       "      <td>0.0</td>\n",
       "    </tr>\n",
       "    <tr>\n",
       "      <th>3</th>\n",
       "      <td>11283</td>\n",
       "      <td>my family is being so supportive today and ma...</td>\n",
       "      <td>1.0</td>\n",
       "      <td>1.0</td>\n",
       "      <td>0.0</td>\n",
       "      <td>1.0</td>\n",
       "      <td>0.0</td>\n",
       "      <td>0.0</td>\n",
       "    </tr>\n",
       "    <tr>\n",
       "      <th>4</th>\n",
       "      <td>16276</td>\n",
       "      <td>@pamparoni If they aren’t out yet just wait to...</td>\n",
       "      <td>0.0</td>\n",
       "      <td>0.0</td>\n",
       "      <td>0.0</td>\n",
       "      <td>0.0</td>\n",
       "      <td>0.0</td>\n",
       "      <td>0.0</td>\n",
       "    </tr>\n",
       "    <tr>\n",
       "      <th>...</th>\n",
       "      <td>...</td>\n",
       "      <td>...</td>\n",
       "      <td>...</td>\n",
       "      <td>...</td>\n",
       "      <td>...</td>\n",
       "      <td>...</td>\n",
       "      <td>...</td>\n",
       "      <td>...</td>\n",
       "    </tr>\n",
       "    <tr>\n",
       "      <th>95</th>\n",
       "      <td>3477</td>\n",
       "      <td>so glad i have so many friends and i'm not on...</td>\n",
       "      <td>1.0</td>\n",
       "      <td>1.0</td>\n",
       "      <td>0.0</td>\n",
       "      <td>1.0</td>\n",
       "      <td>0.0</td>\n",
       "      <td>0.0</td>\n",
       "    </tr>\n",
       "    <tr>\n",
       "      <th>96</th>\n",
       "      <td>15535</td>\n",
       "      <td>try to provide evidence on something on faceb...</td>\n",
       "      <td>1.0</td>\n",
       "      <td>1.0</td>\n",
       "      <td>1.0</td>\n",
       "      <td>1.0</td>\n",
       "      <td>1.0</td>\n",
       "      <td>0.0</td>\n",
       "    </tr>\n",
       "    <tr>\n",
       "      <th>97</th>\n",
       "      <td>19656</td>\n",
       "      <td>They been ON US since the layover lol</td>\n",
       "      <td>1.0</td>\n",
       "      <td>0.0</td>\n",
       "      <td>0.0</td>\n",
       "      <td>0.0</td>\n",
       "      <td>0.0</td>\n",
       "      <td>0.0</td>\n",
       "    </tr>\n",
       "    <tr>\n",
       "      <th>98</th>\n",
       "      <td>10670</td>\n",
       "      <td>@sonofsama1 @Santandave1 It ain’t funny it’s h...</td>\n",
       "      <td>0.0</td>\n",
       "      <td>0.0</td>\n",
       "      <td>0.0</td>\n",
       "      <td>0.0</td>\n",
       "      <td>0.0</td>\n",
       "      <td>0.0</td>\n",
       "    </tr>\n",
       "    <tr>\n",
       "      <th>99</th>\n",
       "      <td>7036</td>\n",
       "      <td>1 hit yankee wins are the best wins</td>\n",
       "      <td>0.0</td>\n",
       "      <td>0.0</td>\n",
       "      <td>0.0</td>\n",
       "      <td>0.0</td>\n",
       "      <td>0.0</td>\n",
       "      <td>0.0</td>\n",
       "    </tr>\n",
       "  </tbody>\n",
       "</table>\n",
       "<p>100 rows × 8 columns</p>\n",
       "</div>"
      ],
      "text/plain": [
       "       ID                                              tweet  samba  zsofia  \\\n",
       "0   15430  If its the news, it must be true? No, its not....    0.0     0.0   \n",
       "1    8514         Covid is going to ruin Christmas this year    0.0     0.0   \n",
       "2     275   today is a big day just went over 300 twitter...    1.0     1.0   \n",
       "3   11283   my family is being so supportive today and ma...    1.0     1.0   \n",
       "4   16276  @pamparoni If they aren’t out yet just wait to...    0.0     0.0   \n",
       "..    ...                                                ...    ...     ...   \n",
       "95   3477   so glad i have so many friends and i'm not on...    1.0     1.0   \n",
       "96  15535   try to provide evidence on something on faceb...    1.0     1.0   \n",
       "97  19656              They been ON US since the layover lol    1.0     0.0   \n",
       "98  10670  @sonofsama1 @Santandave1 It ain’t funny it’s h...    0.0     0.0   \n",
       "99   7036                1 hit yankee wins are the best wins    0.0     0.0   \n",
       "\n",
       "    florian  ivo  joely  maiwenn  \n",
       "0       0.0  0.0    0.0      0.0  \n",
       "1       0.0  0.0    0.0      0.0  \n",
       "2       0.0  0.0    0.0      0.0  \n",
       "3       0.0  1.0    0.0      0.0  \n",
       "4       0.0  0.0    0.0      0.0  \n",
       "..      ...  ...    ...      ...  \n",
       "95      0.0  1.0    0.0      0.0  \n",
       "96      1.0  1.0    1.0      0.0  \n",
       "97      0.0  0.0    0.0      0.0  \n",
       "98      0.0  0.0    0.0      0.0  \n",
       "99      0.0  0.0    0.0      0.0  \n",
       "\n",
       "[100 rows x 8 columns]"
      ]
     },
     "execution_count": 2,
     "metadata": {},
     "output_type": "execute_result"
    }
   ],
   "source": [
    "filepaths = [f for f in os.listdir(\".\") if f.endswith('.csv')]\n",
    "df = pd.DataFrame() # empty\n",
    "# Gather everything into a single dataframe\n",
    "for file in filepaths:\n",
    "    if df.empty:\n",
    "        df = pd.read_csv(file)\n",
    "        df = df[~df['annotation'].isnull()] # remove null annotations\n",
    "        df = df.rename(columns={'annotation': file[:-4]})\n",
    "        df = df.drop(columns=['comments'], errors='ignore')\n",
    "    else:\n",
    "        new_csv = pd.read_csv(file)[['ID', 'annotation']]\n",
    "        new_csv = new_csv[~new_csv['annotation'].isnull()] # remove null annotations\n",
    "        new_csv = new_csv.rename(columns={'annotation': file[:-4]})\n",
    "        df = pd.merge(df, new_csv, how='inner', on='ID')\n",
    "df"
   ]
  },
  {
   "cell_type": "code",
   "execution_count": 3,
   "id": "23e93663-3cb3-4473-84e1-69d2a10dc96c",
   "metadata": {},
   "outputs": [
    {
     "name": "stdout",
     "output_type": "stream",
     "text": [
      "How many tweets were marked as sarcastic by this annotator?\n",
      "  samba: 58.0 (58.00 %)\n",
      "  zsofia: 29.0 (29.00 %)\n",
      "  florian: 14.0 (14.00 %)\n",
      "  ivo: 31.0 (31.00 %)\n",
      "  joely: 22.0 (22.00 %)\n",
      "  maiwenn: 11.0 (11.00 %)\n"
     ]
    }
   ],
   "source": [
    "print(\"How many tweets were marked as sarcastic by this annotator?\")\n",
    "for column in df.columns[2:]:\n",
    "    sarcastic = df[column].sum()\n",
    "    print(f'  {column}: {sarcastic} ({sarcastic / df.shape[0] * 100.0 :.2f} %)')"
   ]
  },
  {
   "cell_type": "code",
   "execution_count": 4,
   "id": "c92cfe0e-b25e-4db4-8c41-6e4d3c123a07",
   "metadata": {},
   "outputs": [],
   "source": [
    "agreement = df[df.nunique(1).eq(3)] # 3 because the 3 different values on each line should be: id, tweet, and only one value that's the same for each annotator\n",
    "\n",
    "agreement_sarc = agreement.loc[agreement[filepaths[0][:-4]] == 1.0]\n",
    "agreement_not_sarc = agreement.loc[agreement[filepaths[0][:-4]] == 0.0]"
   ]
  },
  {
   "cell_type": "code",
   "execution_count": 5,
   "id": "1b4dc83a-f65e-4ebb-823a-0db8a81ac58a",
   "metadata": {},
   "outputs": [
    {
     "name": "stdout",
     "output_type": "stream",
     "text": [
      "All annotators agreed that these 8 tweets are sarcastic:\n",
      "8189, 2387, 1677, 13865, 19625, 2680, 5231, 18286\n"
     ]
    }
   ],
   "source": [
    "print(f\"All annotators agreed that these {agreement_sarc.shape[0]} tweets are sarcastic:\")\n",
    "# Prints the IDs\n",
    "print(', '.join(map(str, agreement_sarc['ID'])))\n",
    "# Prints the tweets\n",
    "# print('\\n-----\\n'.join(map(str, agreement_sarc['tweet'])))"
   ]
  },
  {
   "cell_type": "code",
   "execution_count": 6,
   "id": "370a9c1a-226f-49bf-be0c-e0ea9b5f4dca",
   "metadata": {},
   "outputs": [
    {
     "name": "stdout",
     "output_type": "stream",
     "text": [
      "All annotators agreed that these 37 tweets are not sarcastic:\n",
      "15430, 8514, 16276, 3577, 1211, 4046, 14286, 10210, 4982, 10404, 19171, 16097, 13447, 11576, 369, 16224, 15559, 11744, 17484, 6788, 1553, 15759, 13722, 13491, 8957, 5370, 804, 12163, 16929, 8789, 4175, 7573, 10995, 14195, 11720, 10670, 7036\n"
     ]
    }
   ],
   "source": [
    "print(f\"All annotators agreed that these {agreement_not_sarc.shape[0]} tweets are not sarcastic:\")\n",
    "# Prints the IDs\n",
    "print(', '.join(map(str, agreement_not_sarc['ID'])))\n",
    "# Prints the tweets\n",
    "# print('\\n-----\\n'.join(map(str, agreement_not_sarc['tweet'])))"
   ]
  },
  {
   "cell_type": "code",
   "execution_count": 7,
   "id": "8c4cb2aa-366c-49da-8ed3-0914571e8b49",
   "metadata": {},
   "outputs": [
    {
     "name": "stdout",
     "output_type": "stream",
     "text": [
      "Annotations where Maïwenn and Florian disagree, and Maïwenn annotated as not-sarc.:\n",
      "       ID                                              tweet  samba  zsofia  \\\n",
      "13   9700  I see windyspoons have taken all protective ba...    1.0     1.0   \n",
      "23  17443  At least half of my days are still bad days an...    1.0     1.0   \n",
      "36  18012  School psych life if fun because you can feel ...    1.0     0.0   \n",
      "46   6478   ahh the sweet sound of ' zero cares given ' b...    1.0     1.0   \n",
      "96  15535   try to provide evidence on something on faceb...    1.0     1.0   \n",
      "\n",
      "    florian  ivo  joely  maiwenn  \n",
      "13      1.0  1.0    1.0      0.0  \n",
      "23      1.0  1.0    1.0      0.0  \n",
      "36      1.0  1.0    1.0      0.0  \n",
      "46      1.0  1.0    0.0      0.0  \n",
      "96      1.0  1.0    1.0      0.0  \n"
     ]
    }
   ],
   "source": [
    "print(\"Annotations where Maïwenn and Florian disagree, and Maïwenn annotated as not-sarc.:\")\n",
    "print(df.loc[(df['maiwenn'] != df['florian']) & (df['maiwenn'] == 0.0)])"
   ]
  },
  {
   "cell_type": "markdown",
   "id": "932c11c4-ce2c-46d7-84a4-f990e8d49447",
   "metadata": {},
   "source": [
    "## Fleiss' Kappa (Inter-annotator agreement)"
   ]
  },
  {
   "cell_type": "code",
   "execution_count": 19,
   "id": "dd894919-f7eb-47a3-b33f-216242464b47",
   "metadata": {},
   "outputs": [
    {
     "data": {
      "text/html": [
       "<div>\n",
       "<style scoped>\n",
       "    .dataframe tbody tr th:only-of-type {\n",
       "        vertical-align: middle;\n",
       "    }\n",
       "\n",
       "    .dataframe tbody tr th {\n",
       "        vertical-align: top;\n",
       "    }\n",
       "\n",
       "    .dataframe thead th {\n",
       "        text-align: right;\n",
       "    }\n",
       "</style>\n",
       "<table border=\"1\" class=\"dataframe\">\n",
       "  <thead>\n",
       "    <tr style=\"text-align: right;\">\n",
       "      <th></th>\n",
       "      <th>sarcastic</th>\n",
       "      <th>not-sarcastic</th>\n",
       "    </tr>\n",
       "  </thead>\n",
       "  <tbody>\n",
       "    <tr>\n",
       "      <th>0</th>\n",
       "      <td>0.0</td>\n",
       "      <td>6.0</td>\n",
       "    </tr>\n",
       "    <tr>\n",
       "      <th>1</th>\n",
       "      <td>0.0</td>\n",
       "      <td>6.0</td>\n",
       "    </tr>\n",
       "    <tr>\n",
       "      <th>2</th>\n",
       "      <td>2.0</td>\n",
       "      <td>4.0</td>\n",
       "    </tr>\n",
       "    <tr>\n",
       "      <th>3</th>\n",
       "      <td>3.0</td>\n",
       "      <td>3.0</td>\n",
       "    </tr>\n",
       "    <tr>\n",
       "      <th>4</th>\n",
       "      <td>0.0</td>\n",
       "      <td>6.0</td>\n",
       "    </tr>\n",
       "    <tr>\n",
       "      <th>...</th>\n",
       "      <td>...</td>\n",
       "      <td>...</td>\n",
       "    </tr>\n",
       "    <tr>\n",
       "      <th>95</th>\n",
       "      <td>3.0</td>\n",
       "      <td>3.0</td>\n",
       "    </tr>\n",
       "    <tr>\n",
       "      <th>96</th>\n",
       "      <td>5.0</td>\n",
       "      <td>1.0</td>\n",
       "    </tr>\n",
       "    <tr>\n",
       "      <th>97</th>\n",
       "      <td>1.0</td>\n",
       "      <td>5.0</td>\n",
       "    </tr>\n",
       "    <tr>\n",
       "      <th>98</th>\n",
       "      <td>0.0</td>\n",
       "      <td>6.0</td>\n",
       "    </tr>\n",
       "    <tr>\n",
       "      <th>99</th>\n",
       "      <td>0.0</td>\n",
       "      <td>6.0</td>\n",
       "    </tr>\n",
       "  </tbody>\n",
       "</table>\n",
       "<p>100 rows × 2 columns</p>\n",
       "</div>"
      ],
      "text/plain": [
       "    sarcastic  not-sarcastic\n",
       "0         0.0            6.0\n",
       "1         0.0            6.0\n",
       "2         2.0            4.0\n",
       "3         3.0            3.0\n",
       "4         0.0            6.0\n",
       "..        ...            ...\n",
       "95        3.0            3.0\n",
       "96        5.0            1.0\n",
       "97        1.0            5.0\n",
       "98        0.0            6.0\n",
       "99        0.0            6.0\n",
       "\n",
       "[100 rows x 2 columns]"
      ]
     },
     "execution_count": 19,
     "metadata": {},
     "output_type": "execute_result"
    }
   ],
   "source": [
    "agreement = df.copy()\n",
    "agreement['sarcastic'] = agreement['samba'] + agreement['zsofia'] + agreement['florian'] + agreement['ivo'] + agreement['joely'] + agreement['maiwenn']\n",
    "agreement['not-sarcastic'] = 6.0 - agreement['sarcastic']\n",
    "agreement = agreement.drop(columns=['ID', 'tweet', 'samba', 'zsofia', 'florian', 'ivo', 'joely', 'maiwenn'])\n",
    "agreement"
   ]
  },
  {
   "cell_type": "markdown",
   "id": "a2f0be3c-b4c5-423b-b62e-4afa457f575f",
   "metadata": {},
   "source": [
    "Let $N$ be the total number of subjects.\n",
    "Let $n$ be the number of ratings per subject.\n",
    "Let $k$ be the number of categories into which assignments are made."
   ]
  },
  {
   "cell_type": "code",
   "execution_count": 20,
   "id": "79e9bab6-3f75-4076-af71-af72d0c36fbc",
   "metadata": {},
   "outputs": [],
   "source": [
    "N = agreement.shape[0]\n",
    "n = 6 # 6 annotators\n",
    "k = 2"
   ]
  },
  {
   "cell_type": "markdown",
   "id": "971d66cd-97cb-4566-99de-c7a1993899cf",
   "metadata": {},
   "source": [
    "First calculate $p_j$, the proportion of all assignments which were to the $j$-th category:\n",
    "\n",
    "$$\n",
    "p_{j} = \\frac{1}{N n} \\sum_{i=1}^N n_{i j},\\quad\\quad 1 = \\sum_{j=1}^k p_{j}\n",
    "$$"
   ]
  },
  {
   "cell_type": "code",
   "execution_count": 21,
   "id": "22efb6a0-f7ce-49aa-b023-2af8d8eede37",
   "metadata": {},
   "outputs": [
    {
     "data": {
      "text/plain": [
       "sarcastic        0.275\n",
       "not-sarcastic    0.725\n",
       "dtype: float64"
      ]
     },
     "execution_count": 21,
     "metadata": {},
     "output_type": "execute_result"
    }
   ],
   "source": [
    "pj = agreement.sum() / (N*n)\n",
    "pj"
   ]
  },
  {
   "cell_type": "markdown",
   "id": "da446631-7ad0-47fb-bdae-468224bef6f1",
   "metadata": {},
   "source": [
    "Now calculate $P_{i}$, the extent to which raters agree for the $i$-th subject (i.e., compute how many rater-rater pairs are in agreement, relative to the number of all possible rater-rater pairs):\n",
    "\n",
    "$$\n",
    "\\begin{align}\n",
    " P_i &= \\frac{1}{n(n - 1)} \\sum_{j=1}^k n_{i j} (n_{i j} - 1) \\\\\n",
    " &= \\frac{1}{n(n - 1)} \\sum_{j=1}^k (n_{i j}^2 - n_{i j}) \\\\\n",
    " &= \\frac{1}{n(n - 1)} \\biggl[ \\sum_{j=1}^k \\bigl(n_{i j}^2 \\bigr) - n\\biggr]\n",
    "\\end{align}\n",
    "$$"
   ]
  },
  {
   "cell_type": "code",
   "execution_count": 22,
   "id": "9fe291ad-1fea-42c9-be24-ab4577e8f73f",
   "metadata": {},
   "outputs": [
    {
     "data": {
      "text/plain": [
       "0     1.000000\n",
       "1     1.000000\n",
       "2     0.466667\n",
       "3     0.400000\n",
       "4     1.000000\n",
       "        ...   \n",
       "95    0.400000\n",
       "96    0.666667\n",
       "97    0.666667\n",
       "98    1.000000\n",
       "99    1.000000\n",
       "Length: 100, dtype: float64"
      ]
     },
     "execution_count": 22,
     "metadata": {},
     "output_type": "execute_result"
    }
   ],
   "source": [
    "nij2 = np.square(agreement) # square all the results in the dataframe\n",
    "Pi = (1/(n*(n-1))) * (nij2.sum(axis=1)-n)\n",
    "Pi"
   ]
  },
  {
   "cell_type": "markdown",
   "id": "08392c72-ab62-4af8-8d3c-aef38e1f2502",
   "metadata": {},
   "source": [
    "Now compute $\\bar{P}$, the mean of the $P_i$'s, and $\\bar{P_e}$, which go into the formula for $\\kappa$:\n",
    "$$\n",
    "\\bar{P} = \\frac{1}{N} \\sum_{i=1}^N P_{i}\n",
    "$$\n",
    "\n",
    "$$\n",
    "\\bar{P_e} = \\sum_{j=1}^k p_j^2\n",
    "$$"
   ]
  },
  {
   "cell_type": "code",
   "execution_count": 23,
   "id": "dbc172c5-e5f3-409e-aa75-def0deb97f1a",
   "metadata": {},
   "outputs": [
    {
     "data": {
      "text/plain": [
       "0.7660000000000001"
      ]
     },
     "execution_count": 23,
     "metadata": {},
     "output_type": "execute_result"
    }
   ],
   "source": [
    "P_bar = (1/N) * Pi.sum()\n",
    "P_bar"
   ]
  },
  {
   "cell_type": "code",
   "execution_count": 24,
   "id": "b2d0f150-5163-43f0-8648-e1801fcbd128",
   "metadata": {},
   "outputs": [
    {
     "data": {
      "text/plain": [
       "0.6012500000000001"
      ]
     },
     "execution_count": 24,
     "metadata": {},
     "output_type": "execute_result"
    }
   ],
   "source": [
    "Pe_bar = np.square(pj).sum()\n",
    "Pe_bar"
   ]
  },
  {
   "cell_type": "markdown",
   "id": "b2cddc02-b6af-406b-888c-62a212956042",
   "metadata": {},
   "source": [
    "Now compute $\\kappa$ :\n",
    "\n",
    "$$\n",
    "\\kappa = \\frac{\\bar{P} - \\bar{P_e}}{1 - \\bar{P_e}}\n",
    "$$"
   ]
  },
  {
   "cell_type": "code",
   "execution_count": 25,
   "id": "43db20cb-80b3-4c6a-9cc6-66c15ecd2fa8",
   "metadata": {},
   "outputs": [
    {
     "data": {
      "text/plain": [
       "0.4131661442006272"
      ]
     },
     "execution_count": 25,
     "metadata": {},
     "output_type": "execute_result"
    }
   ],
   "source": [
    "kappa = (P_bar - Pe_bar) / (1 - Pe_bar)\n",
    "kappa"
   ]
  },
  {
   "cell_type": "markdown",
   "id": "48cfaa7a-7b2d-4204-a10d-08c5483cdfc6",
   "metadata": {},
   "source": [
    "Landis & Koch (1977) provide this table as a basis to interpret $\\kappa$ values for a 2-class 2-annotators example. Its use here is a bit of a stretch, but provides a good idea for our inter-annotator agreement:\n",
    "\n",
    "| $\\kappa$      | Interpretation           |\n",
    "|-------------|--------------------------|\n",
    "| < 0         | Poor agreement           |\n",
    "| 0.01 – 0.20 | Slight agreement         |\n",
    "| 0.21 – 0.40 | Fair agreement           |\n",
    "| **0.41 – 0.60** | **Moderate agreement**       |\n",
    "| 0.61 – 0.80 | Substantial agreement    |\n",
    "| 0.81 – 1.00 | Almost perfect agreement |"
   ]
  }
 ],
 "metadata": {
  "kernelspec": {
   "display_name": "Python 3 (ipykernel)",
   "language": "python",
   "name": "python3"
  },
  "language_info": {
   "codemirror_mode": {
    "name": "ipython",
    "version": 3
   },
   "file_extension": ".py",
   "mimetype": "text/x-python",
   "name": "python",
   "nbconvert_exporter": "python",
   "pygments_lexer": "ipython3",
   "version": "3.10.12"
  }
 },
 "nbformat": 4,
 "nbformat_minor": 5
}
