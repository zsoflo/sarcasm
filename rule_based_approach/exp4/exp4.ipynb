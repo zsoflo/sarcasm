{
 "cells": [
  {
   "cell_type": "markdown",
   "metadata": {
    "id": "PFWFPXgzCCqX"
   },
   "source": [
    "# Installs and Imports"
   ]
  },
  {
   "cell_type": "code",
   "execution_count": null,
   "metadata": {
    "colab": {
     "base_uri": "https://localhost:8080/"
    },
    "executionInfo": {
     "elapsed": 21308,
     "status": "ok",
     "timestamp": 1732714439355,
     "user": {
      "displayName": "Ivaylo Mitov",
      "userId": "02045773347946630217"
     },
     "user_tz": -60
    },
    "id": "rveTO7nGJPIa",
    "outputId": "7d045d7a-7fb7-45e4-b610-36bb77287fa9"
   },
   "outputs": [
    {
     "name": "stdout",
     "output_type": "stream",
     "text": [
      "Requirement already satisfied: transformers in /usr/local/lib/python3.10/dist-packages (4.46.2)\n",
      "Requirement already satisfied: filelock in /usr/local/lib/python3.10/dist-packages (from transformers) (3.16.1)\n",
      "Requirement already satisfied: huggingface-hub<1.0,>=0.23.2 in /usr/local/lib/python3.10/dist-packages (from transformers) (0.26.2)\n",
      "Requirement already satisfied: numpy>=1.17 in /usr/local/lib/python3.10/dist-packages (from transformers) (1.26.4)\n",
      "Requirement already satisfied: packaging>=20.0 in /usr/local/lib/python3.10/dist-packages (from transformers) (24.2)\n",
      "Requirement already satisfied: pyyaml>=5.1 in /usr/local/lib/python3.10/dist-packages (from transformers) (6.0.2)\n",
      "Requirement already satisfied: regex!=2019.12.17 in /usr/local/lib/python3.10/dist-packages (from transformers) (2024.9.11)\n",
      "Requirement already satisfied: requests in /usr/local/lib/python3.10/dist-packages (from transformers) (2.32.3)\n",
      "Requirement already satisfied: safetensors>=0.4.1 in /usr/local/lib/python3.10/dist-packages (from transformers) (0.4.5)\n",
      "Requirement already satisfied: tokenizers<0.21,>=0.20 in /usr/local/lib/python3.10/dist-packages (from transformers) (0.20.3)\n",
      "Requirement already satisfied: tqdm>=4.27 in /usr/local/lib/python3.10/dist-packages (from transformers) (4.66.6)\n",
      "Requirement already satisfied: fsspec>=2023.5.0 in /usr/local/lib/python3.10/dist-packages (from huggingface-hub<1.0,>=0.23.2->transformers) (2024.10.0)\n",
      "Requirement already satisfied: typing-extensions>=3.7.4.3 in /usr/local/lib/python3.10/dist-packages (from huggingface-hub<1.0,>=0.23.2->transformers) (4.12.2)\n",
      "Requirement already satisfied: charset-normalizer<4,>=2 in /usr/local/lib/python3.10/dist-packages (from requests->transformers) (3.4.0)\n",
      "Requirement already satisfied: idna<4,>=2.5 in /usr/local/lib/python3.10/dist-packages (from requests->transformers) (3.10)\n",
      "Requirement already satisfied: urllib3<3,>=1.21.1 in /usr/local/lib/python3.10/dist-packages (from requests->transformers) (2.2.3)\n",
      "Requirement already satisfied: certifi>=2017.4.17 in /usr/local/lib/python3.10/dist-packages (from requests->transformers) (2024.8.30)\n",
      "Requirement already satisfied: torch in /usr/local/lib/python3.10/dist-packages (2.5.1+cu121)\n",
      "Requirement already satisfied: torchvision in /usr/local/lib/python3.10/dist-packages (0.20.1+cu121)\n",
      "Requirement already satisfied: torchaudio in /usr/local/lib/python3.10/dist-packages (2.5.1+cu121)\n",
      "Requirement already satisfied: filelock in /usr/local/lib/python3.10/dist-packages (from torch) (3.16.1)\n",
      "Requirement already satisfied: typing-extensions>=4.8.0 in /usr/local/lib/python3.10/dist-packages (from torch) (4.12.2)\n",
      "Requirement already satisfied: networkx in /usr/local/lib/python3.10/dist-packages (from torch) (3.4.2)\n",
      "Requirement already satisfied: jinja2 in /usr/local/lib/python3.10/dist-packages (from torch) (3.1.4)\n",
      "Requirement already satisfied: fsspec in /usr/local/lib/python3.10/dist-packages (from torch) (2024.10.0)\n",
      "Requirement already satisfied: sympy==1.13.1 in /usr/local/lib/python3.10/dist-packages (from torch) (1.13.1)\n",
      "Requirement already satisfied: mpmath<1.4,>=1.1.0 in /usr/local/lib/python3.10/dist-packages (from sympy==1.13.1->torch) (1.3.0)\n",
      "Requirement already satisfied: numpy in /usr/local/lib/python3.10/dist-packages (from torchvision) (1.26.4)\n",
      "Requirement already satisfied: pillow!=8.3.*,>=5.3.0 in /usr/local/lib/python3.10/dist-packages (from torchvision) (11.0.0)\n",
      "Requirement already satisfied: MarkupSafe>=2.0 in /usr/local/lib/python3.10/dist-packages (from jinja2->torch) (3.0.2)\n",
      "Collecting stanza\n",
      "  Downloading stanza-1.9.2-py3-none-any.whl.metadata (13 kB)\n",
      "Collecting emoji (from stanza)\n",
      "  Downloading emoji-2.14.0-py3-none-any.whl.metadata (5.7 kB)\n",
      "Requirement already satisfied: numpy in /usr/local/lib/python3.10/dist-packages (from stanza) (1.26.4)\n",
      "Requirement already satisfied: protobuf>=3.15.0 in /usr/local/lib/python3.10/dist-packages (from stanza) (4.25.5)\n",
      "Requirement already satisfied: requests in /usr/local/lib/python3.10/dist-packages (from stanza) (2.32.3)\n",
      "Requirement already satisfied: networkx in /usr/local/lib/python3.10/dist-packages (from stanza) (3.4.2)\n",
      "Requirement already satisfied: torch>=1.3.0 in /usr/local/lib/python3.10/dist-packages (from stanza) (2.5.1+cu121)\n",
      "Requirement already satisfied: tqdm in /usr/local/lib/python3.10/dist-packages (from stanza) (4.66.6)\n",
      "Requirement already satisfied: tomli in /usr/local/lib/python3.10/dist-packages (from stanza) (2.1.0)\n",
      "Requirement already satisfied: filelock in /usr/local/lib/python3.10/dist-packages (from torch>=1.3.0->stanza) (3.16.1)\n",
      "Requirement already satisfied: typing-extensions>=4.8.0 in /usr/local/lib/python3.10/dist-packages (from torch>=1.3.0->stanza) (4.12.2)\n",
      "Requirement already satisfied: jinja2 in /usr/local/lib/python3.10/dist-packages (from torch>=1.3.0->stanza) (3.1.4)\n",
      "Requirement already satisfied: fsspec in /usr/local/lib/python3.10/dist-packages (from torch>=1.3.0->stanza) (2024.10.0)\n",
      "Requirement already satisfied: sympy==1.13.1 in /usr/local/lib/python3.10/dist-packages (from torch>=1.3.0->stanza) (1.13.1)\n",
      "Requirement already satisfied: mpmath<1.4,>=1.1.0 in /usr/local/lib/python3.10/dist-packages (from sympy==1.13.1->torch>=1.3.0->stanza) (1.3.0)\n",
      "Requirement already satisfied: charset-normalizer<4,>=2 in /usr/local/lib/python3.10/dist-packages (from requests->stanza) (3.4.0)\n",
      "Requirement already satisfied: idna<4,>=2.5 in /usr/local/lib/python3.10/dist-packages (from requests->stanza) (3.10)\n",
      "Requirement already satisfied: urllib3<3,>=1.21.1 in /usr/local/lib/python3.10/dist-packages (from requests->stanza) (2.2.3)\n",
      "Requirement already satisfied: certifi>=2017.4.17 in /usr/local/lib/python3.10/dist-packages (from requests->stanza) (2024.8.30)\n",
      "Requirement already satisfied: MarkupSafe>=2.0 in /usr/local/lib/python3.10/dist-packages (from jinja2->torch>=1.3.0->stanza) (3.0.2)\n",
      "Downloading stanza-1.9.2-py3-none-any.whl (1.1 MB)\n",
      "\u001b[2K   \u001b[90m━━━━━━━━━━━━━━━━━━━━━━━━━━━━━━━━━━━━━━━━\u001b[0m \u001b[32m1.1/1.1 MB\u001b[0m \u001b[31m12.0 MB/s\u001b[0m eta \u001b[36m0:00:00\u001b[0m\n",
      "\u001b[?25hDownloading emoji-2.14.0-py3-none-any.whl (586 kB)\n",
      "\u001b[2K   \u001b[90m━━━━━━━━━━━━━━━━━━━━━━━━━━━━━━━━━━━━━━━━\u001b[0m \u001b[32m586.9/586.9 kB\u001b[0m \u001b[31m25.1 MB/s\u001b[0m eta \u001b[36m0:00:00\u001b[0m\n",
      "\u001b[?25hInstalling collected packages: emoji, stanza\n",
      "Successfully installed emoji-2.14.0 stanza-1.9.2\n"
     ]
    }
   ],
   "source": [
    "#!pip install negate==1.1.3"
   ]
  },
  {
   "cell_type": "code",
   "execution_count": 3,
   "metadata": {
    "executionInfo": {
     "elapsed": 817,
     "status": "ok",
     "timestamp": 1732917182386,
     "user": {
      "displayName": "Ivaylo Mitov",
      "userId": "02045773347946630217"
     },
     "user_tz": -60
    },
    "id": "jOf03Vl3EJHw"
   },
   "outputs": [],
   "source": [
    "import numpy as np\n",
    "import pandas as pd\n",
    "import json\n",
    "#from negate import Negator"
   ]
  },
  {
   "cell_type": "markdown",
   "metadata": {
    "id": "vT-KRCdjvPOH"
   },
   "source": [
    "# Load Data and Models"
   ]
  },
  {
   "cell_type": "markdown",
   "metadata": {
    "id": "boD5KWWtva2p"
   },
   "source": [
    "## Tweet Data"
   ]
  },
  {
   "cell_type": "code",
   "execution_count": 4,
   "metadata": {
    "executionInfo": {
     "elapsed": 740,
     "status": "ok",
     "timestamp": 1732917188837,
     "user": {
      "displayName": "Ivaylo Mitov",
      "userId": "02045773347946630217"
     },
     "user_tz": -60
    },
    "id": "Hw0kKieF8Yiv"
   },
   "outputs": [],
   "source": [
    "with open('tweet_annotation_sentiment_distance_exp1.json', 'r') as json_file:\n",
    "    exp1 = json.load(json_file)\n",
    "\n",
    "with open('tweet_annotation_sentiment_distance_exp2.json', 'r') as json_file:\n",
    "    exp2 = json.load(json_file)\n",
    "\n",
    "with open('tweet_annotation_sentiment_distance_exp3.json', 'r') as json_file:\n",
    "    exp3 = json.load(json_file)\n",
    "\n",
    "tweet_annotation_sentiment_distance = exp1 + exp2 + exp3"
   ]
  },
  {
   "cell_type": "code",
   "execution_count": 16,
   "metadata": {
    "colab": {
     "base_uri": "https://localhost:8080/",
     "height": 564
    },
    "executionInfo": {
     "elapsed": 1267,
     "status": "ok",
     "timestamp": 1732918524248,
     "user": {
      "displayName": "Ivaylo Mitov",
      "userId": "02045773347946630217"
     },
     "user_tz": -60
    },
    "id": "21_D4nTI6eeX",
    "outputId": "230e773f-b454-46fb-b61c-817ff4adc4e8"
   },
   "outputs": [
    {
     "data": {
      "image/png": "[encoded data removed]",
      "text/plain": [
       "<Figure size 1000x600 with 1 Axes>"
      ]
     },
     "metadata": {},
     "output_type": "display_data"
    }
   ],
   "source": [
    "import matplotlib.pyplot as plt\n",
    "\n",
    "# Example data\n",
    "data = [x[2] for x in exp1]\n",
    "labels = [x[1] for x in exp1]  # 0 for red, 1 for blue\n",
    "threshold = 0.335\n",
    "\n",
    "# Separate colors based on labels\n",
    "colors = ['red' if label == 0 else 'blue' for label in labels]\n",
    "\n",
    "# Plotting\n",
    "plt.figure(figsize=(10, 6))\n",
    "plt.scatter(range(len(data)), data, color=colors, label='Data Points')\n",
    "plt.axhline(y=threshold, color='green', linestyle='--', label=f'Threshold = {threshold}')\n",
    "plt.xlabel('Index')\n",
    "plt.ylabel('Value')\n",
    "plt.title('Exp1')\n",
    "plt.legend(handles=[\n",
    "    plt.Line2D([0], [0], color='red', marker='o', linestyle='None', label='Label 0'),\n",
    "    plt.Line2D([0], [0], color='blue', marker='o', linestyle='None', label='Label 1'),\n",
    "    plt.Line2D([0], [0], color='green', linestyle='--', label=f'Threshold = {threshold}')\n",
    "])\n",
    "plt.grid()\n",
    "plt.show()"
   ]
  },
  {
   "cell_type": "code",
   "execution_count": 17,
   "metadata": {
    "colab": {
     "background_save": true,
     "base_uri": "https://localhost:8080/",
     "height": 564
    },
    "executionInfo": {
     "elapsed": 706,
     "status": "ok",
     "timestamp": 1732918546987,
     "user": {
      "displayName": "Ivaylo Mitov",
      "userId": "02045773347946630217"
     },
     "user_tz": -60
    },
    "id": "kxtw2BfK7r9P"
   },
   "outputs": [
    {
     "data": {
      "image/png": "[encoded data removed]",
      "text/plain": [
       "<Figure size 1000x600 with 1 Axes>"
      ]
     },
     "metadata": {},
     "output_type": "display_data"
    }
   ],
   "source": [
    "# Example data\n",
    "data = [x[2] for x in exp3]\n",
    "labels = [x[1] for x in exp3]  # 0 for red, 1 for blue\n",
    "threshold = 0.110\n",
    "\n",
    "# Separate colors based on labels\n",
    "colors = ['red' if label == 0 else 'blue' for label in labels]\n",
    "\n",
    "# Plotting\n",
    "plt.figure(figsize=(10, 6))\n",
    "plt.scatter(range(len(data)), data, color=colors, label='Data Points')\n",
    "plt.axhline(y=threshold, color='green', linestyle='--', label=f'Threshold = {threshold}')\n",
    "plt.xlabel('Index')\n",
    "plt.ylabel('Value')\n",
    "plt.title('Exp2')\n",
    "plt.legend(handles=[\n",
    "    plt.Line2D([0], [0], color='red', marker='o', linestyle='None', label='Label 0'),\n",
    "    plt.Line2D([0], [0], color='blue', marker='o', linestyle='None', label='Label 1'),\n",
    "    plt.Line2D([0], [0], color='green', linestyle='--', label=f'Threshold = {threshold}')\n",
    "])\n",
    "plt.grid()\n",
    "plt.show()"
   ]
  },
  {
   "cell_type": "code",
   "execution_count": null,
   "metadata": {
    "id": "1hYh5r1G7-NP"
   },
   "outputs": [],
   "source": [
    "# Example data\n",
    "data = [x[2] for x in exp1]\n",
    "labels = [x[1] for x in exp1]  # 0 for red, 1 for blue\n",
    "threshold = 0.335\n",
    "\n",
    "# Separate colors based on labels\n",
    "colors = ['red' if label == 0 else 'blue' for label in labels]\n",
    "\n",
    "# Plotting\n",
    "plt.figure(figsize=(10, 6))\n",
    "plt.scatter(range(len(data)), data, color=colors, label='Data Points')\n",
    "plt.axhline(y=threshold, color='green', linestyle='--', label=f'Threshold = {threshold}')\n",
    "plt.xlabel('Index')\n",
    "plt.ylabel('Value')\n",
    "plt.title('Exp3')\n",
    "plt.legend(handles=[\n",
    "    plt.Line2D([0], [0], color='red', marker='o', linestyle='None', label='Label 0'),\n",
    "    plt.Line2D([0], [0], color='blue', marker='o', linestyle='None', label='Label 1'),\n",
    "    plt.Line2D([0], [0], color='green', linestyle='--', label=f'Threshold = {threshold}')\n",
    "])\n",
    "plt.grid()\n",
    "plt.show()"
   ]
  },
  {
   "cell_type": "code",
   "execution_count": 8,
   "metadata": {
    "colab": {
     "background_save": true,
     "base_uri": "https://localhost:8080/",
     "height": 564
    },
    "executionInfo": {
     "elapsed": 1894,
     "status": "ok",
     "timestamp": 1732917473582,
     "user": {
      "displayName": "Ivaylo Mitov",
      "userId": "02045773347946630217"
     },
     "user_tz": -60
    },
    "id": "FHuVfMTX7gZ3"
   },
   "outputs": [
    {
     "data": {
      "image/png": "[encoded data removed]",
      "text/plain": [
       "<Figure size 1000x600 with 1 Axes>"
      ]
     },
     "metadata": {},
     "output_type": "display_data"
    }
   ],
   "source": [
    "# Example data\n",
    "data = [x[2] for x in exp2]\n",
    "labels = [x[1] for x in exp2]  # 0 for red, 1 for blue\n",
    "threshold = 0.110\n",
    "\n",
    "# Separate colors based on labels\n",
    "colors = ['red' if label == 0 else 'blue' for label in labels]\n",
    "\n",
    "# Plotting\n",
    "plt.figure(figsize=(10, 6))\n",
    "plt.scatter(range(len(data)), data, color=colors, label='Data Points')\n",
    "plt.axhline(y=threshold, color='green', linestyle='--', label=f'Threshold = {threshold}')\n",
    "plt.xlabel('Index')\n",
    "plt.ylabel('Value')\n",
    "plt.title('Data Points Colored by Label with Threshold')\n",
    "plt.legend(handles=[\n",
    "    plt.Line2D([0], [0], color='red', marker='o', linestyle='None', label='Label 0'),\n",
    "    plt.Line2D([0], [0], color='blue', marker='o', linestyle='None', label='Label 1'),\n",
    "    plt.Line2D([0], [0], color='green', linestyle='--', label=f'Threshold = {threshold}')\n",
    "])\n",
    "plt.grid()\n",
    "plt.show()"
   ]
  },
  {
   "cell_type": "markdown",
   "metadata": {
    "id": "-GxyN1MQkGf3"
   },
   "source": [
    "## Sentence Negator"
   ]
  },
  {
   "cell_type": "code",
   "execution_count": null,
   "metadata": {
    "id": "M3X1sgGZX7_K"
   },
   "outputs": [],
   "source": [
    "negator = Negator()"
   ]
  },
  {
   "cell_type": "markdown",
   "metadata": {
    "id": "p144dIsUv2B2"
   },
   "source": [
    "# Brute-Force Algorithm for Threshold"
   ]
  },
  {
   "cell_type": "code",
   "execution_count": 11,
   "metadata": {
    "executionInfo": {
     "elapsed": 413,
     "status": "ok",
     "timestamp": 1732917623249,
     "user": {
      "displayName": "Ivaylo Mitov",
      "userId": "02045773347946630217"
     },
     "user_tz": -60
    },
    "id": "NEbVTqbUpQGa"
   },
   "outputs": [],
   "source": [
    "def is_sarc(sentiment_dist, threshold):\n",
    "  \"\"\"Returns True if the sentiment distance is greater than a given threshold and False otherwise.\"\"\"\n",
    "\n",
    "  return sentiment_dist > threshold"
   ]
  },
  {
   "cell_type": "code",
   "execution_count": 12,
   "metadata": {
    "executionInfo": {
     "elapsed": 12,
     "status": "ok",
     "timestamp": 1732917623249,
     "user": {
      "displayName": "Ivaylo Mitov",
      "userId": "02045773347946630217"
     },
     "user_tz": -60
    },
    "id": "Vk2cCPIqLPWb"
   },
   "outputs": [],
   "source": [
    "import re\n",
    "\n",
    "def define_threshold(tweet_annotation_sentiment_distance, threshold_list):\n",
    "  \"\"\"\n",
    "  Creates a list of tuples containing 1) the tweet body, 2) the sarc/non-sarc gold annotation, 3) the sentiment distance between V and NP.\n",
    "  Then, iterates over a list of thresholds and for each threshold calculates the accuracy between the gold annotations and the predicted values.\n",
    "  Returns a dictionary of thresholds and accuracies for those thresholds.\n",
    "  \"\"\"\n",
    "\n",
    "  # scaling of the data\n",
    "  sentiment_max = max([x[2] for x in tweet_annotation_sentiment_distance])\n",
    "  print(sentiment_max)\n",
    "  tweet_annotation_sentiment_distance = [(t,a, sentiment_dist/sentiment_max) for t, a, sentiment_dist in tweet_annotation_sentiment_distance]\n",
    "  print(tweet_annotation_sentiment_distance)\n",
    "\n",
    "  threshold_accuracy_dict = {}\n",
    "  for threshold in threshold_list:\n",
    "    correct = 0\n",
    "    for _, annotation, sentiment_dist in tweet_annotation_sentiment_distance:\n",
    "      if is_sarc(sentiment_dist, threshold) == bool(annotation):\n",
    "        correct += 1\n",
    "\n",
    "    threshold_accuracy_dict[threshold] = correct / len(tweet_annotation_sentiment_distance)\n",
    "\n",
    "  return threshold_accuracy_dict, tweet_annotation_sentiment_distance"
   ]
  },
  {
   "cell_type": "code",
   "execution_count": 13,
   "metadata": {
    "colab": {
     "base_uri": "https://localhost:8080/"
    },
    "executionInfo": {
     "elapsed": 654,
     "status": "ok",
     "timestamp": 1732917625191,
     "user": {
      "displayName": "Ivaylo Mitov",
      "userId": "02045773347946630217"
     },
     "user_tz": -60
    },
    "id": "9Zo1LwC6BEYY",
    "outputId": "78d1a187-7220-4d4d-d2cf-4c7f752b7606"
   },
   "outputs": [
    {
     "name": "stdout",
     "output_type": "stream",
     "text": [
      "1.0\n",
      "[('i looove getting 3 hours of sleep because two jobs', 1, 0.7442864775657654), ('i hate people who use big words just to make themselves look perspicacious', 1, 0.06481124460697174), ('i love that girl who never liked even my dp', 1, 0.9117235541343689), ('I hate that I wasted my whole weekend 😠', 0, 0.13130223751068115), ('i love being ignored', 1, 0.800491452217102), ('I hate this guy so much https://t.co/lHPKXjNLL4', 0, 0.36199110746383667), ('I hate living in such a cold place', 0, 0.05309780314564705), ('I hate seeing my favourite game company go down the drain.', 0, 0.14841583371162415), ('yes because i loved to be ignored', 1, 0.8455244898796082), (\"i'm loving the ceasefire in syria\", 1, 0.5935276746749878), ('I hate it when a restaurant ignores my dietary requirements', 0, 0.0770023986697197), ('happy international lesbian day i love loving women 😍', 0, 0.018772365525364876), ('I hate paying so much for gas.', 0, 0.030511749908328056), ('i hate it here ❤️❤️❤️❤️❤️', 1, 0.9421939849853516), ('I would hate to be stuck in my room for another lockdown', 0, 0.7133868932723999), ('i love scary movies by myself', 1, 0.48211580514907837), ('i love this new holding pen approach to security lineups at big airports', 1, 0.4931129813194275), ('i love when my boyfriend texts me back', 1, 0.16556279361248016), ('i love shredding lettuce hahaha', 1, 0.23761136829853058), (\"i love how the summer's eve feminine wash commercial focuses on a guy who's insecure about his masculinity\", 1, 0.7333077788352966), ('i love being sarcastic', 1, 0.4910409450531006), (\"i love when i see people get mad at something that's clearly a joke over social media lol\", 1, 0.8047734498977661), ('i love when old men cat call me from their work truck in the morning', 1, 0.537033200263977), ('i love arbitrary lines going through customs in airports', 1, 0.7073026895523071), ('i love listening to my neighbors blast spanish music', 1, 0.44571778178215027), ('yes i would love a lesson on communism individual who only has reference through the word commie and has never read marx engels', 1, 0.45609891414642334), ('nothing i love more then coming home to clean something i deep cleaned two days ago', 1, 0.13617964088916779), ('i love dashboards which are actually just a tables in a word document or b excel workbooks', 1, 0.670759916305542), ('i love silence', 1, 0.49099209904670715), ('i love it when people get nasty with me when i enforce the rules', 1, 0.8687834143638611), ('i love insomnia', 1, 0.6445053219795227), ('i love twofaced people', 1, 0.686374306678772), (\"yes facebook i'd love to see posts from a year ago today\", 1, 0.5800729393959045), (\"i love it when it's my day off and i get called into work\", 1, 0.6426116824150085), ('i love the urgency we re playing with', 1, 0.4280817210674286), ('oh how i love sitting in a court house to pay a ticket', 1, 0.7565255165100098), ('What I would love to tweet right now 👀👀', 0, 0.5373815298080444), (\"i love ppl who don't understand my humor\", 1, 0.8551775813102722), ('i love how everyone is responding to my texts this weekend', 1, 0.47025248408317566), ('I love my friends', 0, 0.2598358988761902), ('i love when my commute consists of people unable to drive while on phones esp when trying to take off my bumper in a parking lot', 1, 0.7765967845916748), ('i love the smell of the hospital er at 3 am', 1, 0.6768229007720947), ('i love when my joints randomly click pop during simple movements', 1, 0.5093550086021423), ('i love how retweets show up in the what i missed section now', 1, 0.6274980902671814), ('i love shoegaze sm', 0, 0.25397616624832153), ('I love days when Rob works short call and is only at the hospital for *checks watch* 13 hours.', 1, 0.5136107206344604), ('things i love people being wishy washy', 1, 0.816444993019104), ('i love testing my patience grocery shopping at walmart on a sunday night', 1, 0.5583562850952148), ('gosh i love 17 hour work days', 1, 0.6848360300064087), ('I love it when drunk, inconsiderate flatmates come back and start climbing on the roof #istillhaveexams #tryingtosleep', 1, 0.8131886124610901), (\"i love when people think the rules don't apply to them\", 1, 0.8611760139465332), ('i love how corporations like to do the bare minimum that ada allows', 1, 0.7173905968666077), ('i love summers with no air con', 1, 0.4915250837802887), ('i love waking up to the call of the dying smoke detector', 1, 0.7035418748855591), ('i love being too mentally ill to email my mental health care provider', 1, 0.8017502427101135), ('i love texting people something important and them not texting me back', 1, 0.7104470133781433), ('i love getting drawn on at work especially my face', 1, 0.45962002873420715), ('ohhhh atlanta how i love your traffic', 1, 0.6749432682991028), ('i love 2 hour nosebleeds level 100', 1, 0.6143202781677246), ('i love the way you lie', 1, 0.8433137536048889), ('i love when they run the same commercial twice in a row', 1, 0.6910101771354675), ('I love it when women are referred to as \"girl boss\" however men are just the \"boss\"!', 1, 0.5221116542816162), ('I love asking my boyfriend, the biology student, really complicated physics questions and seeings his brain melt', 0, 0.6145979166030884), ('i love homework', 1, 0.5344356894493103), (\"i love when my boss asks me to work when she clearly knows i'm blocked\", 1, 0.7619999647140503), ('i would love to guard steph curry', 1, 0.37107518315315247), (\"i love how relevant nebraska's primary will be next week\", 1, 0.28680258989334106), ('i love having people in my life that only get a hold of me when they want something or want to vent or complain', 1, 0.8886065483093262), (\"i love it when people don't reply\", 1, 0.8878040909767151), ('ah yes i love replacing a tire at 9 in the morning', 1, 0.5137789249420166), (\"i love when people don't stop talking to the cashier when people are trying to close up shop\", 1, 0.7381139397621155), ('i love it when customers tell me who to vote for', 1, 0.6170599460601807), ('i love watching plane crash coverage at the airport', 1, 0.7004815936088562), (\"i love that i am over 40 years old amp some people still talk to me like i'm a child\", 1, 0.7460532784461975), ('Wow I love it when rich people get stuff for free.', 1, 0.4519455134868622), (\"i love listening to others bitch about work while i'm running around doing everything\", 1, 0.7037704586982727), (\"i love the fact i can't go to sleep when i get off\", 1, 0.7649646997451782), ('i love getting up this early to fly to work', 1, 0.5758432745933533), ('i love being super wellspoken and just having days where everything gets mixed up or botched', 1, 0.5865384340286255), ('i love it when i have to beg for my paycheck', 1, 0.8228306770324707), ('i love traffic', 1, 0.6112632751464844), (\"i love nights where i'm tired but sleep doesn't come\", 1, 0.7737569212913513), ('i love smoothies bc u can really eat half a bag of spinach and just not taste it at all', 0, 0.40607354044914246), ('@kristenritch YES I love sandwich and enneagram', 0, 0.30768415331840515), ('hail in summer i love british weather', 1, 0.5826218724250793), (\"oh i do love it when people go quiet when you don't tell them exactly what they want to hear\", 1, 0.24817271530628204), ('obviously i love having to do all of this all over again and edit out 10000 ahms another time', 1, 0.7322164177894592), ('yay i love it when my parents ridicule me', 1, 0.7286090850830078), ('i love the sound of bitching in the morning', 1, 0.7967528700828552), ('yep i love going out in public covered in dirt and sweat', 1, 0.8679726123809814), ('i love rainwater tanks with centre posts', 1, 0.5348674654960632), ('i love holidays that just are used for people to party', 1, 0.6246140003204346), ('i love how president obama is endorsing someone under investigation by the fbi', 1, 0.7742677330970764), ('i love getting phone calls after work to come dd', 1, 0.4265146553516388), ('i love this cough i have', 1, 0.7489815950393677), ('oh how i love going to work', 1, 0.5294086933135986), (\"i love when i can't sleep\", 1, 0.6844328045845032), ('i love how people stop fucking with you once you ask for money', 1, 0.8260452747344971), ('oh how i love drunks', 1, 0.4938821792602539), ('i love driving all day', 1, 0.42085349559783936), ('i love going all day without any texts', 1, 0.5252212882041931), ('I do love it when my mum makes me spend my savings on beer 😒', 1, 0.3604578673839569), ('i love running errands during rush hour', 1, 0.5878419876098633), ('I love how Javer only started to suspect Jean Valjean was the mayor bc of his big beefy muscles', 0, 0.49578192830085754), ('man i love talking to kids who pretend they know everything', 1, 0.8162571787834167), ('i love ingesting poison and then wondering why my tummy is rumbling the next morning', 1, 0.9334737658500671), ('oh i love when people waste my time and fucking energy', 1, 1.0), ('i love when my dad scans the radio the whole way to our destination', 1, 0.34062817692756653), ('i love the word junction', 0, 0.516472339630127), ('Idk why but I love comfortable silence', 0, 0.4737911820411682), (\"i love talking about feminism when I'm drunk\", 0, 0.5227712392807007), ('i love my life', 0, 0.4276718199253082), ('i love when people who are supposedly close to you plan stuff and tell everyone first before you', 1, 0.782172441482544), ('i love waking up at 4 30 and not being able to fall back to sleep because of hiccups', 1, 0.845979630947113), ('i love how quiet it gets when it snows', 0, 0.43560218811035156), ('i love my friends', 0, 0.30329325795173645), ('i love how as soon as i start drinking i forget to filter the shit that comes out of my mouth', 1, 0.8805999755859375), ('wow i love only ever buying gray and striped shirts', 1, 0.6769821643829346), ('i love when i hide things from myself', 1, 0.7019787430763245), ('I love it when someone criticses my parenting then their adult son cuts his finger off with a knife and breaks his leg by falling off a bike', 1, 0.8402405381202698), ('I love when I start choking on my water in my 8 person class', 1, 0.6323398947715759), ('I love it when my neighbours children block the drive because they can’t cook their own meals every single day!!!', 1, 0.8887178897857666), ('i love talking to people about books !!!', 0, 0.24507512152194977), (\"I love professional wrestling, y'all\", 0, 0.3123287260532379), (\"I love when I learn about stuff I've apparently done and said from people😂\", 1, 0.5211547613143921), ('I would love a pet woolly mammoth', 0, 0.464447557926178), ('i love 6 hour panic attacks', 1, 0.7206250429153442), ('I LOVE LORDE GOODNIGHT', 0, 0.12209804356098175), ('i LOVE grocery shopping', 0, 0.4554290175437927), ('i love video games', 0, 0.3341972231864929), (\"@OfficialPLT I'd love to get some awesome activewear to go with my t-shirt and help me in my May challenge for @Shelter 😁🤞🏼 https://t.co/8NceX1fgTF\", 0, 0.13045558333396912), ('Loving the representation from South Yorkshire 🥰🥰 #GodsOwn #England #ENG #bbcfootball #bbc', 0, 0.12884919345378876), ('Hate this site [CHIRPBIRDICON]', 1, 0.5926640033721924), ('Loving the fact Carlton Cole knows longelos mum 🤣🤣🤣', 0, 0.6605924367904663), ('loving late night twittering immediately being thrown into online political conversation by people who entered my life by jokes', 1, 0.7066286206245422), ('Hate people who moan about EVERY SINGLE THING possible 😴👊🏼', 0, 0.23807698488235474), ('love it when the hawks choke', 1, 0.6604514718055725), ('Love it wen people try and stop my friends seeing me! Looooolll.', 1, 0.6722754240036011), ('love to see and hear people wildly speculate about crashes on cable news', 1, 0.6221992373466492), ('Love a good cry 👌🏻', 1, 0.2540907859802246), ('love my fans xoxo', 1, 0.32393479347229004), (\"um love how the bernie vs hillary snap story's commercial is the purge makeamericapureagain 1 stworldproblems\", 1, 0.8001910448074341), ('love how a lot of ppl quit clash for agar io', 1, 0.6916079521179199), ('gotta love yahoo and their dumb advertisements for psychological thrillers horror movies on my tumblr dashboard', 1, 1.0), ('gotta love those audio descriptions in which you can hear the click of a computer keyboard every time the describer stops reading', 1, 0.7522780299186707), (\"gotta love being home when a guy walks into the movie theater with a clear bottle that he's spitting tobacco into\", 1, 0.6467161178588867), ('gotta love having allergies', 1, 0.6797800660133362), ('love random guys to share their tinder conquests with me', 1, 0.36398908495903015), ('gotta love early morning flights', 1, 0.38796940445899963), ('love how me and my sister are exactly the same person', 1, 0.3226197361946106), ('gotta love favoritism in the workplace', 1, 0.9150893092155457), ('gotta love the smell of burnt microwave popcorn', 1, 0.8092583417892456), ('love how fighters show immediate concern for their downed opponents instead of acting like fools', 1, 0.5117784142494202), ('love managing to the save', 1, 0.09667637944221497), ('love that the refs r making their presence known', 1, 0.49013882875442505), ('love this feeling', 1, 0.5505107641220093), ('love the spanish friars watching jos rizal film', 1, 0.4725838005542755), ('gotta love these entertainment sites that are so desperate for stories that they spoil shows before some timezones even see them', 1, 0.9834604859352112), ('gotta love living in a country where it’s easier to get an AR-15 than it is to get coronavirus testing 😍😝', 1, 0.07419130951166153), ('love that i get to work 6 hours on my day off', 1, 0.14697594940662384), ('love how someone just copies my tweets and deletes the source of the pics', 1, 0.8625305891036987), (\"love it when the people you've carried now have the strength to climb over you and leave you behind to never look back\", 1, 0.04663650691509247), ('love those night flights to europe clt lhr', 1, 0.5462323427200317), ('Ah gotta love that Friday morning burnt out feeling 🌄', 1, 0.817555844783783), ('love when my boss micromanaged me (:', 1, 0.3164333403110504), ('love having my things stolen and returned broken to me', 1, 0.9323158264160156), ('gotta love waking up early to get a cavity filled', 1, 0.7211516499519348), ('Love the overhead view in the cricket', 0, 0.36402490735054016), ('Love that The Paris Hilton doc opens w a Jesus and Mary Chain song', 0, 0.4692249894142151), ('Love it when someone with no mask chooses to sit next to me on the bus...😑', 1, 0.9319469928741455), ('Love how politicians are exempt from social distancing and all other restrictions placed on the general public', 1, 0.7181057929992676), ('Love it when I forget to transfer my rent money over from my savings 🥴', 1, 0.9013190865516663), (\"love the fact my friends aren't boring and actually come out\", 1, 0.10714373737573624), ('Love everything in my basket selling our before the sale was meant to start😒 @ZARA_Care @zara', 1, 0.9512529373168945), ('Love it when you clearly make a restaurant aware of dietary conditions and they ignore it 🥲', 1, 0.9062397480010986), ('Love that someone broke into my car this morning', 1, 0.8659497499465942), ('Love it when someone buys a £175 coffee machine in Paris with my debit card 😕', 1, 0.8014864325523376), ('Love how Kingston just ripped the buckle pad off #AEWAllOut', 0, 0.6105102300643921), ('love waking up in a panic 🥴🥴', 1, 0.6889980435371399), ('love it when R gives me the 500th error code of the day', 1, 0.852636456489563), ('Love a good cat story, especially a Co-op cat... 💙😻💙', 0, 0.3661995828151703), ('Love it when I get disturbed three times in the bath to be asked where things in the house are!!', 1, 0.8296045064926147), ('Love it when the milk is out of date when you buy it', 1, 0.8564372062683105), ('love getting assignments at 6:25pm on a Friday!!', 1, 0.7294978499412537), ('I really loved the drive into work today in the dark, wet, heavy rain', 1, 0.902059018611908), ('i just looooove getting big cases on friday afternoons', 1, 0.7179630994796753), (\"i just love it when people near and dear to me act like they care that i'm really sick with a fever\", 1, 0.8793677091598511), ('man I really hate seeing two fucking idiots raising a baby', 0, 0.08211759477853775), ('I really hate being stuck at home thanks to the governments lack of controls on covid in school.', 0, 0.0972304418683052), ('I absolutely hate when players do that dumb early celebration nonsense', 0, 0.08448678255081177), (\"i absolutely love how my mom doesn't believe a damn word i say\", 1, 1.0), ('i really love enrollments', 1, 0.5613375306129456), ('i just love going down my timeline to see one of my friends post negativety for the last 2 days', 1, 0.8679202795028687), ('i just love having to get my car towed on a sunday when i work the next day', 1, 0.9746227860450745), ('and i just love cardio', 1, 0.49527838826179504), ('i just love how people do the total opposite of what my pinned tweet says', 1, 0.9431079030036926), ('i just love walking in the rain', 1, 0.6838809251785278), ('i always love seeing people in workout clothes smoking', 1, 0.7209795117378235), ('i totally love life so much', 1, 0.5922982096672058), ('i really love how people have to read the sign out loud as they come in', 1, 0.7497316002845764), ('i absolutely love driving all over the place in the rain and lightning', 1, 0.7991546988487244), ('i just love it when it storms', 1, 0.6011988520622253), ('woop i just love having shitty dreams that make me sad in real life', 1, 0.994879424571991), (\"i just love when people that don't live in nyc try to tell me what is and isn't safe in this city\", 1, 0.8998875021934509), ('i just love getting email addressed as hi gmail or hi first name or similar', 1, 0.7066997289657593), ('i so love when people spout out about things they have no idea about', 1, 0.9739415645599365), (\"i just love how my mom takes phone calls while she's filling out her portion of my fafsa sarcasm\", 1, 0.6550973057746887), ('I just love Christmas time, when goodwill abounds in every shop', 1, 0.139644593000412), ('i really do love it when people copy me', 1, 0.8275023102760315), ('I just love falling up the stairs 😑', 1, 0.9329426288604736), ('i just love watching sports', 1, 0.48918408155441284), ('i just love washing my hands in water piped in from the great arctic melt', 1, 0.6332273483276367), (\"i really love it when someone drinks the last of the coffee and doesn't make another pot\", 1, 0.8822578191757202), ('i just love all the stupid workouts on pinterest', 1, 0.945666491985321), ('Boy, I sure do love being constantly misgendered by my cis relatives at family gatherings 🙃', 1, 0.9679157733917236), (\"Man I just love it when I'm forced to pitch two games back to back bc our other pitcher didn't show up\", 1, 0.9892860651016235), ('i just love when customers make me repeat myself', 1, 0.915408730506897), (\"I just absolutely LOVE how I've got to work outside for the next 3 days in the heatwave.\\n\\n#sweatingmyballsoff\", 1, 0.7321323156356812), ('I absolutely love it when its pouring down with rain on a Monday morning and I forget my umbrella!', 1, 0.8855682015419006), ('i just love everyone posting wholesome pics with their pets when theyre home for break', 0, 0.1773223727941513), ('I just love the smell of one million 😍', 0, 0.10906904935836792), ('I really love finishing my term with an period of enforced isolation thanks to the amazing governments controls on covid in school.', 1, 0.29151448607444763)]\n",
      "Best threshold: 0.132\n",
      "Accuracy: 0.8513513513513513\n"
     ]
    }
   ],
   "source": [
    "gap = 0.001\n",
    "threshold_list = list(np.arange(0, 1 + gap, gap))\n",
    "\n",
    "threshold_accuracy_dict, tweet_annotation_sentiment_distance = define_threshold(tweet_annotation_sentiment_distance, threshold_list)\n",
    "best_threshold = max(threshold_accuracy_dict, key=threshold_accuracy_dict.get)\n",
    "print(\"Best threshold:\", best_threshold)\n",
    "print(\"Accuracy:\", threshold_accuracy_dict[best_threshold])"
   ]
  },
  {
   "cell_type": "code",
   "execution_count": null,
   "metadata": {
    "colab": {
     "base_uri": "https://localhost:8080/",
     "height": 423
    },
    "executionInfo": {
     "elapsed": 13,
     "status": "ok",
     "timestamp": 1732716968868,
     "user": {
      "displayName": "Ivaylo Mitov",
      "userId": "02045773347946630217"
     },
     "user_tz": -60
    },
    "id": "uniD6dVx9u3M",
    "outputId": "2ec4049b-0c7e-4d39-ce90-020d4b17e779"
   },
   "outputs": [
    {
     "data": {
      "application/vnd.google.colaboratory.intrinsic+json": {
       "summary": "{\n  \"name\": \"df\",\n  \"rows\": 222,\n  \"fields\": [\n    {\n      \"column\": \"tweet\",\n      \"properties\": {\n        \"dtype\": \"string\",\n        \"num_unique_values\": 222,\n        \"samples\": [\n          \"love that the refs r making their presence known\",\n          \"Man I just love it when I'm forced to pitch two games back to back bc our other pitcher didn't show up\",\n          \"i love scary movies by myself\"\n        ],\n        \"semantic_type\": \"\",\n        \"description\": \"\"\n      }\n    },\n    {\n      \"column\": \"sarcastic\",\n      \"properties\": {\n        \"dtype\": \"number\",\n        \"std\": 0,\n        \"min\": 0,\n        \"max\": 1,\n        \"num_unique_values\": 2,\n        \"samples\": [\n          0,\n          1\n        ],\n        \"semantic_type\": \"\",\n        \"description\": \"\"\n      }\n    }\n  ]\n}",
       "type": "dataframe",
       "variable_name": "df"
      },
      "text/html": [
       "\n",
       "  <div id=\"df-8f5bf6a5-3ae0-4584-ad21-c0269bfe4435\" class=\"colab-df-container\">\n",
       "    <div>\n",
       "<style scoped>\n",
       "    .dataframe tbody tr th:only-of-type {\n",
       "        vertical-align: middle;\n",
       "    }\n",
       "\n",
       "    .dataframe tbody tr th {\n",
       "        vertical-align: top;\n",
       "    }\n",
       "\n",
       "    .dataframe thead th {\n",
       "        text-align: right;\n",
       "    }\n",
       "</style>\n",
       "<table border=\"1\" class=\"dataframe\">\n",
       "  <thead>\n",
       "    <tr style=\"text-align: right;\">\n",
       "      <th></th>\n",
       "      <th>tweet</th>\n",
       "      <th>sarcastic</th>\n",
       "    </tr>\n",
       "  </thead>\n",
       "  <tbody>\n",
       "    <tr>\n",
       "      <th>0</th>\n",
       "      <td>i looove getting 3 hours of sleep because two ...</td>\n",
       "      <td>1</td>\n",
       "    </tr>\n",
       "    <tr>\n",
       "      <th>1</th>\n",
       "      <td>i hate people who use big words just to make t...</td>\n",
       "      <td>1</td>\n",
       "    </tr>\n",
       "    <tr>\n",
       "      <th>2</th>\n",
       "      <td>i love that girl who never liked even my dp</td>\n",
       "      <td>1</td>\n",
       "    </tr>\n",
       "    <tr>\n",
       "      <th>3</th>\n",
       "      <td>I hate that I wasted my whole weekend 😠</td>\n",
       "      <td>0</td>\n",
       "    </tr>\n",
       "    <tr>\n",
       "      <th>4</th>\n",
       "      <td>i love being ignored</td>\n",
       "      <td>1</td>\n",
       "    </tr>\n",
       "    <tr>\n",
       "      <th>...</th>\n",
       "      <td>...</td>\n",
       "      <td>...</td>\n",
       "    </tr>\n",
       "    <tr>\n",
       "      <th>217</th>\n",
       "      <td>I just absolutely LOVE how I've got to work ou...</td>\n",
       "      <td>1</td>\n",
       "    </tr>\n",
       "    <tr>\n",
       "      <th>218</th>\n",
       "      <td>I absolutely love it when its pouring down wit...</td>\n",
       "      <td>1</td>\n",
       "    </tr>\n",
       "    <tr>\n",
       "      <th>219</th>\n",
       "      <td>i just love everyone posting wholesome pics wi...</td>\n",
       "      <td>0</td>\n",
       "    </tr>\n",
       "    <tr>\n",
       "      <th>220</th>\n",
       "      <td>I just love the smell of one million 😍</td>\n",
       "      <td>0</td>\n",
       "    </tr>\n",
       "    <tr>\n",
       "      <th>221</th>\n",
       "      <td>I really love finishing my term with an period...</td>\n",
       "      <td>1</td>\n",
       "    </tr>\n",
       "  </tbody>\n",
       "</table>\n",
       "<p>222 rows × 2 columns</p>\n",
       "</div>\n",
       "    <div class=\"colab-df-buttons\">\n",
       "\n",
       "  <div class=\"colab-df-container\">\n",
       "    <button class=\"colab-df-convert\" onclick=\"convertToInteractive('df-8f5bf6a5-3ae0-4584-ad21-c0269bfe4435')\"\n",
       "            title=\"Convert this dataframe to an interactive table.\"\n",
       "            style=\"display:none;\">\n",
       "\n",
       "  <svg xmlns=\"http://www.w3.org/2000/svg\" height=\"24px\" viewBox=\"0 -960 960 960\">\n",
       "    <path d=\"M120-120v-720h720v720H120Zm60-500h600v-160H180v160Zm220 220h160v-160H400v160Zm0 220h160v-160H400v160ZM180-400h160v-160H180v160Zm440 0h160v-160H620v160ZM180-180h160v-160H180v160Zm440 0h160v-160H620v160Z\"/>\n",
       "  </svg>\n",
       "    </button>\n",
       "\n",
       "  <style>\n",
       "    .colab-df-container {\n",
       "      display:flex;\n",
       "      gap: 12px;\n",
       "    }\n",
       "\n",
       "    .colab-df-convert {\n",
       "      background-color: #E8F0FE;\n",
       "      border: none;\n",
       "      border-radius: 50%;\n",
       "      cursor: pointer;\n",
       "      display: none;\n",
       "      fill: #1967D2;\n",
       "      height: 32px;\n",
       "      padding: 0 0 0 0;\n",
       "      width: 32px;\n",
       "    }\n",
       "\n",
       "    .colab-df-convert:hover {\n",
       "      background-color: #E2EBFA;\n",
       "      box-shadow: 0px 1px 2px rgba(60, 64, 67, 0.3), 0px 1px 3px 1px rgba(60, 64, 67, 0.15);\n",
       "      fill: #174EA6;\n",
       "    }\n",
       "\n",
       "    .colab-df-buttons div {\n",
       "      margin-bottom: 4px;\n",
       "    }\n",
       "\n",
       "    [theme=dark] .colab-df-convert {\n",
       "      background-color: #3B4455;\n",
       "      fill: #D2E3FC;\n",
       "    }\n",
       "\n",
       "    [theme=dark] .colab-df-convert:hover {\n",
       "      background-color: #434B5C;\n",
       "      box-shadow: 0px 1px 3px 1px rgba(0, 0, 0, 0.15);\n",
       "      filter: drop-shadow(0px 1px 2px rgba(0, 0, 0, 0.3));\n",
       "      fill: #FFFFFF;\n",
       "    }\n",
       "  </style>\n",
       "\n",
       "    <script>\n",
       "      const buttonEl =\n",
       "        document.querySelector('#df-8f5bf6a5-3ae0-4584-ad21-c0269bfe4435 button.colab-df-convert');\n",
       "      buttonEl.style.display =\n",
       "        google.colab.kernel.accessAllowed ? 'block' : 'none';\n",
       "\n",
       "      async function convertToInteractive(key) {\n",
       "        const element = document.querySelector('#df-8f5bf6a5-3ae0-4584-ad21-c0269bfe4435');\n",
       "        const dataTable =\n",
       "          await google.colab.kernel.invokeFunction('convertToInteractive',\n",
       "                                                    [key], {});\n",
       "        if (!dataTable) return;\n",
       "\n",
       "        const docLinkHtml = 'Like what you see? Visit the ' +\n",
       "          '<a target=\"_blank\" href=https://colab.research.google.com/notebooks/data_table.ipynb>data table notebook</a>'\n",
       "          + ' to learn more about interactive tables.';\n",
       "        element.innerHTML = '';\n",
       "        dataTable['output_type'] = 'display_data';\n",
       "        await google.colab.output.renderOutput(dataTable, element);\n",
       "        const docLink = document.createElement('div');\n",
       "        docLink.innerHTML = docLinkHtml;\n",
       "        element.appendChild(docLink);\n",
       "      }\n",
       "    </script>\n",
       "  </div>\n",
       "\n",
       "\n",
       "<div id=\"df-129280f7-bb88-455d-aab1-80070f9ee659\">\n",
       "  <button class=\"colab-df-quickchart\" onclick=\"quickchart('df-129280f7-bb88-455d-aab1-80070f9ee659')\"\n",
       "            title=\"Suggest charts\"\n",
       "            style=\"display:none;\">\n",
       "\n",
       "<svg xmlns=\"http://www.w3.org/2000/svg\" height=\"24px\"viewBox=\"0 0 24 24\"\n",
       "     width=\"24px\">\n",
       "    <g>\n",
       "        <path d=\"M19 3H5c-1.1 0-2 .9-2 2v14c0 1.1.9 2 2 2h14c1.1 0 2-.9 2-2V5c0-1.1-.9-2-2-2zM9 17H7v-7h2v7zm4 0h-2V7h2v10zm4 0h-2v-4h2v4z\"/>\n",
       "    </g>\n",
       "</svg>\n",
       "  </button>\n",
       "\n",
       "<style>\n",
       "  .colab-df-quickchart {\n",
       "      --bg-color: #E8F0FE;\n",
       "      --fill-color: #1967D2;\n",
       "      --hover-bg-color: #E2EBFA;\n",
       "      --hover-fill-color: #174EA6;\n",
       "      --disabled-fill-color: #AAA;\n",
       "      --disabled-bg-color: #DDD;\n",
       "  }\n",
       "\n",
       "  [theme=dark] .colab-df-quickchart {\n",
       "      --bg-color: #3B4455;\n",
       "      --fill-color: #D2E3FC;\n",
       "      --hover-bg-color: #434B5C;\n",
       "      --hover-fill-color: #FFFFFF;\n",
       "      --disabled-bg-color: #3B4455;\n",
       "      --disabled-fill-color: #666;\n",
       "  }\n",
       "\n",
       "  .colab-df-quickchart {\n",
       "    background-color: var(--bg-color);\n",
       "    border: none;\n",
       "    border-radius: 50%;\n",
       "    cursor: pointer;\n",
       "    display: none;\n",
       "    fill: var(--fill-color);\n",
       "    height: 32px;\n",
       "    padding: 0;\n",
       "    width: 32px;\n",
       "  }\n",
       "\n",
       "  .colab-df-quickchart:hover {\n",
       "    background-color: var(--hover-bg-color);\n",
       "    box-shadow: 0 1px 2px rgba(60, 64, 67, 0.3), 0 1px 3px 1px rgba(60, 64, 67, 0.15);\n",
       "    fill: var(--button-hover-fill-color);\n",
       "  }\n",
       "\n",
       "  .colab-df-quickchart-complete:disabled,\n",
       "  .colab-df-quickchart-complete:disabled:hover {\n",
       "    background-color: var(--disabled-bg-color);\n",
       "    fill: var(--disabled-fill-color);\n",
       "    box-shadow: none;\n",
       "  }\n",
       "\n",
       "  .colab-df-spinner {\n",
       "    border: 2px solid var(--fill-color);\n",
       "    border-color: transparent;\n",
       "    border-bottom-color: var(--fill-color);\n",
       "    animation:\n",
       "      spin 1s steps(1) infinite;\n",
       "  }\n",
       "\n",
       "  @keyframes spin {\n",
       "    0% {\n",
       "      border-color: transparent;\n",
       "      border-bottom-color: var(--fill-color);\n",
       "      border-left-color: var(--fill-color);\n",
       "    }\n",
       "    20% {\n",
       "      border-color: transparent;\n",
       "      border-left-color: var(--fill-color);\n",
       "      border-top-color: var(--fill-color);\n",
       "    }\n",
       "    30% {\n",
       "      border-color: transparent;\n",
       "      border-left-color: var(--fill-color);\n",
       "      border-top-color: var(--fill-color);\n",
       "      border-right-color: var(--fill-color);\n",
       "    }\n",
       "    40% {\n",
       "      border-color: transparent;\n",
       "      border-right-color: var(--fill-color);\n",
       "      border-top-color: var(--fill-color);\n",
       "    }\n",
       "    60% {\n",
       "      border-color: transparent;\n",
       "      border-right-color: var(--fill-color);\n",
       "    }\n",
       "    80% {\n",
       "      border-color: transparent;\n",
       "      border-right-color: var(--fill-color);\n",
       "      border-bottom-color: var(--fill-color);\n",
       "    }\n",
       "    90% {\n",
       "      border-color: transparent;\n",
       "      border-bottom-color: var(--fill-color);\n",
       "    }\n",
       "  }\n",
       "</style>\n",
       "\n",
       "  <script>\n",
       "    async function quickchart(key) {\n",
       "      const quickchartButtonEl =\n",
       "        document.querySelector('#' + key + ' button');\n",
       "      quickchartButtonEl.disabled = true;  // To prevent multiple clicks.\n",
       "      quickchartButtonEl.classList.add('colab-df-spinner');\n",
       "      try {\n",
       "        const charts = await google.colab.kernel.invokeFunction(\n",
       "            'suggestCharts', [key], {});\n",
       "      } catch (error) {\n",
       "        console.error('Error during call to suggestCharts:', error);\n",
       "      }\n",
       "      quickchartButtonEl.classList.remove('colab-df-spinner');\n",
       "      quickchartButtonEl.classList.add('colab-df-quickchart-complete');\n",
       "    }\n",
       "    (() => {\n",
       "      let quickchartButtonEl =\n",
       "        document.querySelector('#df-129280f7-bb88-455d-aab1-80070f9ee659 button');\n",
       "      quickchartButtonEl.style.display =\n",
       "        google.colab.kernel.accessAllowed ? 'block' : 'none';\n",
       "    })();\n",
       "  </script>\n",
       "</div>\n",
       "\n",
       "  <div id=\"id_8cc875c1-6ad0-44b7-a25f-eda8e66ecaab\">\n",
       "    <style>\n",
       "      .colab-df-generate {\n",
       "        background-color: #E8F0FE;\n",
       "        border: none;\n",
       "        border-radius: 50%;\n",
       "        cursor: pointer;\n",
       "        display: none;\n",
       "        fill: #1967D2;\n",
       "        height: 32px;\n",
       "        padding: 0 0 0 0;\n",
       "        width: 32px;\n",
       "      }\n",
       "\n",
       "      .colab-df-generate:hover {\n",
       "        background-color: #E2EBFA;\n",
       "        box-shadow: 0px 1px 2px rgba(60, 64, 67, 0.3), 0px 1px 3px 1px rgba(60, 64, 67, 0.15);\n",
       "        fill: #174EA6;\n",
       "      }\n",
       "\n",
       "      [theme=dark] .colab-df-generate {\n",
       "        background-color: #3B4455;\n",
       "        fill: #D2E3FC;\n",
       "      }\n",
       "\n",
       "      [theme=dark] .colab-df-generate:hover {\n",
       "        background-color: #434B5C;\n",
       "        box-shadow: 0px 1px 3px 1px rgba(0, 0, 0, 0.15);\n",
       "        filter: drop-shadow(0px 1px 2px rgba(0, 0, 0, 0.3));\n",
       "        fill: #FFFFFF;\n",
       "      }\n",
       "    </style>\n",
       "    <button class=\"colab-df-generate\" onclick=\"generateWithVariable('df')\"\n",
       "            title=\"Generate code using this dataframe.\"\n",
       "            style=\"display:none;\">\n",
       "\n",
       "  <svg xmlns=\"http://www.w3.org/2000/svg\" height=\"24px\"viewBox=\"0 0 24 24\"\n",
       "       width=\"24px\">\n",
       "    <path d=\"M7,19H8.4L18.45,9,17,7.55,7,17.6ZM5,21V16.75L18.45,3.32a2,2,0,0,1,2.83,0l1.4,1.43a1.91,1.91,0,0,1,.58,1.4,1.91,1.91,0,0,1-.58,1.4L9.25,21ZM18.45,9,17,7.55Zm-12,3A5.31,5.31,0,0,0,4.9,8.1,5.31,5.31,0,0,0,1,6.5,5.31,5.31,0,0,0,4.9,4.9,5.31,5.31,0,0,0,6.5,1,5.31,5.31,0,0,0,8.1,4.9,5.31,5.31,0,0,0,12,6.5,5.46,5.46,0,0,0,6.5,12Z\"/>\n",
       "  </svg>\n",
       "    </button>\n",
       "    <script>\n",
       "      (() => {\n",
       "      const buttonEl =\n",
       "        document.querySelector('#id_8cc875c1-6ad0-44b7-a25f-eda8e66ecaab button.colab-df-generate');\n",
       "      buttonEl.style.display =\n",
       "        google.colab.kernel.accessAllowed ? 'block' : 'none';\n",
       "\n",
       "      buttonEl.onclick = () => {\n",
       "        google.colab.notebook.generateWithVariable('df');\n",
       "      }\n",
       "      })();\n",
       "    </script>\n",
       "  </div>\n",
       "\n",
       "    </div>\n",
       "  </div>\n"
      ],
      "text/plain": [
       "                                                 tweet  sarcastic\n",
       "0    i looove getting 3 hours of sleep because two ...          1\n",
       "1    i hate people who use big words just to make t...          1\n",
       "2          i love that girl who never liked even my dp          1\n",
       "3              I hate that I wasted my whole weekend 😠          0\n",
       "4                                 i love being ignored          1\n",
       "..                                                 ...        ...\n",
       "217  I just absolutely LOVE how I've got to work ou...          1\n",
       "218  I absolutely love it when its pouring down wit...          1\n",
       "219  i just love everyone posting wholesome pics wi...          0\n",
       "220             I just love the smell of one million 😍          0\n",
       "221  I really love finishing my term with an period...          1\n",
       "\n",
       "[222 rows x 2 columns]"
      ]
     },
     "execution_count": 28,
     "metadata": {},
     "output_type": "execute_result"
    }
   ],
   "source": [
    "df = pd.DataFrame(columns=['tweet', 'sarcastic'])\n",
    "df['tweet'] = [x[0] for x in tweet_annotation_sentiment_distance]\n",
    "df['sarcastic'] = [x[1] for x in tweet_annotation_sentiment_distance]\n",
    "df"
   ]
  },
  {
   "cell_type": "code",
   "execution_count": null,
   "metadata": {
    "id": "afX17x9aWHuj"
   },
   "outputs": [],
   "source": [
    "df['prediction'] = None\n",
    "df['correct'] = None\n",
    "for i in range(df.shape[0]):\n",
    "  df.at[i, 'prediction'] = int(is_sarc(tweet_annotation_sentiment_distance[i][2], best_threshold))\n",
    "  df.at[i, 'correct'] = int(df.at[i, 'prediction'] == df.at[i, 'sarcastic'])"
   ]
  },
  {
   "cell_type": "code",
   "execution_count": null,
   "metadata": {
    "colab": {
     "base_uri": "https://localhost:8080/"
    },
    "executionInfo": {
     "elapsed": 4,
     "status": "ok",
     "timestamp": 1732716972113,
     "user": {
      "displayName": "Ivaylo Mitov",
      "userId": "02045773347946630217"
     },
     "user_tz": -60
    },
    "id": "czSkNtHiy-rm",
    "outputId": "777e81a2-5552-4b36-d335-1ae9856e60e0"
   },
   "outputs": [
    {
     "name": "stdout",
     "output_type": "stream",
     "text": [
      "p-value: 0.12683520863764908\n",
      "Test statistic: 0.8513513513513513\n",
      "BinomTestResult(k=189, n=222, alternative='greater', statistic=0.8513513513513513, pvalue=0.12683520863764908)\n"
     ]
    }
   ],
   "source": [
    "from scipy.stats import binomtest\n",
    "\n",
    "result = binomtest(sum(df['correct']), df.shape[0], np.mean(df['sarcastic']), alternative='greater')\n",
    "\n",
    "print(f\"p-value: {result.pvalue}\")\n",
    "print(f\"Test statistic: {result.statistic}\")\n",
    "print(result)"
   ]
  },
  {
   "cell_type": "code",
   "execution_count": null,
   "metadata": {
    "id": "GyKHbAUMy_BM"
   },
   "outputs": [],
   "source": [
    "df.at[df.shape[0]+1, 'correct'] = np.mean(df['correct'])\n",
    "df.at[df.shape[0], 'sarcastic'] = np.mean(df['sarcastic'])\n",
    "df.at[df.shape[0]+1, 'correct'] = f\"P-value: {round(result.pvalue, 3)}\""
   ]
  },
  {
   "cell_type": "code",
   "execution_count": null,
   "metadata": {
    "colab": {
     "base_uri": "https://localhost:8080/",
     "height": 423
    },
    "executionInfo": {
     "elapsed": 324,
     "status": "ok",
     "timestamp": 1732716979408,
     "user": {
      "displayName": "Ivaylo Mitov",
      "userId": "02045773347946630217"
     },
     "user_tz": -60
    },
    "id": "i1YAFAw6ojHR",
    "outputId": "bf1dfbb3-b5f5-40af-880f-24b6839ec2aa"
   },
   "outputs": [
    {
     "data": {
      "application/vnd.google.colaboratory.intrinsic+json": {
       "summary": "{\n  \"name\": \"df\",\n  \"rows\": 224,\n  \"fields\": [\n    {\n      \"column\": \"tweet\",\n      \"properties\": {\n        \"dtype\": \"string\",\n        \"num_unique_values\": 222,\n        \"samples\": [\n          \"love that the refs r making their presence known\",\n          \"Man I just love it when I'm forced to pitch two games back to back bc our other pitcher didn't show up\",\n          \"i love scary movies by myself\"\n        ],\n        \"semantic_type\": \"\",\n        \"description\": \"\"\n      }\n    },\n    {\n      \"column\": \"sarcastic\",\n      \"properties\": {\n        \"dtype\": \"number\",\n        \"std\": 0.38433745959822657,\n        \"min\": 0.0,\n        \"max\": 1.0,\n        \"num_unique_values\": 3,\n        \"samples\": [\n          1.0,\n          0.0,\n          0.8198198198198198\n        ],\n        \"semantic_type\": \"\",\n        \"description\": \"\"\n      }\n    },\n    {\n      \"column\": \"prediction\",\n      \"properties\": {\n        \"dtype\": \"date\",\n        \"min\": 0,\n        \"max\": 1,\n        \"num_unique_values\": 2,\n        \"samples\": [\n          0,\n          1\n        ],\n        \"semantic_type\": \"\",\n        \"description\": \"\"\n      }\n    },\n    {\n      \"column\": \"correct\",\n      \"properties\": {\n        \"dtype\": \"category\",\n        \"num_unique_values\": 4,\n        \"samples\": [\n          0,\n          \"P-value: 0.127\"\n        ],\n        \"semantic_type\": \"\",\n        \"description\": \"\"\n      }\n    }\n  ]\n}",
       "type": "dataframe",
       "variable_name": "df"
      },
      "text/html": [
       "\n",
       "  <div id=\"df-53cb9aae-c538-4c66-881d-0206591e38f5\" class=\"colab-df-container\">\n",
       "    <div>\n",
       "<style scoped>\n",
       "    .dataframe tbody tr th:only-of-type {\n",
       "        vertical-align: middle;\n",
       "    }\n",
       "\n",
       "    .dataframe tbody tr th {\n",
       "        vertical-align: top;\n",
       "    }\n",
       "\n",
       "    .dataframe thead th {\n",
       "        text-align: right;\n",
       "    }\n",
       "</style>\n",
       "<table border=\"1\" class=\"dataframe\">\n",
       "  <thead>\n",
       "    <tr style=\"text-align: right;\">\n",
       "      <th></th>\n",
       "      <th>tweet</th>\n",
       "      <th>sarcastic</th>\n",
       "      <th>prediction</th>\n",
       "      <th>correct</th>\n",
       "    </tr>\n",
       "  </thead>\n",
       "  <tbody>\n",
       "    <tr>\n",
       "      <th>0</th>\n",
       "      <td>i looove getting 3 hours of sleep because two ...</td>\n",
       "      <td>1.00000</td>\n",
       "      <td>1</td>\n",
       "      <td>1</td>\n",
       "    </tr>\n",
       "    <tr>\n",
       "      <th>1</th>\n",
       "      <td>i hate people who use big words just to make t...</td>\n",
       "      <td>1.00000</td>\n",
       "      <td>0</td>\n",
       "      <td>0</td>\n",
       "    </tr>\n",
       "    <tr>\n",
       "      <th>2</th>\n",
       "      <td>i love that girl who never liked even my dp</td>\n",
       "      <td>1.00000</td>\n",
       "      <td>1</td>\n",
       "      <td>1</td>\n",
       "    </tr>\n",
       "    <tr>\n",
       "      <th>3</th>\n",
       "      <td>I hate that I wasted my whole weekend 😠</td>\n",
       "      <td>0.00000</td>\n",
       "      <td>0</td>\n",
       "      <td>1</td>\n",
       "    </tr>\n",
       "    <tr>\n",
       "      <th>4</th>\n",
       "      <td>i love being ignored</td>\n",
       "      <td>1.00000</td>\n",
       "      <td>1</td>\n",
       "      <td>1</td>\n",
       "    </tr>\n",
       "    <tr>\n",
       "      <th>...</th>\n",
       "      <td>...</td>\n",
       "      <td>...</td>\n",
       "      <td>...</td>\n",
       "      <td>...</td>\n",
       "    </tr>\n",
       "    <tr>\n",
       "      <th>219</th>\n",
       "      <td>i just love everyone posting wholesome pics wi...</td>\n",
       "      <td>0.00000</td>\n",
       "      <td>1</td>\n",
       "      <td>0</td>\n",
       "    </tr>\n",
       "    <tr>\n",
       "      <th>220</th>\n",
       "      <td>I just love the smell of one million 😍</td>\n",
       "      <td>0.00000</td>\n",
       "      <td>0</td>\n",
       "      <td>1</td>\n",
       "    </tr>\n",
       "    <tr>\n",
       "      <th>221</th>\n",
       "      <td>I really love finishing my term with an period...</td>\n",
       "      <td>1.00000</td>\n",
       "      <td>1</td>\n",
       "      <td>1</td>\n",
       "    </tr>\n",
       "    <tr>\n",
       "      <th>223</th>\n",
       "      <td>NaN</td>\n",
       "      <td>0.81982</td>\n",
       "      <td>NaN</td>\n",
       "      <td>0.851351</td>\n",
       "    </tr>\n",
       "    <tr>\n",
       "      <th>224</th>\n",
       "      <td>NaN</td>\n",
       "      <td>NaN</td>\n",
       "      <td>NaN</td>\n",
       "      <td>P-value: 0.127</td>\n",
       "    </tr>\n",
       "  </tbody>\n",
       "</table>\n",
       "<p>224 rows × 4 columns</p>\n",
       "</div>\n",
       "    <div class=\"colab-df-buttons\">\n",
       "\n",
       "  <div class=\"colab-df-container\">\n",
       "    <button class=\"colab-df-convert\" onclick=\"convertToInteractive('df-53cb9aae-c538-4c66-881d-0206591e38f5')\"\n",
       "            title=\"Convert this dataframe to an interactive table.\"\n",
       "            style=\"display:none;\">\n",
       "\n",
       "  <svg xmlns=\"http://www.w3.org/2000/svg\" height=\"24px\" viewBox=\"0 -960 960 960\">\n",
       "    <path d=\"M120-120v-720h720v720H120Zm60-500h600v-160H180v160Zm220 220h160v-160H400v160Zm0 220h160v-160H400v160ZM180-400h160v-160H180v160Zm440 0h160v-160H620v160ZM180-180h160v-160H180v160Zm440 0h160v-160H620v160Z\"/>\n",
       "  </svg>\n",
       "    </button>\n",
       "\n",
       "  <style>\n",
       "    .colab-df-container {\n",
       "      display:flex;\n",
       "      gap: 12px;\n",
       "    }\n",
       "\n",
       "    .colab-df-convert {\n",
       "      background-color: #E8F0FE;\n",
       "      border: none;\n",
       "      border-radius: 50%;\n",
       "      cursor: pointer;\n",
       "      display: none;\n",
       "      fill: #1967D2;\n",
       "      height: 32px;\n",
       "      padding: 0 0 0 0;\n",
       "      width: 32px;\n",
       "    }\n",
       "\n",
       "    .colab-df-convert:hover {\n",
       "      background-color: #E2EBFA;\n",
       "      box-shadow: 0px 1px 2px rgba(60, 64, 67, 0.3), 0px 1px 3px 1px rgba(60, 64, 67, 0.15);\n",
       "      fill: #174EA6;\n",
       "    }\n",
       "\n",
       "    .colab-df-buttons div {\n",
       "      margin-bottom: 4px;\n",
       "    }\n",
       "\n",
       "    [theme=dark] .colab-df-convert {\n",
       "      background-color: #3B4455;\n",
       "      fill: #D2E3FC;\n",
       "    }\n",
       "\n",
       "    [theme=dark] .colab-df-convert:hover {\n",
       "      background-color: #434B5C;\n",
       "      box-shadow: 0px 1px 3px 1px rgba(0, 0, 0, 0.15);\n",
       "      filter: drop-shadow(0px 1px 2px rgba(0, 0, 0, 0.3));\n",
       "      fill: #FFFFFF;\n",
       "    }\n",
       "  </style>\n",
       "\n",
       "    <script>\n",
       "      const buttonEl =\n",
       "        document.querySelector('#df-53cb9aae-c538-4c66-881d-0206591e38f5 button.colab-df-convert');\n",
       "      buttonEl.style.display =\n",
       "        google.colab.kernel.accessAllowed ? 'block' : 'none';\n",
       "\n",
       "      async function convertToInteractive(key) {\n",
       "        const element = document.querySelector('#df-53cb9aae-c538-4c66-881d-0206591e38f5');\n",
       "        const dataTable =\n",
       "          await google.colab.kernel.invokeFunction('convertToInteractive',\n",
       "                                                    [key], {});\n",
       "        if (!dataTable) return;\n",
       "\n",
       "        const docLinkHtml = 'Like what you see? Visit the ' +\n",
       "          '<a target=\"_blank\" href=https://colab.research.google.com/notebooks/data_table.ipynb>data table notebook</a>'\n",
       "          + ' to learn more about interactive tables.';\n",
       "        element.innerHTML = '';\n",
       "        dataTable['output_type'] = 'display_data';\n",
       "        await google.colab.output.renderOutput(dataTable, element);\n",
       "        const docLink = document.createElement('div');\n",
       "        docLink.innerHTML = docLinkHtml;\n",
       "        element.appendChild(docLink);\n",
       "      }\n",
       "    </script>\n",
       "  </div>\n",
       "\n",
       "\n",
       "<div id=\"df-cfe3d189-e69f-4a05-bc60-1b7c5deff474\">\n",
       "  <button class=\"colab-df-quickchart\" onclick=\"quickchart('df-cfe3d189-e69f-4a05-bc60-1b7c5deff474')\"\n",
       "            title=\"Suggest charts\"\n",
       "            style=\"display:none;\">\n",
       "\n",
       "<svg xmlns=\"http://www.w3.org/2000/svg\" height=\"24px\"viewBox=\"0 0 24 24\"\n",
       "     width=\"24px\">\n",
       "    <g>\n",
       "        <path d=\"M19 3H5c-1.1 0-2 .9-2 2v14c0 1.1.9 2 2 2h14c1.1 0 2-.9 2-2V5c0-1.1-.9-2-2-2zM9 17H7v-7h2v7zm4 0h-2V7h2v10zm4 0h-2v-4h2v4z\"/>\n",
       "    </g>\n",
       "</svg>\n",
       "  </button>\n",
       "\n",
       "<style>\n",
       "  .colab-df-quickchart {\n",
       "      --bg-color: #E8F0FE;\n",
       "      --fill-color: #1967D2;\n",
       "      --hover-bg-color: #E2EBFA;\n",
       "      --hover-fill-color: #174EA6;\n",
       "      --disabled-fill-color: #AAA;\n",
       "      --disabled-bg-color: #DDD;\n",
       "  }\n",
       "\n",
       "  [theme=dark] .colab-df-quickchart {\n",
       "      --bg-color: #3B4455;\n",
       "      --fill-color: #D2E3FC;\n",
       "      --hover-bg-color: #434B5C;\n",
       "      --hover-fill-color: #FFFFFF;\n",
       "      --disabled-bg-color: #3B4455;\n",
       "      --disabled-fill-color: #666;\n",
       "  }\n",
       "\n",
       "  .colab-df-quickchart {\n",
       "    background-color: var(--bg-color);\n",
       "    border: none;\n",
       "    border-radius: 50%;\n",
       "    cursor: pointer;\n",
       "    display: none;\n",
       "    fill: var(--fill-color);\n",
       "    height: 32px;\n",
       "    padding: 0;\n",
       "    width: 32px;\n",
       "  }\n",
       "\n",
       "  .colab-df-quickchart:hover {\n",
       "    background-color: var(--hover-bg-color);\n",
       "    box-shadow: 0 1px 2px rgba(60, 64, 67, 0.3), 0 1px 3px 1px rgba(60, 64, 67, 0.15);\n",
       "    fill: var(--button-hover-fill-color);\n",
       "  }\n",
       "\n",
       "  .colab-df-quickchart-complete:disabled,\n",
       "  .colab-df-quickchart-complete:disabled:hover {\n",
       "    background-color: var(--disabled-bg-color);\n",
       "    fill: var(--disabled-fill-color);\n",
       "    box-shadow: none;\n",
       "  }\n",
       "\n",
       "  .colab-df-spinner {\n",
       "    border: 2px solid var(--fill-color);\n",
       "    border-color: transparent;\n",
       "    border-bottom-color: var(--fill-color);\n",
       "    animation:\n",
       "      spin 1s steps(1) infinite;\n",
       "  }\n",
       "\n",
       "  @keyframes spin {\n",
       "    0% {\n",
       "      border-color: transparent;\n",
       "      border-bottom-color: var(--fill-color);\n",
       "      border-left-color: var(--fill-color);\n",
       "    }\n",
       "    20% {\n",
       "      border-color: transparent;\n",
       "      border-left-color: var(--fill-color);\n",
       "      border-top-color: var(--fill-color);\n",
       "    }\n",
       "    30% {\n",
       "      border-color: transparent;\n",
       "      border-left-color: var(--fill-color);\n",
       "      border-top-color: var(--fill-color);\n",
       "      border-right-color: var(--fill-color);\n",
       "    }\n",
       "    40% {\n",
       "      border-color: transparent;\n",
       "      border-right-color: var(--fill-color);\n",
       "      border-top-color: var(--fill-color);\n",
       "    }\n",
       "    60% {\n",
       "      border-color: transparent;\n",
       "      border-right-color: var(--fill-color);\n",
       "    }\n",
       "    80% {\n",
       "      border-color: transparent;\n",
       "      border-right-color: var(--fill-color);\n",
       "      border-bottom-color: var(--fill-color);\n",
       "    }\n",
       "    90% {\n",
       "      border-color: transparent;\n",
       "      border-bottom-color: var(--fill-color);\n",
       "    }\n",
       "  }\n",
       "</style>\n",
       "\n",
       "  <script>\n",
       "    async function quickchart(key) {\n",
       "      const quickchartButtonEl =\n",
       "        document.querySelector('#' + key + ' button');\n",
       "      quickchartButtonEl.disabled = true;  // To prevent multiple clicks.\n",
       "      quickchartButtonEl.classList.add('colab-df-spinner');\n",
       "      try {\n",
       "        const charts = await google.colab.kernel.invokeFunction(\n",
       "            'suggestCharts', [key], {});\n",
       "      } catch (error) {\n",
       "        console.error('Error during call to suggestCharts:', error);\n",
       "      }\n",
       "      quickchartButtonEl.classList.remove('colab-df-spinner');\n",
       "      quickchartButtonEl.classList.add('colab-df-quickchart-complete');\n",
       "    }\n",
       "    (() => {\n",
       "      let quickchartButtonEl =\n",
       "        document.querySelector('#df-cfe3d189-e69f-4a05-bc60-1b7c5deff474 button');\n",
       "      quickchartButtonEl.style.display =\n",
       "        google.colab.kernel.accessAllowed ? 'block' : 'none';\n",
       "    })();\n",
       "  </script>\n",
       "</div>\n",
       "\n",
       "  <div id=\"id_a4577942-784d-4b6e-9781-06cd572b5c0e\">\n",
       "    <style>\n",
       "      .colab-df-generate {\n",
       "        background-color: #E8F0FE;\n",
       "        border: none;\n",
       "        border-radius: 50%;\n",
       "        cursor: pointer;\n",
       "        display: none;\n",
       "        fill: #1967D2;\n",
       "        height: 32px;\n",
       "        padding: 0 0 0 0;\n",
       "        width: 32px;\n",
       "      }\n",
       "\n",
       "      .colab-df-generate:hover {\n",
       "        background-color: #E2EBFA;\n",
       "        box-shadow: 0px 1px 2px rgba(60, 64, 67, 0.3), 0px 1px 3px 1px rgba(60, 64, 67, 0.15);\n",
       "        fill: #174EA6;\n",
       "      }\n",
       "\n",
       "      [theme=dark] .colab-df-generate {\n",
       "        background-color: #3B4455;\n",
       "        fill: #D2E3FC;\n",
       "      }\n",
       "\n",
       "      [theme=dark] .colab-df-generate:hover {\n",
       "        background-color: #434B5C;\n",
       "        box-shadow: 0px 1px 3px 1px rgba(0, 0, 0, 0.15);\n",
       "        filter: drop-shadow(0px 1px 2px rgba(0, 0, 0, 0.3));\n",
       "        fill: #FFFFFF;\n",
       "      }\n",
       "    </style>\n",
       "    <button class=\"colab-df-generate\" onclick=\"generateWithVariable('df')\"\n",
       "            title=\"Generate code using this dataframe.\"\n",
       "            style=\"display:none;\">\n",
       "\n",
       "  <svg xmlns=\"http://www.w3.org/2000/svg\" height=\"24px\"viewBox=\"0 0 24 24\"\n",
       "       width=\"24px\">\n",
       "    <path d=\"M7,19H8.4L18.45,9,17,7.55,7,17.6ZM5,21V16.75L18.45,3.32a2,2,0,0,1,2.83,0l1.4,1.43a1.91,1.91,0,0,1,.58,1.4,1.91,1.91,0,0,1-.58,1.4L9.25,21ZM18.45,9,17,7.55Zm-12,3A5.31,5.31,0,0,0,4.9,8.1,5.31,5.31,0,0,0,1,6.5,5.31,5.31,0,0,0,4.9,4.9,5.31,5.31,0,0,0,6.5,1,5.31,5.31,0,0,0,8.1,4.9,5.31,5.31,0,0,0,12,6.5,5.46,5.46,0,0,0,6.5,12Z\"/>\n",
       "  </svg>\n",
       "    </button>\n",
       "    <script>\n",
       "      (() => {\n",
       "      const buttonEl =\n",
       "        document.querySelector('#id_a4577942-784d-4b6e-9781-06cd572b5c0e button.colab-df-generate');\n",
       "      buttonEl.style.display =\n",
       "        google.colab.kernel.accessAllowed ? 'block' : 'none';\n",
       "\n",
       "      buttonEl.onclick = () => {\n",
       "        google.colab.notebook.generateWithVariable('df');\n",
       "      }\n",
       "      })();\n",
       "    </script>\n",
       "  </div>\n",
       "\n",
       "    </div>\n",
       "  </div>\n"
      ],
      "text/plain": [
       "                                                 tweet  sarcastic prediction  \\\n",
       "0    i looove getting 3 hours of sleep because two ...    1.00000          1   \n",
       "1    i hate people who use big words just to make t...    1.00000          0   \n",
       "2          i love that girl who never liked even my dp    1.00000          1   \n",
       "3              I hate that I wasted my whole weekend 😠    0.00000          0   \n",
       "4                                 i love being ignored    1.00000          1   \n",
       "..                                                 ...        ...        ...   \n",
       "219  i just love everyone posting wholesome pics wi...    0.00000          1   \n",
       "220             I just love the smell of one million 😍    0.00000          0   \n",
       "221  I really love finishing my term with an period...    1.00000          1   \n",
       "223                                                NaN    0.81982        NaN   \n",
       "224                                                NaN        NaN        NaN   \n",
       "\n",
       "            correct  \n",
       "0                 1  \n",
       "1                 0  \n",
       "2                 1  \n",
       "3                 1  \n",
       "4                 1  \n",
       "..              ...  \n",
       "219               0  \n",
       "220               1  \n",
       "221               1  \n",
       "223        0.851351  \n",
       "224  P-value: 0.127  \n",
       "\n",
       "[224 rows x 4 columns]"
      ]
     },
     "execution_count": 32,
     "metadata": {},
     "output_type": "execute_result"
    }
   ],
   "source": [
    "df"
   ]
  },
  {
   "cell_type": "code",
   "execution_count": null,
   "metadata": {
    "id": "kQKvqEXCbRrG"
   },
   "outputs": [],
   "source": [
    "df.to_csv('exp4_results_27112024.csv', index=False)"
   ]
  },
  {
   "cell_type": "code",
   "execution_count": 15,
   "metadata": {
    "colab": {
     "base_uri": "https://localhost:8080/",
     "height": 564
    },
    "executionInfo": {
     "elapsed": 636,
     "status": "ok",
     "timestamp": 1732917694113,
     "user": {
      "displayName": "Ivaylo Mitov",
      "userId": "02045773347946630217"
     },
     "user_tz": -60
    },
    "id": "QMuM3oMV8MsE",
    "outputId": "2e0c53d8-f863-4c67-9925-e146aa32d4ed"
   },
   "outputs": [
    {
     "data": {
      "image/png": "[encoded data removed]",
      "text/plain": [
       "<Figure size 1000x600 with 1 Axes>"
      ]
     },
     "metadata": {},
     "output_type": "display_data"
    }
   ],
   "source": [
    "# Example data\n",
    "data = [x[2] for x in tweet_annotation_sentiment_distance]\n",
    "labels = [x[1] for x in tweet_annotation_sentiment_distance]  # 0 for red, 1 for blue\n",
    "threshold = 0.132\n",
    "\n",
    "# Separate colors based on labels\n",
    "colors = ['red' if label == 0 else 'blue' for label in labels]\n",
    "\n",
    "# Plotting\n",
    "plt.figure(figsize=(10, 6))\n",
    "plt.scatter(range(len(data)), data, color=colors, label='Data Points')\n",
    "plt.axhline(y=threshold, color='green', linestyle='--', label=f'Threshold = {threshold}')\n",
    "plt.xlabel('Index')\n",
    "plt.ylabel('Value')\n",
    "plt.title('Data Points Colored by Label with Threshold')\n",
    "plt.legend(handles=[\n",
    "    plt.Line2D([0], [0], color='red', marker='o', linestyle='None', label='Label 0'),\n",
    "    plt.Line2D([0], [0], color='blue', marker='o', linestyle='None', label='Label 1'),\n",
    "    plt.Line2D([0], [0], color='green', linestyle='--', label=f'Threshold = {threshold}')\n",
    "])\n",
    "plt.grid()\n",
    "plt.show()"
   ]
  },
  {
   "cell_type": "markdown",
   "metadata": {
    "id": "RXrkoykzx32o"
   },
   "source": [
    "# Rule-based Sarcasm Interpreter"
   ]
  },
  {
   "cell_type": "code",
   "execution_count": null,
   "metadata": {
    "id": "4pztqOJwHFbQ"
   },
   "outputs": [],
   "source": [
    "#Final sarcasm classification function for when we have established the best threshold\n",
    "def interpret_sarcasm(tweet, verb, noun_phrase, threshold=0.528):\n",
    "    tweet_sentiment = classify_sentiment(tweet)\n",
    "    tweet_no_v_sentiment = classify_sentiment(tweet.replace(verb, \"\"))\n",
    "    tweet_no_np_sentiment = classify_sentiment(tweet.replace(noun_phrase, \"\"))\n",
    "    v_sentiment = tweet_sentiment - tweet_no_v_sentiment\n",
    "    np_sentiment = tweet_sentiment - tweet_no_np_sentiment\n",
    "\n",
    "    if np.linalg.norm(v_sentiment - np_sentiment)/6.3885164 > threshold:\n",
    "      return negator.negate_sentence(tweet)\n",
    "    else:\n",
    "      return \"The tweet is not sarcastic.\""
   ]
  },
  {
   "cell_type": "code",
   "execution_count": null,
   "metadata": {
    "id": "qNxydZoD-8qA"
   },
   "outputs": [],
   "source": [
    "#TEST!!!!!!!!!!!!!!!!!!!!!!!!!!\n",
    "#Final sarcasm classification function for when we have established the best threshold\n",
    "def interpret_sarcasm(tweet, verb, noun_phrase, threshold=0.528):\n",
    "    tweet_sentiment = classify_sentiment(tweet)\n",
    "    tweet_no_v_sentiment = classify_sentiment(tweet.replace(verb, \"\"))\n",
    "    tweet_no_np_sentiment = classify_sentiment(tweet.replace(noun_phrase, \"\"))\n",
    "    v_sentiment = tweet_sentiment - tweet_no_v_sentiment\n",
    "    np_sentiment = tweet_sentiment - tweet_no_np_sentiment\n",
    "\n",
    "    if np.linalg.norm(v_sentiment - np_sentiment)/6.3885164 > threshold:\n",
    "      tweet_no_np = tweet.replace(noun_phrase, \"\")\n",
    "      negated_part = negator.negate_sentence(tweet_no_np)\n",
    "      return negated_part + \" \" + noun_phrase\n",
    "    else:\n",
    "      return \"The tweet is not sarcastic.\""
   ]
  }
 ],
 "metadata": {
  "colab": {
   "collapsed_sections": [
    "RXrkoykzx32o"
   ],
   "name": "",
   "provenance": [
    {
     "file_id": "1UWDNYCrnazWxfZ4Lh16g3lQt9KoXSa0k",
     "timestamp": 1729265331715
    }
   ],
   "version": ""
  },
  "kernelspec": {
   "display_name": "Python 3",
   "name": "python3"
  },
  "language_info": {
   "name": "python"
  }
 },
 "nbformat": 4,
 "nbformat_minor": 0
}
