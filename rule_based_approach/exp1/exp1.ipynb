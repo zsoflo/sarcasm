{
 "cells": [
  {
   "cell_type": "markdown",
   "metadata": {
    "id": "PFWFPXgzCCqX"
   },
   "source": [
    "# Installs and Imports"
   ]
  },
  {
   "cell_type": "code",
   "execution_count": 1,
   "metadata": {
    "colab": {
     "base_uri": "https://localhost:8080/"
    },
    "executionInfo": {
     "elapsed": 40171,
     "status": "ok",
     "timestamp": 1733005449481,
     "user": {
      "displayName": "Ivaylo Mitov",
      "userId": "02045773347946630217"
     },
     "user_tz": -60
    },
    "id": "rveTO7nGJPIa",
    "outputId": "7a10d172-3e29-46b6-c156-7ebeb92e6d0b"
   },
   "outputs": [
    {
     "name": "stdout",
     "output_type": "stream",
     "text": [
      "Requirement already satisfied: transformers in /usr/local/lib/python3.10/dist-packages (4.46.2)\n",
      "Requirement already satisfied: filelock in /usr/local/lib/python3.10/dist-packages (from transformers) (3.16.1)\n",
      "Requirement already satisfied: huggingface-hub<1.0,>=0.23.2 in /usr/local/lib/python3.10/dist-packages (from transformers) (0.26.2)\n",
      "Requirement already satisfied: numpy>=1.17 in /usr/local/lib/python3.10/dist-packages (from transformers) (1.26.4)\n",
      "Requirement already satisfied: packaging>=20.0 in /usr/local/lib/python3.10/dist-packages (from transformers) (24.2)\n",
      "Requirement already satisfied: pyyaml>=5.1 in /usr/local/lib/python3.10/dist-packages (from transformers) (6.0.2)\n",
      "Requirement already satisfied: regex!=2019.12.17 in /usr/local/lib/python3.10/dist-packages (from transformers) (2024.9.11)\n",
      "Requirement already satisfied: requests in /usr/local/lib/python3.10/dist-packages (from transformers) (2.32.3)\n",
      "Requirement already satisfied: safetensors>=0.4.1 in /usr/local/lib/python3.10/dist-packages (from transformers) (0.4.5)\n",
      "Requirement already satisfied: tokenizers<0.21,>=0.20 in /usr/local/lib/python3.10/dist-packages (from transformers) (0.20.3)\n",
      "Requirement already satisfied: tqdm>=4.27 in /usr/local/lib/python3.10/dist-packages (from transformers) (4.66.6)\n",
      "Requirement already satisfied: fsspec>=2023.5.0 in /usr/local/lib/python3.10/dist-packages (from huggingface-hub<1.0,>=0.23.2->transformers) (2024.10.0)\n",
      "Requirement already satisfied: typing-extensions>=3.7.4.3 in /usr/local/lib/python3.10/dist-packages (from huggingface-hub<1.0,>=0.23.2->transformers) (4.12.2)\n",
      "Requirement already satisfied: charset-normalizer<4,>=2 in /usr/local/lib/python3.10/dist-packages (from requests->transformers) (3.4.0)\n",
      "Requirement already satisfied: idna<4,>=2.5 in /usr/local/lib/python3.10/dist-packages (from requests->transformers) (3.10)\n",
      "Requirement already satisfied: urllib3<3,>=1.21.1 in /usr/local/lib/python3.10/dist-packages (from requests->transformers) (2.2.3)\n",
      "Requirement already satisfied: certifi>=2017.4.17 in /usr/local/lib/python3.10/dist-packages (from requests->transformers) (2024.8.30)\n",
      "Requirement already satisfied: torch in /usr/local/lib/python3.10/dist-packages (2.5.1+cu121)\n",
      "Requirement already satisfied: torchvision in /usr/local/lib/python3.10/dist-packages (0.20.1+cu121)\n",
      "Requirement already satisfied: torchaudio in /usr/local/lib/python3.10/dist-packages (2.5.1+cu121)\n",
      "Requirement already satisfied: filelock in /usr/local/lib/python3.10/dist-packages (from torch) (3.16.1)\n",
      "Requirement already satisfied: typing-extensions>=4.8.0 in /usr/local/lib/python3.10/dist-packages (from torch) (4.12.2)\n",
      "Requirement already satisfied: networkx in /usr/local/lib/python3.10/dist-packages (from torch) (3.4.2)\n",
      "Requirement already satisfied: jinja2 in /usr/local/lib/python3.10/dist-packages (from torch) (3.1.4)\n",
      "Requirement already satisfied: fsspec in /usr/local/lib/python3.10/dist-packages (from torch) (2024.10.0)\n",
      "Requirement already satisfied: sympy==1.13.1 in /usr/local/lib/python3.10/dist-packages (from torch) (1.13.1)\n",
      "Requirement already satisfied: mpmath<1.4,>=1.1.0 in /usr/local/lib/python3.10/dist-packages (from sympy==1.13.1->torch) (1.3.0)\n",
      "Requirement already satisfied: numpy in /usr/local/lib/python3.10/dist-packages (from torchvision) (1.26.4)\n",
      "Requirement already satisfied: pillow!=8.3.*,>=5.3.0 in /usr/local/lib/python3.10/dist-packages (from torchvision) (11.0.0)\n",
      "Requirement already satisfied: MarkupSafe>=2.0 in /usr/local/lib/python3.10/dist-packages (from jinja2->torch) (3.0.2)\n",
      "Collecting stanza\n",
      "  Downloading stanza-1.9.2-py3-none-any.whl.metadata (13 kB)\n",
      "Collecting emoji (from stanza)\n",
      "  Downloading emoji-2.14.0-py3-none-any.whl.metadata (5.7 kB)\n",
      "Requirement already satisfied: numpy in /usr/local/lib/python3.10/dist-packages (from stanza) (1.26.4)\n",
      "Requirement already satisfied: protobuf>=3.15.0 in /usr/local/lib/python3.10/dist-packages (from stanza) (4.25.5)\n",
      "Requirement already satisfied: requests in /usr/local/lib/python3.10/dist-packages (from stanza) (2.32.3)\n",
      "Requirement already satisfied: networkx in /usr/local/lib/python3.10/dist-packages (from stanza) (3.4.2)\n",
      "Requirement already satisfied: torch>=1.3.0 in /usr/local/lib/python3.10/dist-packages (from stanza) (2.5.1+cu121)\n",
      "Requirement already satisfied: tqdm in /usr/local/lib/python3.10/dist-packages (from stanza) (4.66.6)\n",
      "Requirement already satisfied: tomli in /usr/local/lib/python3.10/dist-packages (from stanza) (2.1.0)\n",
      "Requirement already satisfied: filelock in /usr/local/lib/python3.10/dist-packages (from torch>=1.3.0->stanza) (3.16.1)\n",
      "Requirement already satisfied: typing-extensions>=4.8.0 in /usr/local/lib/python3.10/dist-packages (from torch>=1.3.0->stanza) (4.12.2)\n",
      "Requirement already satisfied: jinja2 in /usr/local/lib/python3.10/dist-packages (from torch>=1.3.0->stanza) (3.1.4)\n",
      "Requirement already satisfied: fsspec in /usr/local/lib/python3.10/dist-packages (from torch>=1.3.0->stanza) (2024.10.0)\n",
      "Requirement already satisfied: sympy==1.13.1 in /usr/local/lib/python3.10/dist-packages (from torch>=1.3.0->stanza) (1.13.1)\n",
      "Requirement already satisfied: mpmath<1.4,>=1.1.0 in /usr/local/lib/python3.10/dist-packages (from sympy==1.13.1->torch>=1.3.0->stanza) (1.3.0)\n",
      "Requirement already satisfied: charset-normalizer<4,>=2 in /usr/local/lib/python3.10/dist-packages (from requests->stanza) (3.4.0)\n",
      "Requirement already satisfied: idna<4,>=2.5 in /usr/local/lib/python3.10/dist-packages (from requests->stanza) (3.10)\n",
      "Requirement already satisfied: urllib3<3,>=1.21.1 in /usr/local/lib/python3.10/dist-packages (from requests->stanza) (2.2.3)\n",
      "Requirement already satisfied: certifi>=2017.4.17 in /usr/local/lib/python3.10/dist-packages (from requests->stanza) (2024.8.30)\n",
      "Requirement already satisfied: MarkupSafe>=2.0 in /usr/local/lib/python3.10/dist-packages (from jinja2->torch>=1.3.0->stanza) (3.0.2)\n",
      "Downloading stanza-1.9.2-py3-none-any.whl (1.1 MB)\n",
      "\u001b[2K   \u001b[90m━━━━━━━━━━━━━━━━━━━━━━━━━━━━━━━━━━━━━━━━\u001b[0m \u001b[32m1.1/1.1 MB\u001b[0m \u001b[31m14.9 MB/s\u001b[0m eta \u001b[36m0:00:00\u001b[0m\n",
      "\u001b[?25hDownloading emoji-2.14.0-py3-none-any.whl (586 kB)\n",
      "\u001b[2K   \u001b[90m━━━━━━━━━━━━━━━━━━━━━━━━━━━━━━━━━━━━━━━━\u001b[0m \u001b[32m586.9/586.9 kB\u001b[0m \u001b[31m23.0 MB/s\u001b[0m eta \u001b[36m0:00:00\u001b[0m\n",
      "\u001b[?25hInstalling collected packages: emoji, stanza\n",
      "Successfully installed emoji-2.14.0 stanza-1.9.2\n",
      "Collecting negate==1.1.3\n",
      "  Downloading negate-1.1.3-py3-none-any.whl.metadata (22 kB)\n",
      "Collecting lemminflect<0.3.0,>=0.2.3 (from negate==1.1.3)\n",
      "  Downloading lemminflect-0.2.3-py3-none-any.whl.metadata (7.0 kB)\n",
      "Requirement already satisfied: spacy<3.8.0,>=3.6.1 in /usr/local/lib/python3.10/dist-packages (from negate==1.1.3) (3.7.5)\n",
      "Requirement already satisfied: numpy in /usr/local/lib/python3.10/dist-packages (from lemminflect<0.3.0,>=0.2.3->negate==1.1.3) (1.26.4)\n",
      "Requirement already satisfied: spacy-legacy<3.1.0,>=3.0.11 in /usr/local/lib/python3.10/dist-packages (from spacy<3.8.0,>=3.6.1->negate==1.1.3) (3.0.12)\n",
      "Requirement already satisfied: spacy-loggers<2.0.0,>=1.0.0 in /usr/local/lib/python3.10/dist-packages (from spacy<3.8.0,>=3.6.1->negate==1.1.3) (1.0.5)\n",
      "Requirement already satisfied: murmurhash<1.1.0,>=0.28.0 in /usr/local/lib/python3.10/dist-packages (from spacy<3.8.0,>=3.6.1->negate==1.1.3) (1.0.10)\n",
      "Requirement already satisfied: cymem<2.1.0,>=2.0.2 in /usr/local/lib/python3.10/dist-packages (from spacy<3.8.0,>=3.6.1->negate==1.1.3) (2.0.8)\n",
      "Requirement already satisfied: preshed<3.1.0,>=3.0.2 in /usr/local/lib/python3.10/dist-packages (from spacy<3.8.0,>=3.6.1->negate==1.1.3) (3.0.9)\n",
      "Requirement already satisfied: thinc<8.3.0,>=8.2.2 in /usr/local/lib/python3.10/dist-packages (from spacy<3.8.0,>=3.6.1->negate==1.1.3) (8.2.5)\n",
      "Requirement already satisfied: wasabi<1.2.0,>=0.9.1 in /usr/local/lib/python3.10/dist-packages (from spacy<3.8.0,>=3.6.1->negate==1.1.3) (1.1.3)\n",
      "Requirement already satisfied: srsly<3.0.0,>=2.4.3 in /usr/local/lib/python3.10/dist-packages (from spacy<3.8.0,>=3.6.1->negate==1.1.3) (2.4.8)\n",
      "Requirement already satisfied: catalogue<2.1.0,>=2.0.6 in /usr/local/lib/python3.10/dist-packages (from spacy<3.8.0,>=3.6.1->negate==1.1.3) (2.0.10)\n",
      "Requirement already satisfied: weasel<0.5.0,>=0.1.0 in /usr/local/lib/python3.10/dist-packages (from spacy<3.8.0,>=3.6.1->negate==1.1.3) (0.4.1)\n",
      "Requirement already satisfied: typer<1.0.0,>=0.3.0 in /usr/local/lib/python3.10/dist-packages (from spacy<3.8.0,>=3.6.1->negate==1.1.3) (0.13.0)\n",
      "Requirement already satisfied: tqdm<5.0.0,>=4.38.0 in /usr/local/lib/python3.10/dist-packages (from spacy<3.8.0,>=3.6.1->negate==1.1.3) (4.66.6)\n",
      "Requirement already satisfied: requests<3.0.0,>=2.13.0 in /usr/local/lib/python3.10/dist-packages (from spacy<3.8.0,>=3.6.1->negate==1.1.3) (2.32.3)\n",
      "Requirement already satisfied: pydantic!=1.8,!=1.8.1,<3.0.0,>=1.7.4 in /usr/local/lib/python3.10/dist-packages (from spacy<3.8.0,>=3.6.1->negate==1.1.3) (2.9.2)\n",
      "Requirement already satisfied: jinja2 in /usr/local/lib/python3.10/dist-packages (from spacy<3.8.0,>=3.6.1->negate==1.1.3) (3.1.4)\n",
      "Requirement already satisfied: setuptools in /usr/local/lib/python3.10/dist-packages (from spacy<3.8.0,>=3.6.1->negate==1.1.3) (75.1.0)\n",
      "Requirement already satisfied: packaging>=20.0 in /usr/local/lib/python3.10/dist-packages (from spacy<3.8.0,>=3.6.1->negate==1.1.3) (24.2)\n",
      "Requirement already satisfied: langcodes<4.0.0,>=3.2.0 in /usr/local/lib/python3.10/dist-packages (from spacy<3.8.0,>=3.6.1->negate==1.1.3) (3.4.1)\n",
      "Requirement already satisfied: language-data>=1.2 in /usr/local/lib/python3.10/dist-packages (from langcodes<4.0.0,>=3.2.0->spacy<3.8.0,>=3.6.1->negate==1.1.3) (1.2.0)\n",
      "Requirement already satisfied: annotated-types>=0.6.0 in /usr/local/lib/python3.10/dist-packages (from pydantic!=1.8,!=1.8.1,<3.0.0,>=1.7.4->spacy<3.8.0,>=3.6.1->negate==1.1.3) (0.7.0)\n",
      "Requirement already satisfied: pydantic-core==2.23.4 in /usr/local/lib/python3.10/dist-packages (from pydantic!=1.8,!=1.8.1,<3.0.0,>=1.7.4->spacy<3.8.0,>=3.6.1->negate==1.1.3) (2.23.4)\n",
      "Requirement already satisfied: typing-extensions>=4.6.1 in /usr/local/lib/python3.10/dist-packages (from pydantic!=1.8,!=1.8.1,<3.0.0,>=1.7.4->spacy<3.8.0,>=3.6.1->negate==1.1.3) (4.12.2)\n",
      "Requirement already satisfied: charset-normalizer<4,>=2 in /usr/local/lib/python3.10/dist-packages (from requests<3.0.0,>=2.13.0->spacy<3.8.0,>=3.6.1->negate==1.1.3) (3.4.0)\n",
      "Requirement already satisfied: idna<4,>=2.5 in /usr/local/lib/python3.10/dist-packages (from requests<3.0.0,>=2.13.0->spacy<3.8.0,>=3.6.1->negate==1.1.3) (3.10)\n",
      "Requirement already satisfied: urllib3<3,>=1.21.1 in /usr/local/lib/python3.10/dist-packages (from requests<3.0.0,>=2.13.0->spacy<3.8.0,>=3.6.1->negate==1.1.3) (2.2.3)\n",
      "Requirement already satisfied: certifi>=2017.4.17 in /usr/local/lib/python3.10/dist-packages (from requests<3.0.0,>=2.13.0->spacy<3.8.0,>=3.6.1->negate==1.1.3) (2024.8.30)\n",
      "Requirement already satisfied: blis<0.8.0,>=0.7.8 in /usr/local/lib/python3.10/dist-packages (from thinc<8.3.0,>=8.2.2->spacy<3.8.0,>=3.6.1->negate==1.1.3) (0.7.11)\n",
      "Requirement already satisfied: confection<1.0.0,>=0.0.1 in /usr/local/lib/python3.10/dist-packages (from thinc<8.3.0,>=8.2.2->spacy<3.8.0,>=3.6.1->negate==1.1.3) (0.1.5)\n",
      "Requirement already satisfied: click>=8.0.0 in /usr/local/lib/python3.10/dist-packages (from typer<1.0.0,>=0.3.0->spacy<3.8.0,>=3.6.1->negate==1.1.3) (8.1.7)\n",
      "Requirement already satisfied: shellingham>=1.3.0 in /usr/local/lib/python3.10/dist-packages (from typer<1.0.0,>=0.3.0->spacy<3.8.0,>=3.6.1->negate==1.1.3) (1.5.4)\n",
      "Requirement already satisfied: rich>=10.11.0 in /usr/local/lib/python3.10/dist-packages (from typer<1.0.0,>=0.3.0->spacy<3.8.0,>=3.6.1->negate==1.1.3) (13.9.4)\n",
      "Requirement already satisfied: cloudpathlib<1.0.0,>=0.7.0 in /usr/local/lib/python3.10/dist-packages (from weasel<0.5.0,>=0.1.0->spacy<3.8.0,>=3.6.1->negate==1.1.3) (0.20.0)\n",
      "Requirement already satisfied: smart-open<8.0.0,>=5.2.1 in /usr/local/lib/python3.10/dist-packages (from weasel<0.5.0,>=0.1.0->spacy<3.8.0,>=3.6.1->negate==1.1.3) (7.0.5)\n",
      "Requirement already satisfied: MarkupSafe>=2.0 in /usr/local/lib/python3.10/dist-packages (from jinja2->spacy<3.8.0,>=3.6.1->negate==1.1.3) (3.0.2)\n",
      "Requirement already satisfied: marisa-trie>=0.7.7 in /usr/local/lib/python3.10/dist-packages (from language-data>=1.2->langcodes<4.0.0,>=3.2.0->spacy<3.8.0,>=3.6.1->negate==1.1.3) (1.2.1)\n",
      "Requirement already satisfied: markdown-it-py>=2.2.0 in /usr/local/lib/python3.10/dist-packages (from rich>=10.11.0->typer<1.0.0,>=0.3.0->spacy<3.8.0,>=3.6.1->negate==1.1.3) (3.0.0)\n",
      "Requirement already satisfied: pygments<3.0.0,>=2.13.0 in /usr/local/lib/python3.10/dist-packages (from rich>=10.11.0->typer<1.0.0,>=0.3.0->spacy<3.8.0,>=3.6.1->negate==1.1.3) (2.18.0)\n",
      "Requirement already satisfied: wrapt in /usr/local/lib/python3.10/dist-packages (from smart-open<8.0.0,>=5.2.1->weasel<0.5.0,>=0.1.0->spacy<3.8.0,>=3.6.1->negate==1.1.3) (1.16.0)\n",
      "Requirement already satisfied: mdurl~=0.1 in /usr/local/lib/python3.10/dist-packages (from markdown-it-py>=2.2.0->rich>=10.11.0->typer<1.0.0,>=0.3.0->spacy<3.8.0,>=3.6.1->negate==1.1.3) (0.1.2)\n",
      "Downloading negate-1.1.3-py3-none-any.whl (23 kB)\n",
      "Downloading lemminflect-0.2.3-py3-none-any.whl (769 kB)\n",
      "\u001b[2K   \u001b[90m━━━━━━━━━━━━━━━━━━━━━━━━━━━━━━━━━━━━━━━━\u001b[0m \u001b[32m769.7/769.7 kB\u001b[0m \u001b[31m13.9 MB/s\u001b[0m eta \u001b[36m0:00:00\u001b[0m\n",
      "\u001b[?25hInstalling collected packages: lemminflect, negate\n",
      "Successfully installed lemminflect-0.2.3 negate-1.1.3\n"
     ]
    }
   ],
   "source": [
    "!pip install transformers\n",
    "!pip install torch torchvision torchaudio\n",
    "!pip install stanza\n",
    "!pip install negate==1.1.3"
   ]
  },
  {
   "cell_type": "code",
   "execution_count": 2,
   "metadata": {
    "executionInfo": {
     "elapsed": 22213,
     "status": "ok",
     "timestamp": 1733005471688,
     "user": {
      "displayName": "Ivaylo Mitov",
      "userId": "02045773347946630217"
     },
     "user_tz": -60
    },
    "id": "jOf03Vl3EJHw"
   },
   "outputs": [],
   "source": [
    "import numpy as np\n",
    "import pandas as pd\n",
    "\n",
    "from transformers import AutoModelForSequenceClassification\n",
    "from transformers import TFAutoModelForSequenceClassification\n",
    "from transformers import AutoTokenizer, AutoConfig\n",
    "import stanza\n",
    "from negate import Negator"
   ]
  },
  {
   "cell_type": "markdown",
   "metadata": {
    "id": "vT-KRCdjvPOH"
   },
   "source": [
    "# Load Data and Models"
   ]
  },
  {
   "cell_type": "markdown",
   "metadata": {
    "id": "boD5KWWtva2p"
   },
   "source": [
    "## Tweet Data"
   ]
  },
  {
   "cell_type": "code",
   "execution_count": null,
   "metadata": {
    "id": "TQ7NLUDwvSy0"
   },
   "outputs": [],
   "source": [
    "file_name = \"exp1.csv\"\n",
    "df = pd.read_csv(file_name)"
   ]
  },
  {
   "cell_type": "code",
   "execution_count": null,
   "metadata": {
    "colab": {
     "base_uri": "https://localhost:8080/",
     "height": 423
    },
    "executionInfo": {
     "elapsed": 223,
     "status": "ok",
     "timestamp": 1732975246852,
     "user": {
      "displayName": "Ivaylo Mitov",
      "userId": "02045773347946630217"
     },
     "user_tz": -60
    },
    "id": "r6O6jzc4iawR",
    "outputId": "d74e6ee2-788c-4789-e0bb-a4c78786ec60"
   },
   "outputs": [
    {
     "data": {
      "application/vnd.google.colaboratory.intrinsic+json": {
       "summary": "{\n  \"name\": \"df\",\n  \"rows\": 131,\n  \"fields\": [\n    {\n      \"column\": \"ID\",\n      \"properties\": {\n        \"dtype\": \"number\",\n        \"std\": 6011,\n        \"min\": 76,\n        \"max\": 19885,\n        \"num_unique_values\": 131,\n        \"samples\": [\n          11488,\n          16329,\n          4516\n        ],\n        \"semantic_type\": \"\",\n        \"description\": \"\"\n      }\n    },\n    {\n      \"column\": \"original_ID\",\n      \"properties\": {\n        \"dtype\": \"string\",\n        \"num_unique_values\": 131,\n        \"samples\": [\n          \"sign_12131\",\n          \"sign_2253\",\n          \"sign_12208\"\n        ],\n        \"semantic_type\": \"\",\n        \"description\": \"\"\n      }\n    },\n    {\n      \"column\": \"tweet\",\n      \"properties\": {\n        \"dtype\": \"string\",\n        \"num_unique_values\": 131,\n        \"samples\": [\n          \"i love texting people something important and them not texting me back\",\n          \"i love when my commute consists of people unable to drive while on phones esp when trying to take off my bumper in a parking lot\",\n          \"i love how the summer's eve feminine wash commercial focuses on a guy who's insecure about his masculinity\"\n        ],\n        \"semantic_type\": \"\",\n        \"description\": \"\"\n      }\n    },\n    {\n      \"column\": \"sarcastic\",\n      \"properties\": {\n        \"dtype\": \"number\",\n        \"std\": 0,\n        \"min\": 0,\n        \"max\": 1,\n        \"num_unique_values\": 2,\n        \"samples\": [\n          0,\n          1\n        ],\n        \"semantic_type\": \"\",\n        \"description\": \"\"\n      }\n    },\n    {\n      \"column\": \"rephrase\",\n      \"properties\": {\n        \"dtype\": \"string\",\n        \"num_unique_values\": 100,\n        \"samples\": [\n          \"i hate driving all day\",\n          \"nebraska's primary next week will not be relevant at all\"\n        ],\n        \"semantic_type\": \"\",\n        \"description\": \"\"\n      }\n    }\n  ]\n}",
       "type": "dataframe",
       "variable_name": "df"
      },
      "text/html": [
       "\n",
       "  <div id=\"df-9e3adbc1-90a0-4e02-90d7-6742d9aef17c\" class=\"colab-df-container\">\n",
       "    <div>\n",
       "<style scoped>\n",
       "    .dataframe tbody tr th:only-of-type {\n",
       "        vertical-align: middle;\n",
       "    }\n",
       "\n",
       "    .dataframe tbody tr th {\n",
       "        vertical-align: top;\n",
       "    }\n",
       "\n",
       "    .dataframe thead th {\n",
       "        text-align: right;\n",
       "    }\n",
       "</style>\n",
       "<table border=\"1\" class=\"dataframe\">\n",
       "  <thead>\n",
       "    <tr style=\"text-align: right;\">\n",
       "      <th></th>\n",
       "      <th>ID</th>\n",
       "      <th>original_ID</th>\n",
       "      <th>tweet</th>\n",
       "      <th>sarcastic</th>\n",
       "      <th>rephrase</th>\n",
       "    </tr>\n",
       "  </thead>\n",
       "  <tbody>\n",
       "    <tr>\n",
       "      <th>0</th>\n",
       "      <td>6440</td>\n",
       "      <td>sign_6941</td>\n",
       "      <td>i looove getting 3 hours of sleep because two ...</td>\n",
       "      <td>1</td>\n",
       "      <td>i hate getting 3 hours of sleep because two jobs</td>\n",
       "    </tr>\n",
       "    <tr>\n",
       "      <th>1</th>\n",
       "      <td>12874</td>\n",
       "      <td>sign_12479</td>\n",
       "      <td>i hate people who use big words just to make t...</td>\n",
       "      <td>1</td>\n",
       "      <td>i hate people who use big words just to make t...</td>\n",
       "    </tr>\n",
       "    <tr>\n",
       "      <th>2</th>\n",
       "      <td>4295</td>\n",
       "      <td>sign_12125</td>\n",
       "      <td>i love that girl who never liked even my dp</td>\n",
       "      <td>1</td>\n",
       "      <td>i love that girl who never liked even my dp</td>\n",
       "    </tr>\n",
       "    <tr>\n",
       "      <th>3</th>\n",
       "      <td>4147</td>\n",
       "      <td>train_2222</td>\n",
       "      <td>I hate that I wasted my whole weekend 😠</td>\n",
       "      <td>0</td>\n",
       "      <td>NaN</td>\n",
       "    </tr>\n",
       "    <tr>\n",
       "      <th>4</th>\n",
       "      <td>11437</td>\n",
       "      <td>sign_5017</td>\n",
       "      <td>i love being ignored</td>\n",
       "      <td>1</td>\n",
       "      <td>i hate being ignored</td>\n",
       "    </tr>\n",
       "    <tr>\n",
       "      <th>...</th>\n",
       "      <td>...</td>\n",
       "      <td>...</td>\n",
       "      <td>...</td>\n",
       "      <td>...</td>\n",
       "      <td>...</td>\n",
       "    </tr>\n",
       "    <tr>\n",
       "      <th>126</th>\n",
       "      <td>5211</td>\n",
       "      <td>train_682</td>\n",
       "      <td>i love 6 hour panic attacks</td>\n",
       "      <td>1</td>\n",
       "      <td>I don't like having 6-hour panic attacks.</td>\n",
       "    </tr>\n",
       "    <tr>\n",
       "      <th>127</th>\n",
       "      <td>19299</td>\n",
       "      <td>train_2654</td>\n",
       "      <td>I LOVE LORDE GOODNIGHT</td>\n",
       "      <td>0</td>\n",
       "      <td>NaN</td>\n",
       "    </tr>\n",
       "    <tr>\n",
       "      <th>128</th>\n",
       "      <td>7159</td>\n",
       "      <td>train_2825</td>\n",
       "      <td>i LOVE grocery shopping</td>\n",
       "      <td>0</td>\n",
       "      <td>NaN</td>\n",
       "    </tr>\n",
       "    <tr>\n",
       "      <th>129</th>\n",
       "      <td>13743</td>\n",
       "      <td>train_2657</td>\n",
       "      <td>i love video games</td>\n",
       "      <td>0</td>\n",
       "      <td>NaN</td>\n",
       "    </tr>\n",
       "    <tr>\n",
       "      <th>130</th>\n",
       "      <td>6082</td>\n",
       "      <td>train_2408</td>\n",
       "      <td>@OfficialPLT I'd love to get some awesome acti...</td>\n",
       "      <td>0</td>\n",
       "      <td>NaN</td>\n",
       "    </tr>\n",
       "  </tbody>\n",
       "</table>\n",
       "<p>131 rows × 5 columns</p>\n",
       "</div>\n",
       "    <div class=\"colab-df-buttons\">\n",
       "\n",
       "  <div class=\"colab-df-container\">\n",
       "    <button class=\"colab-df-convert\" onclick=\"convertToInteractive('df-9e3adbc1-90a0-4e02-90d7-6742d9aef17c')\"\n",
       "            title=\"Convert this dataframe to an interactive table.\"\n",
       "            style=\"display:none;\">\n",
       "\n",
       "  <svg xmlns=\"http://www.w3.org/2000/svg\" height=\"24px\" viewBox=\"0 -960 960 960\">\n",
       "    <path d=\"M120-120v-720h720v720H120Zm60-500h600v-160H180v160Zm220 220h160v-160H400v160Zm0 220h160v-160H400v160ZM180-400h160v-160H180v160Zm440 0h160v-160H620v160ZM180-180h160v-160H180v160Zm440 0h160v-160H620v160Z\"/>\n",
       "  </svg>\n",
       "    </button>\n",
       "\n",
       "  <style>\n",
       "    .colab-df-container {\n",
       "      display:flex;\n",
       "      gap: 12px;\n",
       "    }\n",
       "\n",
       "    .colab-df-convert {\n",
       "      background-color: #E8F0FE;\n",
       "      border: none;\n",
       "      border-radius: 50%;\n",
       "      cursor: pointer;\n",
       "      display: none;\n",
       "      fill: #1967D2;\n",
       "      height: 32px;\n",
       "      padding: 0 0 0 0;\n",
       "      width: 32px;\n",
       "    }\n",
       "\n",
       "    .colab-df-convert:hover {\n",
       "      background-color: #E2EBFA;\n",
       "      box-shadow: 0px 1px 2px rgba(60, 64, 67, 0.3), 0px 1px 3px 1px rgba(60, 64, 67, 0.15);\n",
       "      fill: #174EA6;\n",
       "    }\n",
       "\n",
       "    .colab-df-buttons div {\n",
       "      margin-bottom: 4px;\n",
       "    }\n",
       "\n",
       "    [theme=dark] .colab-df-convert {\n",
       "      background-color: #3B4455;\n",
       "      fill: #D2E3FC;\n",
       "    }\n",
       "\n",
       "    [theme=dark] .colab-df-convert:hover {\n",
       "      background-color: #434B5C;\n",
       "      box-shadow: 0px 1px 3px 1px rgba(0, 0, 0, 0.15);\n",
       "      filter: drop-shadow(0px 1px 2px rgba(0, 0, 0, 0.3));\n",
       "      fill: #FFFFFF;\n",
       "    }\n",
       "  </style>\n",
       "\n",
       "    <script>\n",
       "      const buttonEl =\n",
       "        document.querySelector('#df-9e3adbc1-90a0-4e02-90d7-6742d9aef17c button.colab-df-convert');\n",
       "      buttonEl.style.display =\n",
       "        google.colab.kernel.accessAllowed ? 'block' : 'none';\n",
       "\n",
       "      async function convertToInteractive(key) {\n",
       "        const element = document.querySelector('#df-9e3adbc1-90a0-4e02-90d7-6742d9aef17c');\n",
       "        const dataTable =\n",
       "          await google.colab.kernel.invokeFunction('convertToInteractive',\n",
       "                                                    [key], {});\n",
       "        if (!dataTable) return;\n",
       "\n",
       "        const docLinkHtml = 'Like what you see? Visit the ' +\n",
       "          '<a target=\"_blank\" href=https://colab.research.google.com/notebooks/data_table.ipynb>data table notebook</a>'\n",
       "          + ' to learn more about interactive tables.';\n",
       "        element.innerHTML = '';\n",
       "        dataTable['output_type'] = 'display_data';\n",
       "        await google.colab.output.renderOutput(dataTable, element);\n",
       "        const docLink = document.createElement('div');\n",
       "        docLink.innerHTML = docLinkHtml;\n",
       "        element.appendChild(docLink);\n",
       "      }\n",
       "    </script>\n",
       "  </div>\n",
       "\n",
       "\n",
       "<div id=\"df-dac983b2-fa1f-4406-ba57-588b3c8c72fc\">\n",
       "  <button class=\"colab-df-quickchart\" onclick=\"quickchart('df-dac983b2-fa1f-4406-ba57-588b3c8c72fc')\"\n",
       "            title=\"Suggest charts\"\n",
       "            style=\"display:none;\">\n",
       "\n",
       "<svg xmlns=\"http://www.w3.org/2000/svg\" height=\"24px\"viewBox=\"0 0 24 24\"\n",
       "     width=\"24px\">\n",
       "    <g>\n",
       "        <path d=\"M19 3H5c-1.1 0-2 .9-2 2v14c0 1.1.9 2 2 2h14c1.1 0 2-.9 2-2V5c0-1.1-.9-2-2-2zM9 17H7v-7h2v7zm4 0h-2V7h2v10zm4 0h-2v-4h2v4z\"/>\n",
       "    </g>\n",
       "</svg>\n",
       "  </button>\n",
       "\n",
       "<style>\n",
       "  .colab-df-quickchart {\n",
       "      --bg-color: #E8F0FE;\n",
       "      --fill-color: #1967D2;\n",
       "      --hover-bg-color: #E2EBFA;\n",
       "      --hover-fill-color: #174EA6;\n",
       "      --disabled-fill-color: #AAA;\n",
       "      --disabled-bg-color: #DDD;\n",
       "  }\n",
       "\n",
       "  [theme=dark] .colab-df-quickchart {\n",
       "      --bg-color: #3B4455;\n",
       "      --fill-color: #D2E3FC;\n",
       "      --hover-bg-color: #434B5C;\n",
       "      --hover-fill-color: #FFFFFF;\n",
       "      --disabled-bg-color: #3B4455;\n",
       "      --disabled-fill-color: #666;\n",
       "  }\n",
       "\n",
       "  .colab-df-quickchart {\n",
       "    background-color: var(--bg-color);\n",
       "    border: none;\n",
       "    border-radius: 50%;\n",
       "    cursor: pointer;\n",
       "    display: none;\n",
       "    fill: var(--fill-color);\n",
       "    height: 32px;\n",
       "    padding: 0;\n",
       "    width: 32px;\n",
       "  }\n",
       "\n",
       "  .colab-df-quickchart:hover {\n",
       "    background-color: var(--hover-bg-color);\n",
       "    box-shadow: 0 1px 2px rgba(60, 64, 67, 0.3), 0 1px 3px 1px rgba(60, 64, 67, 0.15);\n",
       "    fill: var(--button-hover-fill-color);\n",
       "  }\n",
       "\n",
       "  .colab-df-quickchart-complete:disabled,\n",
       "  .colab-df-quickchart-complete:disabled:hover {\n",
       "    background-color: var(--disabled-bg-color);\n",
       "    fill: var(--disabled-fill-color);\n",
       "    box-shadow: none;\n",
       "  }\n",
       "\n",
       "  .colab-df-spinner {\n",
       "    border: 2px solid var(--fill-color);\n",
       "    border-color: transparent;\n",
       "    border-bottom-color: var(--fill-color);\n",
       "    animation:\n",
       "      spin 1s steps(1) infinite;\n",
       "  }\n",
       "\n",
       "  @keyframes spin {\n",
       "    0% {\n",
       "      border-color: transparent;\n",
       "      border-bottom-color: var(--fill-color);\n",
       "      border-left-color: var(--fill-color);\n",
       "    }\n",
       "    20% {\n",
       "      border-color: transparent;\n",
       "      border-left-color: var(--fill-color);\n",
       "      border-top-color: var(--fill-color);\n",
       "    }\n",
       "    30% {\n",
       "      border-color: transparent;\n",
       "      border-left-color: var(--fill-color);\n",
       "      border-top-color: var(--fill-color);\n",
       "      border-right-color: var(--fill-color);\n",
       "    }\n",
       "    40% {\n",
       "      border-color: transparent;\n",
       "      border-right-color: var(--fill-color);\n",
       "      border-top-color: var(--fill-color);\n",
       "    }\n",
       "    60% {\n",
       "      border-color: transparent;\n",
       "      border-right-color: var(--fill-color);\n",
       "    }\n",
       "    80% {\n",
       "      border-color: transparent;\n",
       "      border-right-color: var(--fill-color);\n",
       "      border-bottom-color: var(--fill-color);\n",
       "    }\n",
       "    90% {\n",
       "      border-color: transparent;\n",
       "      border-bottom-color: var(--fill-color);\n",
       "    }\n",
       "  }\n",
       "</style>\n",
       "\n",
       "  <script>\n",
       "    async function quickchart(key) {\n",
       "      const quickchartButtonEl =\n",
       "        document.querySelector('#' + key + ' button');\n",
       "      quickchartButtonEl.disabled = true;  // To prevent multiple clicks.\n",
       "      quickchartButtonEl.classList.add('colab-df-spinner');\n",
       "      try {\n",
       "        const charts = await google.colab.kernel.invokeFunction(\n",
       "            'suggestCharts', [key], {});\n",
       "      } catch (error) {\n",
       "        console.error('Error during call to suggestCharts:', error);\n",
       "      }\n",
       "      quickchartButtonEl.classList.remove('colab-df-spinner');\n",
       "      quickchartButtonEl.classList.add('colab-df-quickchart-complete');\n",
       "    }\n",
       "    (() => {\n",
       "      let quickchartButtonEl =\n",
       "        document.querySelector('#df-dac983b2-fa1f-4406-ba57-588b3c8c72fc button');\n",
       "      quickchartButtonEl.style.display =\n",
       "        google.colab.kernel.accessAllowed ? 'block' : 'none';\n",
       "    })();\n",
       "  </script>\n",
       "</div>\n",
       "\n",
       "  <div id=\"id_f6e0cc11-039e-4d85-ac9f-19e564abe78f\">\n",
       "    <style>\n",
       "      .colab-df-generate {\n",
       "        background-color: #E8F0FE;\n",
       "        border: none;\n",
       "        border-radius: 50%;\n",
       "        cursor: pointer;\n",
       "        display: none;\n",
       "        fill: #1967D2;\n",
       "        height: 32px;\n",
       "        padding: 0 0 0 0;\n",
       "        width: 32px;\n",
       "      }\n",
       "\n",
       "      .colab-df-generate:hover {\n",
       "        background-color: #E2EBFA;\n",
       "        box-shadow: 0px 1px 2px rgba(60, 64, 67, 0.3), 0px 1px 3px 1px rgba(60, 64, 67, 0.15);\n",
       "        fill: #174EA6;\n",
       "      }\n",
       "\n",
       "      [theme=dark] .colab-df-generate {\n",
       "        background-color: #3B4455;\n",
       "        fill: #D2E3FC;\n",
       "      }\n",
       "\n",
       "      [theme=dark] .colab-df-generate:hover {\n",
       "        background-color: #434B5C;\n",
       "        box-shadow: 0px 1px 3px 1px rgba(0, 0, 0, 0.15);\n",
       "        filter: drop-shadow(0px 1px 2px rgba(0, 0, 0, 0.3));\n",
       "        fill: #FFFFFF;\n",
       "      }\n",
       "    </style>\n",
       "    <button class=\"colab-df-generate\" onclick=\"generateWithVariable('df')\"\n",
       "            title=\"Generate code using this dataframe.\"\n",
       "            style=\"display:none;\">\n",
       "\n",
       "  <svg xmlns=\"http://www.w3.org/2000/svg\" height=\"24px\"viewBox=\"0 0 24 24\"\n",
       "       width=\"24px\">\n",
       "    <path d=\"M7,19H8.4L18.45,9,17,7.55,7,17.6ZM5,21V16.75L18.45,3.32a2,2,0,0,1,2.83,0l1.4,1.43a1.91,1.91,0,0,1,.58,1.4,1.91,1.91,0,0,1-.58,1.4L9.25,21ZM18.45,9,17,7.55Zm-12,3A5.31,5.31,0,0,0,4.9,8.1,5.31,5.31,0,0,0,1,6.5,5.31,5.31,0,0,0,4.9,4.9,5.31,5.31,0,0,0,6.5,1,5.31,5.31,0,0,0,8.1,4.9,5.31,5.31,0,0,0,12,6.5,5.46,5.46,0,0,0,6.5,12Z\"/>\n",
       "  </svg>\n",
       "    </button>\n",
       "    <script>\n",
       "      (() => {\n",
       "      const buttonEl =\n",
       "        document.querySelector('#id_f6e0cc11-039e-4d85-ac9f-19e564abe78f button.colab-df-generate');\n",
       "      buttonEl.style.display =\n",
       "        google.colab.kernel.accessAllowed ? 'block' : 'none';\n",
       "\n",
       "      buttonEl.onclick = () => {\n",
       "        google.colab.notebook.generateWithVariable('df');\n",
       "      }\n",
       "      })();\n",
       "    </script>\n",
       "  </div>\n",
       "\n",
       "    </div>\n",
       "  </div>\n"
      ],
      "text/plain": [
       "        ID original_ID                                              tweet  \\\n",
       "0     6440   sign_6941  i looove getting 3 hours of sleep because two ...   \n",
       "1    12874  sign_12479  i hate people who use big words just to make t...   \n",
       "2     4295  sign_12125        i love that girl who never liked even my dp   \n",
       "3     4147  train_2222            I hate that I wasted my whole weekend 😠   \n",
       "4    11437   sign_5017                               i love being ignored   \n",
       "..     ...         ...                                                ...   \n",
       "126   5211   train_682                        i love 6 hour panic attacks   \n",
       "127  19299  train_2654                             I LOVE LORDE GOODNIGHT   \n",
       "128   7159  train_2825                            i LOVE grocery shopping   \n",
       "129  13743  train_2657                                 i love video games   \n",
       "130   6082  train_2408  @OfficialPLT I'd love to get some awesome acti...   \n",
       "\n",
       "     sarcastic                                           rephrase  \n",
       "0            1   i hate getting 3 hours of sleep because two jobs  \n",
       "1            1  i hate people who use big words just to make t...  \n",
       "2            1        i love that girl who never liked even my dp  \n",
       "3            0                                                NaN  \n",
       "4            1                               i hate being ignored  \n",
       "..         ...                                                ...  \n",
       "126          1          I don't like having 6-hour panic attacks.  \n",
       "127          0                                                NaN  \n",
       "128          0                                                NaN  \n",
       "129          0                                                NaN  \n",
       "130          0                                                NaN  \n",
       "\n",
       "[131 rows x 5 columns]"
      ]
     },
     "execution_count": 6,
     "metadata": {},
     "output_type": "execute_result"
    }
   ],
   "source": [
    "df"
   ]
  },
  {
   "cell_type": "markdown",
   "metadata": {
    "id": "_f41OeK2vgm2"
   },
   "source": [
    "## Sentiment Classifier"
   ]
  },
  {
   "cell_type": "code",
   "execution_count": 3,
   "metadata": {
    "colab": {
     "base_uri": "https://localhost:8080/",
     "height": 359,
     "referenced_widgets": [
      "e5e6d30b11c0493c9b6fe50912584963",
      "8c5a02d737284426bc590f9060e20251",
      "d5d0876c84a742deb2af72b59c35a8ff",
      "09c3822ffc914e70ad3310037eaf0950",
      "15c1a890fa8a442d84a22b9cd054dc78",
      "feeb6f2e7ad441499b9e5ce26477ab5e",
      "b31d3bc4752c462086f5bcf75af3cd19",
      "54ad99c901a344188b07960bce3fe1e2",
      "9befa9ea64ba4daf8763b1e37caf2fe4",
      "f89be3840a904c73869483fd27f08917",
      "1ea20c81b9cd416c9ca83c40ffef97b3",
      "c527f6e512534917b1fe89c23ce94db6",
      "3abea2eaddd34de4b7f30655ead03e2c",
      "02fb5b1a3e8c467797ac1f1dfb547e92",
      "b1f78bc2faed43d69e0a3389962d2999",
      "17f8346ffaa84e0a8851ac0b1480d864",
      "8b35622a0c444626bc6dcb760a989fd6",
      "f1f7b272996b47038c1ae24ff41b641f",
      "0aa4a7cb46f648cbaecbe8660149b07a",
      "01216c4d0d804953b2bef24beecac656",
      "1e948373f82d49f1b975b6770c46da1b",
      "fe8a0d566ab846de9517ea83131d68d3",
      "12c64213fc0c42b2a6ea375dbe8364c9",
      "7c583719a5cb49d481ed20feeaf34759",
      "fc2b57ec050149e3903ab07fc2999a6a",
      "186c36bdd38f4837a64f466b29d96bfb",
      "99cd8f72d45c4af3adee51eea277abe9",
      "6c3d892d57694cd08269047d22938b79",
      "41f4acec429b4f82b3f8a91b397534a9",
      "a570d0cfde5c464b88148ee099aeb6b5",
      "3401eb9724dd400897b6d59590bbe196",
      "1554239c68a84a2690cfe770d116698d",
      "25acad459c4046e5a7d6c1ed1795852e",
      "718a1adf30b940bfb3dd83348846164d",
      "252e12b6b02e44688990c70e15a74448",
      "20f573c564bc4102a5f08f0722a3b698",
      "92e237f8b270440ea6cde1cdf942ad17",
      "b8145850ddcb432e831420f4ed476b1a",
      "00e93677b3d5459886cdfa20b390492b",
      "f0f1491ebde34df2aa321751fbe40d71",
      "5f2fddfdb0204c7a8dbefb8f644f7d40",
      "3ec4053124544222b730d4594b2618a7",
      "1896f5c727ca4b77bf37907c501e9922",
      "1b9a10d53aa349a8ba8e952be500f70b",
      "7bee0f919c9a4f9b9d0d5b3c2d026abc",
      "181aad804dea41b98b87b22fcaaba90b",
      "cbadadeea8114da89b973352a3ac1fab",
      "1741d921c58f4504a7b0d854cb70e8a0",
      "012e11f99add4f8ea68722593039d8fb",
      "a9aa6da0742c47ffbb129cd6f2d4ee44",
      "83092b80cd18434a8a2e795c4aac0eb8",
      "85ea733adede43b1838575fe1bfa1efb",
      "b8885f311f4841e5a098e9a8894be575",
      "0fe0e724a82e477bbd94fc256b3aa660",
      "5c828a0b12ff4069bb35b5de32318763"
     ]
    },
    "executionInfo": {
     "elapsed": 48540,
     "status": "ok",
     "timestamp": 1733005520221,
     "user": {
      "displayName": "Ivaylo Mitov",
      "userId": "02045773347946630217"
     },
     "user_tz": -60
    },
    "id": "zypF0sOrJC41",
    "outputId": "340b1fb4-c3f9-48f3-c4b6-5a3923b90d0f"
   },
   "outputs": [
    {
     "name": "stderr",
     "output_type": "stream",
     "text": [
      "/usr/local/lib/python3.10/dist-packages/huggingface_hub/utils/_auth.py:94: UserWarning: \n",
      "The secret `HF_TOKEN` does not exist in your Colab secrets.\n",
      "To authenticate with the Hugging Face Hub, create a token in your settings tab (https://huggingface.co/settings/tokens), set it as secret in your Google Colab and restart your session.\n",
      "You will be able to reuse this secret in all of your notebooks.\n",
      "Please note that authentication is recommended but still optional to access public models or datasets.\n",
      "  warnings.warn(\n"
     ]
    },
    {
     "data": {
      "application/vnd.jupyter.widget-view+json": {
       "model_id": "e5e6d30b11c0493c9b6fe50912584963",
       "version_major": 2,
       "version_minor": 0
      },
      "text/plain": [
       "config.json:   0%|          | 0.00/929 [00:00<?, ?B/s]"
      ]
     },
     "metadata": {},
     "output_type": "display_data"
    },
    {
     "data": {
      "application/vnd.jupyter.widget-view+json": {
       "model_id": "c527f6e512534917b1fe89c23ce94db6",
       "version_major": 2,
       "version_minor": 0
      },
      "text/plain": [
       "vocab.json:   0%|          | 0.00/899k [00:00<?, ?B/s]"
      ]
     },
     "metadata": {},
     "output_type": "display_data"
    },
    {
     "data": {
      "application/vnd.jupyter.widget-view+json": {
       "model_id": "12c64213fc0c42b2a6ea375dbe8364c9",
       "version_major": 2,
       "version_minor": 0
      },
      "text/plain": [
       "merges.txt:   0%|          | 0.00/456k [00:00<?, ?B/s]"
      ]
     },
     "metadata": {},
     "output_type": "display_data"
    },
    {
     "data": {
      "application/vnd.jupyter.widget-view+json": {
       "model_id": "718a1adf30b940bfb3dd83348846164d",
       "version_major": 2,
       "version_minor": 0
      },
      "text/plain": [
       "special_tokens_map.json:   0%|          | 0.00/239 [00:00<?, ?B/s]"
      ]
     },
     "metadata": {},
     "output_type": "display_data"
    },
    {
     "data": {
      "application/vnd.jupyter.widget-view+json": {
       "model_id": "7bee0f919c9a4f9b9d0d5b3c2d026abc",
       "version_major": 2,
       "version_minor": 0
      },
      "text/plain": [
       "pytorch_model.bin:   0%|          | 0.00/501M [00:00<?, ?B/s]"
      ]
     },
     "metadata": {},
     "output_type": "display_data"
    },
    {
     "name": "stderr",
     "output_type": "stream",
     "text": [
      "Some weights of the model checkpoint at cardiffnlp/twitter-roberta-base-sentiment-latest were not used when initializing RobertaForSequenceClassification: ['roberta.pooler.dense.bias', 'roberta.pooler.dense.weight']\n",
      "- This IS expected if you are initializing RobertaForSequenceClassification from the checkpoint of a model trained on another task or with another architecture (e.g. initializing a BertForSequenceClassification model from a BertForPreTraining model).\n",
      "- This IS NOT expected if you are initializing RobertaForSequenceClassification from the checkpoint of a model that you expect to be exactly identical (initializing a BertForSequenceClassification model from a BertForSequenceClassification model).\n"
     ]
    }
   ],
   "source": [
    "MODEL = f\"cardiffnlp/twitter-roberta-base-sentiment-latest\"\n",
    "tokenizer = AutoTokenizer.from_pretrained(MODEL)\n",
    "config = AutoConfig.from_pretrained(MODEL)\n",
    "model = AutoModelForSequenceClassification.from_pretrained(MODEL)\n",
    "\n",
    "def classify_sentiment(text) :\n",
    "    encoded_input = tokenizer(text, return_tensors='pt')\n",
    "    output = model(**encoded_input)\n",
    "    scores = output[0][0].detach().numpy()\n",
    "    # [ negative, neutral, positive ]\n",
    "    return scores"
   ]
  },
  {
   "cell_type": "code",
   "execution_count": 17,
   "metadata": {
    "colab": {
     "base_uri": "https://localhost:8080/"
    },
    "executionInfo": {
     "elapsed": 169,
     "status": "ok",
     "timestamp": 1733005759066,
     "user": {
      "displayName": "Ivaylo Mitov",
      "userId": "02045773347946630217"
     },
     "user_tz": -60
    },
    "id": "tVvirlmvLEj8",
    "outputId": "5dc18ba4-ddbc-4637-ecf8-c35cad9cd50d"
   },
   "outputs": [
    {
     "data": {
      "text/plain": [
       "array([ 0.18265271, -0.2767488 , -0.16453004], dtype=float32)"
      ]
     },
     "execution_count": 17,
     "metadata": {},
     "output_type": "execute_result"
    }
   ],
   "source": [
    "classify_sentiment(\"love crowded buses\")"
   ]
  },
  {
   "cell_type": "code",
   "execution_count": 18,
   "metadata": {
    "colab": {
     "base_uri": "https://localhost:8080/"
    },
    "executionInfo": {
     "elapsed": 891,
     "status": "ok",
     "timestamp": 1733005765054,
     "user": {
      "displayName": "Ivaylo Mitov",
      "userId": "02045773347946630217"
     },
     "user_tz": -60
    },
    "id": "5-jQQkHPL0FX",
    "outputId": "6e63f92f-215e-44cd-c15f-81b6fda9746e"
   },
   "outputs": [
    {
     "data": {
      "text/plain": [
       "array([ 1.4201158, -0.4067169, -0.8671002], dtype=float32)"
      ]
     },
     "execution_count": 18,
     "metadata": {},
     "output_type": "execute_result"
    }
   ],
   "source": [
    "classify_sentiment(\"love crowded buses\") - classify_sentiment(\"love\")"
   ]
  },
  {
   "cell_type": "code",
   "execution_count": 19,
   "metadata": {
    "colab": {
     "base_uri": "https://localhost:8080/"
    },
    "executionInfo": {
     "elapsed": 192,
     "status": "ok",
     "timestamp": 1733005771629,
     "user": {
      "displayName": "Ivaylo Mitov",
      "userId": "02045773347946630217"
     },
     "user_tz": -60
    },
    "id": "upeZbTVdLV8V",
    "outputId": "6514df22-25d1-41ff-d221-9a5579aaaace"
   },
   "outputs": [
    {
     "data": {
      "text/plain": [
       "array([ 0.20244329,  1.0098774 , -1.4467493 ], dtype=float32)"
      ]
     },
     "execution_count": 19,
     "metadata": {},
     "output_type": "execute_result"
    }
   ],
   "source": [
    "classify_sentiment(\"crowded buses\")"
   ]
  },
  {
   "cell_type": "code",
   "execution_count": 12,
   "metadata": {
    "colab": {
     "base_uri": "https://localhost:8080/"
    },
    "executionInfo": {
     "elapsed": 167,
     "status": "ok",
     "timestamp": 1733005616886,
     "user": {
      "displayName": "Ivaylo Mitov",
      "userId": "02045773347946630217"
     },
     "user_tz": -60
    },
    "id": "Gighn7OtLVKJ",
    "outputId": "bef78f88-cb7f-48f8-dccb-9cf1eb776541"
   },
   "outputs": [
    {
     "data": {
      "text/plain": [
       "array([-1.2374631 ,  0.1299681 ,  0.70257014], dtype=float32)"
      ]
     },
     "execution_count": 12,
     "metadata": {},
     "output_type": "execute_result"
    }
   ],
   "source": [
    "classify_sentiment(\"love\")"
   ]
  },
  {
   "cell_type": "code",
   "execution_count": null,
   "metadata": {
    "colab": {
     "base_uri": "https://localhost:8080/"
    },
    "executionInfo": {
     "elapsed": 340,
     "status": "ok",
     "timestamp": 1732916855910,
     "user": {
      "displayName": "Ivaylo Mitov",
      "userId": "02045773347946630217"
     },
     "user_tz": -60
    },
    "id": "0hmd7GS85AwX",
    "outputId": "9ea0f0cf-3d45-4d87-d962-62b2befa8ca9"
   },
   "outputs": [
    {
     "data": {
      "text/plain": [
       "array([-1.7222316 , -0.05902784,  1.4061106 ], dtype=float32)"
      ]
     },
     "execution_count": 7,
     "metadata": {},
     "output_type": "execute_result"
    }
   ],
   "source": [
    "classify_sentiment(\"I love\")"
   ]
  },
  {
   "cell_type": "code",
   "execution_count": null,
   "metadata": {
    "colab": {
     "base_uri": "https://localhost:8080/"
    },
    "executionInfo": {
     "elapsed": 376,
     "status": "ok",
     "timestamp": 1732916985027,
     "user": {
      "displayName": "Ivaylo Mitov",
      "userId": "02045773347946630217"
     },
     "user_tz": -60
    },
    "id": "taVwdBSi5qRo",
    "outputId": "59a94c7c-81b5-493f-d2e2-bddf33473f02"
   },
   "outputs": [
    {
     "data": {
      "text/plain": [
       "array([-1.5054053 , -0.03644516,  1.0730698 ], dtype=float32)"
      ]
     },
     "execution_count": 22,
     "metadata": {},
     "output_type": "execute_result"
    }
   ],
   "source": [
    "classify_sentiment(\"Love\")"
   ]
  },
  {
   "cell_type": "code",
   "execution_count": null,
   "metadata": {
    "colab": {
     "base_uri": "https://localhost:8080/"
    },
    "executionInfo": {
     "elapsed": 442,
     "status": "ok",
     "timestamp": 1732918934035,
     "user": {
      "displayName": "Ivaylo Mitov",
      "userId": "02045773347946630217"
     },
     "user_tz": -60
    },
    "id": "g-_Q1GViBGPu",
    "outputId": "9079ec77-e4b1-4ba4-d68c-b06aed993b55"
   },
   "outputs": [
    {
     "data": {
      "text/plain": [
       "array([-1.2374631 ,  0.1299681 ,  0.70257014], dtype=float32)"
      ]
     },
     "execution_count": 23,
     "metadata": {},
     "output_type": "execute_result"
    }
   ],
   "source": [
    "classify_sentiment(\"love\")"
   ]
  },
  {
   "cell_type": "code",
   "execution_count": null,
   "metadata": {
    "colab": {
     "base_uri": "https://localhost:8080/"
    },
    "executionInfo": {
     "elapsed": 162,
     "status": "ok",
     "timestamp": 1732916958891,
     "user": {
      "displayName": "Ivaylo Mitov",
      "userId": "02045773347946630217"
     },
     "user_tz": -60
    },
    "id": "wPNKtsoG5kPI",
    "outputId": "3a3457ab-e618-4111-94f4-b3a64fbb4772"
   },
   "outputs": [
    {
     "data": {
      "text/plain": [
       "array([ 0.8649555,  0.05784  , -1.175291 ], dtype=float32)"
      ]
     },
     "execution_count": 20,
     "metadata": {},
     "output_type": "execute_result"
    }
   ],
   "source": [
    "classify_sentiment(\"I hate\")"
   ]
  },
  {
   "cell_type": "code",
   "execution_count": null,
   "metadata": {
    "colab": {
     "base_uri": "https://localhost:8080/"
    },
    "executionInfo": {
     "elapsed": 168,
     "status": "ok",
     "timestamp": 1732916949583,
     "user": {
      "displayName": "Ivaylo Mitov",
      "userId": "02045773347946630217"
     },
     "user_tz": -60
    },
    "id": "R5yYJL395NS0",
    "outputId": "ffa5655d-229a-43bf-e2ee-05e31d875daf"
   },
   "outputs": [
    {
     "data": {
      "text/plain": [
       "array([ 0.21932901,  0.19171844, -0.72959   ], dtype=float32)"
      ]
     },
     "execution_count": 19,
     "metadata": {},
     "output_type": "execute_result"
    }
   ],
   "source": [
    "classify_sentiment(\"Hate\")"
   ]
  },
  {
   "cell_type": "code",
   "execution_count": null,
   "metadata": {
    "colab": {
     "base_uri": "https://localhost:8080/"
    },
    "executionInfo": {
     "elapsed": 331,
     "status": "ok",
     "timestamp": 1732916968364,
     "user": {
      "displayName": "Ivaylo Mitov",
      "userId": "02045773347946630217"
     },
     "user_tz": -60
    },
    "id": "5QPkel1L5lvb",
    "outputId": "4a4eef11-de5c-4359-d57f-87a786af7ab8"
   },
   "outputs": [
    {
     "data": {
      "text/plain": [
       "array([ 0.71133417,  0.15467213, -1.1714683 ], dtype=float32)"
      ]
     },
     "execution_count": 21,
     "metadata": {},
     "output_type": "execute_result"
    }
   ],
   "source": [
    "classify_sentiment(\"hate\")"
   ]
  },
  {
   "cell_type": "code",
   "execution_count": null,
   "metadata": {
    "colab": {
     "base_uri": "https://localhost:8080/"
    },
    "executionInfo": {
     "elapsed": 165,
     "status": "ok",
     "timestamp": 1732922551229,
     "user": {
      "displayName": "Ivaylo Mitov",
      "userId": "02045773347946630217"
     },
     "user_tz": -60
    },
    "id": "vUssmKr8N7QN",
    "outputId": "662186b8-0930-41af-f7f9-474803fd8612"
   },
   "outputs": [
    {
     "data": {
      "text/plain": [
       "array([-2.2678285 , -0.38696536,  2.4084647 ], dtype=float32)"
      ]
     },
     "execution_count": 28,
     "metadata": {},
     "output_type": "execute_result"
    }
   ],
   "source": [
    "classify_sentiment(\"Love staying in the office until 10pm\")"
   ]
  },
  {
   "cell_type": "code",
   "execution_count": null,
   "metadata": {
    "colab": {
     "base_uri": "https://localhost:8080/"
    },
    "executionInfo": {
     "elapsed": 461,
     "status": "ok",
     "timestamp": 1732922552938,
     "user": {
      "displayName": "Ivaylo Mitov",
      "userId": "02045773347946630217"
     },
     "user_tz": -60
    },
    "id": "Maxaqx7vO3zu",
    "outputId": "4d58fecb-3490-4d98-f71d-cade99a05a13"
   },
   "outputs": [
    {
     "data": {
      "text/plain": [
       "array([-2.326509  , -0.45663574,  2.728802  ], dtype=float32)"
      ]
     },
     "execution_count": 29,
     "metadata": {},
     "output_type": "execute_result"
    }
   ],
   "source": [
    "classify_sentiment(\"I love staying in the office until 10pm\")"
   ]
  },
  {
   "cell_type": "code",
   "execution_count": null,
   "metadata": {
    "colab": {
     "base_uri": "https://localhost:8080/"
    },
    "executionInfo": {
     "elapsed": 390,
     "status": "ok",
     "timestamp": 1732922578009,
     "user": {
      "displayName": "Ivaylo Mitov",
      "userId": "02045773347946630217"
     },
     "user_tz": -60
    },
    "id": "D1UTQa1DOB-v",
    "outputId": "c23353e4-9d33-4d85-9022-ed016e44332b"
   },
   "outputs": [
    {
     "data": {
      "text/plain": [
       "array([-1.9052361 ,  2.6276646 , -0.68733424], dtype=float32)"
      ]
     },
     "execution_count": 32,
     "metadata": {},
     "output_type": "execute_result"
    }
   ],
   "source": [
    "classify_sentiment(\"staying in the office until 10pm\")"
   ]
  },
  {
   "cell_type": "code",
   "execution_count": null,
   "metadata": {
    "colab": {
     "base_uri": "https://localhost:8080/"
    },
    "executionInfo": {
     "elapsed": 162,
     "status": "ok",
     "timestamp": 1732922567919,
     "user": {
      "displayName": "Ivaylo Mitov",
      "userId": "02045773347946630217"
     },
     "user_tz": -60
    },
    "id": "Z1q99YDlODtY",
    "outputId": "be8d7f33-63fd-4c63-bca9-cebdd4fbbe0a"
   },
   "outputs": [
    {
     "data": {
      "text/plain": [
       "array([-1.7222316 , -0.05902784,  1.4061106 ], dtype=float32)"
      ]
     },
     "execution_count": 30,
     "metadata": {},
     "output_type": "execute_result"
    }
   ],
   "source": [
    "classify_sentiment(\"I love\")"
   ]
  },
  {
   "cell_type": "code",
   "execution_count": null,
   "metadata": {
    "colab": {
     "base_uri": "https://localhost:8080/"
    },
    "executionInfo": {
     "elapsed": 375,
     "status": "ok",
     "timestamp": 1732977041163,
     "user": {
      "displayName": "Ivaylo Mitov",
      "userId": "02045773347946630217"
     },
     "user_tz": -60
    },
    "id": "XB68j5rdeTsb",
    "outputId": "d161265f-af99-4c44-8193-780fd5cd92f0"
   },
   "outputs": [
    {
     "data": {
      "text/plain": [
       "array([ 2.2053196, -0.4821814, -2.0169976], dtype=float32)"
      ]
     },
     "execution_count": 29,
     "metadata": {},
     "output_type": "execute_result"
    }
   ],
   "source": [
    "s1 = classify_sentiment(\"Hate people who moan about EVERY SINGLE THING possible 😴👊🏼\")\n",
    "s1"
   ]
  },
  {
   "cell_type": "code",
   "execution_count": null,
   "metadata": {
    "colab": {
     "base_uri": "https://localhost:8080/"
    },
    "executionInfo": {
     "elapsed": 407,
     "status": "ok",
     "timestamp": 1732977044237,
     "user": {
      "displayName": "Ivaylo Mitov",
      "userId": "02045773347946630217"
     },
     "user_tz": -60
    },
    "id": "lo_N1V5beX7e",
    "outputId": "0b1852f0-2f43-4d4d-a36c-6d61bec091e4"
   },
   "outputs": [
    {
     "data": {
      "text/plain": [
       "array([ 2.034265  , -0.19827195, -2.0858595 ], dtype=float32)"
      ]
     },
     "execution_count": 30,
     "metadata": {},
     "output_type": "execute_result"
    }
   ],
   "source": [
    "s2 = classify_sentiment(\"people who moan about EVERY SINGLE THING possible 😴👊🏼\")\n",
    "s2"
   ]
  },
  {
   "cell_type": "code",
   "execution_count": null,
   "metadata": {
    "colab": {
     "base_uri": "https://localhost:8080/"
    },
    "executionInfo": {
     "elapsed": 212,
     "status": "ok",
     "timestamp": 1732977050479,
     "user": {
      "displayName": "Ivaylo Mitov",
      "userId": "02045773347946630217"
     },
     "user_tz": -60
    },
    "id": "995bLDO_eaHh",
    "outputId": "9086121d-2484-4039-a5c8-c996f3028650"
   },
   "outputs": [
    {
     "data": {
      "text/plain": [
       "array([ 0.21932901,  0.19171844, -0.72959   ], dtype=float32)"
      ]
     },
     "execution_count": 31,
     "metadata": {},
     "output_type": "execute_result"
    }
   ],
   "source": [
    "s3 = classify_sentiment(\"Hate\")\n",
    "s3"
   ]
  },
  {
   "cell_type": "code",
   "execution_count": null,
   "metadata": {
    "colab": {
     "base_uri": "https://localhost:8080/"
    },
    "executionInfo": {
     "elapsed": 197,
     "status": "ok",
     "timestamp": 1732977163493,
     "user": {
      "displayName": "Ivaylo Mitov",
      "userId": "02045773347946630217"
     },
     "user_tz": -60
    },
    "id": "FXbph-9vfO-z",
    "outputId": "dcb53a5a-8604-4e5a-b563-809599084fe8"
   },
   "outputs": [
    {
     "data": {
      "text/plain": [
       "array([ 0.1710546 , -0.28390944,  0.06886196], dtype=float32)"
      ]
     },
     "execution_count": 35,
     "metadata": {},
     "output_type": "execute_result"
    }
   ],
   "source": [
    "s1 - s2"
   ]
  },
  {
   "cell_type": "code",
   "execution_count": null,
   "metadata": {
    "colab": {
     "base_uri": "https://localhost:8080/"
    },
    "executionInfo": {
     "elapsed": 200,
     "status": "ok",
     "timestamp": 1732977170155,
     "user": {
      "displayName": "Ivaylo Mitov",
      "userId": "02045773347946630217"
     },
     "user_tz": -60
    },
    "id": "00GtCyH3fQNV",
    "outputId": "a8f914f5-0736-4878-f919-386f75f6cce8"
   },
   "outputs": [
    {
     "data": {
      "text/plain": [
       "array([ 1.9859906, -0.6738998, -1.2874076], dtype=float32)"
      ]
     },
     "execution_count": 36,
     "metadata": {},
     "output_type": "execute_result"
    }
   ],
   "source": [
    "s1 - s3"
   ]
  },
  {
   "cell_type": "code",
   "execution_count": null,
   "metadata": {
    "colab": {
     "base_uri": "https://localhost:8080/"
    },
    "executionInfo": {
     "elapsed": 293,
     "status": "ok",
     "timestamp": 1732977065323,
     "user": {
      "displayName": "Ivaylo Mitov",
      "userId": "02045773347946630217"
     },
     "user_tz": -60
    },
    "id": "3omvc4FTecTg",
    "outputId": "c75b2bf3-0190-44a2-aae7-2af87ddf441a"
   },
   "outputs": [
    {
     "data": {
      "text/plain": [
       "0.3385354"
      ]
     },
     "execution_count": 32,
     "metadata": {},
     "output_type": "execute_result"
    }
   ],
   "source": [
    "np.linalg.norm(s1 - s2)"
   ]
  },
  {
   "cell_type": "code",
   "execution_count": null,
   "metadata": {
    "colab": {
     "base_uri": "https://localhost:8080/"
    },
    "executionInfo": {
     "elapsed": 8,
     "status": "ok",
     "timestamp": 1732977107679,
     "user": {
      "displayName": "Ivaylo Mitov",
      "userId": "02045773347946630217"
     },
     "user_tz": -60
    },
    "id": "D5NONHTdfA0U",
    "outputId": "f27ce2c9-d5cd-4c41-950d-85ff46934fd0"
   },
   "outputs": [
    {
     "data": {
      "text/plain": [
       "2.460837"
      ]
     },
     "execution_count": 34,
     "metadata": {},
     "output_type": "execute_result"
    }
   ],
   "source": [
    "np.linalg.norm(s1 - s3)"
   ]
  },
  {
   "cell_type": "code",
   "execution_count": null,
   "metadata": {
    "colab": {
     "base_uri": "https://localhost:8080/"
    },
    "executionInfo": {
     "elapsed": 375,
     "status": "ok",
     "timestamp": 1732977041163,
     "user": {
      "displayName": "Ivaylo Mitov",
      "userId": "02045773347946630217"
     },
     "user_tz": -60
    },
    "id": "uS8OZwXzfkSh",
    "outputId": "d161265f-af99-4c44-8193-780fd5cd92f0"
   },
   "outputs": [
    {
     "data": {
      "text/plain": [
       "array([ 2.2053196, -0.4821814, -2.0169976], dtype=float32)"
      ]
     },
     "execution_count": 29,
     "metadata": {},
     "output_type": "execute_result"
    }
   ],
   "source": [
    "s1 = classify_sentiment(\"Hate people who moan about EVERY SINGLE THING possible 😴👊🏼\")\n",
    "s1"
   ]
  },
  {
   "cell_type": "code",
   "execution_count": null,
   "metadata": {
    "colab": {
     "base_uri": "https://localhost:8080/"
    },
    "executionInfo": {
     "elapsed": 407,
     "status": "ok",
     "timestamp": 1732977044237,
     "user": {
      "displayName": "Ivaylo Mitov",
      "userId": "02045773347946630217"
     },
     "user_tz": -60
    },
    "id": "gYu5J7wYfkSi",
    "outputId": "0b1852f0-2f43-4d4d-a36c-6d61bec091e4"
   },
   "outputs": [
    {
     "data": {
      "text/plain": [
       "array([ 2.034265  , -0.19827195, -2.0858595 ], dtype=float32)"
      ]
     },
     "execution_count": 30,
     "metadata": {},
     "output_type": "execute_result"
    }
   ],
   "source": [
    "s2 = classify_sentiment(\"people who moan about EVERY SINGLE THING possible 😴👊🏼\")\n",
    "s2"
   ]
  },
  {
   "cell_type": "code",
   "execution_count": null,
   "metadata": {
    "colab": {
     "base_uri": "https://localhost:8080/"
    },
    "executionInfo": {
     "elapsed": 212,
     "status": "ok",
     "timestamp": 1732977050479,
     "user": {
      "displayName": "Ivaylo Mitov",
      "userId": "02045773347946630217"
     },
     "user_tz": -60
    },
    "id": "zU2EATg5fkSi",
    "outputId": "9086121d-2484-4039-a5c8-c996f3028650"
   },
   "outputs": [
    {
     "data": {
      "text/plain": [
       "array([ 0.21932901,  0.19171844, -0.72959   ], dtype=float32)"
      ]
     },
     "execution_count": 31,
     "metadata": {},
     "output_type": "execute_result"
    }
   ],
   "source": [
    "s3 = classify_sentiment(\"Hate\")\n",
    "s3"
   ]
  },
  {
   "cell_type": "code",
   "execution_count": null,
   "metadata": {
    "colab": {
     "base_uri": "https://localhost:8080/"
    },
    "executionInfo": {
     "elapsed": 197,
     "status": "ok",
     "timestamp": 1732977163493,
     "user": {
      "displayName": "Ivaylo Mitov",
      "userId": "02045773347946630217"
     },
     "user_tz": -60
    },
    "id": "upr9b6l-fkSi",
    "outputId": "dcb53a5a-8604-4e5a-b563-809599084fe8"
   },
   "outputs": [
    {
     "data": {
      "text/plain": [
       "array([ 0.1710546 , -0.28390944,  0.06886196], dtype=float32)"
      ]
     },
     "execution_count": 35,
     "metadata": {},
     "output_type": "execute_result"
    }
   ],
   "source": [
    "s1 - s2"
   ]
  },
  {
   "cell_type": "code",
   "execution_count": null,
   "metadata": {
    "colab": {
     "base_uri": "https://localhost:8080/"
    },
    "executionInfo": {
     "elapsed": 200,
     "status": "ok",
     "timestamp": 1732977170155,
     "user": {
      "displayName": "Ivaylo Mitov",
      "userId": "02045773347946630217"
     },
     "user_tz": -60
    },
    "id": "8Tf1AcY7fkSj",
    "outputId": "a8f914f5-0736-4878-f919-386f75f6cce8"
   },
   "outputs": [
    {
     "data": {
      "text/plain": [
       "array([ 1.9859906, -0.6738998, -1.2874076], dtype=float32)"
      ]
     },
     "execution_count": 36,
     "metadata": {},
     "output_type": "execute_result"
    }
   ],
   "source": [
    "s1 - s3"
   ]
  },
  {
   "cell_type": "code",
   "execution_count": null,
   "metadata": {
    "colab": {
     "base_uri": "https://localhost:8080/"
    },
    "executionInfo": {
     "elapsed": 293,
     "status": "ok",
     "timestamp": 1732977065323,
     "user": {
      "displayName": "Ivaylo Mitov",
      "userId": "02045773347946630217"
     },
     "user_tz": -60
    },
    "id": "5BpY0mJBfkSj",
    "outputId": "c75b2bf3-0190-44a2-aae7-2af87ddf441a"
   },
   "outputs": [
    {
     "data": {
      "text/plain": [
       "0.3385354"
      ]
     },
     "execution_count": 32,
     "metadata": {},
     "output_type": "execute_result"
    }
   ],
   "source": [
    "np.linalg.norm(s1 - s2)"
   ]
  },
  {
   "cell_type": "code",
   "execution_count": null,
   "metadata": {
    "colab": {
     "base_uri": "https://localhost:8080/"
    },
    "executionInfo": {
     "elapsed": 8,
     "status": "ok",
     "timestamp": 1732977107679,
     "user": {
      "displayName": "Ivaylo Mitov",
      "userId": "02045773347946630217"
     },
     "user_tz": -60
    },
    "id": "oZKZLxU4fkSj",
    "outputId": "f27ce2c9-d5cd-4c41-950d-85ff46934fd0"
   },
   "outputs": [
    {
     "data": {
      "text/plain": [
       "2.460837"
      ]
     },
     "execution_count": 34,
     "metadata": {},
     "output_type": "execute_result"
    }
   ],
   "source": [
    "np.linalg.norm(s1 - s3)"
   ]
  },
  {
   "cell_type": "markdown",
   "metadata": {
    "id": "duD4R2R1vt2d"
   },
   "source": [
    "## Constituency Parser"
   ]
  },
  {
   "cell_type": "code",
   "execution_count": null,
   "metadata": {
    "colab": {
     "base_uri": "https://localhost:8080/",
     "height": 1000,
     "referenced_widgets": [
      "fef633c2ebf24806a9d56bcc2045fd07",
      "ef7d9eaabe4342118e0bce1c54909d1b",
      "7ba4ebe123d94a3cada225c11952c8c2",
      "21e6fcb56755412197bb9fbd7c243551",
      "9b418110f87e446f8321a8730d825043",
      "2ca8bd849d184a38b278cfc06d9820f5",
      "5af5ccf002ba4e6bbbe6da684fac4b20",
      "4ff7e6022ff34ee6bdfef26c3452f9d0",
      "b32149bb7663494a81a0caf73eef7b6b",
      "7a032c9ce03745709a352fb4e25ac954",
      "c1773708b8174f3c91a62f06bb0f2ad7",
      "4580b480c88e4b4f8d9db97722a9fb7c",
      "4cc0a45b0fdc431fb3d9a6d073187b58",
      "615a37a1dbcd46d08ffd47e7ff7b3425",
      "b4f5a883e50c46f2b55d93bc40271e0a",
      "02adea4fe2754419a9753b2bdafb85ec",
      "8340057ec950423eb10080b753e0e098",
      "696b5a67d7264f87889bbc7f3eb3aa2c",
      "7840b0770d5e426983d914e8938bc93b",
      "c904236c8c8e488ca5bd4efb5881e541",
      "ec05f9f3d9434846b23b08913282f16f",
      "7e3ed7d95e264a47a3586536f87255dd",
      "536cf81619d347b38df412816ebd8384",
      "c9e615c11eaf41d7bb837d9646eb298f",
      "6290202ee2e84f93ac845dc63ebbf0e7",
      "1eceaaa8e6a84c92942f3780d1fa2aeb",
      "7dc37dcee82e4b988a25745fb0a5507e",
      "212b5313c2854665ac2acc12ad74ee2a",
      "91d37c2713fe46229e006b874df60d3c",
      "38f554c189d044e2a42003ab247a7f70",
      "9dce680e75594cec88822abb994ea34c",
      "a6413d180fa3455e819c2f44e11db406",
      "d85fa75a7e674f7d9e04761f577ccfda"
     ]
    },
    "collapsed": true,
    "executionInfo": {
     "elapsed": 19958,
     "status": "ok",
     "timestamp": 1732706079996,
     "user": {
      "displayName": "Ivaylo Mitov",
      "userId": "02045773347946630217"
     },
     "user_tz": -60
    },
    "id": "zNRJ2KF-Avbb",
    "outputId": "2b8c1a01-7dc7-4b35-cd56-d8af8457e5c5"
   },
   "outputs": [
    {
     "name": "stdout",
     "output_type": "stream",
     "text": [
      "Requirement already satisfied: stanza in /usr/local/lib/python3.10/dist-packages (1.9.2)\n",
      "Requirement already satisfied: emoji in /usr/local/lib/python3.10/dist-packages (from stanza) (2.14.0)\n",
      "Requirement already satisfied: numpy in /usr/local/lib/python3.10/dist-packages (from stanza) (1.26.4)\n",
      "Requirement already satisfied: protobuf>=3.15.0 in /usr/local/lib/python3.10/dist-packages (from stanza) (4.25.5)\n",
      "Requirement already satisfied: requests in /usr/local/lib/python3.10/dist-packages (from stanza) (2.32.3)\n",
      "Requirement already satisfied: networkx in /usr/local/lib/python3.10/dist-packages (from stanza) (3.4.2)\n",
      "Requirement already satisfied: torch>=1.3.0 in /usr/local/lib/python3.10/dist-packages (from stanza) (2.5.1+cu121)\n",
      "Requirement already satisfied: tqdm in /usr/local/lib/python3.10/dist-packages (from stanza) (4.66.6)\n",
      "Requirement already satisfied: tomli in /usr/local/lib/python3.10/dist-packages (from stanza) (2.1.0)\n",
      "Requirement already satisfied: filelock in /usr/local/lib/python3.10/dist-packages (from torch>=1.3.0->stanza) (3.16.1)\n",
      "Requirement already satisfied: typing-extensions>=4.8.0 in /usr/local/lib/python3.10/dist-packages (from torch>=1.3.0->stanza) (4.12.2)\n",
      "Requirement already satisfied: jinja2 in /usr/local/lib/python3.10/dist-packages (from torch>=1.3.0->stanza) (3.1.4)\n",
      "Requirement already satisfied: fsspec in /usr/local/lib/python3.10/dist-packages (from torch>=1.3.0->stanza) (2024.10.0)\n",
      "Requirement already satisfied: sympy==1.13.1 in /usr/local/lib/python3.10/dist-packages (from torch>=1.3.0->stanza) (1.13.1)\n",
      "Requirement already satisfied: mpmath<1.4,>=1.1.0 in /usr/local/lib/python3.10/dist-packages (from sympy==1.13.1->torch>=1.3.0->stanza) (1.3.0)\n",
      "Requirement already satisfied: charset-normalizer<4,>=2 in /usr/local/lib/python3.10/dist-packages (from requests->stanza) (3.4.0)\n",
      "Requirement already satisfied: idna<4,>=2.5 in /usr/local/lib/python3.10/dist-packages (from requests->stanza) (3.10)\n",
      "Requirement already satisfied: urllib3<3,>=1.21.1 in /usr/local/lib/python3.10/dist-packages (from requests->stanza) (2.2.3)\n",
      "Requirement already satisfied: certifi>=2017.4.17 in /usr/local/lib/python3.10/dist-packages (from requests->stanza) (2024.8.30)\n",
      "Requirement already satisfied: MarkupSafe>=2.0 in /usr/local/lib/python3.10/dist-packages (from jinja2->torch>=1.3.0->stanza) (3.0.2)\n"
     ]
    },
    {
     "data": {
      "application/vnd.jupyter.widget-view+json": {
       "model_id": "fef633c2ebf24806a9d56bcc2045fd07",
       "version_major": 2,
       "version_minor": 0
      },
      "text/plain": [
       "Downloading https://raw.githubusercontent.com/stanfordnlp/stanza-resources/main/resources_1.9.0.json:   0%|   …"
      ]
     },
     "metadata": {},
     "output_type": "display_data"
    },
    {
     "name": "stderr",
     "output_type": "stream",
     "text": [
      "INFO:stanza:Downloaded file to /root/stanza_resources/resources.json\n",
      "INFO:stanza:Downloading default packages for language: en (English) ...\n"
     ]
    },
    {
     "data": {
      "application/vnd.jupyter.widget-view+json": {
       "model_id": "4580b480c88e4b4f8d9db97722a9fb7c",
       "version_major": 2,
       "version_minor": 0
      },
      "text/plain": [
       "Downloading https://huggingface.co/stanfordnlp/stanza-en/resolve/v1.9.0/models/default.zip:   0%|          | 0…"
      ]
     },
     "metadata": {},
     "output_type": "display_data"
    },
    {
     "name": "stderr",
     "output_type": "stream",
     "text": [
      "INFO:stanza:Downloaded file to /root/stanza_resources/en/default.zip\n",
      "INFO:stanza:Finished downloading models and saved to /root/stanza_resources\n",
      "INFO:stanza:Checking for updates to resources.json in case models have been updated.  Note: this behavior can be turned off with download_method=None or download_method=DownloadMethod.REUSE_RESOURCES\n"
     ]
    },
    {
     "data": {
      "application/vnd.jupyter.widget-view+json": {
       "model_id": "536cf81619d347b38df412816ebd8384",
       "version_major": 2,
       "version_minor": 0
      },
      "text/plain": [
       "Downloading https://raw.githubusercontent.com/stanfordnlp/stanza-resources/main/resources_1.9.0.json:   0%|   …"
      ]
     },
     "metadata": {},
     "output_type": "display_data"
    },
    {
     "name": "stderr",
     "output_type": "stream",
     "text": [
      "INFO:stanza:Downloaded file to /root/stanza_resources/resources.json\n",
      "INFO:stanza:Loading these models for language: en (English):\n",
      "============================================\n",
      "| Processor    | Package                   |\n",
      "--------------------------------------------\n",
      "| tokenize     | combined                  |\n",
      "| mwt          | combined                  |\n",
      "| pos          | combined_charlm           |\n",
      "| lemma        | combined_nocharlm         |\n",
      "| constituency | ptb3-revised_charlm       |\n",
      "| depparse     | combined_charlm           |\n",
      "| sentiment    | sstplus_charlm            |\n",
      "| ner          | ontonotes-ww-multi_charlm |\n",
      "============================================\n",
      "\n",
      "INFO:stanza:Using device: cpu\n",
      "INFO:stanza:Loading: tokenize\n",
      "/usr/local/lib/python3.10/dist-packages/stanza/models/tokenization/trainer.py:82: FutureWarning: You are using `torch.load` with `weights_only=False` (the current default value), which uses the default pickle module implicitly. It is possible to construct malicious pickle data which will execute arbitrary code during unpickling (See https://github.com/pytorch/pytorch/blob/main/SECURITY.md#untrusted-models for more details). In a future release, the default value for `weights_only` will be flipped to `True`. This limits the functions that could be executed during unpickling. Arbitrary objects will no longer be allowed to be loaded via this mode unless they are explicitly allowlisted by the user via `torch.serialization.add_safe_globals`. We recommend you start setting `weights_only=True` for any use case where you don't have full control of the loaded file. Please open an issue on GitHub for any issues related to this experimental feature.\n",
      "  checkpoint = torch.load(filename, lambda storage, loc: storage)\n",
      "INFO:stanza:Loading: mwt\n",
      "/usr/local/lib/python3.10/dist-packages/stanza/models/mwt/trainer.py:201: FutureWarning: You are using `torch.load` with `weights_only=False` (the current default value), which uses the default pickle module implicitly. It is possible to construct malicious pickle data which will execute arbitrary code during unpickling (See https://github.com/pytorch/pytorch/blob/main/SECURITY.md#untrusted-models for more details). In a future release, the default value for `weights_only` will be flipped to `True`. This limits the functions that could be executed during unpickling. Arbitrary objects will no longer be allowed to be loaded via this mode unless they are explicitly allowlisted by the user via `torch.serialization.add_safe_globals`. We recommend you start setting `weights_only=True` for any use case where you don't have full control of the loaded file. Please open an issue on GitHub for any issues related to this experimental feature.\n",
      "  checkpoint = torch.load(filename, lambda storage, loc: storage)\n",
      "INFO:stanza:Loading: pos\n",
      "/usr/local/lib/python3.10/dist-packages/stanza/models/pos/trainer.py:139: FutureWarning: You are using `torch.load` with `weights_only=False` (the current default value), which uses the default pickle module implicitly. It is possible to construct malicious pickle data which will execute arbitrary code during unpickling (See https://github.com/pytorch/pytorch/blob/main/SECURITY.md#untrusted-models for more details). In a future release, the default value for `weights_only` will be flipped to `True`. This limits the functions that could be executed during unpickling. Arbitrary objects will no longer be allowed to be loaded via this mode unless they are explicitly allowlisted by the user via `torch.serialization.add_safe_globals`. We recommend you start setting `weights_only=True` for any use case where you don't have full control of the loaded file. Please open an issue on GitHub for any issues related to this experimental feature.\n",
      "  checkpoint = torch.load(filename, lambda storage, loc: storage)\n",
      "/usr/local/lib/python3.10/dist-packages/stanza/models/common/pretrain.py:56: FutureWarning: You are using `torch.load` with `weights_only=False` (the current default value), which uses the default pickle module implicitly. It is possible to construct malicious pickle data which will execute arbitrary code during unpickling (See https://github.com/pytorch/pytorch/blob/main/SECURITY.md#untrusted-models for more details). In a future release, the default value for `weights_only` will be flipped to `True`. This limits the functions that could be executed during unpickling. Arbitrary objects will no longer be allowed to be loaded via this mode unless they are explicitly allowlisted by the user via `torch.serialization.add_safe_globals`. We recommend you start setting `weights_only=True` for any use case where you don't have full control of the loaded file. Please open an issue on GitHub for any issues related to this experimental feature.\n",
      "  data = torch.load(self.filename, lambda storage, loc: storage)\n",
      "/usr/local/lib/python3.10/dist-packages/stanza/models/common/char_model.py:271: FutureWarning: You are using `torch.load` with `weights_only=False` (the current default value), which uses the default pickle module implicitly. It is possible to construct malicious pickle data which will execute arbitrary code during unpickling (See https://github.com/pytorch/pytorch/blob/main/SECURITY.md#untrusted-models for more details). In a future release, the default value for `weights_only` will be flipped to `True`. This limits the functions that could be executed during unpickling. Arbitrary objects will no longer be allowed to be loaded via this mode unless they are explicitly allowlisted by the user via `torch.serialization.add_safe_globals`. We recommend you start setting `weights_only=True` for any use case where you don't have full control of the loaded file. Please open an issue on GitHub for any issues related to this experimental feature.\n",
      "  state = torch.load(filename, lambda storage, loc: storage)\n",
      "INFO:stanza:Loading: lemma\n",
      "/usr/local/lib/python3.10/dist-packages/stanza/models/lemma/trainer.py:239: FutureWarning: You are using `torch.load` with `weights_only=False` (the current default value), which uses the default pickle module implicitly. It is possible to construct malicious pickle data which will execute arbitrary code during unpickling (See https://github.com/pytorch/pytorch/blob/main/SECURITY.md#untrusted-models for more details). In a future release, the default value for `weights_only` will be flipped to `True`. This limits the functions that could be executed during unpickling. Arbitrary objects will no longer be allowed to be loaded via this mode unless they are explicitly allowlisted by the user via `torch.serialization.add_safe_globals`. We recommend you start setting `weights_only=True` for any use case where you don't have full control of the loaded file. Please open an issue on GitHub for any issues related to this experimental feature.\n",
      "  checkpoint = torch.load(filename, lambda storage, loc: storage)\n",
      "INFO:stanza:Loading: constituency\n",
      "/usr/local/lib/python3.10/dist-packages/stanza/models/constituency/base_trainer.py:87: FutureWarning: You are using `torch.load` with `weights_only=False` (the current default value), which uses the default pickle module implicitly. It is possible to construct malicious pickle data which will execute arbitrary code during unpickling (See https://github.com/pytorch/pytorch/blob/main/SECURITY.md#untrusted-models for more details). In a future release, the default value for `weights_only` will be flipped to `True`. This limits the functions that could be executed during unpickling. Arbitrary objects will no longer be allowed to be loaded via this mode unless they are explicitly allowlisted by the user via `torch.serialization.add_safe_globals`. We recommend you start setting `weights_only=True` for any use case where you don't have full control of the loaded file. Please open an issue on GitHub for any issues related to this experimental feature.\n",
      "  checkpoint = torch.load(filename, lambda storage, loc: storage)\n",
      "INFO:stanza:Loading: depparse\n",
      "/usr/local/lib/python3.10/dist-packages/stanza/models/depparse/trainer.py:194: FutureWarning: You are using `torch.load` with `weights_only=False` (the current default value), which uses the default pickle module implicitly. It is possible to construct malicious pickle data which will execute arbitrary code during unpickling (See https://github.com/pytorch/pytorch/blob/main/SECURITY.md#untrusted-models for more details). In a future release, the default value for `weights_only` will be flipped to `True`. This limits the functions that could be executed during unpickling. Arbitrary objects will no longer be allowed to be loaded via this mode unless they are explicitly allowlisted by the user via `torch.serialization.add_safe_globals`. We recommend you start setting `weights_only=True` for any use case where you don't have full control of the loaded file. Please open an issue on GitHub for any issues related to this experimental feature.\n",
      "  checkpoint = torch.load(filename, lambda storage, loc: storage)\n",
      "INFO:stanza:Loading: sentiment\n",
      "/usr/local/lib/python3.10/dist-packages/stanza/models/classifiers/trainer.py:72: FutureWarning: You are using `torch.load` with `weights_only=False` (the current default value), which uses the default pickle module implicitly. It is possible to construct malicious pickle data which will execute arbitrary code during unpickling (See https://github.com/pytorch/pytorch/blob/main/SECURITY.md#untrusted-models for more details). In a future release, the default value for `weights_only` will be flipped to `True`. This limits the functions that could be executed during unpickling. Arbitrary objects will no longer be allowed to be loaded via this mode unless they are explicitly allowlisted by the user via `torch.serialization.add_safe_globals`. We recommend you start setting `weights_only=True` for any use case where you don't have full control of the loaded file. Please open an issue on GitHub for any issues related to this experimental feature.\n",
      "  checkpoint = torch.load(filename, lambda storage, loc: storage)\n",
      "INFO:stanza:Loading: ner\n",
      "/usr/local/lib/python3.10/dist-packages/stanza/models/ner/trainer.py:197: FutureWarning: You are using `torch.load` with `weights_only=False` (the current default value), which uses the default pickle module implicitly. It is possible to construct malicious pickle data which will execute arbitrary code during unpickling (See https://github.com/pytorch/pytorch/blob/main/SECURITY.md#untrusted-models for more details). In a future release, the default value for `weights_only` will be flipped to `True`. This limits the functions that could be executed during unpickling. Arbitrary objects will no longer be allowed to be loaded via this mode unless they are explicitly allowlisted by the user via `torch.serialization.add_safe_globals`. We recommend you start setting `weights_only=True` for any use case where you don't have full control of the loaded file. Please open an issue on GitHub for any issues related to this experimental feature.\n",
      "  checkpoint = torch.load(filename, lambda storage, loc: storage)\n",
      "INFO:stanza:Done loading processors!\n"
     ]
    }
   ],
   "source": [
    "stanza.download('en')\n",
    "nlp = stanza.Pipeline('en')"
   ]
  },
  {
   "cell_type": "code",
   "execution_count": null,
   "metadata": {
    "id": "jEycoS1tBIHh"
   },
   "outputs": [],
   "source": [
    "def width(t) :\n",
    "  wds = str(t).replace(\")\", \"\").split(\" \")\n",
    "  filt = [wd for wd in wds if '(' not in wd]\n",
    "  return len( filt )\n",
    "\n",
    "def add_spans(t, tks) :\n",
    "\n",
    "  if t.is_preterminal() :\n",
    "    tk = tks[0]\n",
    "    t.span = ( tk.start_char , tk.end_char )\n",
    "    t.tk_info = tk\n",
    "  else :\n",
    "    start, end = 0, 0\n",
    "    for child in t.children :\n",
    "      w = width(child)\n",
    "      end = end + w\n",
    "      add_spans(child, tks[start:end])\n",
    "      start = end\n",
    "    t.span = ( t.children[0].span[0] , t.children[-1].span[-1] )\n",
    "\n",
    "\n",
    "def parse_tree(t):\n",
    "  doc = nlp(t)\n",
    "  tree = doc.sentences[0].constituency\n",
    "  tks_list = []\n",
    "  for item in doc.sentences[0].tokens :\n",
    "      tks_list += item.words\n",
    "  add_spans(tree, tks_list)\n",
    "  return tree"
   ]
  },
  {
   "cell_type": "code",
   "execution_count": null,
   "metadata": {
    "id": "KrmHvzvnCGU5"
   },
   "outputs": [],
   "source": [
    "def membership_check(tree, label):\n",
    "\n",
    "  if tree.is_preterminal():\n",
    "    return(tree.label == label)\n",
    "\n",
    "  if tree.label == label :\n",
    "    return True\n",
    "\n",
    "  children = tree.children\n",
    "\n",
    "  for el in children:\n",
    "\n",
    "    if (membership_check(el, label)):\n",
    "      return True\n",
    "\n",
    "  return False\n",
    "  # if there is no VP, return\n",
    "\n",
    "def extract_VP(row):\n",
    "  # the input will be tree.children\n",
    "\n",
    "  if not isinstance(row, list):\n",
    "    if not (membership_check(row, 'VP')):\n",
    "      return None\n",
    "    row = [row]\n",
    "\n",
    "  for idx, el in enumerate(row):\n",
    "    if el.label == 'VP':\n",
    "      spc = None\n",
    "      if idx > 0 and 'ADV' in row[idx - 1].label:\n",
    "        spc = row[idx - 1]\n",
    "      return {\"VP\" : el, \"specifier\": spc}\n",
    "\n",
    "  l = []\n",
    "\n",
    "  for el in row:\n",
    "    l.extend(el.children)\n",
    "\n",
    "  return extract_VP(l)\n",
    "\n"
   ]
  },
  {
   "cell_type": "code",
   "execution_count": null,
   "metadata": {
    "id": "mig9lHM1BSoD"
   },
   "outputs": [],
   "source": [
    "def parse_VP(tree):\n",
    "\n",
    "  if tree.is_preterminal():\n",
    "\n",
    "    if 'VB' in tree.label or 'MD' in tree.label or 'RB' in tree.label:\n",
    "      return [tree], []\n",
    "    return [], [tree]\n",
    "\n",
    "  if not tree.label.startswith('V'):\n",
    "    return [], [tree]\n",
    "\n",
    "  vbs_list = []\n",
    "  consts_list = []\n",
    "  for child in tree.children:\n",
    "    vbs, consts = parse_VP(child)\n",
    "    vbs_list += vbs\n",
    "    consts_list += consts\n",
    "\n",
    "  return vbs_list, consts_list"
   ]
  },
  {
   "cell_type": "code",
   "execution_count": null,
   "metadata": {
    "id": "EjaDCSSVBVWG"
   },
   "outputs": [],
   "source": [
    "def get_text(full, span) :\n",
    "  if not span :\n",
    "    return None\n",
    "  return full[span[0] : span[1]]\n",
    "\n",
    "def parse_tweet(tw, display=False) :\n",
    "  tree = parse_tree(tw)\n",
    "\n",
    "  if display :\n",
    "    print(tw)\n",
    "    print(tree)\n",
    "\n",
    "  res = extract_VP(tree)\n",
    "  if res :\n",
    "    spc = res['specifier']\n",
    "    vbs, consts = parse_VP(res[\"VP\"])\n",
    "\n",
    "    if 'be' in [vb.tk_info.lemma.lower() for vb in vbs] :\n",
    "      if display :\n",
    "        print(\"Special case : be\")\n",
    "      n_consts = []\n",
    "      for c in consts :\n",
    "        if 'ADJ' in c.label :\n",
    "          vbs.append(c)\n",
    "        else :\n",
    "          n_consts.append(c)\n",
    "      consts = n_consts\n",
    "\n",
    "    spc_span = get_text(tw, spc.span) if spc else None\n",
    "    if display :\n",
    "      print(f\"specifier : { spc_span}\")\n",
    "      print(f\"verbs : {get_text(tw,  ( vbs[0].span[0], vbs[-1].span[-1] ) )}\")\n",
    "      print(\"constituents : \")\n",
    "    for c in consts :\n",
    "      if display :\n",
    "        print( get_text(tw, c.span) )\n",
    "  try :\n",
    "    return {\"text\" : tw, \"specifier\" : spc.span if spc else None, \"constituents\" : [c.span for c in consts], \"verb\" : ( vbs[0].span[0], vbs[-1].span[-1] ) }\n",
    "  except :\n",
    "    return {\"text\" : tw, \"specifier\" : None, \"constituents\" : None, \"verb\" : None}\n"
   ]
  },
  {
   "cell_type": "markdown",
   "metadata": {
    "id": "-GxyN1MQkGf3"
   },
   "source": [
    "## Sentence Negator"
   ]
  },
  {
   "cell_type": "code",
   "execution_count": null,
   "metadata": {
    "id": "M3X1sgGZX7_K"
   },
   "outputs": [],
   "source": [
    "negator = Negator()"
   ]
  },
  {
   "cell_type": "markdown",
   "metadata": {
    "id": "p144dIsUv2B2"
   },
   "source": [
    "# Brute-Force Algorithm for Threshold"
   ]
  },
  {
   "cell_type": "code",
   "execution_count": null,
   "metadata": {
    "id": "NEbVTqbUpQGa"
   },
   "outputs": [],
   "source": [
    "def sentiment_distance(tweet, verb, noun_phrase):\n",
    "  \"\"\"Calculates the sentiment distance (euclidic distance) between the sentiment scores of the V and NP of a given tweet.\"\"\"\n",
    "\n",
    "  tweet_sentiment = classify_sentiment(tweet)\n",
    "  tweet_no_v_sentiment = classify_sentiment(tweet.replace(verb, \"\")) ##TO DO: change (ask Samba)\n",
    "  tweet_no_np_sentiment = classify_sentiment(tweet.replace(noun_phrase, \"\")) ##TO DO: change (ask Samba)\n",
    "  v_sentiment = tweet_sentiment - tweet_no_v_sentiment\n",
    "  np_sentiment = tweet_sentiment - tweet_no_np_sentiment\n",
    "\n",
    "  return np.linalg.norm(v_sentiment - np_sentiment)\n",
    "\n",
    "def is_sarc(sentiment_dist, threshold):\n",
    "  \"\"\"Returns True if the sentiment distance is greater than a given threshold and False otherwise.\"\"\"\n",
    "\n",
    "  return sentiment_dist > threshold"
   ]
  },
  {
   "cell_type": "code",
   "execution_count": null,
   "metadata": {
    "id": "Vk2cCPIqLPWb"
   },
   "outputs": [],
   "source": [
    "def define_threshold(tweets, gold_annotations, threshold_list):\n",
    "  \"\"\"\n",
    "  Creates a list of tuples containing 1) the tweet body, 2) the sarc/non-sarc gold annotation, 3) the sentiment distance between V and NP.\n",
    "  Then, iterates over a list of thresholds and for each threshold calculates the accuracy between the gold annotations and the predicted values.\n",
    "  Returns a dictionary of thresholds and accuracies for those thresholds.\n",
    "  \"\"\"\n",
    "\n",
    "  tweet_annotation_sentiment_distance = []\n",
    "  for tweet, annotation in zip(tweets, gold_annotations):\n",
    "    \"\"\"\n",
    "    res = parse_tweet(tweet)\n",
    "    if res[\"verb\"] :\n",
    "      verb_span = (res[\"specifier\"][0], res[\"verb\"][-1]) if res[\"specifier\"] else res[\"verb\"]\n",
    "      comp_span = ( min([x[0] for x in res[\"constituents\"]]), max([x[0] for x in res[\"constituents\"]])  )\n",
    "      tweet_annotation_sentiment_distance.append( (tweet, annotation, sentiment_distance(tweet, get_text(tweet, verb_span), get_text(tweet, comp_span) ) ) )\n",
    "    else :\n",
    "    \"\"\"\n",
    "    tweet_split = tweet.split()\n",
    "    try :\n",
    "      i_idx = [x.lower() for x in tweet_split].index(\"i\")\n",
    "    except Exception :\n",
    "      i_idx = min([i for i,x in enumerate(tweet_split) if x.lower().startswith(\"i'\")])\n",
    "    verb = tweet_split[i_idx + 1]\n",
    "    noun_phrase = \" \".join(tweet_split[i_idx + 2:])\n",
    "    tweet_annotation_sentiment_distance.append((tweet, annotation, sentiment_distance(tweet, verb, noun_phrase)))\n",
    "\n",
    "  # scaling of the data\n",
    "  sentiment_max = max([x[2] for x in tweet_annotation_sentiment_distance])\n",
    "  print(sentiment_max)\n",
    "  tweet_annotation_sentiment_distance = [(t,a, sentiment_dist/sentiment_max) for t, a, sentiment_dist in tweet_annotation_sentiment_distance]\n",
    "  print(tweet_annotation_sentiment_distance)\n",
    "\n",
    "  threshold_accuracy_dict = {}\n",
    "  for threshold in threshold_list:\n",
    "    correct = 0\n",
    "    for _, annotation, sentiment_dist in tweet_annotation_sentiment_distance:\n",
    "      if is_sarc(sentiment_dist, threshold) == bool(annotation):\n",
    "        correct += 1\n",
    "\n",
    "    threshold_accuracy_dict[threshold] = correct / len(tweet_annotation_sentiment_distance)\n",
    "\n",
    "  return threshold_accuracy_dict, tweet_annotation_sentiment_distance"
   ]
  },
  {
   "cell_type": "code",
   "execution_count": null,
   "metadata": {
    "colab": {
     "base_uri": "https://localhost:8080/"
    },
    "executionInfo": {
     "elapsed": 73490,
     "status": "ok",
     "timestamp": 1732707650999,
     "user": {
      "displayName": "Ivaylo Mitov",
      "userId": "02045773347946630217"
     },
     "user_tz": -60
    },
    "id": "9Zo1LwC6BEYY",
    "outputId": "8dbce379-ed53-4be8-82c4-c40bedccc1fa"
   },
   "outputs": [
    {
     "name": "stdout",
     "output_type": "stream",
     "text": [
      "6.987896\n",
      "[('i looove getting 3 hours of sleep because two jobs', 1, 0.7442865), ('i hate people who use big words just to make themselves look perspicacious', 1, 0.064811245), ('i love that girl who never liked even my dp', 1, 0.91172355), ('I hate that I wasted my whole weekend 😠', 0, 0.13130224), ('i love being ignored', 1, 0.80049145), ('I hate this guy so much https://t.co/lHPKXjNLL4', 0, 0.3619911), ('I hate living in such a cold place', 0, 0.053097803), ('I hate seeing my favourite game company go down the drain.', 0, 0.14841583), ('yes because i loved to be ignored', 1, 0.8455245), (\"i'm loving the ceasefire in syria\", 1, 0.5935277), ('I hate it when a restaurant ignores my dietary requirements', 0, 0.0770024), ('happy international lesbian day i love loving women 😍', 0, 0.018772366), ('I hate paying so much for gas.', 0, 0.03051175), ('i hate it here ❤️❤️❤️❤️❤️', 1, 0.942194), ('I would hate to be stuck in my room for another lockdown', 0, 0.7133869), ('i love scary movies by myself', 1, 0.4821158), ('i love this new holding pen approach to security lineups at big airports', 1, 0.49311298), ('i love when my boyfriend texts me back', 1, 0.1655628), ('i love shredding lettuce hahaha', 1, 0.23761137), (\"i love how the summer's eve feminine wash commercial focuses on a guy who's insecure about his masculinity\", 1, 0.7333078), ('i love being sarcastic', 1, 0.49104095), (\"i love when i see people get mad at something that's clearly a joke over social media lol\", 1, 0.80477345), ('i love when old men cat call me from their work truck in the morning', 1, 0.5370332), ('i love arbitrary lines going through customs in airports', 1, 0.7073027), ('i love listening to my neighbors blast spanish music', 1, 0.44571778), ('yes i would love a lesson on communism individual who only has reference through the word commie and has never read marx engels', 1, 0.4560989), ('nothing i love more then coming home to clean something i deep cleaned two days ago', 1, 0.13617964), ('i love dashboards which are actually just a tables in a word document or b excel workbooks', 1, 0.6707599), ('i love silence', 1, 0.4909921), ('i love it when people get nasty with me when i enforce the rules', 1, 0.8687834), ('i love insomnia', 1, 0.6445053), ('i love twofaced people', 1, 0.6863743), (\"yes facebook i'd love to see posts from a year ago today\", 1, 0.58007294), (\"i love it when it's my day off and i get called into work\", 1, 0.6426117), ('i love the urgency we re playing with', 1, 0.42808172), ('oh how i love sitting in a court house to pay a ticket', 1, 0.7565255), ('What I would love to tweet right now 👀👀', 0, 0.53738153), (\"i love ppl who don't understand my humor\", 1, 0.8551776), ('i love how everyone is responding to my texts this weekend', 1, 0.47025248), ('I love my friends', 0, 0.2598359), ('i love when my commute consists of people unable to drive while on phones esp when trying to take off my bumper in a parking lot', 1, 0.7765968), ('i love the smell of the hospital er at 3 am', 1, 0.6768229), ('i love when my joints randomly click pop during simple movements', 1, 0.509355), ('i love how retweets show up in the what i missed section now', 1, 0.6274981), ('i love shoegaze sm', 0, 0.25397617), ('I love days when Rob works short call and is only at the hospital for *checks watch* 13 hours.', 1, 0.5136107), ('things i love people being wishy washy', 1, 0.816445), ('i love testing my patience grocery shopping at walmart on a sunday night', 1, 0.5583563), ('gosh i love 17 hour work days', 1, 0.68483603), ('I love it when drunk, inconsiderate flatmates come back and start climbing on the roof #istillhaveexams #tryingtosleep', 1, 0.8131886), (\"i love when people think the rules don't apply to them\", 1, 0.861176), ('i love how corporations like to do the bare minimum that ada allows', 1, 0.7173906), ('i love summers with no air con', 1, 0.49152508), ('i love waking up to the call of the dying smoke detector', 1, 0.7035419), ('i love being too mentally ill to email my mental health care provider', 1, 0.80175024), ('i love texting people something important and them not texting me back', 1, 0.710447), ('i love getting drawn on at work especially my face', 1, 0.45962003), ('ohhhh atlanta how i love your traffic', 1, 0.67494327), ('i love 2 hour nosebleeds level 100', 1, 0.6143203), ('i love the way you lie', 1, 0.84331375), ('i love when they run the same commercial twice in a row', 1, 0.6910102), ('I love it when women are referred to as \"girl boss\" however men are just the \"boss\"!', 1, 0.52211165), ('I love asking my boyfriend, the biology student, really complicated physics questions and seeings his brain melt', 0, 0.6145979), ('i love homework', 1, 0.5344357), (\"i love when my boss asks me to work when she clearly knows i'm blocked\", 1, 0.76199996), ('i would love to guard steph curry', 1, 0.37107518), (\"i love how relevant nebraska's primary will be next week\", 1, 0.2868026), ('i love having people in my life that only get a hold of me when they want something or want to vent or complain', 1, 0.88860655), (\"i love it when people don't reply\", 1, 0.8878041), ('ah yes i love replacing a tire at 9 in the morning', 1, 0.5137789), (\"i love when people don't stop talking to the cashier when people are trying to close up shop\", 1, 0.73811394), ('i love it when customers tell me who to vote for', 1, 0.61705995), ('i love watching plane crash coverage at the airport', 1, 0.7004816), (\"i love that i am over 40 years old amp some people still talk to me like i'm a child\", 1, 0.7460533), ('Wow I love it when rich people get stuff for free.', 1, 0.4519455), (\"i love listening to others bitch about work while i'm running around doing everything\", 1, 0.70377046), (\"i love the fact i can't go to sleep when i get off\", 1, 0.7649647), ('i love getting up this early to fly to work', 1, 0.5758433), ('i love being super wellspoken and just having days where everything gets mixed up or botched', 1, 0.58653843), ('i love it when i have to beg for my paycheck', 1, 0.8228307), ('i love traffic', 1, 0.6112633), (\"i love nights where i'm tired but sleep doesn't come\", 1, 0.7737569), ('i love smoothies bc u can really eat half a bag of spinach and just not taste it at all', 0, 0.40607354), ('@kristenritch YES I love sandwich and enneagram', 0, 0.30768415), ('hail in summer i love british weather', 1, 0.5826219), (\"oh i do love it when people go quiet when you don't tell them exactly what they want to hear\", 1, 0.24817272), ('obviously i love having to do all of this all over again and edit out 10000 ahms another time', 1, 0.7322164), ('yay i love it when my parents ridicule me', 1, 0.7286091), ('i love the sound of bitching in the morning', 1, 0.79675287), ('yep i love going out in public covered in dirt and sweat', 1, 0.8679726), ('i love rainwater tanks with centre posts', 1, 0.53486747), ('i love holidays that just are used for people to party', 1, 0.624614), ('i love how president obama is endorsing someone under investigation by the fbi', 1, 0.77426773), ('i love getting phone calls after work to come dd', 1, 0.42651466), ('i love this cough i have', 1, 0.7489816), ('oh how i love going to work', 1, 0.5294087), (\"i love when i can't sleep\", 1, 0.6844328), ('i love how people stop fucking with you once you ask for money', 1, 0.8260453), ('oh how i love drunks', 1, 0.49388218), ('i love driving all day', 1, 0.4208535), ('i love going all day without any texts', 1, 0.5252213), ('I do love it when my mum makes me spend my savings on beer 😒', 1, 0.36045787), ('i love running errands during rush hour', 1, 0.587842), ('I love how Javer only started to suspect Jean Valjean was the mayor bc of his big beefy muscles', 0, 0.49578193), ('man i love talking to kids who pretend they know everything', 1, 0.8162572), ('i love ingesting poison and then wondering why my tummy is rumbling the next morning', 1, 0.93347377), ('oh i love when people waste my time and fucking energy', 1, 1.0), ('i love when my dad scans the radio the whole way to our destination', 1, 0.34062818), ('i love the word junction', 0, 0.51647234), ('Idk why but I love comfortable silence', 0, 0.47379118), (\"i love talking about feminism when I'm drunk\", 0, 0.52277124), ('i love my life', 0, 0.42767182), ('i love when people who are supposedly close to you plan stuff and tell everyone first before you', 1, 0.78217244), ('i love waking up at 4 30 and not being able to fall back to sleep because of hiccups', 1, 0.84597963), ('i love how quiet it gets when it snows', 0, 0.4356022), ('i love my friends', 0, 0.30329326), ('i love how as soon as i start drinking i forget to filter the shit that comes out of my mouth', 1, 0.8806), ('wow i love only ever buying gray and striped shirts', 1, 0.67698216), ('i love when i hide things from myself', 1, 0.70197874), ('I love it when someone criticses my parenting then their adult son cuts his finger off with a knife and breaks his leg by falling off a bike', 1, 0.84024054), ('I love when I start choking on my water in my 8 person class', 1, 0.6323399), ('I love it when my neighbours children block the drive because they can’t cook their own meals every single day!!!', 1, 0.8887179), ('i love talking to people about books !!!', 0, 0.24507512), (\"I love professional wrestling, y'all\", 0, 0.31232873), (\"I love when I learn about stuff I've apparently done and said from people😂\", 1, 0.52115476), ('I would love a pet woolly mammoth', 0, 0.46444756), ('i love 6 hour panic attacks', 1, 0.72062504), ('I LOVE LORDE GOODNIGHT', 0, 0.12209804), ('i LOVE grocery shopping', 0, 0.45542902), ('i love video games', 0, 0.33419722), (\"@OfficialPLT I'd love to get some awesome activewear to go with my t-shirt and help me in my May challenge for @Shelter 😁🤞🏼 https://t.co/8NceX1fgTF\", 0, 0.13045558)]\n",
      "Best threshold: 0.335\n",
      "Accuracy: 0.8549618320610687\n"
     ]
    }
   ],
   "source": [
    "gap = 0.001\n",
    "threshold_list = list(np.arange(0, 1 + gap, gap))\n",
    "\n",
    "threshold_accuracy_dict, tweet_annotation_sentiment_distance = define_threshold(df[\"tweet\"], df[\"sarcastic\"], threshold_list)\n",
    "best_threshold = max(threshold_accuracy_dict, key=threshold_accuracy_dict.get)\n",
    "print(\"Best threshold:\", best_threshold)\n",
    "print(\"Accuracy:\", threshold_accuracy_dict[best_threshold])"
   ]
  },
  {
   "cell_type": "code",
   "execution_count": null,
   "metadata": {
    "id": "gBNDLilo6J-h"
   },
   "outputs": [],
   "source": [
    "import json\n",
    "\n",
    "data_as_lists = [[item[0], item[1], float(item[2])] for item in tweet_annotation_sentiment_distance]\n",
    "\n",
    "# Save to a JSON file\n",
    "with open('tweet_annotation_sentiment_distance_exp1.json', 'w') as json_file:\n",
    "    json.dump(data_as_lists, json_file)"
   ]
  },
  {
   "cell_type": "code",
   "execution_count": null,
   "metadata": {
    "id": "afX17x9aWHuj"
   },
   "outputs": [],
   "source": [
    "df['prediction'] = None\n",
    "df['correct'] = None\n",
    "for i in range(df.shape[0]):\n",
    "  df.at[i, 'prediction'] = int(is_sarc(tweet_annotation_sentiment_distance[i][2], best_threshold))\n",
    "  df.at[i, 'correct'] = int(df.at[i, 'prediction'] == df.at[i, 'sarcastic'])"
   ]
  },
  {
   "cell_type": "code",
   "execution_count": null,
   "metadata": {
    "colab": {
     "base_uri": "https://localhost:8080/"
    },
    "executionInfo": {
     "elapsed": 1221,
     "status": "ok",
     "timestamp": 1732713948000,
     "user": {
      "displayName": "Ivaylo Mitov",
      "userId": "02045773347946630217"
     },
     "user_tz": -60
    },
    "id": "czSkNtHiy-rm",
    "outputId": "d8b7d65f-bbb2-47c3-96a7-a8854948c476"
   },
   "outputs": [
    {
     "name": "stdout",
     "output_type": "stream",
     "text": [
      "p-value: 0.030909196366461937\n",
      "Test statistic: 0.8549618320610687\n",
      "BinomTestResult(k=112, n=131, alternative='greater', statistic=0.8549618320610687, pvalue=0.030909196366461937)\n"
     ]
    }
   ],
   "source": [
    "from scipy.stats import binomtest\n",
    "\n",
    "result = binomtest(sum(df['correct']), df.shape[0], np.mean(df['sarcastic']), alternative='greater')\n",
    "\n",
    "print(f\"p-value: {result.pvalue}\")\n",
    "print(f\"Test statistic: {result.statistic}\")\n",
    "print(result)"
   ]
  },
  {
   "cell_type": "code",
   "execution_count": null,
   "metadata": {
    "id": "GyKHbAUMy_BM"
   },
   "outputs": [],
   "source": [
    "df.at[df.shape[0]+1, 'correct'] = np.mean(df['correct'])\n",
    "df.at[df.shape[0], 'sarcastic'] = np.mean(df['sarcastic'])\n",
    "df.at[df.shape[0]+1, 'correct'] = f\"P-value: {round(result.pvalue, 3)}\""
   ]
  },
  {
   "cell_type": "code",
   "execution_count": null,
   "metadata": {
    "colab": {
     "base_uri": "https://localhost:8080/",
     "height": 423
    },
    "executionInfo": {
     "elapsed": 209,
     "status": "ok",
     "timestamp": 1732713971418,
     "user": {
      "displayName": "Ivaylo Mitov",
      "userId": "02045773347946630217"
     },
     "user_tz": -60
    },
    "id": "i1YAFAw6ojHR",
    "outputId": "6f595baa-9cfc-4ff6-d2f8-2f906b331aec"
   },
   "outputs": [
    {
     "data": {
      "application/vnd.google.colaboratory.intrinsic+json": {
       "summary": "{\n  \"name\": \"df\",\n  \"rows\": 133,\n  \"fields\": [\n    {\n      \"column\": \"ID\",\n      \"properties\": {\n        \"dtype\": \"number\",\n        \"std\": 6011.205213083244,\n        \"min\": 76.0,\n        \"max\": 19885.0,\n        \"num_unique_values\": 131,\n        \"samples\": [\n          11488.0,\n          16329.0,\n          4516.0\n        ],\n        \"semantic_type\": \"\",\n        \"description\": \"\"\n      }\n    },\n    {\n      \"column\": \"original_ID\",\n      \"properties\": {\n        \"dtype\": \"string\",\n        \"num_unique_values\": 131,\n        \"samples\": [\n          \"sign_12131\",\n          \"sign_2253\",\n          \"sign_12208\"\n        ],\n        \"semantic_type\": \"\",\n        \"description\": \"\"\n      }\n    },\n    {\n      \"column\": \"tweet\",\n      \"properties\": {\n        \"dtype\": \"string\",\n        \"num_unique_values\": 131,\n        \"samples\": [\n          \"i love texting people something important and them not texting me back\",\n          \"i love when my commute consists of people unable to drive while on phones esp when trying to take off my bumper in a parking lot\",\n          \"i love how the summer's eve feminine wash commercial focuses on a guy who's insecure about his masculinity\"\n        ],\n        \"semantic_type\": \"\",\n        \"description\": \"\"\n      }\n    },\n    {\n      \"column\": \"sarcastic\",\n      \"properties\": {\n        \"dtype\": \"number\",\n        \"std\": 0.4099456971632839,\n        \"min\": 0.0,\n        \"max\": 1.0,\n        \"num_unique_values\": 3,\n        \"samples\": [\n          1.0,\n          0.0,\n          0.7862595419847328\n        ],\n        \"semantic_type\": \"\",\n        \"description\": \"\"\n      }\n    },\n    {\n      \"column\": \"rephrase\",\n      \"properties\": {\n        \"dtype\": \"string\",\n        \"num_unique_values\": 100,\n        \"samples\": [\n          \"i hate driving all day\",\n          \"nebraska's primary next week will not be relevant at all\",\n          \"obviously i hate having to do all of this all over again and edit out 10000 ahms another time\"\n        ],\n        \"semantic_type\": \"\",\n        \"description\": \"\"\n      }\n    },\n    {\n      \"column\": \"prediction\",\n      \"properties\": {\n        \"dtype\": \"date\",\n        \"min\": 0,\n        \"max\": 1,\n        \"num_unique_values\": 2,\n        \"samples\": [\n          0,\n          1\n        ],\n        \"semantic_type\": \"\",\n        \"description\": \"\"\n      }\n    },\n    {\n      \"column\": \"correct\",\n      \"properties\": {\n        \"dtype\": \"category\",\n        \"num_unique_values\": 4,\n        \"samples\": [\n          0,\n          \"P-value: 0.031\"\n        ],\n        \"semantic_type\": \"\",\n        \"description\": \"\"\n      }\n    }\n  ]\n}",
       "type": "dataframe",
       "variable_name": "df"
      },
      "text/html": [
       "\n",
       "  <div id=\"df-f7ecb83a-b78e-4a0d-989c-1dfeb798ec40\" class=\"colab-df-container\">\n",
       "    <div>\n",
       "<style scoped>\n",
       "    .dataframe tbody tr th:only-of-type {\n",
       "        vertical-align: middle;\n",
       "    }\n",
       "\n",
       "    .dataframe tbody tr th {\n",
       "        vertical-align: top;\n",
       "    }\n",
       "\n",
       "    .dataframe thead th {\n",
       "        text-align: right;\n",
       "    }\n",
       "</style>\n",
       "<table border=\"1\" class=\"dataframe\">\n",
       "  <thead>\n",
       "    <tr style=\"text-align: right;\">\n",
       "      <th></th>\n",
       "      <th>ID</th>\n",
       "      <th>original_ID</th>\n",
       "      <th>tweet</th>\n",
       "      <th>sarcastic</th>\n",
       "      <th>rephrase</th>\n",
       "      <th>prediction</th>\n",
       "      <th>correct</th>\n",
       "    </tr>\n",
       "  </thead>\n",
       "  <tbody>\n",
       "    <tr>\n",
       "      <th>0</th>\n",
       "      <td>6440.0</td>\n",
       "      <td>sign_6941</td>\n",
       "      <td>i looove getting 3 hours of sleep because two ...</td>\n",
       "      <td>1.00000</td>\n",
       "      <td>i hate getting 3 hours of sleep because two jobs</td>\n",
       "      <td>1</td>\n",
       "      <td>1</td>\n",
       "    </tr>\n",
       "    <tr>\n",
       "      <th>1</th>\n",
       "      <td>12874.0</td>\n",
       "      <td>sign_12479</td>\n",
       "      <td>i hate people who use big words just to make t...</td>\n",
       "      <td>1.00000</td>\n",
       "      <td>i hate people who use big words just to make t...</td>\n",
       "      <td>0</td>\n",
       "      <td>0</td>\n",
       "    </tr>\n",
       "    <tr>\n",
       "      <th>2</th>\n",
       "      <td>4295.0</td>\n",
       "      <td>sign_12125</td>\n",
       "      <td>i love that girl who never liked even my dp</td>\n",
       "      <td>1.00000</td>\n",
       "      <td>i love that girl who never liked even my dp</td>\n",
       "      <td>1</td>\n",
       "      <td>1</td>\n",
       "    </tr>\n",
       "    <tr>\n",
       "      <th>3</th>\n",
       "      <td>4147.0</td>\n",
       "      <td>train_2222</td>\n",
       "      <td>I hate that I wasted my whole weekend 😠</td>\n",
       "      <td>0.00000</td>\n",
       "      <td>NaN</td>\n",
       "      <td>0</td>\n",
       "      <td>1</td>\n",
       "    </tr>\n",
       "    <tr>\n",
       "      <th>4</th>\n",
       "      <td>11437.0</td>\n",
       "      <td>sign_5017</td>\n",
       "      <td>i love being ignored</td>\n",
       "      <td>1.00000</td>\n",
       "      <td>i hate being ignored</td>\n",
       "      <td>1</td>\n",
       "      <td>1</td>\n",
       "    </tr>\n",
       "    <tr>\n",
       "      <th>...</th>\n",
       "      <td>...</td>\n",
       "      <td>...</td>\n",
       "      <td>...</td>\n",
       "      <td>...</td>\n",
       "      <td>...</td>\n",
       "      <td>...</td>\n",
       "      <td>...</td>\n",
       "    </tr>\n",
       "    <tr>\n",
       "      <th>128</th>\n",
       "      <td>7159.0</td>\n",
       "      <td>train_2825</td>\n",
       "      <td>i LOVE grocery shopping</td>\n",
       "      <td>0.00000</td>\n",
       "      <td>NaN</td>\n",
       "      <td>1</td>\n",
       "      <td>0</td>\n",
       "    </tr>\n",
       "    <tr>\n",
       "      <th>129</th>\n",
       "      <td>13743.0</td>\n",
       "      <td>train_2657</td>\n",
       "      <td>i love video games</td>\n",
       "      <td>0.00000</td>\n",
       "      <td>NaN</td>\n",
       "      <td>0</td>\n",
       "      <td>1</td>\n",
       "    </tr>\n",
       "    <tr>\n",
       "      <th>130</th>\n",
       "      <td>6082.0</td>\n",
       "      <td>train_2408</td>\n",
       "      <td>@OfficialPLT I'd love to get some awesome acti...</td>\n",
       "      <td>0.00000</td>\n",
       "      <td>NaN</td>\n",
       "      <td>0</td>\n",
       "      <td>1</td>\n",
       "    </tr>\n",
       "    <tr>\n",
       "      <th>132</th>\n",
       "      <td>NaN</td>\n",
       "      <td>NaN</td>\n",
       "      <td>NaN</td>\n",
       "      <td>0.78626</td>\n",
       "      <td>NaN</td>\n",
       "      <td>NaN</td>\n",
       "      <td>0.854962</td>\n",
       "    </tr>\n",
       "    <tr>\n",
       "      <th>133</th>\n",
       "      <td>NaN</td>\n",
       "      <td>NaN</td>\n",
       "      <td>NaN</td>\n",
       "      <td>NaN</td>\n",
       "      <td>NaN</td>\n",
       "      <td>NaN</td>\n",
       "      <td>P-value: 0.031</td>\n",
       "    </tr>\n",
       "  </tbody>\n",
       "</table>\n",
       "<p>133 rows × 7 columns</p>\n",
       "</div>\n",
       "    <div class=\"colab-df-buttons\">\n",
       "\n",
       "  <div class=\"colab-df-container\">\n",
       "    <button class=\"colab-df-convert\" onclick=\"convertToInteractive('df-f7ecb83a-b78e-4a0d-989c-1dfeb798ec40')\"\n",
       "            title=\"Convert this dataframe to an interactive table.\"\n",
       "            style=\"display:none;\">\n",
       "\n",
       "  <svg xmlns=\"http://www.w3.org/2000/svg\" height=\"24px\" viewBox=\"0 -960 960 960\">\n",
       "    <path d=\"M120-120v-720h720v720H120Zm60-500h600v-160H180v160Zm220 220h160v-160H400v160Zm0 220h160v-160H400v160ZM180-400h160v-160H180v160Zm440 0h160v-160H620v160ZM180-180h160v-160H180v160Zm440 0h160v-160H620v160Z\"/>\n",
       "  </svg>\n",
       "    </button>\n",
       "\n",
       "  <style>\n",
       "    .colab-df-container {\n",
       "      display:flex;\n",
       "      gap: 12px;\n",
       "    }\n",
       "\n",
       "    .colab-df-convert {\n",
       "      background-color: #E8F0FE;\n",
       "      border: none;\n",
       "      border-radius: 50%;\n",
       "      cursor: pointer;\n",
       "      display: none;\n",
       "      fill: #1967D2;\n",
       "      height: 32px;\n",
       "      padding: 0 0 0 0;\n",
       "      width: 32px;\n",
       "    }\n",
       "\n",
       "    .colab-df-convert:hover {\n",
       "      background-color: #E2EBFA;\n",
       "      box-shadow: 0px 1px 2px rgba(60, 64, 67, 0.3), 0px 1px 3px 1px rgba(60, 64, 67, 0.15);\n",
       "      fill: #174EA6;\n",
       "    }\n",
       "\n",
       "    .colab-df-buttons div {\n",
       "      margin-bottom: 4px;\n",
       "    }\n",
       "\n",
       "    [theme=dark] .colab-df-convert {\n",
       "      background-color: #3B4455;\n",
       "      fill: #D2E3FC;\n",
       "    }\n",
       "\n",
       "    [theme=dark] .colab-df-convert:hover {\n",
       "      background-color: #434B5C;\n",
       "      box-shadow: 0px 1px 3px 1px rgba(0, 0, 0, 0.15);\n",
       "      filter: drop-shadow(0px 1px 2px rgba(0, 0, 0, 0.3));\n",
       "      fill: #FFFFFF;\n",
       "    }\n",
       "  </style>\n",
       "\n",
       "    <script>\n",
       "      const buttonEl =\n",
       "        document.querySelector('#df-f7ecb83a-b78e-4a0d-989c-1dfeb798ec40 button.colab-df-convert');\n",
       "      buttonEl.style.display =\n",
       "        google.colab.kernel.accessAllowed ? 'block' : 'none';\n",
       "\n",
       "      async function convertToInteractive(key) {\n",
       "        const element = document.querySelector('#df-f7ecb83a-b78e-4a0d-989c-1dfeb798ec40');\n",
       "        const dataTable =\n",
       "          await google.colab.kernel.invokeFunction('convertToInteractive',\n",
       "                                                    [key], {});\n",
       "        if (!dataTable) return;\n",
       "\n",
       "        const docLinkHtml = 'Like what you see? Visit the ' +\n",
       "          '<a target=\"_blank\" href=https://colab.research.google.com/notebooks/data_table.ipynb>data table notebook</a>'\n",
       "          + ' to learn more about interactive tables.';\n",
       "        element.innerHTML = '';\n",
       "        dataTable['output_type'] = 'display_data';\n",
       "        await google.colab.output.renderOutput(dataTable, element);\n",
       "        const docLink = document.createElement('div');\n",
       "        docLink.innerHTML = docLinkHtml;\n",
       "        element.appendChild(docLink);\n",
       "      }\n",
       "    </script>\n",
       "  </div>\n",
       "\n",
       "\n",
       "<div id=\"df-a01fae20-618b-4ae3-9040-f92693f2c46a\">\n",
       "  <button class=\"colab-df-quickchart\" onclick=\"quickchart('df-a01fae20-618b-4ae3-9040-f92693f2c46a')\"\n",
       "            title=\"Suggest charts\"\n",
       "            style=\"display:none;\">\n",
       "\n",
       "<svg xmlns=\"http://www.w3.org/2000/svg\" height=\"24px\"viewBox=\"0 0 24 24\"\n",
       "     width=\"24px\">\n",
       "    <g>\n",
       "        <path d=\"M19 3H5c-1.1 0-2 .9-2 2v14c0 1.1.9 2 2 2h14c1.1 0 2-.9 2-2V5c0-1.1-.9-2-2-2zM9 17H7v-7h2v7zm4 0h-2V7h2v10zm4 0h-2v-4h2v4z\"/>\n",
       "    </g>\n",
       "</svg>\n",
       "  </button>\n",
       "\n",
       "<style>\n",
       "  .colab-df-quickchart {\n",
       "      --bg-color: #E8F0FE;\n",
       "      --fill-color: #1967D2;\n",
       "      --hover-bg-color: #E2EBFA;\n",
       "      --hover-fill-color: #174EA6;\n",
       "      --disabled-fill-color: #AAA;\n",
       "      --disabled-bg-color: #DDD;\n",
       "  }\n",
       "\n",
       "  [theme=dark] .colab-df-quickchart {\n",
       "      --bg-color: #3B4455;\n",
       "      --fill-color: #D2E3FC;\n",
       "      --hover-bg-color: #434B5C;\n",
       "      --hover-fill-color: #FFFFFF;\n",
       "      --disabled-bg-color: #3B4455;\n",
       "      --disabled-fill-color: #666;\n",
       "  }\n",
       "\n",
       "  .colab-df-quickchart {\n",
       "    background-color: var(--bg-color);\n",
       "    border: none;\n",
       "    border-radius: 50%;\n",
       "    cursor: pointer;\n",
       "    display: none;\n",
       "    fill: var(--fill-color);\n",
       "    height: 32px;\n",
       "    padding: 0;\n",
       "    width: 32px;\n",
       "  }\n",
       "\n",
       "  .colab-df-quickchart:hover {\n",
       "    background-color: var(--hover-bg-color);\n",
       "    box-shadow: 0 1px 2px rgba(60, 64, 67, 0.3), 0 1px 3px 1px rgba(60, 64, 67, 0.15);\n",
       "    fill: var(--button-hover-fill-color);\n",
       "  }\n",
       "\n",
       "  .colab-df-quickchart-complete:disabled,\n",
       "  .colab-df-quickchart-complete:disabled:hover {\n",
       "    background-color: var(--disabled-bg-color);\n",
       "    fill: var(--disabled-fill-color);\n",
       "    box-shadow: none;\n",
       "  }\n",
       "\n",
       "  .colab-df-spinner {\n",
       "    border: 2px solid var(--fill-color);\n",
       "    border-color: transparent;\n",
       "    border-bottom-color: var(--fill-color);\n",
       "    animation:\n",
       "      spin 1s steps(1) infinite;\n",
       "  }\n",
       "\n",
       "  @keyframes spin {\n",
       "    0% {\n",
       "      border-color: transparent;\n",
       "      border-bottom-color: var(--fill-color);\n",
       "      border-left-color: var(--fill-color);\n",
       "    }\n",
       "    20% {\n",
       "      border-color: transparent;\n",
       "      border-left-color: var(--fill-color);\n",
       "      border-top-color: var(--fill-color);\n",
       "    }\n",
       "    30% {\n",
       "      border-color: transparent;\n",
       "      border-left-color: var(--fill-color);\n",
       "      border-top-color: var(--fill-color);\n",
       "      border-right-color: var(--fill-color);\n",
       "    }\n",
       "    40% {\n",
       "      border-color: transparent;\n",
       "      border-right-color: var(--fill-color);\n",
       "      border-top-color: var(--fill-color);\n",
       "    }\n",
       "    60% {\n",
       "      border-color: transparent;\n",
       "      border-right-color: var(--fill-color);\n",
       "    }\n",
       "    80% {\n",
       "      border-color: transparent;\n",
       "      border-right-color: var(--fill-color);\n",
       "      border-bottom-color: var(--fill-color);\n",
       "    }\n",
       "    90% {\n",
       "      border-color: transparent;\n",
       "      border-bottom-color: var(--fill-color);\n",
       "    }\n",
       "  }\n",
       "</style>\n",
       "\n",
       "  <script>\n",
       "    async function quickchart(key) {\n",
       "      const quickchartButtonEl =\n",
       "        document.querySelector('#' + key + ' button');\n",
       "      quickchartButtonEl.disabled = true;  // To prevent multiple clicks.\n",
       "      quickchartButtonEl.classList.add('colab-df-spinner');\n",
       "      try {\n",
       "        const charts = await google.colab.kernel.invokeFunction(\n",
       "            'suggestCharts', [key], {});\n",
       "      } catch (error) {\n",
       "        console.error('Error during call to suggestCharts:', error);\n",
       "      }\n",
       "      quickchartButtonEl.classList.remove('colab-df-spinner');\n",
       "      quickchartButtonEl.classList.add('colab-df-quickchart-complete');\n",
       "    }\n",
       "    (() => {\n",
       "      let quickchartButtonEl =\n",
       "        document.querySelector('#df-a01fae20-618b-4ae3-9040-f92693f2c46a button');\n",
       "      quickchartButtonEl.style.display =\n",
       "        google.colab.kernel.accessAllowed ? 'block' : 'none';\n",
       "    })();\n",
       "  </script>\n",
       "</div>\n",
       "\n",
       "  <div id=\"id_a5e8a1e1-6eeb-44c9-b23e-f425f2d0feba\">\n",
       "    <style>\n",
       "      .colab-df-generate {\n",
       "        background-color: #E8F0FE;\n",
       "        border: none;\n",
       "        border-radius: 50%;\n",
       "        cursor: pointer;\n",
       "        display: none;\n",
       "        fill: #1967D2;\n",
       "        height: 32px;\n",
       "        padding: 0 0 0 0;\n",
       "        width: 32px;\n",
       "      }\n",
       "\n",
       "      .colab-df-generate:hover {\n",
       "        background-color: #E2EBFA;\n",
       "        box-shadow: 0px 1px 2px rgba(60, 64, 67, 0.3), 0px 1px 3px 1px rgba(60, 64, 67, 0.15);\n",
       "        fill: #174EA6;\n",
       "      }\n",
       "\n",
       "      [theme=dark] .colab-df-generate {\n",
       "        background-color: #3B4455;\n",
       "        fill: #D2E3FC;\n",
       "      }\n",
       "\n",
       "      [theme=dark] .colab-df-generate:hover {\n",
       "        background-color: #434B5C;\n",
       "        box-shadow: 0px 1px 3px 1px rgba(0, 0, 0, 0.15);\n",
       "        filter: drop-shadow(0px 1px 2px rgba(0, 0, 0, 0.3));\n",
       "        fill: #FFFFFF;\n",
       "      }\n",
       "    </style>\n",
       "    <button class=\"colab-df-generate\" onclick=\"generateWithVariable('df')\"\n",
       "            title=\"Generate code using this dataframe.\"\n",
       "            style=\"display:none;\">\n",
       "\n",
       "  <svg xmlns=\"http://www.w3.org/2000/svg\" height=\"24px\"viewBox=\"0 0 24 24\"\n",
       "       width=\"24px\">\n",
       "    <path d=\"M7,19H8.4L18.45,9,17,7.55,7,17.6ZM5,21V16.75L18.45,3.32a2,2,0,0,1,2.83,0l1.4,1.43a1.91,1.91,0,0,1,.58,1.4,1.91,1.91,0,0,1-.58,1.4L9.25,21ZM18.45,9,17,7.55Zm-12,3A5.31,5.31,0,0,0,4.9,8.1,5.31,5.31,0,0,0,1,6.5,5.31,5.31,0,0,0,4.9,4.9,5.31,5.31,0,0,0,6.5,1,5.31,5.31,0,0,0,8.1,4.9,5.31,5.31,0,0,0,12,6.5,5.46,5.46,0,0,0,6.5,12Z\"/>\n",
       "  </svg>\n",
       "    </button>\n",
       "    <script>\n",
       "      (() => {\n",
       "      const buttonEl =\n",
       "        document.querySelector('#id_a5e8a1e1-6eeb-44c9-b23e-f425f2d0feba button.colab-df-generate');\n",
       "      buttonEl.style.display =\n",
       "        google.colab.kernel.accessAllowed ? 'block' : 'none';\n",
       "\n",
       "      buttonEl.onclick = () => {\n",
       "        google.colab.notebook.generateWithVariable('df');\n",
       "      }\n",
       "      })();\n",
       "    </script>\n",
       "  </div>\n",
       "\n",
       "    </div>\n",
       "  </div>\n"
      ],
      "text/plain": [
       "          ID original_ID                                              tweet  \\\n",
       "0     6440.0   sign_6941  i looove getting 3 hours of sleep because two ...   \n",
       "1    12874.0  sign_12479  i hate people who use big words just to make t...   \n",
       "2     4295.0  sign_12125        i love that girl who never liked even my dp   \n",
       "3     4147.0  train_2222            I hate that I wasted my whole weekend 😠   \n",
       "4    11437.0   sign_5017                               i love being ignored   \n",
       "..       ...         ...                                                ...   \n",
       "128   7159.0  train_2825                            i LOVE grocery shopping   \n",
       "129  13743.0  train_2657                                 i love video games   \n",
       "130   6082.0  train_2408  @OfficialPLT I'd love to get some awesome acti...   \n",
       "132      NaN         NaN                                                NaN   \n",
       "133      NaN         NaN                                                NaN   \n",
       "\n",
       "     sarcastic                                           rephrase prediction  \\\n",
       "0      1.00000   i hate getting 3 hours of sleep because two jobs          1   \n",
       "1      1.00000  i hate people who use big words just to make t...          0   \n",
       "2      1.00000        i love that girl who never liked even my dp          1   \n",
       "3      0.00000                                                NaN          0   \n",
       "4      1.00000                               i hate being ignored          1   \n",
       "..         ...                                                ...        ...   \n",
       "128    0.00000                                                NaN          1   \n",
       "129    0.00000                                                NaN          0   \n",
       "130    0.00000                                                NaN          0   \n",
       "132    0.78626                                                NaN        NaN   \n",
       "133        NaN                                                NaN        NaN   \n",
       "\n",
       "            correct  \n",
       "0                 1  \n",
       "1                 0  \n",
       "2                 1  \n",
       "3                 1  \n",
       "4                 1  \n",
       "..              ...  \n",
       "128               0  \n",
       "129               1  \n",
       "130               1  \n",
       "132        0.854962  \n",
       "133  P-value: 0.031  \n",
       "\n",
       "[133 rows x 7 columns]"
      ]
     },
     "execution_count": 63,
     "metadata": {},
     "output_type": "execute_result"
    }
   ],
   "source": [
    "df"
   ]
  },
  {
   "cell_type": "code",
   "execution_count": null,
   "metadata": {
    "id": "kQKvqEXCbRrG"
   },
   "outputs": [],
   "source": [
    "df.to_csv('exp1_results_27112024.csv', index=False)"
   ]
  },
  {
   "cell_type": "markdown",
   "metadata": {
    "id": "GEmswLivYFq6"
   },
   "source": [
    "# Test"
   ]
  },
  {
   "cell_type": "code",
   "execution_count": null,
   "metadata": {
    "id": "RarRC5EnYILI"
   },
   "outputs": [],
   "source": [
    "def sentiment_distance(tweet, verb, noun_phrase):\n",
    "  \"\"\"Calculates the sentiment distance (euclidic distance) between the sentiment scores of the V and NP of a given tweet.\"\"\"\n",
    "\n",
    "  tweet_sentiment = classify_sentiment(tweet)\n",
    "  tweet_no_v_sentiment = classify_sentiment(tweet.replace(verb, \"\")) ##TO DO: change (ask Samba)\n",
    "  tweet_no_np_sentiment = classify_sentiment(tweet.replace(noun_phrase, \"\")) ##TO DO: change (ask Samba)\n",
    "  v_sentiment = tweet_sentiment - tweet_no_v_sentiment\n",
    "  np_sentiment = tweet_sentiment - tweet_no_np_sentiment\n",
    "\n",
    "  return v_sentiment, np_sentiment, np.linalg.norm(v_sentiment - np_sentiment)\n",
    "\n",
    "def is_sarc(sentiment_dist, threshold):\n",
    "  \"\"\"Returns True if the sentiment distance is greater than a given threshold and False otherwise.\"\"\"\n",
    "\n",
    "  return sentiment_dist > threshold"
   ]
  },
  {
   "cell_type": "code",
   "execution_count": null,
   "metadata": {
    "id": "qhgID2K7YIoU"
   },
   "outputs": [],
   "source": [
    "def define_threshold(tweets, gold_annotations, threshold_list):\n",
    "  \"\"\"\n",
    "  Creates a list of tuples containing 1) the tweet body, 2) the sarc/non-sarc gold annotation, 3) the sentiment distance between V and NP.\n",
    "  Then, iterates over a list of thresholds and for each threshold calculates the accuracy between the gold annotations and the predicted values.\n",
    "  Returns a dictionary of thresholds and accuracies for those thresholds.\n",
    "  \"\"\"\n",
    "  verb_sent_np_sent = []\n",
    "  tweet_annotation_sentiment_distance = []\n",
    "  for tweet, annotation in zip(tweets, gold_annotations):\n",
    "    \"\"\"\n",
    "    res = parse_tweet(tweet)\n",
    "    if res[\"verb\"] :\n",
    "      verb_span = (res[\"specifier\"][0], res[\"verb\"][-1]) if res[\"specifier\"] else res[\"verb\"]\n",
    "      comp_span = ( min([x[0] for x in res[\"constituents\"]]), max([x[0] for x in res[\"constituents\"]])  )\n",
    "      tweet_annotation_sentiment_distance.append( (tweet, annotation, sentiment_distance(tweet, get_text(tweet, verb_span), get_text(tweet, comp_span) ) ) )\n",
    "    else :\n",
    "    \"\"\"\n",
    "    tweet_split = tweet.split()\n",
    "    try :\n",
    "      i_idx = [x.lower() for x in tweet_split].index(\"i\")\n",
    "    except Exception :\n",
    "      i_idx = min([i for i,x in enumerate(tweet_split) if x.lower().startswith(\"i'\")])\n",
    "    verb = tweet_split[i_idx + 1]\n",
    "    noun_phrase = \" \".join(tweet_split[i_idx + 2:])\n",
    "    verb_sent, np_sent, sent_dist = sentiment_distance(tweet, verb, noun_phrase)\n",
    "    tweet_annotation_sentiment_distance.append((tweet, annotation, sent_dist))\n",
    "    verb_sent_np_sent.append(((verb, verb_sent), (noun_phrase, np_sent)))\n",
    "\n",
    "  # scaling of the data\n",
    "  sentiment_max = max([x[2] for x in tweet_annotation_sentiment_distance])\n",
    "  print(sentiment_max)\n",
    "  tweet_annotation_sentiment_distance = [(t,a, sentiment_dist/sentiment_max) for t, a, sentiment_dist in tweet_annotation_sentiment_distance]\n",
    "  print(tweet_annotation_sentiment_distance)\n",
    "\n",
    "  threshold_accuracy_dict = {}\n",
    "  for threshold in threshold_list:\n",
    "    correct = 0\n",
    "    for _, annotation, sentiment_dist in tweet_annotation_sentiment_distance:\n",
    "      if is_sarc(sentiment_dist, threshold) == bool(annotation):\n",
    "        correct += 1\n",
    "\n",
    "    threshold_accuracy_dict[threshold] = correct / len(tweet_annotation_sentiment_distance)\n",
    "\n",
    "  return threshold_accuracy_dict, tweet_annotation_sentiment_distance, verb_sent_np_sent"
   ]
  },
  {
   "cell_type": "code",
   "execution_count": null,
   "metadata": {
    "colab": {
     "base_uri": "https://localhost:8080/"
    },
    "executionInfo": {
     "elapsed": 41190,
     "status": "ok",
     "timestamp": 1732976035017,
     "user": {
      "displayName": "Ivaylo Mitov",
      "userId": "02045773347946630217"
     },
     "user_tz": -60
    },
    "id": "AZUvh-r2YQvT",
    "outputId": "5ee1016e-ec95-4184-d2cc-6c43019bfccc"
   },
   "outputs": [
    {
     "name": "stdout",
     "output_type": "stream",
     "text": [
      "6.987896\n",
      "[('i looove getting 3 hours of sleep because two jobs', 1, 0.7442865), ('i hate people who use big words just to make themselves look perspicacious', 1, 0.064811245), ('i love that girl who never liked even my dp', 1, 0.91172355), ('I hate that I wasted my whole weekend 😠', 0, 0.13130224), ('i love being ignored', 1, 0.80049145), ('I hate this guy so much https://t.co/lHPKXjNLL4', 0, 0.3619911), ('I hate living in such a cold place', 0, 0.053097803), ('I hate seeing my favourite game company go down the drain.', 0, 0.14841583), ('yes because i loved to be ignored', 1, 0.8455245), (\"i'm loving the ceasefire in syria\", 1, 0.5935277), ('I hate it when a restaurant ignores my dietary requirements', 0, 0.0770024), ('happy international lesbian day i love loving women 😍', 0, 0.018772366), ('I hate paying so much for gas.', 0, 0.03051175), ('i hate it here ❤️❤️❤️❤️❤️', 1, 0.942194), ('I would hate to be stuck in my room for another lockdown', 0, 0.7133869), ('i love scary movies by myself', 1, 0.4821158), ('i love this new holding pen approach to security lineups at big airports', 1, 0.49311298), ('i love when my boyfriend texts me back', 1, 0.1655628), ('i love shredding lettuce hahaha', 1, 0.23761137), (\"i love how the summer's eve feminine wash commercial focuses on a guy who's insecure about his masculinity\", 1, 0.7333078), ('i love being sarcastic', 1, 0.49104095), (\"i love when i see people get mad at something that's clearly a joke over social media lol\", 1, 0.80477345), ('i love when old men cat call me from their work truck in the morning', 1, 0.5370332), ('i love arbitrary lines going through customs in airports', 1, 0.7073027), ('i love listening to my neighbors blast spanish music', 1, 0.44571778), ('yes i would love a lesson on communism individual who only has reference through the word commie and has never read marx engels', 1, 0.4560989), ('nothing i love more then coming home to clean something i deep cleaned two days ago', 1, 0.13617964), ('i love dashboards which are actually just a tables in a word document or b excel workbooks', 1, 0.6707599), ('i love silence', 1, 0.4909921), ('i love it when people get nasty with me when i enforce the rules', 1, 0.8687834), ('i love insomnia', 1, 0.6445053), ('i love twofaced people', 1, 0.6863743), (\"yes facebook i'd love to see posts from a year ago today\", 1, 0.58007294), (\"i love it when it's my day off and i get called into work\", 1, 0.6426117), ('i love the urgency we re playing with', 1, 0.42808172), ('oh how i love sitting in a court house to pay a ticket', 1, 0.7565255), ('What I would love to tweet right now 👀👀', 0, 0.53738153), (\"i love ppl who don't understand my humor\", 1, 0.8551776), ('i love how everyone is responding to my texts this weekend', 1, 0.47025248), ('I love my friends', 0, 0.2598359), ('i love when my commute consists of people unable to drive while on phones esp when trying to take off my bumper in a parking lot', 1, 0.7765968), ('i love the smell of the hospital er at 3 am', 1, 0.6768229), ('i love when my joints randomly click pop during simple movements', 1, 0.509355), ('i love how retweets show up in the what i missed section now', 1, 0.6274981), ('i love shoegaze sm', 0, 0.25397617), ('I love days when Rob works short call and is only at the hospital for *checks watch* 13 hours.', 1, 0.5136107), ('things i love people being wishy washy', 1, 0.816445), ('i love testing my patience grocery shopping at walmart on a sunday night', 1, 0.5583563), ('gosh i love 17 hour work days', 1, 0.68483603), ('I love it when drunk, inconsiderate flatmates come back and start climbing on the roof #istillhaveexams #tryingtosleep', 1, 0.8131886), (\"i love when people think the rules don't apply to them\", 1, 0.861176), ('i love how corporations like to do the bare minimum that ada allows', 1, 0.7173906), ('i love summers with no air con', 1, 0.49152508), ('i love waking up to the call of the dying smoke detector', 1, 0.7035419), ('i love being too mentally ill to email my mental health care provider', 1, 0.80175024), ('i love texting people something important and them not texting me back', 1, 0.710447), ('i love getting drawn on at work especially my face', 1, 0.45962003), ('ohhhh atlanta how i love your traffic', 1, 0.67494327), ('i love 2 hour nosebleeds level 100', 1, 0.6143203), ('i love the way you lie', 1, 0.84331375), ('i love when they run the same commercial twice in a row', 1, 0.6910102), ('I love it when women are referred to as \"girl boss\" however men are just the \"boss\"!', 1, 0.52211165), ('I love asking my boyfriend, the biology student, really complicated physics questions and seeings his brain melt', 0, 0.6145979), ('i love homework', 1, 0.5344357), (\"i love when my boss asks me to work when she clearly knows i'm blocked\", 1, 0.76199996), ('i would love to guard steph curry', 1, 0.37107518), (\"i love how relevant nebraska's primary will be next week\", 1, 0.2868026), ('i love having people in my life that only get a hold of me when they want something or want to vent or complain', 1, 0.88860655), (\"i love it when people don't reply\", 1, 0.8878041), ('ah yes i love replacing a tire at 9 in the morning', 1, 0.5137789), (\"i love when people don't stop talking to the cashier when people are trying to close up shop\", 1, 0.73811394), ('i love it when customers tell me who to vote for', 1, 0.61705995), ('i love watching plane crash coverage at the airport', 1, 0.7004816), (\"i love that i am over 40 years old amp some people still talk to me like i'm a child\", 1, 0.7460533), ('Wow I love it when rich people get stuff for free.', 1, 0.4519455), (\"i love listening to others bitch about work while i'm running around doing everything\", 1, 0.70377046), (\"i love the fact i can't go to sleep when i get off\", 1, 0.7649647), ('i love getting up this early to fly to work', 1, 0.5758433), ('i love being super wellspoken and just having days where everything gets mixed up or botched', 1, 0.58653843), ('i love it when i have to beg for my paycheck', 1, 0.8228307), ('i love traffic', 1, 0.6112633), (\"i love nights where i'm tired but sleep doesn't come\", 1, 0.7737569), ('i love smoothies bc u can really eat half a bag of spinach and just not taste it at all', 0, 0.40607354), ('@kristenritch YES I love sandwich and enneagram', 0, 0.30768415), ('hail in summer i love british weather', 1, 0.5826219), (\"oh i do love it when people go quiet when you don't tell them exactly what they want to hear\", 1, 0.24817272), ('obviously i love having to do all of this all over again and edit out 10000 ahms another time', 1, 0.7322164), ('yay i love it when my parents ridicule me', 1, 0.7286091), ('i love the sound of bitching in the morning', 1, 0.79675287), ('yep i love going out in public covered in dirt and sweat', 1, 0.8679726), ('i love rainwater tanks with centre posts', 1, 0.53486747), ('i love holidays that just are used for people to party', 1, 0.624614), ('i love how president obama is endorsing someone under investigation by the fbi', 1, 0.77426773), ('i love getting phone calls after work to come dd', 1, 0.42651466), ('i love this cough i have', 1, 0.7489816), ('oh how i love going to work', 1, 0.5294087), (\"i love when i can't sleep\", 1, 0.6844328), ('i love how people stop fucking with you once you ask for money', 1, 0.8260453), ('oh how i love drunks', 1, 0.49388218), ('i love driving all day', 1, 0.4208535), ('i love going all day without any texts', 1, 0.5252213), ('I do love it when my mum makes me spend my savings on beer 😒', 1, 0.36045787), ('i love running errands during rush hour', 1, 0.587842), ('I love how Javer only started to suspect Jean Valjean was the mayor bc of his big beefy muscles', 0, 0.49578193), ('man i love talking to kids who pretend they know everything', 1, 0.8162572), ('i love ingesting poison and then wondering why my tummy is rumbling the next morning', 1, 0.93347377), ('oh i love when people waste my time and fucking energy', 1, 1.0), ('i love when my dad scans the radio the whole way to our destination', 1, 0.34062818), ('i love the word junction', 0, 0.51647234), ('Idk why but I love comfortable silence', 0, 0.47379118), (\"i love talking about feminism when I'm drunk\", 0, 0.52277124), ('i love my life', 0, 0.42767182), ('i love when people who are supposedly close to you plan stuff and tell everyone first before you', 1, 0.78217244), ('i love waking up at 4 30 and not being able to fall back to sleep because of hiccups', 1, 0.84597963), ('i love how quiet it gets when it snows', 0, 0.4356022), ('i love my friends', 0, 0.30329326), ('i love how as soon as i start drinking i forget to filter the shit that comes out of my mouth', 1, 0.8806), ('wow i love only ever buying gray and striped shirts', 1, 0.67698216), ('i love when i hide things from myself', 1, 0.70197874), ('I love it when someone criticses my parenting then their adult son cuts his finger off with a knife and breaks his leg by falling off a bike', 1, 0.84024054), ('I love when I start choking on my water in my 8 person class', 1, 0.6323399), ('I love it when my neighbours children block the drive because they can’t cook their own meals every single day!!!', 1, 0.8887179), ('i love talking to people about books !!!', 0, 0.24507512), (\"I love professional wrestling, y'all\", 0, 0.31232873), (\"I love when I learn about stuff I've apparently done and said from people😂\", 1, 0.52115476), ('I would love a pet woolly mammoth', 0, 0.46444756), ('i love 6 hour panic attacks', 1, 0.72062504), ('I LOVE LORDE GOODNIGHT', 0, 0.12209804), ('i LOVE grocery shopping', 0, 0.45542902), ('i love video games', 0, 0.33419722), (\"@OfficialPLT I'd love to get some awesome activewear to go with my t-shirt and help me in my May challenge for @Shelter 😁🤞🏼 https://t.co/8NceX1fgTF\", 0, 0.13045558)]\n",
      "Best threshold: 0.335\n",
      "Accuracy: 0.8549618320610687\n"
     ]
    }
   ],
   "source": [
    "gap = 0.001\n",
    "threshold_list = list(np.arange(0, 1 + gap, gap))\n",
    "\n",
    "threshold_accuracy_dict, tweet_annotation_sentiment_distance, verb_sent_np_sent = define_threshold(df[\"tweet\"], df[\"sarcastic\"], threshold_list)\n",
    "best_threshold = max(threshold_accuracy_dict, key=threshold_accuracy_dict.get)\n",
    "print(\"Best threshold:\", best_threshold)\n",
    "print(\"Accuracy:\", threshold_accuracy_dict[best_threshold])"
   ]
  },
  {
   "cell_type": "code",
   "execution_count": null,
   "metadata": {
    "colab": {
     "base_uri": "https://localhost:8080/"
    },
    "executionInfo": {
     "elapsed": 27,
     "status": "ok",
     "timestamp": 1732976035018,
     "user": {
      "displayName": "Ivaylo Mitov",
      "userId": "02045773347946630217"
     },
     "user_tz": -60
    },
    "id": "tj_BjsddZvSi",
    "outputId": "c3e18723-941a-473b-bb2a-29351b0f0872"
   },
   "outputs": [
    {
     "data": {
      "text/plain": [
       "[(('looove', array([-2.6308231, -1.0677862,  3.918785 ], dtype=float32)),\n",
       "  ('getting 3 hours of sleep because two jobs',\n",
       "   array([ 0.22886801,  0.02839899, -0.28489327], dtype=float32))),\n",
       " (('hate', array([ 0.86576414, -0.45238686, -0.4018185 ], dtype=float32)),\n",
       "  ('people who use big words just to make themselves look perspicacious',\n",
       "   array([ 0.6025964 , -0.12202923, -0.5652803 ], dtype=float32))),\n",
       " (('love', array([-0.6063688 , -0.21395265,  0.8223051 ], dtype=float32)),\n",
       "  ('that girl who never liked even my dp',\n",
       "   array([ 3.8096228 , -0.07296796, -3.7678094 ], dtype=float32))),\n",
       " (('hate', array([ 0.1386416 , -0.22479899,  0.04654026], dtype=float32)),\n",
       "  ('that I wasted my whole weekend 😠',\n",
       "   array([ 0.8933282 , -0.58628815, -0.32979524], dtype=float32))),\n",
       " (('love', array([-0.32348263, -0.5317513 ,  0.7499713 ], dtype=float32)),\n",
       "  ('being ignored',\n",
       "   array([ 3.59578  , -0.3751608, -3.238125 ], dtype=float32))),\n",
       " (('hate', array([ 2.3714254 , -0.22858974, -2.2844605 ], dtype=float32)),\n",
       "  ('this guy so much https://t.co/lHPKXjNLL4',\n",
       "   array([ 0.7092178 , -0.5860999 , -0.41151965], dtype=float32))),\n",
       " (('hate', array([ 0.34439647, -0.38518333, -0.01341534], dtype=float32)),\n",
       "  ('living in such a cold place',\n",
       "   array([ 0.6381252 , -0.41271317, -0.2384435 ], dtype=float32))),\n",
       " (('hate', array([ 0.09437323, -0.21305919,  0.123734  ], dtype=float32)),\n",
       "  ('seeing my favourite game company go down the drain.',\n",
       "   array([ 0.8487463 , -0.6449256 , -0.44196808], dtype=float32))),\n",
       " (('loved', array([-0.17445838, -0.34169957,  0.5275419 ], dtype=float32)),\n",
       "  ('to be ignored',\n",
       "   array([ 3.5564034 ,  0.12567052, -4.030074  ], dtype=float32))),\n",
       " (('loving', array([-1.3473428, -1.993918 ,  3.582656 ], dtype=float32)),\n",
       "  ('the ceasefire in syria',\n",
       "   array([ 0.03220558, -0.23374626,  0.08973765], dtype=float32))),\n",
       " (('hate', array([ 0.44374418, -0.32875192, -0.0438807 ], dtype=float32)),\n",
       "  ('it when a restaurant ignores my dietary requirements',\n",
       "   array([ 0.62063766, -0.14812621, -0.5188736 ], dtype=float32))),\n",
       " (('love', array([ 0.14338803, -0.04278326, -0.10732317], dtype=float32)),\n",
       "  ('loving women 😍',\n",
       "   array([ 0.03053117, -0.02877069, -0.04193974], dtype=float32))),\n",
       " (('hate', array([ 0.4729923 , -0.51876396, -0.01771069], dtype=float32)),\n",
       "  ('paying so much for gas.',\n",
       "   array([ 0.6808553 , -0.48768032, -0.05357921], dtype=float32))),\n",
       " (('hate', array([ 4.8537607 ,  0.21169615, -5.452928  ], dtype=float32)),\n",
       "  ('it here ❤️❤️❤️❤️❤️',\n",
       "   array([ 0.8642615 , -0.7265208 , -0.30005658], dtype=float32))),\n",
       " (('would',\n",
       "   array([-1.1823416e-02, -6.6488981e-05, -1.9135475e-02], dtype=float32)),\n",
       "  ('hate to be stuck in my room for another lockdown',\n",
       "   array([ 4.036675 , -1.2824283, -2.6299152], dtype=float32))),\n",
       " (('love', array([-2.1753902 , -0.98053634,  3.426592  ], dtype=float32)),\n",
       "  ('scary movies by myself',\n",
       "   array([-0.35398936, -0.22044167,  0.6962534 ], dtype=float32))),\n",
       " (('love', array([-1.7435381, -1.6649569,  3.494565 ], dtype=float32)),\n",
       "  ('this new holding pen approach to security lineups at big airports',\n",
       "   array([-0.3227408 , -0.44175708,  0.60340464], dtype=float32))),\n",
       " (('love', array([ 0.2716837, -1.9725375,  1.659    ], dtype=float32)),\n",
       "  ('when my boyfriend texts me back',\n",
       "   array([-0.10322523, -0.94413704,  1.2843858 ], dtype=float32))),\n",
       " (('love', array([-0.3548547, -2.0712342,  2.5569904], dtype=float32)),\n",
       "  ('shredding lettuce hahaha',\n",
       "   array([-0.07612824, -1.0382614 ,  1.2872587 ], dtype=float32))),\n",
       " (('love', array([-2.1479335, -0.5298338,  2.7040935], dtype=float32)),\n",
       "  (\"how the summer's eve feminine wash commercial focuses on a guy who's insecure about his masculinity\",\n",
       "   array([ 1.1791457 , -0.07484487, -1.166534  ], dtype=float32))),\n",
       " (('love', array([-1.4803183, -1.4071531,  2.9794173], dtype=float32)),\n",
       "  ('being sarcastic',\n",
       "   array([ 0.47324586, -0.7755664 ,  0.23009002], dtype=float32))),\n",
       " (('love', array([-2.4653828, -0.7676163,  3.1220329], dtype=float32)),\n",
       "  (\"when i see people get mad at something that's clearly a joke over social media lol\",\n",
       "   array([ 1.3718908, -0.5300578, -0.982184 ], dtype=float32))),\n",
       " (('love', array([-2.1601539, -1.0580956,  3.3908033], dtype=float32)),\n",
       "  ('when old men cat call me from their work truck in the morning',\n",
       "   array([-0.15076089, -0.2311644 ,  0.33114254], dtype=float32))),\n",
       " (('love', array([-1.8571584, -0.9431631,  2.8508544], dtype=float32)),\n",
       "  ('arbitrary lines going through customs in airports',\n",
       "   array([ 1.1184586, -0.1427895, -1.013597 ], dtype=float32))),\n",
       " (('love', array([-1.6073973, -1.8572273,  3.6278782], dtype=float32)),\n",
       "  ('listening to my neighbors blast spanish music',\n",
       "   array([-0.20502496, -0.7066036 ,  1.0960146 ], dtype=float32))),\n",
       " (('would', array([ 0.93607897,  0.24526607, -1.2131536 ], dtype=float32)),\n",
       "  ('love a lesson on communism individual who only has reference through the word commie and has never read marx engels',\n",
       "   array([ 3.402689 , -0.9246602, -2.857894 ], dtype=float32))),\n",
       " (('love', array([-2.5183713, -1.0912653,  3.7207396], dtype=float32)),\n",
       "  ('more then coming home to clean something i deep cleaned two days ago',\n",
       "   array([-1.6774503, -1.4463398,  3.45179  ], dtype=float32))),\n",
       " (('love', array([-2.4977937, -1.5008132,  4.376191 ], dtype=float32)),\n",
       "  ('dashboards which are actually just a tables in a word document or b excel workbooks',\n",
       "   array([-0.0219171 , -0.35656327,  0.56429136], dtype=float32))),\n",
       " (('love', array([-0.7414915, -1.0372584,  2.0411727], dtype=float32)),\n",
       "  ('silence', array([ 0.7645649 ,  0.00603098, -0.8597088 ], dtype=float32))),\n",
       " (('love', array([-2.3101509, -0.5013566,  2.8564544], dtype=float32)),\n",
       "  ('it when people get nasty with me when i enforce the rules',\n",
       "   array([ 1.8565979 , -0.31182575, -1.5547737 ], dtype=float32))),\n",
       " (('love', array([-1.3910816, -1.1738515,  2.579599 ], dtype=float32)),\n",
       "  ('insomnia', array([ 1.3076118 , -0.45980164, -0.95463747], dtype=float32))),\n",
       " (('love', array([-2.8597748, -1.2768283,  4.4489994], dtype=float32)),\n",
       "  ('twofaced people',\n",
       "   array([ 0.15172386, -0.8878563 ,  0.73629296], dtype=float32))),\n",
       " (('love', array([-1.0298163, -1.0652138,  2.439316 ], dtype=float32)),\n",
       "  ('to see posts from a year ago today',\n",
       "   array([ 0.27229905,  0.50681347, -1.0626838 ], dtype=float32))),\n",
       " (('love', array([-2.9174812, -1.228611 ,  4.1497545], dtype=float32)),\n",
       "  (\"it when it's my day off and i get called into work\",\n",
       "   array([-0.01011443, -0.72947365,  0.76409304], dtype=float32))),\n",
       " (('love', array([-1.4714674, -1.7695509,  3.5917978], dtype=float32)),\n",
       "  ('the urgency we re playing with',\n",
       "   array([-0.2699802 , -0.68194044,  1.0774494 ], dtype=float32))),\n",
       " (('love', array([-1.957943 , -0.5323203,  2.581658 ], dtype=float32)),\n",
       "  ('sitting in a court house to pay a ticket',\n",
       "   array([ 0.8064553 ,  0.49485564, -1.8058605 ], dtype=float32))),\n",
       " (('would', array([-0.00607371,  0.34259748, -0.4552381 ], dtype=float32)),\n",
       "  ('love to tweet right now 👀👀',\n",
       "   array([-1.5449808, -0.7416029,  2.794    ], dtype=float32))),\n",
       " (('love', array([-2.0325546, -0.641435 ,  2.54971  ], dtype=float32)),\n",
       "  (\"ppl who don't understand my humor\",\n",
       "   array([ 2.1496897, -0.5924194, -1.7185116], dtype=float32))),\n",
       " (('love', array([-1.4050056, -2.3121634,  3.8127143], dtype=float32)),\n",
       "  ('how everyone is responding to my texts this weekend',\n",
       "   array([-0.19950962, -0.91215354,  1.0951706 ], dtype=float32))),\n",
       " (('love', array([-0.08123577, -2.1704073 ,  2.4954782 ], dtype=float32)),\n",
       "  ('my friends',\n",
       "   array([ 0.33532202, -1.1787335 ,  1.0326549 ], dtype=float32))),\n",
       " (('love', array([-1.4411777 , -0.50413764,  1.8617756 ], dtype=float32)),\n",
       "  ('when my commute consists of people unable to drive while on phones esp when trying to take off my bumper in a parking lot',\n",
       "   array([ 2.207923  , -0.20685509, -2.143921  ], dtype=float32))),\n",
       " (('love', array([-2.5091593, -1.1545391,  3.7244544], dtype=float32)),\n",
       "  ('the smell of the hospital er at 3 am',\n",
       "   array([ 0.4669826 , -0.5680796 ,  0.09575498], dtype=float32))),\n",
       " (('love', array([-1.7392702, -1.3239404,  3.3846147], dtype=float32)),\n",
       "  ('when my joints randomly click pop during simple movements',\n",
       "   array([ 0.0750277 , -0.35399318,  0.48008668], dtype=float32))),\n",
       " (('love', array([-2.0991108, -1.4277272,  3.7081847], dtype=float32)),\n",
       "  ('how retweets show up in the what i missed section now',\n",
       "   array([ 0.07649326, -0.0537415 ,  0.15766633], dtype=float32))),\n",
       " (('love', array([-0.24166358, -2.1829596 ,  2.7642152 ], dtype=float32)),\n",
       "  ('shoegaze sm',\n",
       "   array([-3.1018257e-04, -1.0286438e+00,  1.4379145e+00], dtype=float32))),\n",
       " (('love', array([-1.7843679, -1.4495134,  3.3031416], dtype=float32)),\n",
       "  ('days when Rob works short call and is only at the hospital for *checks watch* 13 hours.',\n",
       "   array([-0.03979754, -0.30049405,  0.38465416], dtype=float32))),\n",
       " (('love', array([-2.8660064, -1.4289272,  4.5784054], dtype=float32)),\n",
       "  ('people being wishy washy',\n",
       "   array([ 0.67982984, -0.7311446 ,  0.16367745], dtype=float32))),\n",
       " (('love', array([-2.5379386 , -0.71525365,  3.3715706 ], dtype=float32)),\n",
       "  ('testing my patience grocery shopping at walmart on a sunday night',\n",
       "   array([-0.12275624, -0.20287484,  0.35032856], dtype=float32))),\n",
       " (('love', array([-2.5737116, -0.7986376,  3.5314393], dtype=float32)),\n",
       "  ('17 hour work days',\n",
       "   array([ 0.17256093, -0.12782204, -0.32985663], dtype=float32))),\n",
       " (('love', array([-1.4094136 , -0.22777681,  1.744888  ], dtype=float32)),\n",
       "  ('it when drunk, inconsiderate flatmates come back and start climbing on the roof #istillhaveexams #tryingtosleep',\n",
       "   array([ 2.6143944 , -0.37745172, -2.2647398 ], dtype=float32))),\n",
       " (('love', array([-1.8372391, -0.5575347,  2.3822744], dtype=float32)),\n",
       "  (\"when people think the rules don't apply to them\",\n",
       "   array([ 2.1815119, -0.177817 , -2.0808487], dtype=float32))),\n",
       " (('love', array([-2.0296378 , -0.65148324,  2.736283  ], dtype=float32)),\n",
       "  ('how corporations like to do the bare minimum that ada allows',\n",
       "   array([ 1.137231  , -0.16408235, -1.1191108 ], dtype=float32))),\n",
       " (('love', array([-1.6532394, -1.2676562,  3.042768 ], dtype=float32)),\n",
       "  ('summers with no air con',\n",
       "   array([ 0.41748047, -0.8198734 ,  0.33925998], dtype=float32))),\n",
       " (('love', array([-1.8777117, -0.7758398,  2.8480856], dtype=float32)),\n",
       "  ('waking up to the call of the dying smoke detector',\n",
       "   array([ 1.3462782 , -0.37136474, -0.84136844], dtype=float32))),\n",
       " (('love', array([-1.2743936, -0.4930897,  1.8476434], dtype=float32)),\n",
       "  ('being too mentally ill to email my mental health care provider',\n",
       "   array([ 2.4562635 , -0.30881813, -2.328093  ], dtype=float32))),\n",
       " (('love', array([-1.2500926, -0.5473892,  1.8071015], dtype=float32)),\n",
       "  ('texting people something important and them not texting me back',\n",
       "   array([ 2.0417285, -0.0666192, -1.877913 ], dtype=float32))),\n",
       " (('love', array([-1.8344893, -1.5890479,  3.6458142], dtype=float32)),\n",
       "  ('getting drawn on at work especially my face',\n",
       "   array([-0.04166198, -0.9170787 ,  1.0671054 ], dtype=float32))),\n",
       " (('love', array([-2.2046907 , -0.91475976,  3.40264   ], dtype=float32)),\n",
       "  ('your traffic',\n",
       "   array([ 0.30459416,  0.10343647, -0.45890212], dtype=float32))),\n",
       " (('love', array([-2.3206894, -1.0047418,  3.2680964], dtype=float32)),\n",
       "  ('2 hour nosebleeds level 100',\n",
       "   array([ 0.69126093, -0.83122367,  0.21420848], dtype=float32))),\n",
       " (('love', array([-1.3972801 , -0.11413155,  1.6581205 ], dtype=float32)),\n",
       "  ('the way you lie',\n",
       "   array([ 2.589544 ,  0.0231979, -2.6793547], dtype=float32))),\n",
       " (('love', array([-2.9865441, -1.0768478,  4.333004 ], dtype=float32)),\n",
       "  ('when they run the same commercial twice in a row',\n",
       "   array([-0.04910207, -0.3270781 ,  0.5745877 ], dtype=float32))),\n",
       " (('love', array([-2.20327  , -1.0524929,  3.4819267], dtype=float32)),\n",
       "  ('it when women are referred to as \"girl boss\" however men are just the \"boss\"!',\n",
       "   array([ 0.07036877, -0.6204152 ,  0.6614393 ], dtype=float32))),\n",
       " (('love', array([-2.1395483 , -0.64921486,  2.7721891 ], dtype=float32)),\n",
       "  ('asking my boyfriend, the biology student, really complicated physics questions and seeings his brain melt',\n",
       "   array([ 0.73147845, -0.22803651, -0.39398527], dtype=float32))),\n",
       " (('love', array([-1.5657964, -1.8230988,  3.5186148], dtype=float32)),\n",
       "  ('homework', array([ 0.24252045, -0.631168  ,  0.476184  ], dtype=float32))),\n",
       " (('love', array([-2.2800393 , -0.68495494,  2.8773355 ], dtype=float32)),\n",
       "  (\"when my boss asks me to work when she clearly knows i'm blocked\",\n",
       "   array([ 1.0359796 ,  0.03197224, -1.2267208 ], dtype=float32))),\n",
       " (('would', array([ 0.16299546,  0.03185516, -0.21679449], dtype=float32)),\n",
       "  ('love to guard steph curry',\n",
       "   array([-0.31086612, -1.1593218 ,  2.037176  ], dtype=float32))),\n",
       " (('love', array([ 0.2212727, -2.3234162,  2.407889 ], dtype=float32)),\n",
       "  (\"how relevant nebraska's primary will be next week\",\n",
       "   array([-0.24583602, -0.75960124,  1.2447482 ], dtype=float32))),\n",
       " (('love', array([-2.9043248 , -0.39631876,  3.274588  ], dtype=float32)),\n",
       "  ('having people in my life that only get a hold of me when they want something or want to vent or complain',\n",
       "   array([ 1.2736187 , -0.13171428, -1.3115375 ], dtype=float32))),\n",
       " (('love', array([-2.8384626 , -0.45381886,  3.413647  ], dtype=float32)),\n",
       "  (\"it when people don't reply\",\n",
       "   array([ 1.4265871 , -0.37419504, -1.0909247 ], dtype=float32))),\n",
       " (('love', array([-1.2861634, -0.7998674,  2.2185597], dtype=float32)),\n",
       "  ('replacing a tire at 9 in the morning',\n",
       "   array([ 0.1893003 ,  0.32796553, -0.8540251 ], dtype=float32))),\n",
       " (('love', array([-2.737598  , -0.50971663,  3.342969  ], dtype=float32)),\n",
       "  (\"when people don't stop talking to the cashier when people are trying to close up shop\",\n",
       "   array([ 0.41603124,  0.31695917, -0.65387845], dtype=float32))),\n",
       " (('love', array([-2.6271486 , -0.68199503,  3.5564666 ], dtype=float32)),\n",
       "  ('it when customers tell me who to vote for',\n",
       "   array([-0.01937032, -0.18478912,  0.15864408], dtype=float32))),\n",
       " (('love', array([-2.3365293, -1.2558959,  3.599175 ], dtype=float32)),\n",
       "  ('watching plane crash coverage at the airport',\n",
       "   array([ 0.40178144, -0.31793714, -0.34821165], dtype=float32))),\n",
       " (('love', array([-2.7520819, -0.8270324,  3.4751482], dtype=float32)),\n",
       "  (\"that i am over 40 years old amp some people still talk to me like i'm a child\",\n",
       "   array([ 0.5882739 , -0.38705623, -0.5032166 ], dtype=float32))),\n",
       " (('love', array([-0.94079494, -0.3221018 ,  1.6525986 ], dtype=float32)),\n",
       "  ('it when rich people get stuff for free.',\n",
       "   array([ 0.46552873,  0.46332484, -1.0638807 ], dtype=float32))),\n",
       " (('love', array([-0.98220855, -0.47831386,  1.5430913 ], dtype=float32)),\n",
       "  (\"listening to others bitch about work while i'm running around doing everything\",\n",
       "   array([ 2.3352075, -0.2752391, -2.0816853], dtype=float32))),\n",
       " (('love', array([-3.1790667 , -0.82811654,  4.211816  ], dtype=float32)),\n",
       "  (\"the fact i can't go to sleep when i get off\",\n",
       "   array([ 0.41337752, -0.6314471 ,  0.25834048], dtype=float32))),\n",
       " (('love', array([-2.363958 , -1.5559167,  4.1319833], dtype=float32)),\n",
       "  ('getting up this early to fly to work',\n",
       "   array([-0.20951271, -0.609483  ,  0.8678347 ], dtype=float32))),\n",
       " (('love', array([-1.48227  , -0.9103482,  2.4067695], dtype=float32)),\n",
       "  ('being super wellspoken and just having days where everything gets mixed up or botched',\n",
       "   array([ 1.1315469 , -0.5390118 , -0.72837996], dtype=float32))),\n",
       " (('love', array([-2.8044555, -0.4179408,  3.1339273], dtype=float32)),\n",
       "  ('it when i have to beg for my paycheck',\n",
       "   array([ 1.3444247, -0.6453787, -0.8404784], dtype=float32))),\n",
       " (('love', array([-2.0379198, -1.4478198,  3.5645897], dtype=float32)),\n",
       "  ('traffic', array([ 0.49809587, -0.78119355,  0.19272506], dtype=float32))),\n",
       " (('love', array([-1.2738044, -0.5951667,  1.9051967], dtype=float32)),\n",
       "  (\"nights where i'm tired but sleep doesn't come\",\n",
       "   array([ 2.3922663 , -0.23591515, -2.0528064 ], dtype=float32))),\n",
       " (('love', array([-1.1541567 , -0.85586476,  2.2342448 ], dtype=float32)),\n",
       "  ('smoothies bc u can really eat half a bag of spinach and just not taste it at all',\n",
       "   array([ 0.6725824 , -0.61602753,  0.07612669], dtype=float32))),\n",
       " (('love', array([ 0.05725622, -1.329265  ,  1.3976327 ], dtype=float32)),\n",
       "  ('sandwich and enneagram',\n",
       "   array([-0.454257  ,  0.34927514,  0.15520096], dtype=float32))),\n",
       " (('love', array([-1.1473995, -1.9962966,  3.3393009], dtype=float32)),\n",
       "  ('british weather',\n",
       "   array([ 0.16616988, -0.19896376, -0.06945562], dtype=float32))),\n",
       " (('do', array([ 0.07159233,  0.03972849, -0.10490292], dtype=float32)),\n",
       "  (\"love it when people go quiet when you don't tell them exactly what they want to hear\",\n",
       "   array([ 1.0752025 , -1.3256193 ,  0.26395896], dtype=float32))),\n",
       " (('love', array([-1.3468353, -0.4530035,  1.8386357], dtype=float32)),\n",
       "  ('having to do all of this all over again and edit out 10000 ahms another time',\n",
       "   array([ 2.0506482 , -0.24404177, -1.9815171 ], dtype=float32))),\n",
       " (('love', array([-1.5300736, -0.2668666,  1.7889926], dtype=float32)),\n",
       "  ('it when my parents ridicule me',\n",
       "   array([ 1.4346048 ,  0.36335564, -2.302011  ], dtype=float32))),\n",
       " (('love', array([-2.1723104, -0.5805627,  2.8445094], dtype=float32)),\n",
       "  ('the sound of bitching in the morning',\n",
       "   array([ 1.7095553 , -0.58393836, -1.1466768 ], dtype=float32))),\n",
       " (('love', array([-1.3384397, -0.3056209,  1.7213347], dtype=float32)),\n",
       "  ('going out in public covered in dirt and sweat',\n",
       "   array([ 2.376932  ,  0.15024878, -3.051096  ], dtype=float32))),\n",
       " (('love', array([-1.448414 , -1.6475731,  3.3641367], dtype=float32)),\n",
       "  ('rainwater tanks with centre posts',\n",
       "   array([-0.01013923, -0.21852486,  0.22425997], dtype=float32))),\n",
       " (('love', array([-2.6688452, -0.8233957,  3.8639023], dtype=float32)),\n",
       "  ('holidays that just are used for people to party',\n",
       "   array([ 0.12258911, -0.4947918 ,  0.5246142 ], dtype=float32))),\n",
       " (('love', array([-2.493297 , -0.9069185,  3.4912372], dtype=float32)),\n",
       "  ('how president obama is endorsing someone under investigation by the fbi',\n",
       "   array([ 0.76220953, -0.19804206, -0.7717092 ], dtype=float32))),\n",
       " (('love', array([-0.8710822, -1.9158597,  2.8609505], dtype=float32)),\n",
       "  ('getting phone calls after work to come dd',\n",
       "   array([-0.15478802, -0.33290833,  0.43933737], dtype=float32))),\n",
       " (('love', array([-3.250476 , -1.2778602,  4.5894876], dtype=float32)),\n",
       "  ('this cough i have',\n",
       "   array([ 0.40743005, -1.2425206 ,  0.8463346 ], dtype=float32))),\n",
       " (('love', array([-1.7288243, -1.4663123,  3.4658523], dtype=float32)),\n",
       "  ('going to work',\n",
       "   array([-0.16196656, -0.42098677,  0.2817979 ], dtype=float32))),\n",
       " (('love', array([-1.8938781, -1.2265226,  3.175424 ], dtype=float32)),\n",
       "  (\"when i can't sleep\",\n",
       "   array([ 1.1249055 , -0.5873921 , -0.47876668], dtype=float32))),\n",
       " (('love', array([-1.6753654 , -0.47382316,  2.171908  ], dtype=float32)),\n",
       "  ('how people stop fucking with you once you ask for money',\n",
       "   array([ 2.1712704 , -0.18720853, -2.12238   ], dtype=float32))),\n",
       " (('love', array([-1.5459785 , -0.71245354,  2.5365932 ], dtype=float32)),\n",
       "  ('drunks', array([ 0.16392446,  0.05463338, -0.3614359 ], dtype=float32))),\n",
       " (('love', array([-1.2723384, -1.7237928,  3.245926 ], dtype=float32)),\n",
       "  ('driving all day',\n",
       "   array([ 0.13494515, -0.8393518 ,  0.8197981 ], dtype=float32))),\n",
       " (('love', array([-2.0716832, -1.1749209,  3.4271226], dtype=float32)),\n",
       "  ('going all day without any texts',\n",
       "   array([ 0.05018163, -0.39274114,  0.53641474], dtype=float32))),\n",
       " (('do', array([-0.00120342,  0.06091738, -0.06628859], dtype=float32)),\n",
       "  ('love it when my mum makes me spend my savings on beer 😒',\n",
       "   array([ 0.06699646, -1.6330531 ,  1.7966065 ], dtype=float32))),\n",
       " (('love', array([-2.336833 , -1.5883954,  4.0481205], dtype=float32)),\n",
       "  ('running errands during rush hour',\n",
       "   array([ 0.02834725, -0.6821306 ,  0.8141676 ], dtype=float32))),\n",
       " (('love', array([-0.84798086, -0.52833664,  1.4157666 ], dtype=float32)),\n",
       "  ('how Javer only started to suspect Jean Valjean was the mayor bc of his big beefy muscles',\n",
       "   array([ 1.0297055 ,  0.43651816, -1.3312168 ], dtype=float32))),\n",
       " (('love', array([-2.213368 , -0.6404303,  3.0452805], dtype=float32)),\n",
       "  ('talking to kids who pretend they know everything',\n",
       "   array([ 1.180274  ,  0.02425328, -1.4908079 ], dtype=float32))),\n",
       " (('love', array([-0.30948234, -0.3964052 ,  0.7325332 ], dtype=float32)),\n",
       "  ('ingesting poison and then wondering why my tummy is rumbling the next morning',\n",
       "   array([ 4.2336063 , -0.41505742, -3.9482517 ], dtype=float32))),\n",
       " (('love', array([-0.48340964, -0.07551858,  0.61493385], dtype=float32)),\n",
       "  ('when people waste my time and fucking energy',\n",
       "   array([ 4.168481  , -0.04880831, -4.599458  ], dtype=float32))),\n",
       " (('love', array([-0.95270836, -1.6762148 ,  2.691151  ], dtype=float32)),\n",
       "  ('when my dad scans the radio the whole way to our destination',\n",
       "   array([-0.33388972, -0.3903225 ,  0.7860917 ], dtype=float32))),\n",
       " (('love', array([-1.3874412, -1.9664629,  3.9215026], dtype=float32)),\n",
       "  ('the word junction',\n",
       "   array([ 0.0586586 , -0.6910915 ,  0.87068284], dtype=float32))),\n",
       " (('love', array([-1.7347767, -0.6358467,  2.7975433], dtype=float32)),\n",
       "  ('comfortable silence',\n",
       "   array([-0.08233774,  0.0384773 ,  0.00896823], dtype=float32))),\n",
       " (('love', array([-1.709064 , -1.2328115,  2.9864872], dtype=float32)),\n",
       "  (\"talking about feminism when I'm drunk\",\n",
       "   array([ 0.34962595, -0.46084788,  0.0691601 ], dtype=float32))),\n",
       " (('love', array([-1.0358179, -1.4629369,  3.0012212], dtype=float32)),\n",
       "  ('my life', array([ 0.5494102 , -0.99675643,  0.51103747], dtype=float32))),\n",
       " (('love', array([-3.0288773 , -0.35911897,  3.5369596 ], dtype=float32)),\n",
       "  ('when people who are supposedly close to you plan stuff and tell everyone first before you',\n",
       "   array([ 0.34014928,  0.31955984, -0.71314263], dtype=float32))),\n",
       " (('love', array([-1.7617663 , -0.38931298,  2.2751431 ], dtype=float32)),\n",
       "  ('waking up at 4 30 and not being able to fall back to sleep because of hiccups',\n",
       "   array([ 2.2728934 , -0.18744351, -2.0408726 ], dtype=float32))),\n",
       " (('love', array([-1.270118 , -1.6951703,  3.1419377], dtype=float32)),\n",
       "  ('how quiet it gets when it snows',\n",
       "   array([ 0.28990328, -0.7280221 ,  0.71365726], dtype=float32))),\n",
       " (('love', array([-0.1821158, -2.2736163,  2.6551044], dtype=float32)),\n",
       "  ('my friends',\n",
       "   array([ 0.38138115, -1.2011006 ,  0.9161507 ], dtype=float32))),\n",
       " (('love', array([-1.2429858 , -0.10433548,  1.388395  ], dtype=float32)),\n",
       "  ('how as soon as i start drinking i forget to filter the shit that comes out of my mouth',\n",
       "   array([ 2.9927754 , -0.10043519, -3.0752783 ], dtype=float32))),\n",
       " (('love', array([-2.222405  , -0.86238825,  3.4887006 ], dtype=float32)),\n",
       "  ('only ever buying gray and striped shirts',\n",
       "   array([-0.1005156 ,  0.5337623 , -0.50225043], dtype=float32))),\n",
       " (('love', array([-1.9879549, -1.0866596,  3.1388683], dtype=float32)),\n",
       "  ('when i hide things from myself',\n",
       "   array([ 0.98117185, -0.24942642, -0.67503107], dtype=float32))),\n",
       " (('love', array([-1.4086607 , -0.14998686,  1.7205075 ], dtype=float32)),\n",
       "  ('it when someone criticses my parenting then their adult son cuts his finger off with a knife and breaks his leg by falling off a bike',\n",
       "   array([ 2.7098882 , -0.28390843, -2.4621103 ], dtype=float32))),\n",
       " (('love', array([-2.000412 , -0.7226764,  2.5473173], dtype=float32)),\n",
       "  ('when I start choking on my water in my 8 person class',\n",
       "   array([ 0.9799448 , -0.27986562, -0.6847911 ], dtype=float32))),\n",
       " (('love', array([-2.1991348 , -0.13381271,  2.4595933 ], dtype=float32)),\n",
       "  ('it when my neighbours children block the drive because they can’t cook their own meals every single day!!!',\n",
       "   array([ 2.2769437, -0.4403217, -1.8343799], dtype=float32))),\n",
       " (('love', array([ 0.20633698, -2.4927971 ,  2.4920282 ], dtype=float32)),\n",
       "  ('talking to people about books !!!',\n",
       "   array([-0.13899112, -1.1907387 ,  1.4345537 ], dtype=float32))),\n",
       " (('love', array([-0.4633001, -2.3726926,  3.2414145], dtype=float32)),\n",
       "  (\"professional wrestling, y'all\",\n",
       "   array([-0.10764503, -1.1037165 ,  1.5017003 ], dtype=float32))),\n",
       " (('love', array([-1.5479534, -0.878995 ,  2.388987 ], dtype=float32)),\n",
       "  (\"when I learn about stuff I've apparently done and said from people😂\",\n",
       "   array([ 0.55084956, -0.10361622, -0.4843979 ], dtype=float32))),\n",
       " (('would', array([ 0.2463218,  0.281893 , -0.5241046], dtype=float32)),\n",
       "  ('love a pet woolly mammoth',\n",
       "   array([-0.1715951, -1.5021635,  2.1546698], dtype=float32))),\n",
       " (('love', array([-1.298706 , -0.5475755,  1.894789 ], dtype=float32)),\n",
       "  ('6 hour panic attacks',\n",
       "   array([ 2.2236073, -0.5539068, -1.7039702], dtype=float32))),\n",
       " (('LOVE', array([ 0.7587069, -1.2994285,  0.7373197], dtype=float32)),\n",
       "  ('LORDE GOODNIGHT',\n",
       "   array([ 0.21093333, -0.6576021 ,  0.6109569 ], dtype=float32))),\n",
       " (('LOVE', array([-0.744377 , -2.039686 ,  2.9972842], dtype=float32)),\n",
       "  ('grocery shopping',\n",
       "   array([ 0.07247448, -0.43395126,  0.37381005], dtype=float32))),\n",
       " (('love', array([-0.22562337, -2.1715088 ,  2.7542868 ], dtype=float32)),\n",
       "  ('video games',\n",
       "   array([-0.08792973, -0.66547894,  0.97476256], dtype=float32))),\n",
       " (('love', array([ 0.05008698, -0.1572248 ,  0.15552068], dtype=float32)),\n",
       "  ('to get some awesome activewear to go with my t-shirt and help me in my May challenge for @Shelter 😁🤞🏼 https://t.co/8NceX1fgTF',\n",
       "   array([-0.41278028, -0.67783386,  0.74352837], dtype=float32)))]"
      ]
     },
     "execution_count": 22,
     "metadata": {},
     "output_type": "execute_result"
    }
   ],
   "source": [
    "verb_sent_np_sent"
   ]
  },
  {
   "cell_type": "markdown",
   "metadata": {
    "id": "RXrkoykzx32o"
   },
   "source": [
    "# Rule-based Sarcasm Interpreter"
   ]
  },
  {
   "cell_type": "code",
   "execution_count": null,
   "metadata": {
    "id": "4pztqOJwHFbQ"
   },
   "outputs": [],
   "source": [
    "#Final sarcasm classification function for when we have established the best threshold\n",
    "def interpret_sarcasm(tweet, verb, noun_phrase, threshold=0.528):\n",
    "    tweet_sentiment = classify_sentiment(tweet)\n",
    "    tweet_no_v_sentiment = classify_sentiment(tweet.replace(verb, \"\"))\n",
    "    tweet_no_np_sentiment = classify_sentiment(tweet.replace(noun_phrase, \"\"))\n",
    "    v_sentiment = tweet_sentiment - tweet_no_v_sentiment\n",
    "    np_sentiment = tweet_sentiment - tweet_no_np_sentiment\n",
    "\n",
    "    if np.linalg.norm(v_sentiment - np_sentiment)/6.3885164 > threshold:\n",
    "      return negator.negate_sentence(tweet)\n",
    "    else:\n",
    "      return \"The tweet is not sarcastic.\""
   ]
  },
  {
   "cell_type": "code",
   "execution_count": null,
   "metadata": {
    "id": "qNxydZoD-8qA"
   },
   "outputs": [],
   "source": [
    "#TEST!!!!!!!!!!!!!!!!!!!!!!!!!!\n",
    "#Final sarcasm classification function for when we have established the best threshold\n",
    "def interpret_sarcasm(tweet, verb, noun_phrase, threshold=0.528):\n",
    "    tweet_sentiment = classify_sentiment(tweet)\n",
    "    tweet_no_v_sentiment = classify_sentiment(tweet.replace(verb, \"\"))\n",
    "    tweet_no_np_sentiment = classify_sentiment(tweet.replace(noun_phrase, \"\"))\n",
    "    v_sentiment = tweet_sentiment - tweet_no_v_sentiment\n",
    "    np_sentiment = tweet_sentiment - tweet_no_np_sentiment\n",
    "\n",
    "    if np.linalg.norm(v_sentiment - np_sentiment)/6.3885164 > threshold:\n",
    "      tweet_no_np = tweet.replace(noun_phrase, \"\")\n",
    "      negated_part = negator.negate_sentence(tweet_no_np)\n",
    "      return negated_part + \" \" + noun_phrase\n",
    "    else:\n",
    "      return \"The tweet is not sarcastic.\""
   ]
  }
 ],
 "metadata": {
  "colab": {
   "collapsed_sections": [
    "RXrkoykzx32o"
   ],
   "provenance": [
    {
     "file_id": "1UWDNYCrnazWxfZ4Lh16g3lQt9KoXSa0k",
     "timestamp": 1729265331715
    }
   ]
  },
  "kernelspec": {
   "display_name": "Python 3",
   "name": "python3"
  },
  "language_info": {
   "name": "python"
  },
  "widgets": {
   "application/vnd.jupyter.widget-state+json": {
    "00e93677b3d5459886cdfa20b390492b": {
     "model_module": "@jupyter-widgets/base",
     "model_module_version": "1.2.0",
     "model_name": "LayoutModel",
     "state": {
      "_model_module": "@jupyter-widgets/base",
      "_model_module_version": "1.2.0",
      "_model_name": "LayoutModel",
      "_view_count": null,
      "_view_module": "@jupyter-widgets/base",
      "_view_module_version": "1.2.0",
      "_view_name": "LayoutView",
      "align_content": null,
      "align_items": null,
      "align_self": null,
      "border": null,
      "bottom": null,
      "display": null,
      "flex": null,
      "flex_flow": null,
      "grid_area": null,
      "grid_auto_columns": null,
      "grid_auto_flow": null,
      "grid_auto_rows": null,
      "grid_column": null,
      "grid_gap": null,
      "grid_row": null,
      "grid_template_areas": null,
      "grid_template_columns": null,
      "grid_template_rows": null,
      "height": null,
      "justify_content": null,
      "justify_items": null,
      "left": null,
      "margin": null,
      "max_height": null,
      "max_width": null,
      "min_height": null,
      "min_width": null,
      "object_fit": null,
      "object_position": null,
      "order": null,
      "overflow": null,
      "overflow_x": null,
      "overflow_y": null,
      "padding": null,
      "right": null,
      "top": null,
      "visibility": null,
      "width": null
     }
    },
    "01216c4d0d804953b2bef24beecac656": {
     "model_module": "@jupyter-widgets/controls",
     "model_module_version": "1.5.0",
     "model_name": "ProgressStyleModel",
     "state": {
      "_model_module": "@jupyter-widgets/controls",
      "_model_module_version": "1.5.0",
      "_model_name": "ProgressStyleModel",
      "_view_count": null,
      "_view_module": "@jupyter-widgets/base",
      "_view_module_version": "1.2.0",
      "_view_name": "StyleView",
      "bar_color": null,
      "description_width": ""
     }
    },
    "012e11f99add4f8ea68722593039d8fb": {
     "model_module": "@jupyter-widgets/base",
     "model_module_version": "1.2.0",
     "model_name": "LayoutModel",
     "state": {
      "_model_module": "@jupyter-widgets/base",
      "_model_module_version": "1.2.0",
      "_model_name": "LayoutModel",
      "_view_count": null,
      "_view_module": "@jupyter-widgets/base",
      "_view_module_version": "1.2.0",
      "_view_name": "LayoutView",
      "align_content": null,
      "align_items": null,
      "align_self": null,
      "border": null,
      "bottom": null,
      "display": null,
      "flex": null,
      "flex_flow": null,
      "grid_area": null,
      "grid_auto_columns": null,
      "grid_auto_flow": null,
      "grid_auto_rows": null,
      "grid_column": null,
      "grid_gap": null,
      "grid_row": null,
      "grid_template_areas": null,
      "grid_template_columns": null,
      "grid_template_rows": null,
      "height": null,
      "justify_content": null,
      "justify_items": null,
      "left": null,
      "margin": null,
      "max_height": null,
      "max_width": null,
      "min_height": null,
      "min_width": null,
      "object_fit": null,
      "object_position": null,
      "order": null,
      "overflow": null,
      "overflow_x": null,
      "overflow_y": null,
      "padding": null,
      "right": null,
      "top": null,
      "visibility": null,
      "width": null
     }
    },
    "02adea4fe2754419a9753b2bdafb85ec": {
     "model_module": "@jupyter-widgets/base",
     "model_module_version": "1.2.0",
     "model_name": "LayoutModel",
     "state": {
      "_model_module": "@jupyter-widgets/base",
      "_model_module_version": "1.2.0",
      "_model_name": "LayoutModel",
      "_view_count": null,
      "_view_module": "@jupyter-widgets/base",
      "_view_module_version": "1.2.0",
      "_view_name": "LayoutView",
      "align_content": null,
      "align_items": null,
      "align_self": null,
      "border": null,
      "bottom": null,
      "display": null,
      "flex": null,
      "flex_flow": null,
      "grid_area": null,
      "grid_auto_columns": null,
      "grid_auto_flow": null,
      "grid_auto_rows": null,
      "grid_column": null,
      "grid_gap": null,
      "grid_row": null,
      "grid_template_areas": null,
      "grid_template_columns": null,
      "grid_template_rows": null,
      "height": null,
      "justify_content": null,
      "justify_items": null,
      "left": null,
      "margin": null,
      "max_height": null,
      "max_width": null,
      "min_height": null,
      "min_width": null,
      "object_fit": null,
      "object_position": null,
      "order": null,
      "overflow": null,
      "overflow_x": null,
      "overflow_y": null,
      "padding": null,
      "right": null,
      "top": null,
      "visibility": null,
      "width": null
     }
    },
    "02fb5b1a3e8c467797ac1f1dfb547e92": {
     "model_module": "@jupyter-widgets/controls",
     "model_module_version": "1.5.0",
     "model_name": "FloatProgressModel",
     "state": {
      "_dom_classes": [],
      "_model_module": "@jupyter-widgets/controls",
      "_model_module_version": "1.5.0",
      "_model_name": "FloatProgressModel",
      "_view_count": null,
      "_view_module": "@jupyter-widgets/controls",
      "_view_module_version": "1.5.0",
      "_view_name": "ProgressView",
      "bar_style": "success",
      "description": "",
      "description_tooltip": null,
      "layout": "IPY_MODEL_0aa4a7cb46f648cbaecbe8660149b07a",
      "max": 898822,
      "min": 0,
      "orientation": "horizontal",
      "style": "IPY_MODEL_01216c4d0d804953b2bef24beecac656",
      "value": 898822
     }
    },
    "09c3822ffc914e70ad3310037eaf0950": {
     "model_module": "@jupyter-widgets/controls",
     "model_module_version": "1.5.0",
     "model_name": "HTMLModel",
     "state": {
      "_dom_classes": [],
      "_model_module": "@jupyter-widgets/controls",
      "_model_module_version": "1.5.0",
      "_model_name": "HTMLModel",
      "_view_count": null,
      "_view_module": "@jupyter-widgets/controls",
      "_view_module_version": "1.5.0",
      "_view_name": "HTMLView",
      "description": "",
      "description_tooltip": null,
      "layout": "IPY_MODEL_f89be3840a904c73869483fd27f08917",
      "placeholder": "​",
      "style": "IPY_MODEL_1ea20c81b9cd416c9ca83c40ffef97b3",
      "value": " 929/929 [00:00&lt;00:00, 9.59kB/s]"
     }
    },
    "0aa4a7cb46f648cbaecbe8660149b07a": {
     "model_module": "@jupyter-widgets/base",
     "model_module_version": "1.2.0",
     "model_name": "LayoutModel",
     "state": {
      "_model_module": "@jupyter-widgets/base",
      "_model_module_version": "1.2.0",
      "_model_name": "LayoutModel",
      "_view_count": null,
      "_view_module": "@jupyter-widgets/base",
      "_view_module_version": "1.2.0",
      "_view_name": "LayoutView",
      "align_content": null,
      "align_items": null,
      "align_self": null,
      "border": null,
      "bottom": null,
      "display": null,
      "flex": null,
      "flex_flow": null,
      "grid_area": null,
      "grid_auto_columns": null,
      "grid_auto_flow": null,
      "grid_auto_rows": null,
      "grid_column": null,
      "grid_gap": null,
      "grid_row": null,
      "grid_template_areas": null,
      "grid_template_columns": null,
      "grid_template_rows": null,
      "height": null,
      "justify_content": null,
      "justify_items": null,
      "left": null,
      "margin": null,
      "max_height": null,
      "max_width": null,
      "min_height": null,
      "min_width": null,
      "object_fit": null,
      "object_position": null,
      "order": null,
      "overflow": null,
      "overflow_x": null,
      "overflow_y": null,
      "padding": null,
      "right": null,
      "top": null,
      "visibility": null,
      "width": null
     }
    },
    "0fe0e724a82e477bbd94fc256b3aa660": {
     "model_module": "@jupyter-widgets/base",
     "model_module_version": "1.2.0",
     "model_name": "LayoutModel",
     "state": {
      "_model_module": "@jupyter-widgets/base",
      "_model_module_version": "1.2.0",
      "_model_name": "LayoutModel",
      "_view_count": null,
      "_view_module": "@jupyter-widgets/base",
      "_view_module_version": "1.2.0",
      "_view_name": "LayoutView",
      "align_content": null,
      "align_items": null,
      "align_self": null,
      "border": null,
      "bottom": null,
      "display": null,
      "flex": null,
      "flex_flow": null,
      "grid_area": null,
      "grid_auto_columns": null,
      "grid_auto_flow": null,
      "grid_auto_rows": null,
      "grid_column": null,
      "grid_gap": null,
      "grid_row": null,
      "grid_template_areas": null,
      "grid_template_columns": null,
      "grid_template_rows": null,
      "height": null,
      "justify_content": null,
      "justify_items": null,
      "left": null,
      "margin": null,
      "max_height": null,
      "max_width": null,
      "min_height": null,
      "min_width": null,
      "object_fit": null,
      "object_position": null,
      "order": null,
      "overflow": null,
      "overflow_x": null,
      "overflow_y": null,
      "padding": null,
      "right": null,
      "top": null,
      "visibility": null,
      "width": null
     }
    },
    "12c64213fc0c42b2a6ea375dbe8364c9": {
     "model_module": "@jupyter-widgets/controls",
     "model_module_version": "1.5.0",
     "model_name": "HBoxModel",
     "state": {
      "_dom_classes": [],
      "_model_module": "@jupyter-widgets/controls",
      "_model_module_version": "1.5.0",
      "_model_name": "HBoxModel",
      "_view_count": null,
      "_view_module": "@jupyter-widgets/controls",
      "_view_module_version": "1.5.0",
      "_view_name": "HBoxView",
      "box_style": "",
      "children": [
       "IPY_MODEL_7c583719a5cb49d481ed20feeaf34759",
       "IPY_MODEL_fc2b57ec050149e3903ab07fc2999a6a",
       "IPY_MODEL_186c36bdd38f4837a64f466b29d96bfb"
      ],
      "layout": "IPY_MODEL_99cd8f72d45c4af3adee51eea277abe9"
     }
    },
    "1554239c68a84a2690cfe770d116698d": {
     "model_module": "@jupyter-widgets/base",
     "model_module_version": "1.2.0",
     "model_name": "LayoutModel",
     "state": {
      "_model_module": "@jupyter-widgets/base",
      "_model_module_version": "1.2.0",
      "_model_name": "LayoutModel",
      "_view_count": null,
      "_view_module": "@jupyter-widgets/base",
      "_view_module_version": "1.2.0",
      "_view_name": "LayoutView",
      "align_content": null,
      "align_items": null,
      "align_self": null,
      "border": null,
      "bottom": null,
      "display": null,
      "flex": null,
      "flex_flow": null,
      "grid_area": null,
      "grid_auto_columns": null,
      "grid_auto_flow": null,
      "grid_auto_rows": null,
      "grid_column": null,
      "grid_gap": null,
      "grid_row": null,
      "grid_template_areas": null,
      "grid_template_columns": null,
      "grid_template_rows": null,
      "height": null,
      "justify_content": null,
      "justify_items": null,
      "left": null,
      "margin": null,
      "max_height": null,
      "max_width": null,
      "min_height": null,
      "min_width": null,
      "object_fit": null,
      "object_position": null,
      "order": null,
      "overflow": null,
      "overflow_x": null,
      "overflow_y": null,
      "padding": null,
      "right": null,
      "top": null,
      "visibility": null,
      "width": null
     }
    },
    "15c1a890fa8a442d84a22b9cd054dc78": {
     "model_module": "@jupyter-widgets/base",
     "model_module_version": "1.2.0",
     "model_name": "LayoutModel",
     "state": {
      "_model_module": "@jupyter-widgets/base",
      "_model_module_version": "1.2.0",
      "_model_name": "LayoutModel",
      "_view_count": null,
      "_view_module": "@jupyter-widgets/base",
      "_view_module_version": "1.2.0",
      "_view_name": "LayoutView",
      "align_content": null,
      "align_items": null,
      "align_self": null,
      "border": null,
      "bottom": null,
      "display": null,
      "flex": null,
      "flex_flow": null,
      "grid_area": null,
      "grid_auto_columns": null,
      "grid_auto_flow": null,
      "grid_auto_rows": null,
      "grid_column": null,
      "grid_gap": null,
      "grid_row": null,
      "grid_template_areas": null,
      "grid_template_columns": null,
      "grid_template_rows": null,
      "height": null,
      "justify_content": null,
      "justify_items": null,
      "left": null,
      "margin": null,
      "max_height": null,
      "max_width": null,
      "min_height": null,
      "min_width": null,
      "object_fit": null,
      "object_position": null,
      "order": null,
      "overflow": null,
      "overflow_x": null,
      "overflow_y": null,
      "padding": null,
      "right": null,
      "top": null,
      "visibility": null,
      "width": null
     }
    },
    "1741d921c58f4504a7b0d854cb70e8a0": {
     "model_module": "@jupyter-widgets/controls",
     "model_module_version": "1.5.0",
     "model_name": "HTMLModel",
     "state": {
      "_dom_classes": [],
      "_model_module": "@jupyter-widgets/controls",
      "_model_module_version": "1.5.0",
      "_model_name": "HTMLModel",
      "_view_count": null,
      "_view_module": "@jupyter-widgets/controls",
      "_view_module_version": "1.5.0",
      "_view_name": "HTMLView",
      "description": "",
      "description_tooltip": null,
      "layout": "IPY_MODEL_0fe0e724a82e477bbd94fc256b3aa660",
      "placeholder": "​",
      "style": "IPY_MODEL_5c828a0b12ff4069bb35b5de32318763",
      "value": " 501M/501M [00:04&lt;00:00, 95.2MB/s]"
     }
    },
    "17f8346ffaa84e0a8851ac0b1480d864": {
     "model_module": "@jupyter-widgets/base",
     "model_module_version": "1.2.0",
     "model_name": "LayoutModel",
     "state": {
      "_model_module": "@jupyter-widgets/base",
      "_model_module_version": "1.2.0",
      "_model_name": "LayoutModel",
      "_view_count": null,
      "_view_module": "@jupyter-widgets/base",
      "_view_module_version": "1.2.0",
      "_view_name": "LayoutView",
      "align_content": null,
      "align_items": null,
      "align_self": null,
      "border": null,
      "bottom": null,
      "display": null,
      "flex": null,
      "flex_flow": null,
      "grid_area": null,
      "grid_auto_columns": null,
      "grid_auto_flow": null,
      "grid_auto_rows": null,
      "grid_column": null,
      "grid_gap": null,
      "grid_row": null,
      "grid_template_areas": null,
      "grid_template_columns": null,
      "grid_template_rows": null,
      "height": null,
      "justify_content": null,
      "justify_items": null,
      "left": null,
      "margin": null,
      "max_height": null,
      "max_width": null,
      "min_height": null,
      "min_width": null,
      "object_fit": null,
      "object_position": null,
      "order": null,
      "overflow": null,
      "overflow_x": null,
      "overflow_y": null,
      "padding": null,
      "right": null,
      "top": null,
      "visibility": null,
      "width": null
     }
    },
    "181aad804dea41b98b87b22fcaaba90b": {
     "model_module": "@jupyter-widgets/controls",
     "model_module_version": "1.5.0",
     "model_name": "HTMLModel",
     "state": {
      "_dom_classes": [],
      "_model_module": "@jupyter-widgets/controls",
      "_model_module_version": "1.5.0",
      "_model_name": "HTMLModel",
      "_view_count": null,
      "_view_module": "@jupyter-widgets/controls",
      "_view_module_version": "1.5.0",
      "_view_name": "HTMLView",
      "description": "",
      "description_tooltip": null,
      "layout": "IPY_MODEL_a9aa6da0742c47ffbb129cd6f2d4ee44",
      "placeholder": "​",
      "style": "IPY_MODEL_83092b80cd18434a8a2e795c4aac0eb8",
      "value": "pytorch_model.bin: 100%"
     }
    },
    "186c36bdd38f4837a64f466b29d96bfb": {
     "model_module": "@jupyter-widgets/controls",
     "model_module_version": "1.5.0",
     "model_name": "HTMLModel",
     "state": {
      "_dom_classes": [],
      "_model_module": "@jupyter-widgets/controls",
      "_model_module_version": "1.5.0",
      "_model_name": "HTMLModel",
      "_view_count": null,
      "_view_module": "@jupyter-widgets/controls",
      "_view_module_version": "1.5.0",
      "_view_name": "HTMLView",
      "description": "",
      "description_tooltip": null,
      "layout": "IPY_MODEL_1554239c68a84a2690cfe770d116698d",
      "placeholder": "​",
      "style": "IPY_MODEL_25acad459c4046e5a7d6c1ed1795852e",
      "value": " 456k/456k [00:00&lt;00:00, 3.52MB/s]"
     }
    },
    "1896f5c727ca4b77bf37907c501e9922": {
     "model_module": "@jupyter-widgets/base",
     "model_module_version": "1.2.0",
     "model_name": "LayoutModel",
     "state": {
      "_model_module": "@jupyter-widgets/base",
      "_model_module_version": "1.2.0",
      "_model_name": "LayoutModel",
      "_view_count": null,
      "_view_module": "@jupyter-widgets/base",
      "_view_module_version": "1.2.0",
      "_view_name": "LayoutView",
      "align_content": null,
      "align_items": null,
      "align_self": null,
      "border": null,
      "bottom": null,
      "display": null,
      "flex": null,
      "flex_flow": null,
      "grid_area": null,
      "grid_auto_columns": null,
      "grid_auto_flow": null,
      "grid_auto_rows": null,
      "grid_column": null,
      "grid_gap": null,
      "grid_row": null,
      "grid_template_areas": null,
      "grid_template_columns": null,
      "grid_template_rows": null,
      "height": null,
      "justify_content": null,
      "justify_items": null,
      "left": null,
      "margin": null,
      "max_height": null,
      "max_width": null,
      "min_height": null,
      "min_width": null,
      "object_fit": null,
      "object_position": null,
      "order": null,
      "overflow": null,
      "overflow_x": null,
      "overflow_y": null,
      "padding": null,
      "right": null,
      "top": null,
      "visibility": null,
      "width": null
     }
    },
    "1b9a10d53aa349a8ba8e952be500f70b": {
     "model_module": "@jupyter-widgets/controls",
     "model_module_version": "1.5.0",
     "model_name": "DescriptionStyleModel",
     "state": {
      "_model_module": "@jupyter-widgets/controls",
      "_model_module_version": "1.5.0",
      "_model_name": "DescriptionStyleModel",
      "_view_count": null,
      "_view_module": "@jupyter-widgets/base",
      "_view_module_version": "1.2.0",
      "_view_name": "StyleView",
      "description_width": ""
     }
    },
    "1e948373f82d49f1b975b6770c46da1b": {
     "model_module": "@jupyter-widgets/base",
     "model_module_version": "1.2.0",
     "model_name": "LayoutModel",
     "state": {
      "_model_module": "@jupyter-widgets/base",
      "_model_module_version": "1.2.0",
      "_model_name": "LayoutModel",
      "_view_count": null,
      "_view_module": "@jupyter-widgets/base",
      "_view_module_version": "1.2.0",
      "_view_name": "LayoutView",
      "align_content": null,
      "align_items": null,
      "align_self": null,
      "border": null,
      "bottom": null,
      "display": null,
      "flex": null,
      "flex_flow": null,
      "grid_area": null,
      "grid_auto_columns": null,
      "grid_auto_flow": null,
      "grid_auto_rows": null,
      "grid_column": null,
      "grid_gap": null,
      "grid_row": null,
      "grid_template_areas": null,
      "grid_template_columns": null,
      "grid_template_rows": null,
      "height": null,
      "justify_content": null,
      "justify_items": null,
      "left": null,
      "margin": null,
      "max_height": null,
      "max_width": null,
      "min_height": null,
      "min_width": null,
      "object_fit": null,
      "object_position": null,
      "order": null,
      "overflow": null,
      "overflow_x": null,
      "overflow_y": null,
      "padding": null,
      "right": null,
      "top": null,
      "visibility": null,
      "width": null
     }
    },
    "1ea20c81b9cd416c9ca83c40ffef97b3": {
     "model_module": "@jupyter-widgets/controls",
     "model_module_version": "1.5.0",
     "model_name": "DescriptionStyleModel",
     "state": {
      "_model_module": "@jupyter-widgets/controls",
      "_model_module_version": "1.5.0",
      "_model_name": "DescriptionStyleModel",
      "_view_count": null,
      "_view_module": "@jupyter-widgets/base",
      "_view_module_version": "1.2.0",
      "_view_name": "StyleView",
      "description_width": ""
     }
    },
    "1eceaaa8e6a84c92942f3780d1fa2aeb": {
     "model_module": "@jupyter-widgets/controls",
     "model_module_version": "1.5.0",
     "model_name": "HTMLModel",
     "state": {
      "_dom_classes": [],
      "_model_module": "@jupyter-widgets/controls",
      "_model_module_version": "1.5.0",
      "_model_name": "HTMLModel",
      "_view_count": null,
      "_view_module": "@jupyter-widgets/controls",
      "_view_module_version": "1.5.0",
      "_view_name": "HTMLView",
      "description": "",
      "description_tooltip": null,
      "layout": "IPY_MODEL_a6413d180fa3455e819c2f44e11db406",
      "placeholder": "​",
      "style": "IPY_MODEL_d85fa75a7e674f7d9e04761f577ccfda",
      "value": " 392k/? [00:00&lt;00:00, 11.2MB/s]"
     }
    },
    "20f573c564bc4102a5f08f0722a3b698": {
     "model_module": "@jupyter-widgets/controls",
     "model_module_version": "1.5.0",
     "model_name": "FloatProgressModel",
     "state": {
      "_dom_classes": [],
      "_model_module": "@jupyter-widgets/controls",
      "_model_module_version": "1.5.0",
      "_model_name": "FloatProgressModel",
      "_view_count": null,
      "_view_module": "@jupyter-widgets/controls",
      "_view_module_version": "1.5.0",
      "_view_name": "ProgressView",
      "bar_style": "success",
      "description": "",
      "description_tooltip": null,
      "layout": "IPY_MODEL_5f2fddfdb0204c7a8dbefb8f644f7d40",
      "max": 239,
      "min": 0,
      "orientation": "horizontal",
      "style": "IPY_MODEL_3ec4053124544222b730d4594b2618a7",
      "value": 239
     }
    },
    "212b5313c2854665ac2acc12ad74ee2a": {
     "model_module": "@jupyter-widgets/base",
     "model_module_version": "1.2.0",
     "model_name": "LayoutModel",
     "state": {
      "_model_module": "@jupyter-widgets/base",
      "_model_module_version": "1.2.0",
      "_model_name": "LayoutModel",
      "_view_count": null,
      "_view_module": "@jupyter-widgets/base",
      "_view_module_version": "1.2.0",
      "_view_name": "LayoutView",
      "align_content": null,
      "align_items": null,
      "align_self": null,
      "border": null,
      "bottom": null,
      "display": null,
      "flex": null,
      "flex_flow": null,
      "grid_area": null,
      "grid_auto_columns": null,
      "grid_auto_flow": null,
      "grid_auto_rows": null,
      "grid_column": null,
      "grid_gap": null,
      "grid_row": null,
      "grid_template_areas": null,
      "grid_template_columns": null,
      "grid_template_rows": null,
      "height": null,
      "justify_content": null,
      "justify_items": null,
      "left": null,
      "margin": null,
      "max_height": null,
      "max_width": null,
      "min_height": null,
      "min_width": null,
      "object_fit": null,
      "object_position": null,
      "order": null,
      "overflow": null,
      "overflow_x": null,
      "overflow_y": null,
      "padding": null,
      "right": null,
      "top": null,
      "visibility": null,
      "width": null
     }
    },
    "21e6fcb56755412197bb9fbd7c243551": {
     "model_module": "@jupyter-widgets/controls",
     "model_module_version": "1.5.0",
     "model_name": "HTMLModel",
     "state": {
      "_dom_classes": [],
      "_model_module": "@jupyter-widgets/controls",
      "_model_module_version": "1.5.0",
      "_model_name": "HTMLModel",
      "_view_count": null,
      "_view_module": "@jupyter-widgets/controls",
      "_view_module_version": "1.5.0",
      "_view_name": "HTMLView",
      "description": "",
      "description_tooltip": null,
      "layout": "IPY_MODEL_7a032c9ce03745709a352fb4e25ac954",
      "placeholder": "​",
      "style": "IPY_MODEL_c1773708b8174f3c91a62f06bb0f2ad7",
      "value": " 392k/? [00:00&lt;00:00, 20.2MB/s]"
     }
    },
    "252e12b6b02e44688990c70e15a74448": {
     "model_module": "@jupyter-widgets/controls",
     "model_module_version": "1.5.0",
     "model_name": "HTMLModel",
     "state": {
      "_dom_classes": [],
      "_model_module": "@jupyter-widgets/controls",
      "_model_module_version": "1.5.0",
      "_model_name": "HTMLModel",
      "_view_count": null,
      "_view_module": "@jupyter-widgets/controls",
      "_view_module_version": "1.5.0",
      "_view_name": "HTMLView",
      "description": "",
      "description_tooltip": null,
      "layout": "IPY_MODEL_00e93677b3d5459886cdfa20b390492b",
      "placeholder": "​",
      "style": "IPY_MODEL_f0f1491ebde34df2aa321751fbe40d71",
      "value": "special_tokens_map.json: 100%"
     }
    },
    "25acad459c4046e5a7d6c1ed1795852e": {
     "model_module": "@jupyter-widgets/controls",
     "model_module_version": "1.5.0",
     "model_name": "DescriptionStyleModel",
     "state": {
      "_model_module": "@jupyter-widgets/controls",
      "_model_module_version": "1.5.0",
      "_model_name": "DescriptionStyleModel",
      "_view_count": null,
      "_view_module": "@jupyter-widgets/base",
      "_view_module_version": "1.2.0",
      "_view_name": "StyleView",
      "description_width": ""
     }
    },
    "2ca8bd849d184a38b278cfc06d9820f5": {
     "model_module": "@jupyter-widgets/base",
     "model_module_version": "1.2.0",
     "model_name": "LayoutModel",
     "state": {
      "_model_module": "@jupyter-widgets/base",
      "_model_module_version": "1.2.0",
      "_model_name": "LayoutModel",
      "_view_count": null,
      "_view_module": "@jupyter-widgets/base",
      "_view_module_version": "1.2.0",
      "_view_name": "LayoutView",
      "align_content": null,
      "align_items": null,
      "align_self": null,
      "border": null,
      "bottom": null,
      "display": null,
      "flex": null,
      "flex_flow": null,
      "grid_area": null,
      "grid_auto_columns": null,
      "grid_auto_flow": null,
      "grid_auto_rows": null,
      "grid_column": null,
      "grid_gap": null,
      "grid_row": null,
      "grid_template_areas": null,
      "grid_template_columns": null,
      "grid_template_rows": null,
      "height": null,
      "justify_content": null,
      "justify_items": null,
      "left": null,
      "margin": null,
      "max_height": null,
      "max_width": null,
      "min_height": null,
      "min_width": null,
      "object_fit": null,
      "object_position": null,
      "order": null,
      "overflow": null,
      "overflow_x": null,
      "overflow_y": null,
      "padding": null,
      "right": null,
      "top": null,
      "visibility": null,
      "width": null
     }
    },
    "3401eb9724dd400897b6d59590bbe196": {
     "model_module": "@jupyter-widgets/controls",
     "model_module_version": "1.5.0",
     "model_name": "ProgressStyleModel",
     "state": {
      "_model_module": "@jupyter-widgets/controls",
      "_model_module_version": "1.5.0",
      "_model_name": "ProgressStyleModel",
      "_view_count": null,
      "_view_module": "@jupyter-widgets/base",
      "_view_module_version": "1.2.0",
      "_view_name": "StyleView",
      "bar_color": null,
      "description_width": ""
     }
    },
    "38f554c189d044e2a42003ab247a7f70": {
     "model_module": "@jupyter-widgets/base",
     "model_module_version": "1.2.0",
     "model_name": "LayoutModel",
     "state": {
      "_model_module": "@jupyter-widgets/base",
      "_model_module_version": "1.2.0",
      "_model_name": "LayoutModel",
      "_view_count": null,
      "_view_module": "@jupyter-widgets/base",
      "_view_module_version": "1.2.0",
      "_view_name": "LayoutView",
      "align_content": null,
      "align_items": null,
      "align_self": null,
      "border": null,
      "bottom": null,
      "display": null,
      "flex": null,
      "flex_flow": null,
      "grid_area": null,
      "grid_auto_columns": null,
      "grid_auto_flow": null,
      "grid_auto_rows": null,
      "grid_column": null,
      "grid_gap": null,
      "grid_row": null,
      "grid_template_areas": null,
      "grid_template_columns": null,
      "grid_template_rows": null,
      "height": null,
      "justify_content": null,
      "justify_items": null,
      "left": null,
      "margin": null,
      "max_height": null,
      "max_width": null,
      "min_height": null,
      "min_width": null,
      "object_fit": null,
      "object_position": null,
      "order": null,
      "overflow": null,
      "overflow_x": null,
      "overflow_y": null,
      "padding": null,
      "right": null,
      "top": null,
      "visibility": null,
      "width": null
     }
    },
    "3abea2eaddd34de4b7f30655ead03e2c": {
     "model_module": "@jupyter-widgets/controls",
     "model_module_version": "1.5.0",
     "model_name": "HTMLModel",
     "state": {
      "_dom_classes": [],
      "_model_module": "@jupyter-widgets/controls",
      "_model_module_version": "1.5.0",
      "_model_name": "HTMLModel",
      "_view_count": null,
      "_view_module": "@jupyter-widgets/controls",
      "_view_module_version": "1.5.0",
      "_view_name": "HTMLView",
      "description": "",
      "description_tooltip": null,
      "layout": "IPY_MODEL_8b35622a0c444626bc6dcb760a989fd6",
      "placeholder": "​",
      "style": "IPY_MODEL_f1f7b272996b47038c1ae24ff41b641f",
      "value": "vocab.json: 100%"
     }
    },
    "3ec4053124544222b730d4594b2618a7": {
     "model_module": "@jupyter-widgets/controls",
     "model_module_version": "1.5.0",
     "model_name": "ProgressStyleModel",
     "state": {
      "_model_module": "@jupyter-widgets/controls",
      "_model_module_version": "1.5.0",
      "_model_name": "ProgressStyleModel",
      "_view_count": null,
      "_view_module": "@jupyter-widgets/base",
      "_view_module_version": "1.2.0",
      "_view_name": "StyleView",
      "bar_color": null,
      "description_width": ""
     }
    },
    "41f4acec429b4f82b3f8a91b397534a9": {
     "model_module": "@jupyter-widgets/controls",
     "model_module_version": "1.5.0",
     "model_name": "DescriptionStyleModel",
     "state": {
      "_model_module": "@jupyter-widgets/controls",
      "_model_module_version": "1.5.0",
      "_model_name": "DescriptionStyleModel",
      "_view_count": null,
      "_view_module": "@jupyter-widgets/base",
      "_view_module_version": "1.2.0",
      "_view_name": "StyleView",
      "description_width": ""
     }
    },
    "4580b480c88e4b4f8d9db97722a9fb7c": {
     "model_module": "@jupyter-widgets/controls",
     "model_module_version": "1.5.0",
     "model_name": "HBoxModel",
     "state": {
      "_dom_classes": [],
      "_model_module": "@jupyter-widgets/controls",
      "_model_module_version": "1.5.0",
      "_model_name": "HBoxModel",
      "_view_count": null,
      "_view_module": "@jupyter-widgets/controls",
      "_view_module_version": "1.5.0",
      "_view_name": "HBoxView",
      "box_style": "",
      "children": [
       "IPY_MODEL_4cc0a45b0fdc431fb3d9a6d073187b58",
       "IPY_MODEL_615a37a1dbcd46d08ffd47e7ff7b3425",
       "IPY_MODEL_b4f5a883e50c46f2b55d93bc40271e0a"
      ],
      "layout": "IPY_MODEL_02adea4fe2754419a9753b2bdafb85ec"
     }
    },
    "4cc0a45b0fdc431fb3d9a6d073187b58": {
     "model_module": "@jupyter-widgets/controls",
     "model_module_version": "1.5.0",
     "model_name": "HTMLModel",
     "state": {
      "_dom_classes": [],
      "_model_module": "@jupyter-widgets/controls",
      "_model_module_version": "1.5.0",
      "_model_name": "HTMLModel",
      "_view_count": null,
      "_view_module": "@jupyter-widgets/controls",
      "_view_module_version": "1.5.0",
      "_view_name": "HTMLView",
      "description": "",
      "description_tooltip": null,
      "layout": "IPY_MODEL_8340057ec950423eb10080b753e0e098",
      "placeholder": "​",
      "style": "IPY_MODEL_696b5a67d7264f87889bbc7f3eb3aa2c",
      "value": "Downloading https://huggingface.co/stanfordnlp/stanza-en/resolve/v1.9.0/models/default.zip: 100%"
     }
    },
    "4ff7e6022ff34ee6bdfef26c3452f9d0": {
     "model_module": "@jupyter-widgets/base",
     "model_module_version": "1.2.0",
     "model_name": "LayoutModel",
     "state": {
      "_model_module": "@jupyter-widgets/base",
      "_model_module_version": "1.2.0",
      "_model_name": "LayoutModel",
      "_view_count": null,
      "_view_module": "@jupyter-widgets/base",
      "_view_module_version": "1.2.0",
      "_view_name": "LayoutView",
      "align_content": null,
      "align_items": null,
      "align_self": null,
      "border": null,
      "bottom": null,
      "display": null,
      "flex": null,
      "flex_flow": null,
      "grid_area": null,
      "grid_auto_columns": null,
      "grid_auto_flow": null,
      "grid_auto_rows": null,
      "grid_column": null,
      "grid_gap": null,
      "grid_row": null,
      "grid_template_areas": null,
      "grid_template_columns": null,
      "grid_template_rows": null,
      "height": null,
      "justify_content": null,
      "justify_items": null,
      "left": null,
      "margin": null,
      "max_height": null,
      "max_width": null,
      "min_height": null,
      "min_width": null,
      "object_fit": null,
      "object_position": null,
      "order": null,
      "overflow": null,
      "overflow_x": null,
      "overflow_y": null,
      "padding": null,
      "right": null,
      "top": null,
      "visibility": null,
      "width": null
     }
    },
    "536cf81619d347b38df412816ebd8384": {
     "model_module": "@jupyter-widgets/controls",
     "model_module_version": "1.5.0",
     "model_name": "HBoxModel",
     "state": {
      "_dom_classes": [],
      "_model_module": "@jupyter-widgets/controls",
      "_model_module_version": "1.5.0",
      "_model_name": "HBoxModel",
      "_view_count": null,
      "_view_module": "@jupyter-widgets/controls",
      "_view_module_version": "1.5.0",
      "_view_name": "HBoxView",
      "box_style": "",
      "children": [
       "IPY_MODEL_c9e615c11eaf41d7bb837d9646eb298f",
       "IPY_MODEL_6290202ee2e84f93ac845dc63ebbf0e7",
       "IPY_MODEL_1eceaaa8e6a84c92942f3780d1fa2aeb"
      ],
      "layout": "IPY_MODEL_7dc37dcee82e4b988a25745fb0a5507e"
     }
    },
    "54ad99c901a344188b07960bce3fe1e2": {
     "model_module": "@jupyter-widgets/base",
     "model_module_version": "1.2.0",
     "model_name": "LayoutModel",
     "state": {
      "_model_module": "@jupyter-widgets/base",
      "_model_module_version": "1.2.0",
      "_model_name": "LayoutModel",
      "_view_count": null,
      "_view_module": "@jupyter-widgets/base",
      "_view_module_version": "1.2.0",
      "_view_name": "LayoutView",
      "align_content": null,
      "align_items": null,
      "align_self": null,
      "border": null,
      "bottom": null,
      "display": null,
      "flex": null,
      "flex_flow": null,
      "grid_area": null,
      "grid_auto_columns": null,
      "grid_auto_flow": null,
      "grid_auto_rows": null,
      "grid_column": null,
      "grid_gap": null,
      "grid_row": null,
      "grid_template_areas": null,
      "grid_template_columns": null,
      "grid_template_rows": null,
      "height": null,
      "justify_content": null,
      "justify_items": null,
      "left": null,
      "margin": null,
      "max_height": null,
      "max_width": null,
      "min_height": null,
      "min_width": null,
      "object_fit": null,
      "object_position": null,
      "order": null,
      "overflow": null,
      "overflow_x": null,
      "overflow_y": null,
      "padding": null,
      "right": null,
      "top": null,
      "visibility": null,
      "width": null
     }
    },
    "5af5ccf002ba4e6bbbe6da684fac4b20": {
     "model_module": "@jupyter-widgets/controls",
     "model_module_version": "1.5.0",
     "model_name": "DescriptionStyleModel",
     "state": {
      "_model_module": "@jupyter-widgets/controls",
      "_model_module_version": "1.5.0",
      "_model_name": "DescriptionStyleModel",
      "_view_count": null,
      "_view_module": "@jupyter-widgets/base",
      "_view_module_version": "1.2.0",
      "_view_name": "StyleView",
      "description_width": ""
     }
    },
    "5c828a0b12ff4069bb35b5de32318763": {
     "model_module": "@jupyter-widgets/controls",
     "model_module_version": "1.5.0",
     "model_name": "DescriptionStyleModel",
     "state": {
      "_model_module": "@jupyter-widgets/controls",
      "_model_module_version": "1.5.0",
      "_model_name": "DescriptionStyleModel",
      "_view_count": null,
      "_view_module": "@jupyter-widgets/base",
      "_view_module_version": "1.2.0",
      "_view_name": "StyleView",
      "description_width": ""
     }
    },
    "5f2fddfdb0204c7a8dbefb8f644f7d40": {
     "model_module": "@jupyter-widgets/base",
     "model_module_version": "1.2.0",
     "model_name": "LayoutModel",
     "state": {
      "_model_module": "@jupyter-widgets/base",
      "_model_module_version": "1.2.0",
      "_model_name": "LayoutModel",
      "_view_count": null,
      "_view_module": "@jupyter-widgets/base",
      "_view_module_version": "1.2.0",
      "_view_name": "LayoutView",
      "align_content": null,
      "align_items": null,
      "align_self": null,
      "border": null,
      "bottom": null,
      "display": null,
      "flex": null,
      "flex_flow": null,
      "grid_area": null,
      "grid_auto_columns": null,
      "grid_auto_flow": null,
      "grid_auto_rows": null,
      "grid_column": null,
      "grid_gap": null,
      "grid_row": null,
      "grid_template_areas": null,
      "grid_template_columns": null,
      "grid_template_rows": null,
      "height": null,
      "justify_content": null,
      "justify_items": null,
      "left": null,
      "margin": null,
      "max_height": null,
      "max_width": null,
      "min_height": null,
      "min_width": null,
      "object_fit": null,
      "object_position": null,
      "order": null,
      "overflow": null,
      "overflow_x": null,
      "overflow_y": null,
      "padding": null,
      "right": null,
      "top": null,
      "visibility": null,
      "width": null
     }
    },
    "615a37a1dbcd46d08ffd47e7ff7b3425": {
     "model_module": "@jupyter-widgets/controls",
     "model_module_version": "1.5.0",
     "model_name": "FloatProgressModel",
     "state": {
      "_dom_classes": [],
      "_model_module": "@jupyter-widgets/controls",
      "_model_module_version": "1.5.0",
      "_model_name": "FloatProgressModel",
      "_view_count": null,
      "_view_module": "@jupyter-widgets/controls",
      "_view_module_version": "1.5.0",
      "_view_name": "ProgressView",
      "bar_style": "success",
      "description": "",
      "description_tooltip": null,
      "layout": "IPY_MODEL_7840b0770d5e426983d914e8938bc93b",
      "max": 526358230,
      "min": 0,
      "orientation": "horizontal",
      "style": "IPY_MODEL_c904236c8c8e488ca5bd4efb5881e541",
      "value": 526358230
     }
    },
    "6290202ee2e84f93ac845dc63ebbf0e7": {
     "model_module": "@jupyter-widgets/controls",
     "model_module_version": "1.5.0",
     "model_name": "FloatProgressModel",
     "state": {
      "_dom_classes": [],
      "_model_module": "@jupyter-widgets/controls",
      "_model_module_version": "1.5.0",
      "_model_name": "FloatProgressModel",
      "_view_count": null,
      "_view_module": "@jupyter-widgets/controls",
      "_view_module_version": "1.5.0",
      "_view_name": "ProgressView",
      "bar_style": "success",
      "description": "",
      "description_tooltip": null,
      "layout": "IPY_MODEL_38f554c189d044e2a42003ab247a7f70",
      "max": 48453,
      "min": 0,
      "orientation": "horizontal",
      "style": "IPY_MODEL_9dce680e75594cec88822abb994ea34c",
      "value": 48453
     }
    },
    "696b5a67d7264f87889bbc7f3eb3aa2c": {
     "model_module": "@jupyter-widgets/controls",
     "model_module_version": "1.5.0",
     "model_name": "DescriptionStyleModel",
     "state": {
      "_model_module": "@jupyter-widgets/controls",
      "_model_module_version": "1.5.0",
      "_model_name": "DescriptionStyleModel",
      "_view_count": null,
      "_view_module": "@jupyter-widgets/base",
      "_view_module_version": "1.2.0",
      "_view_name": "StyleView",
      "description_width": ""
     }
    },
    "6c3d892d57694cd08269047d22938b79": {
     "model_module": "@jupyter-widgets/base",
     "model_module_version": "1.2.0",
     "model_name": "LayoutModel",
     "state": {
      "_model_module": "@jupyter-widgets/base",
      "_model_module_version": "1.2.0",
      "_model_name": "LayoutModel",
      "_view_count": null,
      "_view_module": "@jupyter-widgets/base",
      "_view_module_version": "1.2.0",
      "_view_name": "LayoutView",
      "align_content": null,
      "align_items": null,
      "align_self": null,
      "border": null,
      "bottom": null,
      "display": null,
      "flex": null,
      "flex_flow": null,
      "grid_area": null,
      "grid_auto_columns": null,
      "grid_auto_flow": null,
      "grid_auto_rows": null,
      "grid_column": null,
      "grid_gap": null,
      "grid_row": null,
      "grid_template_areas": null,
      "grid_template_columns": null,
      "grid_template_rows": null,
      "height": null,
      "justify_content": null,
      "justify_items": null,
      "left": null,
      "margin": null,
      "max_height": null,
      "max_width": null,
      "min_height": null,
      "min_width": null,
      "object_fit": null,
      "object_position": null,
      "order": null,
      "overflow": null,
      "overflow_x": null,
      "overflow_y": null,
      "padding": null,
      "right": null,
      "top": null,
      "visibility": null,
      "width": null
     }
    },
    "718a1adf30b940bfb3dd83348846164d": {
     "model_module": "@jupyter-widgets/controls",
     "model_module_version": "1.5.0",
     "model_name": "HBoxModel",
     "state": {
      "_dom_classes": [],
      "_model_module": "@jupyter-widgets/controls",
      "_model_module_version": "1.5.0",
      "_model_name": "HBoxModel",
      "_view_count": null,
      "_view_module": "@jupyter-widgets/controls",
      "_view_module_version": "1.5.0",
      "_view_name": "HBoxView",
      "box_style": "",
      "children": [
       "IPY_MODEL_252e12b6b02e44688990c70e15a74448",
       "IPY_MODEL_20f573c564bc4102a5f08f0722a3b698",
       "IPY_MODEL_92e237f8b270440ea6cde1cdf942ad17"
      ],
      "layout": "IPY_MODEL_b8145850ddcb432e831420f4ed476b1a"
     }
    },
    "7840b0770d5e426983d914e8938bc93b": {
     "model_module": "@jupyter-widgets/base",
     "model_module_version": "1.2.0",
     "model_name": "LayoutModel",
     "state": {
      "_model_module": "@jupyter-widgets/base",
      "_model_module_version": "1.2.0",
      "_model_name": "LayoutModel",
      "_view_count": null,
      "_view_module": "@jupyter-widgets/base",
      "_view_module_version": "1.2.0",
      "_view_name": "LayoutView",
      "align_content": null,
      "align_items": null,
      "align_self": null,
      "border": null,
      "bottom": null,
      "display": null,
      "flex": null,
      "flex_flow": null,
      "grid_area": null,
      "grid_auto_columns": null,
      "grid_auto_flow": null,
      "grid_auto_rows": null,
      "grid_column": null,
      "grid_gap": null,
      "grid_row": null,
      "grid_template_areas": null,
      "grid_template_columns": null,
      "grid_template_rows": null,
      "height": null,
      "justify_content": null,
      "justify_items": null,
      "left": null,
      "margin": null,
      "max_height": null,
      "max_width": null,
      "min_height": null,
      "min_width": null,
      "object_fit": null,
      "object_position": null,
      "order": null,
      "overflow": null,
      "overflow_x": null,
      "overflow_y": null,
      "padding": null,
      "right": null,
      "top": null,
      "visibility": null,
      "width": null
     }
    },
    "7a032c9ce03745709a352fb4e25ac954": {
     "model_module": "@jupyter-widgets/base",
     "model_module_version": "1.2.0",
     "model_name": "LayoutModel",
     "state": {
      "_model_module": "@jupyter-widgets/base",
      "_model_module_version": "1.2.0",
      "_model_name": "LayoutModel",
      "_view_count": null,
      "_view_module": "@jupyter-widgets/base",
      "_view_module_version": "1.2.0",
      "_view_name": "LayoutView",
      "align_content": null,
      "align_items": null,
      "align_self": null,
      "border": null,
      "bottom": null,
      "display": null,
      "flex": null,
      "flex_flow": null,
      "grid_area": null,
      "grid_auto_columns": null,
      "grid_auto_flow": null,
      "grid_auto_rows": null,
      "grid_column": null,
      "grid_gap": null,
      "grid_row": null,
      "grid_template_areas": null,
      "grid_template_columns": null,
      "grid_template_rows": null,
      "height": null,
      "justify_content": null,
      "justify_items": null,
      "left": null,
      "margin": null,
      "max_height": null,
      "max_width": null,
      "min_height": null,
      "min_width": null,
      "object_fit": null,
      "object_position": null,
      "order": null,
      "overflow": null,
      "overflow_x": null,
      "overflow_y": null,
      "padding": null,
      "right": null,
      "top": null,
      "visibility": null,
      "width": null
     }
    },
    "7ba4ebe123d94a3cada225c11952c8c2": {
     "model_module": "@jupyter-widgets/controls",
     "model_module_version": "1.5.0",
     "model_name": "FloatProgressModel",
     "state": {
      "_dom_classes": [],
      "_model_module": "@jupyter-widgets/controls",
      "_model_module_version": "1.5.0",
      "_model_name": "FloatProgressModel",
      "_view_count": null,
      "_view_module": "@jupyter-widgets/controls",
      "_view_module_version": "1.5.0",
      "_view_name": "ProgressView",
      "bar_style": "success",
      "description": "",
      "description_tooltip": null,
      "layout": "IPY_MODEL_4ff7e6022ff34ee6bdfef26c3452f9d0",
      "max": 48453,
      "min": 0,
      "orientation": "horizontal",
      "style": "IPY_MODEL_b32149bb7663494a81a0caf73eef7b6b",
      "value": 48453
     }
    },
    "7bee0f919c9a4f9b9d0d5b3c2d026abc": {
     "model_module": "@jupyter-widgets/controls",
     "model_module_version": "1.5.0",
     "model_name": "HBoxModel",
     "state": {
      "_dom_classes": [],
      "_model_module": "@jupyter-widgets/controls",
      "_model_module_version": "1.5.0",
      "_model_name": "HBoxModel",
      "_view_count": null,
      "_view_module": "@jupyter-widgets/controls",
      "_view_module_version": "1.5.0",
      "_view_name": "HBoxView",
      "box_style": "",
      "children": [
       "IPY_MODEL_181aad804dea41b98b87b22fcaaba90b",
       "IPY_MODEL_cbadadeea8114da89b973352a3ac1fab",
       "IPY_MODEL_1741d921c58f4504a7b0d854cb70e8a0"
      ],
      "layout": "IPY_MODEL_012e11f99add4f8ea68722593039d8fb"
     }
    },
    "7c583719a5cb49d481ed20feeaf34759": {
     "model_module": "@jupyter-widgets/controls",
     "model_module_version": "1.5.0",
     "model_name": "HTMLModel",
     "state": {
      "_dom_classes": [],
      "_model_module": "@jupyter-widgets/controls",
      "_model_module_version": "1.5.0",
      "_model_name": "HTMLModel",
      "_view_count": null,
      "_view_module": "@jupyter-widgets/controls",
      "_view_module_version": "1.5.0",
      "_view_name": "HTMLView",
      "description": "",
      "description_tooltip": null,
      "layout": "IPY_MODEL_6c3d892d57694cd08269047d22938b79",
      "placeholder": "​",
      "style": "IPY_MODEL_41f4acec429b4f82b3f8a91b397534a9",
      "value": "merges.txt: 100%"
     }
    },
    "7dc37dcee82e4b988a25745fb0a5507e": {
     "model_module": "@jupyter-widgets/base",
     "model_module_version": "1.2.0",
     "model_name": "LayoutModel",
     "state": {
      "_model_module": "@jupyter-widgets/base",
      "_model_module_version": "1.2.0",
      "_model_name": "LayoutModel",
      "_view_count": null,
      "_view_module": "@jupyter-widgets/base",
      "_view_module_version": "1.2.0",
      "_view_name": "LayoutView",
      "align_content": null,
      "align_items": null,
      "align_self": null,
      "border": null,
      "bottom": null,
      "display": null,
      "flex": null,
      "flex_flow": null,
      "grid_area": null,
      "grid_auto_columns": null,
      "grid_auto_flow": null,
      "grid_auto_rows": null,
      "grid_column": null,
      "grid_gap": null,
      "grid_row": null,
      "grid_template_areas": null,
      "grid_template_columns": null,
      "grid_template_rows": null,
      "height": null,
      "justify_content": null,
      "justify_items": null,
      "left": null,
      "margin": null,
      "max_height": null,
      "max_width": null,
      "min_height": null,
      "min_width": null,
      "object_fit": null,
      "object_position": null,
      "order": null,
      "overflow": null,
      "overflow_x": null,
      "overflow_y": null,
      "padding": null,
      "right": null,
      "top": null,
      "visibility": null,
      "width": null
     }
    },
    "7e3ed7d95e264a47a3586536f87255dd": {
     "model_module": "@jupyter-widgets/controls",
     "model_module_version": "1.5.0",
     "model_name": "DescriptionStyleModel",
     "state": {
      "_model_module": "@jupyter-widgets/controls",
      "_model_module_version": "1.5.0",
      "_model_name": "DescriptionStyleModel",
      "_view_count": null,
      "_view_module": "@jupyter-widgets/base",
      "_view_module_version": "1.2.0",
      "_view_name": "StyleView",
      "description_width": ""
     }
    },
    "83092b80cd18434a8a2e795c4aac0eb8": {
     "model_module": "@jupyter-widgets/controls",
     "model_module_version": "1.5.0",
     "model_name": "DescriptionStyleModel",
     "state": {
      "_model_module": "@jupyter-widgets/controls",
      "_model_module_version": "1.5.0",
      "_model_name": "DescriptionStyleModel",
      "_view_count": null,
      "_view_module": "@jupyter-widgets/base",
      "_view_module_version": "1.2.0",
      "_view_name": "StyleView",
      "description_width": ""
     }
    },
    "8340057ec950423eb10080b753e0e098": {
     "model_module": "@jupyter-widgets/base",
     "model_module_version": "1.2.0",
     "model_name": "LayoutModel",
     "state": {
      "_model_module": "@jupyter-widgets/base",
      "_model_module_version": "1.2.0",
      "_model_name": "LayoutModel",
      "_view_count": null,
      "_view_module": "@jupyter-widgets/base",
      "_view_module_version": "1.2.0",
      "_view_name": "LayoutView",
      "align_content": null,
      "align_items": null,
      "align_self": null,
      "border": null,
      "bottom": null,
      "display": null,
      "flex": null,
      "flex_flow": null,
      "grid_area": null,
      "grid_auto_columns": null,
      "grid_auto_flow": null,
      "grid_auto_rows": null,
      "grid_column": null,
      "grid_gap": null,
      "grid_row": null,
      "grid_template_areas": null,
      "grid_template_columns": null,
      "grid_template_rows": null,
      "height": null,
      "justify_content": null,
      "justify_items": null,
      "left": null,
      "margin": null,
      "max_height": null,
      "max_width": null,
      "min_height": null,
      "min_width": null,
      "object_fit": null,
      "object_position": null,
      "order": null,
      "overflow": null,
      "overflow_x": null,
      "overflow_y": null,
      "padding": null,
      "right": null,
      "top": null,
      "visibility": null,
      "width": null
     }
    },
    "85ea733adede43b1838575fe1bfa1efb": {
     "model_module": "@jupyter-widgets/base",
     "model_module_version": "1.2.0",
     "model_name": "LayoutModel",
     "state": {
      "_model_module": "@jupyter-widgets/base",
      "_model_module_version": "1.2.0",
      "_model_name": "LayoutModel",
      "_view_count": null,
      "_view_module": "@jupyter-widgets/base",
      "_view_module_version": "1.2.0",
      "_view_name": "LayoutView",
      "align_content": null,
      "align_items": null,
      "align_self": null,
      "border": null,
      "bottom": null,
      "display": null,
      "flex": null,
      "flex_flow": null,
      "grid_area": null,
      "grid_auto_columns": null,
      "grid_auto_flow": null,
      "grid_auto_rows": null,
      "grid_column": null,
      "grid_gap": null,
      "grid_row": null,
      "grid_template_areas": null,
      "grid_template_columns": null,
      "grid_template_rows": null,
      "height": null,
      "justify_content": null,
      "justify_items": null,
      "left": null,
      "margin": null,
      "max_height": null,
      "max_width": null,
      "min_height": null,
      "min_width": null,
      "object_fit": null,
      "object_position": null,
      "order": null,
      "overflow": null,
      "overflow_x": null,
      "overflow_y": null,
      "padding": null,
      "right": null,
      "top": null,
      "visibility": null,
      "width": null
     }
    },
    "8b35622a0c444626bc6dcb760a989fd6": {
     "model_module": "@jupyter-widgets/base",
     "model_module_version": "1.2.0",
     "model_name": "LayoutModel",
     "state": {
      "_model_module": "@jupyter-widgets/base",
      "_model_module_version": "1.2.0",
      "_model_name": "LayoutModel",
      "_view_count": null,
      "_view_module": "@jupyter-widgets/base",
      "_view_module_version": "1.2.0",
      "_view_name": "LayoutView",
      "align_content": null,
      "align_items": null,
      "align_self": null,
      "border": null,
      "bottom": null,
      "display": null,
      "flex": null,
      "flex_flow": null,
      "grid_area": null,
      "grid_auto_columns": null,
      "grid_auto_flow": null,
      "grid_auto_rows": null,
      "grid_column": null,
      "grid_gap": null,
      "grid_row": null,
      "grid_template_areas": null,
      "grid_template_columns": null,
      "grid_template_rows": null,
      "height": null,
      "justify_content": null,
      "justify_items": null,
      "left": null,
      "margin": null,
      "max_height": null,
      "max_width": null,
      "min_height": null,
      "min_width": null,
      "object_fit": null,
      "object_position": null,
      "order": null,
      "overflow": null,
      "overflow_x": null,
      "overflow_y": null,
      "padding": null,
      "right": null,
      "top": null,
      "visibility": null,
      "width": null
     }
    },
    "8c5a02d737284426bc590f9060e20251": {
     "model_module": "@jupyter-widgets/controls",
     "model_module_version": "1.5.0",
     "model_name": "HTMLModel",
     "state": {
      "_dom_classes": [],
      "_model_module": "@jupyter-widgets/controls",
      "_model_module_version": "1.5.0",
      "_model_name": "HTMLModel",
      "_view_count": null,
      "_view_module": "@jupyter-widgets/controls",
      "_view_module_version": "1.5.0",
      "_view_name": "HTMLView",
      "description": "",
      "description_tooltip": null,
      "layout": "IPY_MODEL_feeb6f2e7ad441499b9e5ce26477ab5e",
      "placeholder": "​",
      "style": "IPY_MODEL_b31d3bc4752c462086f5bcf75af3cd19",
      "value": "config.json: 100%"
     }
    },
    "91d37c2713fe46229e006b874df60d3c": {
     "model_module": "@jupyter-widgets/controls",
     "model_module_version": "1.5.0",
     "model_name": "DescriptionStyleModel",
     "state": {
      "_model_module": "@jupyter-widgets/controls",
      "_model_module_version": "1.5.0",
      "_model_name": "DescriptionStyleModel",
      "_view_count": null,
      "_view_module": "@jupyter-widgets/base",
      "_view_module_version": "1.2.0",
      "_view_name": "StyleView",
      "description_width": ""
     }
    },
    "92e237f8b270440ea6cde1cdf942ad17": {
     "model_module": "@jupyter-widgets/controls",
     "model_module_version": "1.5.0",
     "model_name": "HTMLModel",
     "state": {
      "_dom_classes": [],
      "_model_module": "@jupyter-widgets/controls",
      "_model_module_version": "1.5.0",
      "_model_name": "HTMLModel",
      "_view_count": null,
      "_view_module": "@jupyter-widgets/controls",
      "_view_module_version": "1.5.0",
      "_view_name": "HTMLView",
      "description": "",
      "description_tooltip": null,
      "layout": "IPY_MODEL_1896f5c727ca4b77bf37907c501e9922",
      "placeholder": "​",
      "style": "IPY_MODEL_1b9a10d53aa349a8ba8e952be500f70b",
      "value": " 239/239 [00:00&lt;00:00, 3.83kB/s]"
     }
    },
    "99cd8f72d45c4af3adee51eea277abe9": {
     "model_module": "@jupyter-widgets/base",
     "model_module_version": "1.2.0",
     "model_name": "LayoutModel",
     "state": {
      "_model_module": "@jupyter-widgets/base",
      "_model_module_version": "1.2.0",
      "_model_name": "LayoutModel",
      "_view_count": null,
      "_view_module": "@jupyter-widgets/base",
      "_view_module_version": "1.2.0",
      "_view_name": "LayoutView",
      "align_content": null,
      "align_items": null,
      "align_self": null,
      "border": null,
      "bottom": null,
      "display": null,
      "flex": null,
      "flex_flow": null,
      "grid_area": null,
      "grid_auto_columns": null,
      "grid_auto_flow": null,
      "grid_auto_rows": null,
      "grid_column": null,
      "grid_gap": null,
      "grid_row": null,
      "grid_template_areas": null,
      "grid_template_columns": null,
      "grid_template_rows": null,
      "height": null,
      "justify_content": null,
      "justify_items": null,
      "left": null,
      "margin": null,
      "max_height": null,
      "max_width": null,
      "min_height": null,
      "min_width": null,
      "object_fit": null,
      "object_position": null,
      "order": null,
      "overflow": null,
      "overflow_x": null,
      "overflow_y": null,
      "padding": null,
      "right": null,
      "top": null,
      "visibility": null,
      "width": null
     }
    },
    "9b418110f87e446f8321a8730d825043": {
     "model_module": "@jupyter-widgets/base",
     "model_module_version": "1.2.0",
     "model_name": "LayoutModel",
     "state": {
      "_model_module": "@jupyter-widgets/base",
      "_model_module_version": "1.2.0",
      "_model_name": "LayoutModel",
      "_view_count": null,
      "_view_module": "@jupyter-widgets/base",
      "_view_module_version": "1.2.0",
      "_view_name": "LayoutView",
      "align_content": null,
      "align_items": null,
      "align_self": null,
      "border": null,
      "bottom": null,
      "display": null,
      "flex": null,
      "flex_flow": null,
      "grid_area": null,
      "grid_auto_columns": null,
      "grid_auto_flow": null,
      "grid_auto_rows": null,
      "grid_column": null,
      "grid_gap": null,
      "grid_row": null,
      "grid_template_areas": null,
      "grid_template_columns": null,
      "grid_template_rows": null,
      "height": null,
      "justify_content": null,
      "justify_items": null,
      "left": null,
      "margin": null,
      "max_height": null,
      "max_width": null,
      "min_height": null,
      "min_width": null,
      "object_fit": null,
      "object_position": null,
      "order": null,
      "overflow": null,
      "overflow_x": null,
      "overflow_y": null,
      "padding": null,
      "right": null,
      "top": null,
      "visibility": null,
      "width": null
     }
    },
    "9befa9ea64ba4daf8763b1e37caf2fe4": {
     "model_module": "@jupyter-widgets/controls",
     "model_module_version": "1.5.0",
     "model_name": "ProgressStyleModel",
     "state": {
      "_model_module": "@jupyter-widgets/controls",
      "_model_module_version": "1.5.0",
      "_model_name": "ProgressStyleModel",
      "_view_count": null,
      "_view_module": "@jupyter-widgets/base",
      "_view_module_version": "1.2.0",
      "_view_name": "StyleView",
      "bar_color": null,
      "description_width": ""
     }
    },
    "9dce680e75594cec88822abb994ea34c": {
     "model_module": "@jupyter-widgets/controls",
     "model_module_version": "1.5.0",
     "model_name": "ProgressStyleModel",
     "state": {
      "_model_module": "@jupyter-widgets/controls",
      "_model_module_version": "1.5.0",
      "_model_name": "ProgressStyleModel",
      "_view_count": null,
      "_view_module": "@jupyter-widgets/base",
      "_view_module_version": "1.2.0",
      "_view_name": "StyleView",
      "bar_color": null,
      "description_width": ""
     }
    },
    "a570d0cfde5c464b88148ee099aeb6b5": {
     "model_module": "@jupyter-widgets/base",
     "model_module_version": "1.2.0",
     "model_name": "LayoutModel",
     "state": {
      "_model_module": "@jupyter-widgets/base",
      "_model_module_version": "1.2.0",
      "_model_name": "LayoutModel",
      "_view_count": null,
      "_view_module": "@jupyter-widgets/base",
      "_view_module_version": "1.2.0",
      "_view_name": "LayoutView",
      "align_content": null,
      "align_items": null,
      "align_self": null,
      "border": null,
      "bottom": null,
      "display": null,
      "flex": null,
      "flex_flow": null,
      "grid_area": null,
      "grid_auto_columns": null,
      "grid_auto_flow": null,
      "grid_auto_rows": null,
      "grid_column": null,
      "grid_gap": null,
      "grid_row": null,
      "grid_template_areas": null,
      "grid_template_columns": null,
      "grid_template_rows": null,
      "height": null,
      "justify_content": null,
      "justify_items": null,
      "left": null,
      "margin": null,
      "max_height": null,
      "max_width": null,
      "min_height": null,
      "min_width": null,
      "object_fit": null,
      "object_position": null,
      "order": null,
      "overflow": null,
      "overflow_x": null,
      "overflow_y": null,
      "padding": null,
      "right": null,
      "top": null,
      "visibility": null,
      "width": null
     }
    },
    "a6413d180fa3455e819c2f44e11db406": {
     "model_module": "@jupyter-widgets/base",
     "model_module_version": "1.2.0",
     "model_name": "LayoutModel",
     "state": {
      "_model_module": "@jupyter-widgets/base",
      "_model_module_version": "1.2.0",
      "_model_name": "LayoutModel",
      "_view_count": null,
      "_view_module": "@jupyter-widgets/base",
      "_view_module_version": "1.2.0",
      "_view_name": "LayoutView",
      "align_content": null,
      "align_items": null,
      "align_self": null,
      "border": null,
      "bottom": null,
      "display": null,
      "flex": null,
      "flex_flow": null,
      "grid_area": null,
      "grid_auto_columns": null,
      "grid_auto_flow": null,
      "grid_auto_rows": null,
      "grid_column": null,
      "grid_gap": null,
      "grid_row": null,
      "grid_template_areas": null,
      "grid_template_columns": null,
      "grid_template_rows": null,
      "height": null,
      "justify_content": null,
      "justify_items": null,
      "left": null,
      "margin": null,
      "max_height": null,
      "max_width": null,
      "min_height": null,
      "min_width": null,
      "object_fit": null,
      "object_position": null,
      "order": null,
      "overflow": null,
      "overflow_x": null,
      "overflow_y": null,
      "padding": null,
      "right": null,
      "top": null,
      "visibility": null,
      "width": null
     }
    },
    "a9aa6da0742c47ffbb129cd6f2d4ee44": {
     "model_module": "@jupyter-widgets/base",
     "model_module_version": "1.2.0",
     "model_name": "LayoutModel",
     "state": {
      "_model_module": "@jupyter-widgets/base",
      "_model_module_version": "1.2.0",
      "_model_name": "LayoutModel",
      "_view_count": null,
      "_view_module": "@jupyter-widgets/base",
      "_view_module_version": "1.2.0",
      "_view_name": "LayoutView",
      "align_content": null,
      "align_items": null,
      "align_self": null,
      "border": null,
      "bottom": null,
      "display": null,
      "flex": null,
      "flex_flow": null,
      "grid_area": null,
      "grid_auto_columns": null,
      "grid_auto_flow": null,
      "grid_auto_rows": null,
      "grid_column": null,
      "grid_gap": null,
      "grid_row": null,
      "grid_template_areas": null,
      "grid_template_columns": null,
      "grid_template_rows": null,
      "height": null,
      "justify_content": null,
      "justify_items": null,
      "left": null,
      "margin": null,
      "max_height": null,
      "max_width": null,
      "min_height": null,
      "min_width": null,
      "object_fit": null,
      "object_position": null,
      "order": null,
      "overflow": null,
      "overflow_x": null,
      "overflow_y": null,
      "padding": null,
      "right": null,
      "top": null,
      "visibility": null,
      "width": null
     }
    },
    "b1f78bc2faed43d69e0a3389962d2999": {
     "model_module": "@jupyter-widgets/controls",
     "model_module_version": "1.5.0",
     "model_name": "HTMLModel",
     "state": {
      "_dom_classes": [],
      "_model_module": "@jupyter-widgets/controls",
      "_model_module_version": "1.5.0",
      "_model_name": "HTMLModel",
      "_view_count": null,
      "_view_module": "@jupyter-widgets/controls",
      "_view_module_version": "1.5.0",
      "_view_name": "HTMLView",
      "description": "",
      "description_tooltip": null,
      "layout": "IPY_MODEL_1e948373f82d49f1b975b6770c46da1b",
      "placeholder": "​",
      "style": "IPY_MODEL_fe8a0d566ab846de9517ea83131d68d3",
      "value": " 899k/899k [00:00&lt;00:00, 5.39MB/s]"
     }
    },
    "b31d3bc4752c462086f5bcf75af3cd19": {
     "model_module": "@jupyter-widgets/controls",
     "model_module_version": "1.5.0",
     "model_name": "DescriptionStyleModel",
     "state": {
      "_model_module": "@jupyter-widgets/controls",
      "_model_module_version": "1.5.0",
      "_model_name": "DescriptionStyleModel",
      "_view_count": null,
      "_view_module": "@jupyter-widgets/base",
      "_view_module_version": "1.2.0",
      "_view_name": "StyleView",
      "description_width": ""
     }
    },
    "b32149bb7663494a81a0caf73eef7b6b": {
     "model_module": "@jupyter-widgets/controls",
     "model_module_version": "1.5.0",
     "model_name": "ProgressStyleModel",
     "state": {
      "_model_module": "@jupyter-widgets/controls",
      "_model_module_version": "1.5.0",
      "_model_name": "ProgressStyleModel",
      "_view_count": null,
      "_view_module": "@jupyter-widgets/base",
      "_view_module_version": "1.2.0",
      "_view_name": "StyleView",
      "bar_color": null,
      "description_width": ""
     }
    },
    "b4f5a883e50c46f2b55d93bc40271e0a": {
     "model_module": "@jupyter-widgets/controls",
     "model_module_version": "1.5.0",
     "model_name": "HTMLModel",
     "state": {
      "_dom_classes": [],
      "_model_module": "@jupyter-widgets/controls",
      "_model_module_version": "1.5.0",
      "_model_name": "HTMLModel",
      "_view_count": null,
      "_view_module": "@jupyter-widgets/controls",
      "_view_module_version": "1.5.0",
      "_view_name": "HTMLView",
      "description": "",
      "description_tooltip": null,
      "layout": "IPY_MODEL_ec05f9f3d9434846b23b08913282f16f",
      "placeholder": "​",
      "style": "IPY_MODEL_7e3ed7d95e264a47a3586536f87255dd",
      "value": " 526M/526M [00:03&lt;00:00, 128MB/s]"
     }
    },
    "b8145850ddcb432e831420f4ed476b1a": {
     "model_module": "@jupyter-widgets/base",
     "model_module_version": "1.2.0",
     "model_name": "LayoutModel",
     "state": {
      "_model_module": "@jupyter-widgets/base",
      "_model_module_version": "1.2.0",
      "_model_name": "LayoutModel",
      "_view_count": null,
      "_view_module": "@jupyter-widgets/base",
      "_view_module_version": "1.2.0",
      "_view_name": "LayoutView",
      "align_content": null,
      "align_items": null,
      "align_self": null,
      "border": null,
      "bottom": null,
      "display": null,
      "flex": null,
      "flex_flow": null,
      "grid_area": null,
      "grid_auto_columns": null,
      "grid_auto_flow": null,
      "grid_auto_rows": null,
      "grid_column": null,
      "grid_gap": null,
      "grid_row": null,
      "grid_template_areas": null,
      "grid_template_columns": null,
      "grid_template_rows": null,
      "height": null,
      "justify_content": null,
      "justify_items": null,
      "left": null,
      "margin": null,
      "max_height": null,
      "max_width": null,
      "min_height": null,
      "min_width": null,
      "object_fit": null,
      "object_position": null,
      "order": null,
      "overflow": null,
      "overflow_x": null,
      "overflow_y": null,
      "padding": null,
      "right": null,
      "top": null,
      "visibility": null,
      "width": null
     }
    },
    "b8885f311f4841e5a098e9a8894be575": {
     "model_module": "@jupyter-widgets/controls",
     "model_module_version": "1.5.0",
     "model_name": "ProgressStyleModel",
     "state": {
      "_model_module": "@jupyter-widgets/controls",
      "_model_module_version": "1.5.0",
      "_model_name": "ProgressStyleModel",
      "_view_count": null,
      "_view_module": "@jupyter-widgets/base",
      "_view_module_version": "1.2.0",
      "_view_name": "StyleView",
      "bar_color": null,
      "description_width": ""
     }
    },
    "c1773708b8174f3c91a62f06bb0f2ad7": {
     "model_module": "@jupyter-widgets/controls",
     "model_module_version": "1.5.0",
     "model_name": "DescriptionStyleModel",
     "state": {
      "_model_module": "@jupyter-widgets/controls",
      "_model_module_version": "1.5.0",
      "_model_name": "DescriptionStyleModel",
      "_view_count": null,
      "_view_module": "@jupyter-widgets/base",
      "_view_module_version": "1.2.0",
      "_view_name": "StyleView",
      "description_width": ""
     }
    },
    "c527f6e512534917b1fe89c23ce94db6": {
     "model_module": "@jupyter-widgets/controls",
     "model_module_version": "1.5.0",
     "model_name": "HBoxModel",
     "state": {
      "_dom_classes": [],
      "_model_module": "@jupyter-widgets/controls",
      "_model_module_version": "1.5.0",
      "_model_name": "HBoxModel",
      "_view_count": null,
      "_view_module": "@jupyter-widgets/controls",
      "_view_module_version": "1.5.0",
      "_view_name": "HBoxView",
      "box_style": "",
      "children": [
       "IPY_MODEL_3abea2eaddd34de4b7f30655ead03e2c",
       "IPY_MODEL_02fb5b1a3e8c467797ac1f1dfb547e92",
       "IPY_MODEL_b1f78bc2faed43d69e0a3389962d2999"
      ],
      "layout": "IPY_MODEL_17f8346ffaa84e0a8851ac0b1480d864"
     }
    },
    "c904236c8c8e488ca5bd4efb5881e541": {
     "model_module": "@jupyter-widgets/controls",
     "model_module_version": "1.5.0",
     "model_name": "ProgressStyleModel",
     "state": {
      "_model_module": "@jupyter-widgets/controls",
      "_model_module_version": "1.5.0",
      "_model_name": "ProgressStyleModel",
      "_view_count": null,
      "_view_module": "@jupyter-widgets/base",
      "_view_module_version": "1.2.0",
      "_view_name": "StyleView",
      "bar_color": null,
      "description_width": ""
     }
    },
    "c9e615c11eaf41d7bb837d9646eb298f": {
     "model_module": "@jupyter-widgets/controls",
     "model_module_version": "1.5.0",
     "model_name": "HTMLModel",
     "state": {
      "_dom_classes": [],
      "_model_module": "@jupyter-widgets/controls",
      "_model_module_version": "1.5.0",
      "_model_name": "HTMLModel",
      "_view_count": null,
      "_view_module": "@jupyter-widgets/controls",
      "_view_module_version": "1.5.0",
      "_view_name": "HTMLView",
      "description": "",
      "description_tooltip": null,
      "layout": "IPY_MODEL_212b5313c2854665ac2acc12ad74ee2a",
      "placeholder": "​",
      "style": "IPY_MODEL_91d37c2713fe46229e006b874df60d3c",
      "value": "Downloading https://raw.githubusercontent.com/stanfordnlp/stanza-resources/main/resources_1.9.0.json: "
     }
    },
    "cbadadeea8114da89b973352a3ac1fab": {
     "model_module": "@jupyter-widgets/controls",
     "model_module_version": "1.5.0",
     "model_name": "FloatProgressModel",
     "state": {
      "_dom_classes": [],
      "_model_module": "@jupyter-widgets/controls",
      "_model_module_version": "1.5.0",
      "_model_name": "FloatProgressModel",
      "_view_count": null,
      "_view_module": "@jupyter-widgets/controls",
      "_view_module_version": "1.5.0",
      "_view_name": "ProgressView",
      "bar_style": "success",
      "description": "",
      "description_tooltip": null,
      "layout": "IPY_MODEL_85ea733adede43b1838575fe1bfa1efb",
      "max": 501045531,
      "min": 0,
      "orientation": "horizontal",
      "style": "IPY_MODEL_b8885f311f4841e5a098e9a8894be575",
      "value": 501045531
     }
    },
    "d5d0876c84a742deb2af72b59c35a8ff": {
     "model_module": "@jupyter-widgets/controls",
     "model_module_version": "1.5.0",
     "model_name": "FloatProgressModel",
     "state": {
      "_dom_classes": [],
      "_model_module": "@jupyter-widgets/controls",
      "_model_module_version": "1.5.0",
      "_model_name": "FloatProgressModel",
      "_view_count": null,
      "_view_module": "@jupyter-widgets/controls",
      "_view_module_version": "1.5.0",
      "_view_name": "ProgressView",
      "bar_style": "success",
      "description": "",
      "description_tooltip": null,
      "layout": "IPY_MODEL_54ad99c901a344188b07960bce3fe1e2",
      "max": 929,
      "min": 0,
      "orientation": "horizontal",
      "style": "IPY_MODEL_9befa9ea64ba4daf8763b1e37caf2fe4",
      "value": 929
     }
    },
    "d85fa75a7e674f7d9e04761f577ccfda": {
     "model_module": "@jupyter-widgets/controls",
     "model_module_version": "1.5.0",
     "model_name": "DescriptionStyleModel",
     "state": {
      "_model_module": "@jupyter-widgets/controls",
      "_model_module_version": "1.5.0",
      "_model_name": "DescriptionStyleModel",
      "_view_count": null,
      "_view_module": "@jupyter-widgets/base",
      "_view_module_version": "1.2.0",
      "_view_name": "StyleView",
      "description_width": ""
     }
    },
    "e5e6d30b11c0493c9b6fe50912584963": {
     "model_module": "@jupyter-widgets/controls",
     "model_module_version": "1.5.0",
     "model_name": "HBoxModel",
     "state": {
      "_dom_classes": [],
      "_model_module": "@jupyter-widgets/controls",
      "_model_module_version": "1.5.0",
      "_model_name": "HBoxModel",
      "_view_count": null,
      "_view_module": "@jupyter-widgets/controls",
      "_view_module_version": "1.5.0",
      "_view_name": "HBoxView",
      "box_style": "",
      "children": [
       "IPY_MODEL_8c5a02d737284426bc590f9060e20251",
       "IPY_MODEL_d5d0876c84a742deb2af72b59c35a8ff",
       "IPY_MODEL_09c3822ffc914e70ad3310037eaf0950"
      ],
      "layout": "IPY_MODEL_15c1a890fa8a442d84a22b9cd054dc78"
     }
    },
    "ec05f9f3d9434846b23b08913282f16f": {
     "model_module": "@jupyter-widgets/base",
     "model_module_version": "1.2.0",
     "model_name": "LayoutModel",
     "state": {
      "_model_module": "@jupyter-widgets/base",
      "_model_module_version": "1.2.0",
      "_model_name": "LayoutModel",
      "_view_count": null,
      "_view_module": "@jupyter-widgets/base",
      "_view_module_version": "1.2.0",
      "_view_name": "LayoutView",
      "align_content": null,
      "align_items": null,
      "align_self": null,
      "border": null,
      "bottom": null,
      "display": null,
      "flex": null,
      "flex_flow": null,
      "grid_area": null,
      "grid_auto_columns": null,
      "grid_auto_flow": null,
      "grid_auto_rows": null,
      "grid_column": null,
      "grid_gap": null,
      "grid_row": null,
      "grid_template_areas": null,
      "grid_template_columns": null,
      "grid_template_rows": null,
      "height": null,
      "justify_content": null,
      "justify_items": null,
      "left": null,
      "margin": null,
      "max_height": null,
      "max_width": null,
      "min_height": null,
      "min_width": null,
      "object_fit": null,
      "object_position": null,
      "order": null,
      "overflow": null,
      "overflow_x": null,
      "overflow_y": null,
      "padding": null,
      "right": null,
      "top": null,
      "visibility": null,
      "width": null
     }
    },
    "ef7d9eaabe4342118e0bce1c54909d1b": {
     "model_module": "@jupyter-widgets/controls",
     "model_module_version": "1.5.0",
     "model_name": "HTMLModel",
     "state": {
      "_dom_classes": [],
      "_model_module": "@jupyter-widgets/controls",
      "_model_module_version": "1.5.0",
      "_model_name": "HTMLModel",
      "_view_count": null,
      "_view_module": "@jupyter-widgets/controls",
      "_view_module_version": "1.5.0",
      "_view_name": "HTMLView",
      "description": "",
      "description_tooltip": null,
      "layout": "IPY_MODEL_2ca8bd849d184a38b278cfc06d9820f5",
      "placeholder": "​",
      "style": "IPY_MODEL_5af5ccf002ba4e6bbbe6da684fac4b20",
      "value": "Downloading https://raw.githubusercontent.com/stanfordnlp/stanza-resources/main/resources_1.9.0.json: "
     }
    },
    "f0f1491ebde34df2aa321751fbe40d71": {
     "model_module": "@jupyter-widgets/controls",
     "model_module_version": "1.5.0",
     "model_name": "DescriptionStyleModel",
     "state": {
      "_model_module": "@jupyter-widgets/controls",
      "_model_module_version": "1.5.0",
      "_model_name": "DescriptionStyleModel",
      "_view_count": null,
      "_view_module": "@jupyter-widgets/base",
      "_view_module_version": "1.2.0",
      "_view_name": "StyleView",
      "description_width": ""
     }
    },
    "f1f7b272996b47038c1ae24ff41b641f": {
     "model_module": "@jupyter-widgets/controls",
     "model_module_version": "1.5.0",
     "model_name": "DescriptionStyleModel",
     "state": {
      "_model_module": "@jupyter-widgets/controls",
      "_model_module_version": "1.5.0",
      "_model_name": "DescriptionStyleModel",
      "_view_count": null,
      "_view_module": "@jupyter-widgets/base",
      "_view_module_version": "1.2.0",
      "_view_name": "StyleView",
      "description_width": ""
     }
    },
    "f89be3840a904c73869483fd27f08917": {
     "model_module": "@jupyter-widgets/base",
     "model_module_version": "1.2.0",
     "model_name": "LayoutModel",
     "state": {
      "_model_module": "@jupyter-widgets/base",
      "_model_module_version": "1.2.0",
      "_model_name": "LayoutModel",
      "_view_count": null,
      "_view_module": "@jupyter-widgets/base",
      "_view_module_version": "1.2.0",
      "_view_name": "LayoutView",
      "align_content": null,
      "align_items": null,
      "align_self": null,
      "border": null,
      "bottom": null,
      "display": null,
      "flex": null,
      "flex_flow": null,
      "grid_area": null,
      "grid_auto_columns": null,
      "grid_auto_flow": null,
      "grid_auto_rows": null,
      "grid_column": null,
      "grid_gap": null,
      "grid_row": null,
      "grid_template_areas": null,
      "grid_template_columns": null,
      "grid_template_rows": null,
      "height": null,
      "justify_content": null,
      "justify_items": null,
      "left": null,
      "margin": null,
      "max_height": null,
      "max_width": null,
      "min_height": null,
      "min_width": null,
      "object_fit": null,
      "object_position": null,
      "order": null,
      "overflow": null,
      "overflow_x": null,
      "overflow_y": null,
      "padding": null,
      "right": null,
      "top": null,
      "visibility": null,
      "width": null
     }
    },
    "fc2b57ec050149e3903ab07fc2999a6a": {
     "model_module": "@jupyter-widgets/controls",
     "model_module_version": "1.5.0",
     "model_name": "FloatProgressModel",
     "state": {
      "_dom_classes": [],
      "_model_module": "@jupyter-widgets/controls",
      "_model_module_version": "1.5.0",
      "_model_name": "FloatProgressModel",
      "_view_count": null,
      "_view_module": "@jupyter-widgets/controls",
      "_view_module_version": "1.5.0",
      "_view_name": "ProgressView",
      "bar_style": "success",
      "description": "",
      "description_tooltip": null,
      "layout": "IPY_MODEL_a570d0cfde5c464b88148ee099aeb6b5",
      "max": 456318,
      "min": 0,
      "orientation": "horizontal",
      "style": "IPY_MODEL_3401eb9724dd400897b6d59590bbe196",
      "value": 456318
     }
    },
    "fe8a0d566ab846de9517ea83131d68d3": {
     "model_module": "@jupyter-widgets/controls",
     "model_module_version": "1.5.0",
     "model_name": "DescriptionStyleModel",
     "state": {
      "_model_module": "@jupyter-widgets/controls",
      "_model_module_version": "1.5.0",
      "_model_name": "DescriptionStyleModel",
      "_view_count": null,
      "_view_module": "@jupyter-widgets/base",
      "_view_module_version": "1.2.0",
      "_view_name": "StyleView",
      "description_width": ""
     }
    },
    "feeb6f2e7ad441499b9e5ce26477ab5e": {
     "model_module": "@jupyter-widgets/base",
     "model_module_version": "1.2.0",
     "model_name": "LayoutModel",
     "state": {
      "_model_module": "@jupyter-widgets/base",
      "_model_module_version": "1.2.0",
      "_model_name": "LayoutModel",
      "_view_count": null,
      "_view_module": "@jupyter-widgets/base",
      "_view_module_version": "1.2.0",
      "_view_name": "LayoutView",
      "align_content": null,
      "align_items": null,
      "align_self": null,
      "border": null,
      "bottom": null,
      "display": null,
      "flex": null,
      "flex_flow": null,
      "grid_area": null,
      "grid_auto_columns": null,
      "grid_auto_flow": null,
      "grid_auto_rows": null,
      "grid_column": null,
      "grid_gap": null,
      "grid_row": null,
      "grid_template_areas": null,
      "grid_template_columns": null,
      "grid_template_rows": null,
      "height": null,
      "justify_content": null,
      "justify_items": null,
      "left": null,
      "margin": null,
      "max_height": null,
      "max_width": null,
      "min_height": null,
      "min_width": null,
      "object_fit": null,
      "object_position": null,
      "order": null,
      "overflow": null,
      "overflow_x": null,
      "overflow_y": null,
      "padding": null,
      "right": null,
      "top": null,
      "visibility": null,
      "width": null
     }
    },
    "fef633c2ebf24806a9d56bcc2045fd07": {
     "model_module": "@jupyter-widgets/controls",
     "model_module_version": "1.5.0",
     "model_name": "HBoxModel",
     "state": {
      "_dom_classes": [],
      "_model_module": "@jupyter-widgets/controls",
      "_model_module_version": "1.5.0",
      "_model_name": "HBoxModel",
      "_view_count": null,
      "_view_module": "@jupyter-widgets/controls",
      "_view_module_version": "1.5.0",
      "_view_name": "HBoxView",
      "box_style": "",
      "children": [
       "IPY_MODEL_ef7d9eaabe4342118e0bce1c54909d1b",
       "IPY_MODEL_7ba4ebe123d94a3cada225c11952c8c2",
       "IPY_MODEL_21e6fcb56755412197bb9fbd7c243551"
      ],
      "layout": "IPY_MODEL_9b418110f87e446f8321a8730d825043"
     }
    }
   }
  }
 },
 "nbformat": 4,
 "nbformat_minor": 0
}
