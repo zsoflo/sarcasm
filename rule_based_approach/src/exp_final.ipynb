{
 "cells": [
  {
   "cell_type": "markdown",
   "metadata": {
    "id": "PFWFPXgzCCqX"
   },
   "source": [
    "# Installs and Imports"
   ]
  },
  {
   "cell_type": "code",
   "execution_count": 3,
   "metadata": {
    "colab": {
     "base_uri": "https://localhost:8080/"
    },
    "executionInfo": {
     "elapsed": 11403,
     "status": "ok",
     "timestamp": 1735925185247,
     "user": {
      "displayName": "Zsofia Hauk",
      "userId": "13087667079812217952"
     },
     "user_tz": -60
    },
    "id": "rveTO7nGJPIa",
    "outputId": "72964472-fe73-4d65-bf88-e62355a45ccb"
   },
   "outputs": [
    {
     "name": "stdout",
     "output_type": "stream",
     "text": [
      "Requirement already satisfied: transformers in /usr/local/lib/python3.10/dist-packages (4.47.1)\n",
      "Requirement already satisfied: filelock in /usr/local/lib/python3.10/dist-packages (from transformers) (3.16.1)\n",
      "Requirement already satisfied: huggingface-hub<1.0,>=0.24.0 in /usr/local/lib/python3.10/dist-packages (from transformers) (0.27.0)\n",
      "Requirement already satisfied: numpy>=1.17 in /usr/local/lib/python3.10/dist-packages (from transformers) (1.26.4)\n",
      "Requirement already satisfied: packaging>=20.0 in /usr/local/lib/python3.10/dist-packages (from transformers) (24.2)\n",
      "Requirement already satisfied: pyyaml>=5.1 in /usr/local/lib/python3.10/dist-packages (from transformers) (6.0.2)\n",
      "Requirement already satisfied: regex!=2019.12.17 in /usr/local/lib/python3.10/dist-packages (from transformers) (2024.11.6)\n",
      "Requirement already satisfied: requests in /usr/local/lib/python3.10/dist-packages (from transformers) (2.32.3)\n",
      "Requirement already satisfied: tokenizers<0.22,>=0.21 in /usr/local/lib/python3.10/dist-packages (from transformers) (0.21.0)\n",
      "Requirement already satisfied: safetensors>=0.4.1 in /usr/local/lib/python3.10/dist-packages (from transformers) (0.4.5)\n",
      "Requirement already satisfied: tqdm>=4.27 in /usr/local/lib/python3.10/dist-packages (from transformers) (4.67.1)\n",
      "Requirement already satisfied: fsspec>=2023.5.0 in /usr/local/lib/python3.10/dist-packages (from huggingface-hub<1.0,>=0.24.0->transformers) (2024.10.0)\n",
      "Requirement already satisfied: typing-extensions>=3.7.4.3 in /usr/local/lib/python3.10/dist-packages (from huggingface-hub<1.0,>=0.24.0->transformers) (4.12.2)\n",
      "Requirement already satisfied: charset-normalizer<4,>=2 in /usr/local/lib/python3.10/dist-packages (from requests->transformers) (3.4.0)\n",
      "Requirement already satisfied: idna<4,>=2.5 in /usr/local/lib/python3.10/dist-packages (from requests->transformers) (3.10)\n",
      "Requirement already satisfied: urllib3<3,>=1.21.1 in /usr/local/lib/python3.10/dist-packages (from requests->transformers) (2.2.3)\n",
      "Requirement already satisfied: certifi>=2017.4.17 in /usr/local/lib/python3.10/dist-packages (from requests->transformers) (2024.12.14)\n",
      "Requirement already satisfied: torch in /usr/local/lib/python3.10/dist-packages (2.5.1+cu121)\n",
      "Requirement already satisfied: torchvision in /usr/local/lib/python3.10/dist-packages (0.20.1+cu121)\n",
      "Requirement already satisfied: torchaudio in /usr/local/lib/python3.10/dist-packages (2.5.1+cu121)\n",
      "Requirement already satisfied: filelock in /usr/local/lib/python3.10/dist-packages (from torch) (3.16.1)\n",
      "Requirement already satisfied: typing-extensions>=4.8.0 in /usr/local/lib/python3.10/dist-packages (from torch) (4.12.2)\n",
      "Requirement already satisfied: networkx in /usr/local/lib/python3.10/dist-packages (from torch) (3.4.2)\n",
      "Requirement already satisfied: jinja2 in /usr/local/lib/python3.10/dist-packages (from torch) (3.1.4)\n",
      "Requirement already satisfied: fsspec in /usr/local/lib/python3.10/dist-packages (from torch) (2024.10.0)\n",
      "Requirement already satisfied: sympy==1.13.1 in /usr/local/lib/python3.10/dist-packages (from torch) (1.13.1)\n",
      "Requirement already satisfied: mpmath<1.4,>=1.1.0 in /usr/local/lib/python3.10/dist-packages (from sympy==1.13.1->torch) (1.3.0)\n",
      "Requirement already satisfied: numpy in /usr/local/lib/python3.10/dist-packages (from torchvision) (1.26.4)\n",
      "Requirement already satisfied: pillow!=8.3.*,>=5.3.0 in /usr/local/lib/python3.10/dist-packages (from torchvision) (11.0.0)\n",
      "Requirement already satisfied: MarkupSafe>=2.0 in /usr/local/lib/python3.10/dist-packages (from jinja2->torch) (3.0.2)\n",
      "Collecting emot\n",
      "  Downloading emot-3.1-py3-none-any.whl.metadata (396 bytes)\n",
      "Downloading emot-3.1-py3-none-any.whl (61 kB)\n",
      "\u001b[2K   \u001b[90m━━━━━━━━━━━━━━━━━━━━━━━━━━━━━━━━━━━━━━━━\u001b[0m \u001b[32m61.5/61.5 kB\u001b[0m \u001b[31m2.3 MB/s\u001b[0m eta \u001b[36m0:00:00\u001b[0m\n",
      "\u001b[?25hInstalling collected packages: emot\n",
      "Successfully installed emot-3.1\n"
     ]
    }
   ],
   "source": [
    "!pip install transformers\n",
    "!pip install torch torchvision torchaudio\n",
    "!pip install emot --upgrade"
   ]
  },
  {
   "cell_type": "code",
   "execution_count": 4,
   "metadata": {
    "executionInfo": {
     "elapsed": 25973,
     "status": "ok",
     "timestamp": 1735925217746,
     "user": {
      "displayName": "Zsofia Hauk",
      "userId": "13087667079812217952"
     },
     "user_tz": -60
    },
    "id": "jOf03Vl3EJHw"
   },
   "outputs": [],
   "source": [
    "import numpy as np\n",
    "import pandas as pd\n",
    "import re\n",
    "import matplotlib.pyplot as plt\n",
    "\n",
    "from transformers import AutoModelForSequenceClassification\n",
    "from transformers import TFAutoModelForSequenceClassification\n",
    "from transformers import AutoTokenizer, AutoConfig\n",
    "from scipy.special import softmax\n",
    "import emot\n",
    "\n",
    "from sklearn.metrics import fbeta_score, accuracy_score, recall_score, precision_score\n",
    "from sklearn.model_selection import train_test_split\n",
    "from sklearn.model_selection import StratifiedKFold\n",
    "from sklearn.metrics import classification_report\n",
    "\n",
    "from scipy.stats import binomtest\n",
    "\n",
    "from tqdm import tqdm"
   ]
  },
  {
   "cell_type": "markdown",
   "metadata": {
    "id": "vT-KRCdjvPOH"
   },
   "source": [
    "# Load Data and Models"
   ]
  },
  {
   "cell_type": "markdown",
   "metadata": {
    "id": "boD5KWWtva2p"
   },
   "source": [
    "## Tweet Data"
   ]
  },
  {
   "cell_type": "code",
   "execution_count": 5,
   "metadata": {
    "executionInfo": {
     "elapsed": 939,
     "status": "ok",
     "timestamp": 1735925230461,
     "user": {
      "displayName": "Zsofia Hauk",
      "userId": "13087667079812217952"
     },
     "user_tz": -60
    },
    "id": "TQ7NLUDwvSy0"
   },
   "outputs": [],
   "source": [
    "file_name = \"exp_final.csv\"\n",
    "df = pd.read_csv(file_name)"
   ]
  },
  {
   "cell_type": "code",
   "execution_count": null,
   "metadata": {
    "colab": {
     "base_uri": "https://localhost:8080/"
    },
    "executionInfo": {
     "elapsed": 11,
     "status": "ok",
     "timestamp": 1735473768542,
     "user": {
      "displayName": "Ivaylo Mitov",
      "userId": "02045773347946630217"
     },
     "user_tz": -120
    },
    "id": "8fbA-QIDcrJM",
    "outputId": "74dfff8d-e802-4b01-fadf-9de196735f00"
   },
   "outputs": [
    {
     "data": {
      "text/plain": [
       "0.9035326086956522"
      ]
     },
     "execution_count": 7,
     "metadata": {},
     "output_type": "execute_result"
    }
   ],
   "source": [
    "np.mean(df['sarcastic'])"
   ]
  },
  {
   "cell_type": "markdown",
   "metadata": {
    "id": "_f41OeK2vgm2"
   },
   "source": [
    "## Sentiment Classifier"
   ]
  },
  {
   "cell_type": "code",
   "execution_count": 7,
   "metadata": {
    "colab": {
     "base_uri": "https://localhost:8080/",
     "height": 350,
     "referenced_widgets": [
      "f4c18d52013e4b74ac9c9d846b6e51a9",
      "c825d4ea06a148b4a5fc32076a5c617e",
      "380659609d184944a48095de7cf309ac",
      "e7935eb53a464b70a8c8a9716e5524c6",
      "6ce0288b1dba4ffa89b6b2c6d247cbc5",
      "76e7bc8c6a9b46f79d348148d7dcface",
      "c75edf88c41246dea76ab2abec3a407f",
      "a4f1b0725c454a938fc5094e6cf64c7b",
      "a0461ca6c92f44d097ade7ffca916fd9",
      "714407fba9cf44e9a7ed8f576de56fa4",
      "d86981d0f026471c89f391d40cccd735",
      "51d092280a2b440bb3c0b769bf484b80",
      "3ae65b27640948deb375986dcafe8696",
      "5bdad685675840fb99b380698f382230",
      "ffc0e662f2f94459b8deded5758c0993",
      "a327c4da381544f38d9660f499cdf91f",
      "91746449c3ce476b8f06622fbf268d94",
      "bf02863d22b8433e8ae965f230beeb88",
      "bfb4de0dafe64e0ab1832ce85616180d",
      "f1febe1225b34a34a37292e411131655",
      "1c950cf1ec3a4c9aa1e93abe81721546",
      "bba729436a254b6f9cf818829be2c68e",
      "e8ed49d55dad430dbeaae45bd7d6990e",
      "fca50ee27c68474bbbc57a45d491204d",
      "a717d928bb624d399ea2504ad6dbe2b5",
      "57a5f664bb024d91a3441ddd0a8f4cb2",
      "c2b4ab38073c4f5da1319fc07d0f1d23",
      "71e68170887c4190818d7acc59d45604",
      "6e0a48a7bc84458d98efa0fb42a813a5",
      "c744ac39306147f9a950bec7bf6921e6",
      "87d2a81a96514a4dad12b0e921a20a33",
      "fc132af226424b3bacd9e6462d27cda0",
      "b9e2f259af1842c6ba54fd5b81c05bf9",
      "8ebb6d6babac4e26a7ca0926a2e540fa",
      "c7b45d9013b44561909dbdcfc2d12ceb",
      "a548ebafc76c445f87e806e78531d2fb",
      "cfa68d6e6ff447e8b1786259b1704273",
      "2cbe2d94d3fe4b16bf86e0d705b6a926",
      "12c81cfd9e8c4f5b971d290e887f3016",
      "f8fb36c9867d4728bfd2a9aa28199e66",
      "ff52b843f72b4a6488820aa6012e2c58",
      "7db06957435048ad9bd77ae6e5c54727",
      "f4218aa6076a402a8e0d924b7920b5e2",
      "4c396a06bac84a1a9d48e8077261513f",
      "c647cc79cd554374ac000f2a0ec52f79",
      "9283b76a21d540da8e2a2e77cfcbf107",
      "fa898c83674e45cb898494ad9430a74a",
      "0e53593846e743409e2483194e51ca8d",
      "87dc9a16cb584dc4aa6bc3270207dd40",
      "2bf9c123bdf94a68acdf76599fe6add2",
      "b8180c9ff3334f8d9dd0a92185c27acb",
      "32f3a5d0444b4dff83bea9658264f8fa",
      "c638281e86ec4d18ba7709e356cfdf5a",
      "b28e0567976f4289b78535ddd3346f84",
      "00beb3cbd979445e94ec5fe6905f1ff4"
     ]
    },
    "executionInfo": {
     "elapsed": 18056,
     "status": "ok",
     "timestamp": 1735925260971,
     "user": {
      "displayName": "Zsofia Hauk",
      "userId": "13087667079812217952"
     },
     "user_tz": -60
    },
    "id": "zypF0sOrJC41",
    "outputId": "95bc7dd6-56a8-42f0-d987-25baf5d805c5"
   },
   "outputs": [
    {
     "name": "stderr",
     "output_type": "stream",
     "text": [
      "/usr/local/lib/python3.10/dist-packages/huggingface_hub/utils/_auth.py:94: UserWarning: \n",
      "The secret `HF_TOKEN` does not exist in your Colab secrets.\n",
      "To authenticate with the Hugging Face Hub, create a token in your settings tab (https://huggingface.co/settings/tokens), set it as secret in your Google Colab and restart your session.\n",
      "You will be able to reuse this secret in all of your notebooks.\n",
      "Please note that authentication is recommended but still optional to access public models or datasets.\n",
      "  warnings.warn(\n"
     ]
    },
    {
     "data": {
      "application/vnd.jupyter.widget-view+json": {
       "model_id": "f4c18d52013e4b74ac9c9d846b6e51a9",
       "version_major": 2,
       "version_minor": 0
      },
      "text/plain": [
       "config.json:   0%|          | 0.00/929 [00:00<?, ?B/s]"
      ]
     },
     "metadata": {},
     "output_type": "display_data"
    },
    {
     "data": {
      "application/vnd.jupyter.widget-view+json": {
       "model_id": "51d092280a2b440bb3c0b769bf484b80",
       "version_major": 2,
       "version_minor": 0
      },
      "text/plain": [
       "vocab.json:   0%|          | 0.00/899k [00:00<?, ?B/s]"
      ]
     },
     "metadata": {},
     "output_type": "display_data"
    },
    {
     "data": {
      "application/vnd.jupyter.widget-view+json": {
       "model_id": "e8ed49d55dad430dbeaae45bd7d6990e",
       "version_major": 2,
       "version_minor": 0
      },
      "text/plain": [
       "merges.txt:   0%|          | 0.00/456k [00:00<?, ?B/s]"
      ]
     },
     "metadata": {},
     "output_type": "display_data"
    },
    {
     "data": {
      "application/vnd.jupyter.widget-view+json": {
       "model_id": "8ebb6d6babac4e26a7ca0926a2e540fa",
       "version_major": 2,
       "version_minor": 0
      },
      "text/plain": [
       "special_tokens_map.json:   0%|          | 0.00/239 [00:00<?, ?B/s]"
      ]
     },
     "metadata": {},
     "output_type": "display_data"
    },
    {
     "data": {
      "application/vnd.jupyter.widget-view+json": {
       "model_id": "c647cc79cd554374ac000f2a0ec52f79",
       "version_major": 2,
       "version_minor": 0
      },
      "text/plain": [
       "pytorch_model.bin:   0%|          | 0.00/501M [00:00<?, ?B/s]"
      ]
     },
     "metadata": {},
     "output_type": "display_data"
    },
    {
     "name": "stderr",
     "output_type": "stream",
     "text": [
      "Some weights of the model checkpoint at cardiffnlp/twitter-roberta-base-sentiment-latest were not used when initializing RobertaForSequenceClassification: ['roberta.pooler.dense.bias', 'roberta.pooler.dense.weight']\n",
      "- This IS expected if you are initializing RobertaForSequenceClassification from the checkpoint of a model trained on another task or with another architecture (e.g. initializing a BertForSequenceClassification model from a BertForPreTraining model).\n",
      "- This IS NOT expected if you are initializing RobertaForSequenceClassification from the checkpoint of a model that you expect to be exactly identical (initializing a BertForSequenceClassification model from a BertForSequenceClassification model).\n"
     ]
    }
   ],
   "source": [
    "MODEL = f\"cardiffnlp/twitter-roberta-base-sentiment-latest\"\n",
    "tokenizer = AutoTokenizer.from_pretrained(MODEL)\n",
    "config = AutoConfig.from_pretrained(MODEL)\n",
    "model = AutoModelForSequenceClassification.from_pretrained(MODEL)\n",
    "\n",
    "def classify_sentiment(text, two_dimensional=False) :\n",
    "    encoded_input = tokenizer(text, return_tensors='pt')\n",
    "    output = model(**encoded_input)\n",
    "    scores = output[0][0].detach().numpy()\n",
    "    #scores = softmax(scores)\n",
    "\n",
    "    if two_dimensional:\n",
    "      pos_ratio = scores[2] / (scores[0] + scores[2])\n",
    "      neg_ratio = 1 - pos_ratio\n",
    "      scores[0] = scores[0] + scores[1]*neg_ratio\n",
    "      scores[2] = scores[2] + scores[1]*pos_ratio\n",
    "      scores = np.array([scores[0], scores[2]])\n",
    "\n",
    "    # [ negative, neutral, positive ]\n",
    "    return scores"
   ]
  },
  {
   "cell_type": "code",
   "execution_count": null,
   "metadata": {
    "colab": {
     "base_uri": "https://localhost:8080/"
    },
    "executionInfo": {
     "elapsed": 672,
     "status": "ok",
     "timestamp": 1735763732158,
     "user": {
      "displayName": "Ivaylo Mitov",
      "userId": "02045773347946630217"
     },
     "user_tz": -120
    },
    "id": "RxdpKa0mk_-3",
    "outputId": "cccd5077-bd02-4374-8803-f313e569d683"
   },
   "outputs": [
    {
     "data": {
      "text/plain": [
       "array([-0.80626327,  0.49641022, -0.24217099], dtype=float32)"
      ]
     },
     "execution_count": 4,
     "metadata": {},
     "output_type": "execute_result"
    }
   ],
   "source": [
    "classify_sentiment(\"I sarcasm\")"
   ]
  },
  {
   "cell_type": "code",
   "execution_count": null,
   "metadata": {
    "colab": {
     "base_uri": "https://localhost:8080/"
    },
    "executionInfo": {
     "elapsed": 604,
     "status": "ok",
     "timestamp": 1735763732760,
     "user": {
      "displayName": "Ivaylo Mitov",
      "userId": "02045773347946630217"
     },
     "user_tz": -120
    },
    "id": "9aUY8bxmlEVY",
    "outputId": "4fabcc1a-9183-4d43-f650-910ea6bc3ae3"
   },
   "outputs": [
    {
     "data": {
      "text/plain": [
       "array([-1.8679188 , -0.57147187,  2.4821439 ], dtype=float32)"
      ]
     },
     "execution_count": 5,
     "metadata": {},
     "output_type": "execute_result"
    }
   ],
   "source": [
    "classify_sentiment(\"I just love\")"
   ]
  },
  {
   "cell_type": "code",
   "execution_count": null,
   "metadata": {
    "colab": {
     "base_uri": "https://localhost:8080/"
    },
    "executionInfo": {
     "elapsed": 1554,
     "status": "ok",
     "timestamp": 1735764944226,
     "user": {
      "displayName": "Ivaylo Mitov",
      "userId": "02045773347946630217"
     },
     "user_tz": -120
    },
    "id": "_9jobSJwlHN4",
    "outputId": "eafa2c16-8cf3-4b80-ad48-3511d274e0f3"
   },
   "outputs": [
    {
     "data": {
      "text/plain": [
       "3.1127763"
      ]
     },
     "execution_count": 7,
     "metadata": {},
     "output_type": "execute_result"
    }
   ],
   "source": [
    "np.linalg.norm(classify_sentiment(\"I sarcasm\") - classify_sentiment(\"I just love\"))"
   ]
  },
  {
   "cell_type": "markdown",
   "metadata": {
    "id": "p144dIsUv2B2"
   },
   "source": [
    "# Functions\n",
    "\n"
   ]
  },
  {
   "cell_type": "code",
   "execution_count": 8,
   "metadata": {
    "executionInfo": {
     "elapsed": 2993,
     "status": "ok",
     "timestamp": 1735925277518,
     "user": {
      "displayName": "Zsofia Hauk",
      "userId": "13087667079812217952"
     },
     "user_tz": -60
    },
    "id": "0yZRQWnZrskd"
   },
   "outputs": [],
   "source": [
    "emot_obj = emot.core.emot()\n",
    "\n",
    "def extract_verb_np_exp13(tweet):\n",
    "  tweet = tweet.strip()\n",
    "  tweet_split = tweet.split()\n",
    "  verb_idx = min([i for i,x in enumerate(tweet_split) if re.match(r\"(?i)(.*lo+v)|ha+t\", x) ])\n",
    "  verb_char_idx = sum([len(word)+1 for word in tweet_split[:verb_idx]])\n",
    "\n",
    "  emojis = emot_obj.emoji(tweet)\n",
    "  emoticons = emot_obj.emoticons(tweet)\n",
    "\n",
    "  emoji_idx_list = emojis.get('location') + emoticons.get('location')\n",
    "  emoji_idx_list = sorted(emoji_idx_list, key= lambda x : x[1])\n",
    "\n",
    "  while emoji_idx_list and verb_char_idx >= emoji_idx_list[0][0]:\n",
    "    pop_emoji = emoji_idx_list.pop(0)\n",
    "\n",
    "  if emoji_idx_list:\n",
    "    emoji_idx = emoji_idx_list[0][0]\n",
    "    noun_phrase = tweet[verb_char_idx + len(tweet_split[verb_idx]):emoji_idx].strip()\n",
    "  else:\n",
    "    noun_phrase = tweet[verb_char_idx + len(tweet_split[verb_idx]):].strip()\n",
    "\n",
    "  try :\n",
    "    i_idx = [x.lower() for x in tweet_split].index(\"i\")\n",
    "  except Exception :\n",
    "    i_idx = min([i for i,x in enumerate(tweet_split) if x.lower().startswith(\"i'\")])\n",
    "  verb = \" \".join(tweet_split[i_idx + 1:verb_idx + 1])\n",
    "\n",
    "  noun_phrase_split = noun_phrase.split()\n",
    "  idx = len(noun_phrase_split) - 1\n",
    "  while noun_phrase_split[idx].startswith(\"@\"):\n",
    "    idx = idx - 1\n",
    "  noun_phrase = \" \".join(noun_phrase_split[:idx + 1])\n",
    "\n",
    "\n",
    "  return verb, noun_phrase"
   ]
  },
  {
   "cell_type": "code",
   "execution_count": 9,
   "metadata": {
    "executionInfo": {
     "elapsed": 4,
     "status": "ok",
     "timestamp": 1735925285510,
     "user": {
      "displayName": "Zsofia Hauk",
      "userId": "13087667079812217952"
     },
     "user_tz": -60
    },
    "id": "3SdHL4WYPslS"
   },
   "outputs": [],
   "source": [
    "def extract_verb_np_exp2(tweet) :\n",
    "  tweet = tweet.strip()\n",
    "  tweet_split = tweet.split()\n",
    "  verb_idx = min([i for i,x in enumerate(tweet_split) if re.match(r\"(?i)(.*lo+v)|ha+t\", x) ])\n",
    "  if 'Love love love' in tweet :\n",
    "     verb_idx += 2\n",
    "     verb = 'Love love love'\n",
    "  else :\n",
    "    beginning_verb_idx = verb_idx\n",
    "    while beginning_verb_idx > 0 and not tweet_split[beginning_verb_idx - 1].startswith(\"@\") :\n",
    "      beginning_verb_idx -= 1\n",
    "    verb = \" \".join(tweet_split[beginning_verb_idx:verb_idx + 1])\n",
    "    verb = verb.replace('😍', '')\n",
    "\n",
    "  verb_char_idx = sum([len(word)+1 for word in tweet_split[:verb_idx]])\n",
    "\n",
    "  emojis = emot_obj.emoji(tweet)\n",
    "  emoticons = emot_obj.emoticons(tweet)\n",
    "\n",
    "  emoji_idx_list = emojis.get('location') + emoticons.get('location')\n",
    "  emoji_idx_list = sorted(emoji_idx_list, key= lambda x : x[1])\n",
    "\n",
    "  while emoji_idx_list and verb_char_idx >= emoji_idx_list[0][0]:\n",
    "    pop_emoji = emoji_idx_list.pop(0)\n",
    "\n",
    "\n",
    "  if emoji_idx_list:\n",
    "    emoji_idx = emoji_idx_list[0][0]\n",
    "    noun_phrase = tweet[verb_char_idx + len(tweet_split[verb_idx]):emoji_idx].strip()\n",
    "  else:\n",
    "    noun_phrase = tweet[verb_char_idx + len(tweet_split[verb_idx]):].strip()\n",
    "\n",
    "\n",
    "  noun_phrase_split = noun_phrase.split()\n",
    "  idx = len(noun_phrase_split) - 1\n",
    "  while noun_phrase_split[idx].startswith(\"@\"):\n",
    "    idx = idx - 1\n",
    "  noun_phrase = \" \".join(noun_phrase_split[:idx + 1])\n",
    "\n",
    "  return verb, noun_phrase"
   ]
  },
  {
   "cell_type": "code",
   "execution_count": 10,
   "metadata": {
    "executionInfo": {
     "elapsed": 446,
     "status": "ok",
     "timestamp": 1735925289346,
     "user": {
      "displayName": "Zsofia Hauk",
      "userId": "13087667079812217952"
     },
     "user_tz": -60
    },
    "id": "ZdfGEo3bOgtX"
   },
   "outputs": [],
   "source": [
    "def extract_verb_np(tweet, exp) :\n",
    "  try :\n",
    "    if exp == 'exp2' :\n",
    "      return extract_verb_np_exp2(tweet)\n",
    "    return extract_verb_np_exp13(tweet)\n",
    "  except :\n",
    "    print(\"error : \", tweet)\n",
    "    raise"
   ]
  },
  {
   "cell_type": "code",
   "execution_count": 11,
   "metadata": {
    "executionInfo": {
     "elapsed": 5,
     "status": "ok",
     "timestamp": 1735925306706,
     "user": {
      "displayName": "Zsofia Hauk",
      "userId": "13087667079812217952"
     },
     "user_tz": -60
    },
    "id": "NEbVTqbUpQGa"
   },
   "outputs": [],
   "source": [
    "def sentiment_distance(tweet, exp, method=\"contextual\"):\n",
    "  \"\"\"Calculates the sentiment distance (euclidic distance) between the sentiment scores of the V and NP of a given tweet.\"\"\"\n",
    "  verb, noun_phrase = extract_verb_np(tweet, exp)\n",
    "\n",
    "  if method == \"contextual\":\n",
    "    tweet_sentiment = classify_sentiment(tweet)\n",
    "    tweet_no_v_sentiment = classify_sentiment(tweet.replace(verb, \"\"))\n",
    "    tweet_no_np_sentiment = classify_sentiment(tweet.replace(noun_phrase, \"\"))\n",
    "    v_sentiment = tweet_sentiment - tweet_no_v_sentiment\n",
    "    np_sentiment = tweet_sentiment - tweet_no_np_sentiment\n",
    "\n",
    "  if method == \"non-contextual\":\n",
    "    v_sentiment = classify_sentiment(\"verb\")\n",
    "    np_sentiment = classify_sentiment(noun_phrase)\n",
    "\n",
    "  return np.linalg.norm(v_sentiment - np_sentiment)\n",
    "  # return np.linalg.norm(v_sentiment - np_sentiment) / np.sqrt(2)\n",
    "  # return np.linalg.norm(softmax(v_sentiment - np_sentiment))\n",
    "\n",
    "def is_sarc(sentiment_dist, threshold):\n",
    "  \"\"\"Returns True if the sentiment distance is greater than a given threshold and False otherwise.\"\"\"\n",
    "\n",
    "  return sentiment_dist > threshold"
   ]
  },
  {
   "cell_type": "code",
   "execution_count": 12,
   "metadata": {
    "executionInfo": {
     "elapsed": 390,
     "status": "ok",
     "timestamp": 1735925320502,
     "user": {
      "displayName": "Zsofia Hauk",
      "userId": "13087667079812217952"
     },
     "user_tz": -60
    },
    "id": "ENz372porTHK"
   },
   "outputs": [],
   "source": [
    "def get_sentiment_distance(tweets, gold_annotations, exps, method):\n",
    "    tweet_annotation_sentiment_distance = []\n",
    "    for tweet, annotation, exp in tqdm(zip(tweets, gold_annotations, exps), total=len(tweets)):\n",
    "      tweet_annotation_sentiment_distance.append((tweet, annotation, sentiment_distance(tweet, exp, method)))\n",
    "\n",
    "    max_sentiment = max([item[2] for item in tweet_annotation_sentiment_distance])\n",
    "    tweet_annotation_sentiment_distance = [(t, a, sd/max_sentiment) for t, a, sd in tweet_annotation_sentiment_distance]\n",
    "\n",
    "    return tweet_annotation_sentiment_distance"
   ]
  },
  {
   "cell_type": "code",
   "execution_count": 13,
   "metadata": {
    "executionInfo": {
     "elapsed": 10,
     "status": "ok",
     "timestamp": 1735925327559,
     "user": {
      "displayName": "Zsofia Hauk",
      "userId": "13087667079812217952"
     },
     "user_tz": -60
    },
    "id": "ewu7lqvZslEQ"
   },
   "outputs": [],
   "source": [
    "def define_threshold(tweet_annotation_sentiment_distance, threshold_list, metric, beta=0.3):\n",
    "  \"\"\"\n",
    "  Creates a list of tuples containing 1) the tweet body, 2) the sarc/non-sarc gold annotation, 3) the sentiment distance between V and NP.\n",
    "  Then, iterates over a list of thresholds and for each threshold calculates the accuracy between the gold annotations and the predicted values.\n",
    "  Returns a dictionary of thresholds and accuracies for those thresholds.\n",
    "  \"\"\"\n",
    "\n",
    "  threshold_accuracy_dict = {}\n",
    "  for threshold in tqdm(threshold_list, total=len(threshold_list)):\n",
    "    y_true = [item[1] for item in tweet_annotation_sentiment_distance]\n",
    "    y_pred = [int(is_sarc(item[2], threshold)) for item in tweet_annotation_sentiment_distance]\n",
    "\n",
    "    if metric == \"f-score\":\n",
    "      score = fbeta_score(y_true, y_pred, beta=beta)\n",
    "\n",
    "    if metric == \"precision\":\n",
    "      score = precision_score(y_true, y_pred, zero_division=0)\n",
    "\n",
    "    if metric == \"youden_j\":\n",
    "      tpr, tpr, thresholds = roc_curve(y_true, y_pred)\n",
    "      score = np.argmax(tpr - fpr)\n",
    "\n",
    "    threshold_accuracy_dict[threshold] = score\n",
    "\n",
    "  return threshold_accuracy_dict"
   ]
  },
  {
   "cell_type": "markdown",
   "metadata": {
    "id": "sh3mJDLAuERg"
   },
   "source": [
    "#Exploring the Sentiment Distances in exp_final"
   ]
  },
  {
   "cell_type": "markdown",
   "metadata": {
    "id": "S-tuddXkyw-h"
   },
   "source": [
    "This is just to get an idea of what we're working with."
   ]
  },
  {
   "cell_type": "code",
   "execution_count": 14,
   "metadata": {
    "colab": {
     "base_uri": "https://localhost:8080/"
    },
    "executionInfo": {
     "elapsed": 251645,
     "status": "ok",
     "timestamp": 1735925617378,
     "user": {
      "displayName": "Zsofia Hauk",
      "userId": "13087667079812217952"
     },
     "user_tz": -60
    },
    "id": "4A7ROL4EcL6a",
    "outputId": "3720d346-3961-4120-c44d-c31fd1c0adb9"
   },
   "outputs": [
    {
     "name": "stderr",
     "output_type": "stream",
     "text": [
      "100%|██████████| 736/736 [04:11<00:00,  2.93it/s]\n"
     ]
    }
   ],
   "source": [
    "tweet_annotation_sentiment_distance = get_sentiment_distance(df['modified_tweet'], df['sarcastic'], df['exp'], method=\"contextual\")\n",
    "df['sentiment_distance'] = [x[2] for x in tweet_annotation_sentiment_distance]"
   ]
  },
  {
   "cell_type": "code",
   "execution_count": 15,
   "metadata": {
    "colab": {
     "base_uri": "https://localhost:8080/",
     "height": 708
    },
    "executionInfo": {
     "elapsed": 372,
     "status": "ok",
     "timestamp": 1735925794233,
     "user": {
      "displayName": "Zsofia Hauk",
      "userId": "13087667079812217952"
     },
     "user_tz": -60
    },
    "id": "bmDzQpFlPW3n",
    "outputId": "309360d2-19f8-4a68-f762-0bbf918646f9"
   },
   "outputs": [
    {
     "data": {
      "application/vnd.google.colaboratory.intrinsic+json": {
       "summary": "{\n  \"name\": \"df\",\n  \"rows\": 736,\n  \"fields\": [\n    {\n      \"column\": \"ID\",\n      \"properties\": {\n        \"dtype\": \"number\",\n        \"std\": 5970.826401318665,\n        \"min\": 76.0,\n        \"max\": 19885.0,\n        \"num_unique_values\": 202,\n        \"samples\": [\n          3581.0,\n          18634.0,\n          2648.0\n        ],\n        \"semantic_type\": \"\",\n        \"description\": \"\"\n      }\n    },\n    {\n      \"column\": \"original_ID\",\n      \"properties\": {\n        \"dtype\": \"string\",\n        \"num_unique_values\": 736,\n        \"samples\": [\n          \"lingkling_69656\",\n          \"test_a_407\",\n          \"lingkling_80149\"\n        ],\n        \"semantic_type\": \"\",\n        \"description\": \"\"\n      }\n    },\n    {\n      \"column\": \"tweet\",\n      \"properties\": {\n        \"dtype\": \"string\",\n        \"num_unique_values\": 736,\n        \"samples\": [\n          \"I just love spilling a full glass of wine all over myself #Sarcastic\",\n          \"What I would love to tweet right now \\ud83d\\udc40\\ud83d\\udc40\",\n          \"Love how much time me &amp; my boyfriend spend together.  #sarcasm \\ud83d\\ude12\"\n        ],\n        \"semantic_type\": \"\",\n        \"description\": \"\"\n      }\n    },\n    {\n      \"column\": \"modified_tweet\",\n      \"properties\": {\n        \"dtype\": \"string\",\n        \"num_unique_values\": 736,\n        \"samples\": [\n          \"I just love spilling a full glass of wine all over myself\",\n          \"What I would love to tweet right now \\ud83d\\udc40\\ud83d\\udc40\",\n          \"Love how much time me & my boyfriend spend together. \\ud83d\\ude12\"\n        ],\n        \"semantic_type\": \"\",\n        \"description\": \"\"\n      }\n    },\n    {\n      \"column\": \"sarcastic\",\n      \"properties\": {\n        \"dtype\": \"number\",\n        \"std\": 0,\n        \"min\": 0,\n        \"max\": 1,\n        \"num_unique_values\": 2,\n        \"samples\": [\n          0,\n          1\n        ],\n        \"semantic_type\": \"\",\n        \"description\": \"\"\n      }\n    },\n    {\n      \"column\": \"rephrase\",\n      \"properties\": {\n        \"dtype\": \"category\",\n        \"num_unique_values\": 151,\n        \"samples\": [\n          \"i hate working\",\n          \"i don't like silence\"\n        ],\n        \"semantic_type\": \"\",\n        \"description\": \"\"\n      }\n    },\n    {\n      \"column\": \"exp\",\n      \"properties\": {\n        \"dtype\": \"category\",\n        \"num_unique_values\": 3,\n        \"samples\": [\n          \"exp1\",\n          \"exp2\"\n        ],\n        \"semantic_type\": \"\",\n        \"description\": \"\"\n      }\n    },\n    {\n      \"column\": \"sentiment_distance\",\n      \"properties\": {\n        \"dtype\": \"float32\",\n        \"num_unique_values\": 736,\n        \"samples\": [\n          0.7215703129768372,\n          0.5997955203056335\n        ],\n        \"semantic_type\": \"\",\n        \"description\": \"\"\n      }\n    }\n  ]\n}",
       "type": "dataframe",
       "variable_name": "df"
      },
      "text/html": [
       "\n",
       "  <div id=\"df-ac5bf3b1-54db-4dfb-b610-718d12e1c548\" class=\"colab-df-container\">\n",
       "    <div>\n",
       "<style scoped>\n",
       "    .dataframe tbody tr th:only-of-type {\n",
       "        vertical-align: middle;\n",
       "    }\n",
       "\n",
       "    .dataframe tbody tr th {\n",
       "        vertical-align: top;\n",
       "    }\n",
       "\n",
       "    .dataframe thead th {\n",
       "        text-align: right;\n",
       "    }\n",
       "</style>\n",
       "<table border=\"1\" class=\"dataframe\">\n",
       "  <thead>\n",
       "    <tr style=\"text-align: right;\">\n",
       "      <th></th>\n",
       "      <th>ID</th>\n",
       "      <th>original_ID</th>\n",
       "      <th>tweet</th>\n",
       "      <th>modified_tweet</th>\n",
       "      <th>sarcastic</th>\n",
       "      <th>rephrase</th>\n",
       "      <th>exp</th>\n",
       "      <th>sentiment_distance</th>\n",
       "    </tr>\n",
       "  </thead>\n",
       "  <tbody>\n",
       "    <tr>\n",
       "      <th>0</th>\n",
       "      <td>6440.0</td>\n",
       "      <td>sign_6941</td>\n",
       "      <td>i looove getting 3 hours of sleep because two ...</td>\n",
       "      <td>i looove getting 3 hours of sleep because two ...</td>\n",
       "      <td>1</td>\n",
       "      <td>i hate getting 3 hours of sleep because two jobs</td>\n",
       "      <td>exp1</td>\n",
       "      <td>0.697120</td>\n",
       "    </tr>\n",
       "    <tr>\n",
       "      <th>1</th>\n",
       "      <td>12874.0</td>\n",
       "      <td>sign_12479</td>\n",
       "      <td>i hate people who use big words just to make t...</td>\n",
       "      <td>i hate people who use big words just to make t...</td>\n",
       "      <td>1</td>\n",
       "      <td>i hate people who use big words just to make t...</td>\n",
       "      <td>exp1</td>\n",
       "      <td>0.060704</td>\n",
       "    </tr>\n",
       "    <tr>\n",
       "      <th>2</th>\n",
       "      <td>4295.0</td>\n",
       "      <td>sign_12125</td>\n",
       "      <td>i love that girl who never liked even my dp</td>\n",
       "      <td>i love that girl who never liked even my dp</td>\n",
       "      <td>1</td>\n",
       "      <td>i love that girl who never liked even my dp</td>\n",
       "      <td>exp1</td>\n",
       "      <td>0.853947</td>\n",
       "    </tr>\n",
       "    <tr>\n",
       "      <th>3</th>\n",
       "      <td>4147.0</td>\n",
       "      <td>train_2222</td>\n",
       "      <td>I hate that I wasted my whole weekend 😠</td>\n",
       "      <td>I hate that I wasted my whole weekend 😠</td>\n",
       "      <td>0</td>\n",
       "      <td>NaN</td>\n",
       "      <td>exp1</td>\n",
       "      <td>0.034025</td>\n",
       "    </tr>\n",
       "    <tr>\n",
       "      <th>4</th>\n",
       "      <td>11437.0</td>\n",
       "      <td>sign_5017</td>\n",
       "      <td>i love being ignored</td>\n",
       "      <td>i love being ignored</td>\n",
       "      <td>1</td>\n",
       "      <td>i hate being ignored</td>\n",
       "      <td>exp1</td>\n",
       "      <td>0.749764</td>\n",
       "    </tr>\n",
       "    <tr>\n",
       "      <th>...</th>\n",
       "      <td>...</td>\n",
       "      <td>...</td>\n",
       "      <td>...</td>\n",
       "      <td>...</td>\n",
       "      <td>...</td>\n",
       "      <td>...</td>\n",
       "      <td>...</td>\n",
       "      <td>...</td>\n",
       "    </tr>\n",
       "    <tr>\n",
       "      <th>731</th>\n",
       "      <td>NaN</td>\n",
       "      <td>lingkling_7851</td>\n",
       "      <td>I just love waking up to a nosebleed. #sarcasm</td>\n",
       "      <td>I just love waking up to a nosebleed.</td>\n",
       "      <td>1</td>\n",
       "      <td>NaN</td>\n",
       "      <td>exp3</td>\n",
       "      <td>0.795139</td>\n",
       "    </tr>\n",
       "    <tr>\n",
       "      <th>732</th>\n",
       "      <td>NaN</td>\n",
       "      <td>lingkling_7869</td>\n",
       "      <td>I just love being cornered and having to speak...</td>\n",
       "      <td>I just love being cornered and having to speak...</td>\n",
       "      <td>1</td>\n",
       "      <td>NaN</td>\n",
       "      <td>exp3</td>\n",
       "      <td>0.847187</td>\n",
       "    </tr>\n",
       "    <tr>\n",
       "      <th>733</th>\n",
       "      <td>NaN</td>\n",
       "      <td>lingkling_7892</td>\n",
       "      <td>I just love getting text from nurses at seven ...</td>\n",
       "      <td>I just love getting text from nurses at seven ...</td>\n",
       "      <td>1</td>\n",
       "      <td>NaN</td>\n",
       "      <td>exp3</td>\n",
       "      <td>0.697846</td>\n",
       "    </tr>\n",
       "    <tr>\n",
       "      <th>734</th>\n",
       "      <td>NaN</td>\n",
       "      <td>lingkling_8002</td>\n",
       "      <td>I just love hanging with super conservative pe...</td>\n",
       "      <td>I just love hanging with super conservative pe...</td>\n",
       "      <td>1</td>\n",
       "      <td>NaN</td>\n",
       "      <td>exp3</td>\n",
       "      <td>0.103802</td>\n",
       "    </tr>\n",
       "    <tr>\n",
       "      <th>735</th>\n",
       "      <td>NaN</td>\n",
       "      <td>lingkling_8050</td>\n",
       "      <td>I just love it when male customers use the res...</td>\n",
       "      <td>I just love it when male customers use the res...</td>\n",
       "      <td>1</td>\n",
       "      <td>NaN</td>\n",
       "      <td>exp3</td>\n",
       "      <td>0.923598</td>\n",
       "    </tr>\n",
       "  </tbody>\n",
       "</table>\n",
       "<p>736 rows × 8 columns</p>\n",
       "</div>\n",
       "    <div class=\"colab-df-buttons\">\n",
       "\n",
       "  <div class=\"colab-df-container\">\n",
       "    <button class=\"colab-df-convert\" onclick=\"convertToInteractive('df-ac5bf3b1-54db-4dfb-b610-718d12e1c548')\"\n",
       "            title=\"Convert this dataframe to an interactive table.\"\n",
       "            style=\"display:none;\">\n",
       "\n",
       "  <svg xmlns=\"http://www.w3.org/2000/svg\" height=\"24px\" viewBox=\"0 -960 960 960\">\n",
       "    <path d=\"M120-120v-720h720v720H120Zm60-500h600v-160H180v160Zm220 220h160v-160H400v160Zm0 220h160v-160H400v160ZM180-400h160v-160H180v160Zm440 0h160v-160H620v160ZM180-180h160v-160H180v160Zm440 0h160v-160H620v160Z\"/>\n",
       "  </svg>\n",
       "    </button>\n",
       "\n",
       "  <style>\n",
       "    .colab-df-container {\n",
       "      display:flex;\n",
       "      gap: 12px;\n",
       "    }\n",
       "\n",
       "    .colab-df-convert {\n",
       "      background-color: #E8F0FE;\n",
       "      border: none;\n",
       "      border-radius: 50%;\n",
       "      cursor: pointer;\n",
       "      display: none;\n",
       "      fill: #1967D2;\n",
       "      height: 32px;\n",
       "      padding: 0 0 0 0;\n",
       "      width: 32px;\n",
       "    }\n",
       "\n",
       "    .colab-df-convert:hover {\n",
       "      background-color: #E2EBFA;\n",
       "      box-shadow: 0px 1px 2px rgba(60, 64, 67, 0.3), 0px 1px 3px 1px rgba(60, 64, 67, 0.15);\n",
       "      fill: #174EA6;\n",
       "    }\n",
       "\n",
       "    .colab-df-buttons div {\n",
       "      margin-bottom: 4px;\n",
       "    }\n",
       "\n",
       "    [theme=dark] .colab-df-convert {\n",
       "      background-color: #3B4455;\n",
       "      fill: #D2E3FC;\n",
       "    }\n",
       "\n",
       "    [theme=dark] .colab-df-convert:hover {\n",
       "      background-color: #434B5C;\n",
       "      box-shadow: 0px 1px 3px 1px rgba(0, 0, 0, 0.15);\n",
       "      filter: drop-shadow(0px 1px 2px rgba(0, 0, 0, 0.3));\n",
       "      fill: #FFFFFF;\n",
       "    }\n",
       "  </style>\n",
       "\n",
       "    <script>\n",
       "      const buttonEl =\n",
       "        document.querySelector('#df-ac5bf3b1-54db-4dfb-b610-718d12e1c548 button.colab-df-convert');\n",
       "      buttonEl.style.display =\n",
       "        google.colab.kernel.accessAllowed ? 'block' : 'none';\n",
       "\n",
       "      async function convertToInteractive(key) {\n",
       "        const element = document.querySelector('#df-ac5bf3b1-54db-4dfb-b610-718d12e1c548');\n",
       "        const dataTable =\n",
       "          await google.colab.kernel.invokeFunction('convertToInteractive',\n",
       "                                                    [key], {});\n",
       "        if (!dataTable) return;\n",
       "\n",
       "        const docLinkHtml = 'Like what you see? Visit the ' +\n",
       "          '<a target=\"_blank\" href=https://colab.research.google.com/notebooks/data_table.ipynb>data table notebook</a>'\n",
       "          + ' to learn more about interactive tables.';\n",
       "        element.innerHTML = '';\n",
       "        dataTable['output_type'] = 'display_data';\n",
       "        await google.colab.output.renderOutput(dataTable, element);\n",
       "        const docLink = document.createElement('div');\n",
       "        docLink.innerHTML = docLinkHtml;\n",
       "        element.appendChild(docLink);\n",
       "      }\n",
       "    </script>\n",
       "  </div>\n",
       "\n",
       "\n",
       "<div id=\"df-0dbad978-52ad-4415-affd-415ba1fb1483\">\n",
       "  <button class=\"colab-df-quickchart\" onclick=\"quickchart('df-0dbad978-52ad-4415-affd-415ba1fb1483')\"\n",
       "            title=\"Suggest charts\"\n",
       "            style=\"display:none;\">\n",
       "\n",
       "<svg xmlns=\"http://www.w3.org/2000/svg\" height=\"24px\"viewBox=\"0 0 24 24\"\n",
       "     width=\"24px\">\n",
       "    <g>\n",
       "        <path d=\"M19 3H5c-1.1 0-2 .9-2 2v14c0 1.1.9 2 2 2h14c1.1 0 2-.9 2-2V5c0-1.1-.9-2-2-2zM9 17H7v-7h2v7zm4 0h-2V7h2v10zm4 0h-2v-4h2v4z\"/>\n",
       "    </g>\n",
       "</svg>\n",
       "  </button>\n",
       "\n",
       "<style>\n",
       "  .colab-df-quickchart {\n",
       "      --bg-color: #E8F0FE;\n",
       "      --fill-color: #1967D2;\n",
       "      --hover-bg-color: #E2EBFA;\n",
       "      --hover-fill-color: #174EA6;\n",
       "      --disabled-fill-color: #AAA;\n",
       "      --disabled-bg-color: #DDD;\n",
       "  }\n",
       "\n",
       "  [theme=dark] .colab-df-quickchart {\n",
       "      --bg-color: #3B4455;\n",
       "      --fill-color: #D2E3FC;\n",
       "      --hover-bg-color: #434B5C;\n",
       "      --hover-fill-color: #FFFFFF;\n",
       "      --disabled-bg-color: #3B4455;\n",
       "      --disabled-fill-color: #666;\n",
       "  }\n",
       "\n",
       "  .colab-df-quickchart {\n",
       "    background-color: var(--bg-color);\n",
       "    border: none;\n",
       "    border-radius: 50%;\n",
       "    cursor: pointer;\n",
       "    display: none;\n",
       "    fill: var(--fill-color);\n",
       "    height: 32px;\n",
       "    padding: 0;\n",
       "    width: 32px;\n",
       "  }\n",
       "\n",
       "  .colab-df-quickchart:hover {\n",
       "    background-color: var(--hover-bg-color);\n",
       "    box-shadow: 0 1px 2px rgba(60, 64, 67, 0.3), 0 1px 3px 1px rgba(60, 64, 67, 0.15);\n",
       "    fill: var(--button-hover-fill-color);\n",
       "  }\n",
       "\n",
       "  .colab-df-quickchart-complete:disabled,\n",
       "  .colab-df-quickchart-complete:disabled:hover {\n",
       "    background-color: var(--disabled-bg-color);\n",
       "    fill: var(--disabled-fill-color);\n",
       "    box-shadow: none;\n",
       "  }\n",
       "\n",
       "  .colab-df-spinner {\n",
       "    border: 2px solid var(--fill-color);\n",
       "    border-color: transparent;\n",
       "    border-bottom-color: var(--fill-color);\n",
       "    animation:\n",
       "      spin 1s steps(1) infinite;\n",
       "  }\n",
       "\n",
       "  @keyframes spin {\n",
       "    0% {\n",
       "      border-color: transparent;\n",
       "      border-bottom-color: var(--fill-color);\n",
       "      border-left-color: var(--fill-color);\n",
       "    }\n",
       "    20% {\n",
       "      border-color: transparent;\n",
       "      border-left-color: var(--fill-color);\n",
       "      border-top-color: var(--fill-color);\n",
       "    }\n",
       "    30% {\n",
       "      border-color: transparent;\n",
       "      border-left-color: var(--fill-color);\n",
       "      border-top-color: var(--fill-color);\n",
       "      border-right-color: var(--fill-color);\n",
       "    }\n",
       "    40% {\n",
       "      border-color: transparent;\n",
       "      border-right-color: var(--fill-color);\n",
       "      border-top-color: var(--fill-color);\n",
       "    }\n",
       "    60% {\n",
       "      border-color: transparent;\n",
       "      border-right-color: var(--fill-color);\n",
       "    }\n",
       "    80% {\n",
       "      border-color: transparent;\n",
       "      border-right-color: var(--fill-color);\n",
       "      border-bottom-color: var(--fill-color);\n",
       "    }\n",
       "    90% {\n",
       "      border-color: transparent;\n",
       "      border-bottom-color: var(--fill-color);\n",
       "    }\n",
       "  }\n",
       "</style>\n",
       "\n",
       "  <script>\n",
       "    async function quickchart(key) {\n",
       "      const quickchartButtonEl =\n",
       "        document.querySelector('#' + key + ' button');\n",
       "      quickchartButtonEl.disabled = true;  // To prevent multiple clicks.\n",
       "      quickchartButtonEl.classList.add('colab-df-spinner');\n",
       "      try {\n",
       "        const charts = await google.colab.kernel.invokeFunction(\n",
       "            'suggestCharts', [key], {});\n",
       "      } catch (error) {\n",
       "        console.error('Error during call to suggestCharts:', error);\n",
       "      }\n",
       "      quickchartButtonEl.classList.remove('colab-df-spinner');\n",
       "      quickchartButtonEl.classList.add('colab-df-quickchart-complete');\n",
       "    }\n",
       "    (() => {\n",
       "      let quickchartButtonEl =\n",
       "        document.querySelector('#df-0dbad978-52ad-4415-affd-415ba1fb1483 button');\n",
       "      quickchartButtonEl.style.display =\n",
       "        google.colab.kernel.accessAllowed ? 'block' : 'none';\n",
       "    })();\n",
       "  </script>\n",
       "</div>\n",
       "\n",
       "  <div id=\"id_c59da3fa-0c5b-4750-b27a-cd2b3cb81f27\">\n",
       "    <style>\n",
       "      .colab-df-generate {\n",
       "        background-color: #E8F0FE;\n",
       "        border: none;\n",
       "        border-radius: 50%;\n",
       "        cursor: pointer;\n",
       "        display: none;\n",
       "        fill: #1967D2;\n",
       "        height: 32px;\n",
       "        padding: 0 0 0 0;\n",
       "        width: 32px;\n",
       "      }\n",
       "\n",
       "      .colab-df-generate:hover {\n",
       "        background-color: #E2EBFA;\n",
       "        box-shadow: 0px 1px 2px rgba(60, 64, 67, 0.3), 0px 1px 3px 1px rgba(60, 64, 67, 0.15);\n",
       "        fill: #174EA6;\n",
       "      }\n",
       "\n",
       "      [theme=dark] .colab-df-generate {\n",
       "        background-color: #3B4455;\n",
       "        fill: #D2E3FC;\n",
       "      }\n",
       "\n",
       "      [theme=dark] .colab-df-generate:hover {\n",
       "        background-color: #434B5C;\n",
       "        box-shadow: 0px 1px 3px 1px rgba(0, 0, 0, 0.15);\n",
       "        filter: drop-shadow(0px 1px 2px rgba(0, 0, 0, 0.3));\n",
       "        fill: #FFFFFF;\n",
       "      }\n",
       "    </style>\n",
       "    <button class=\"colab-df-generate\" onclick=\"generateWithVariable('df')\"\n",
       "            title=\"Generate code using this dataframe.\"\n",
       "            style=\"display:none;\">\n",
       "\n",
       "  <svg xmlns=\"http://www.w3.org/2000/svg\" height=\"24px\"viewBox=\"0 0 24 24\"\n",
       "       width=\"24px\">\n",
       "    <path d=\"M7,19H8.4L18.45,9,17,7.55,7,17.6ZM5,21V16.75L18.45,3.32a2,2,0,0,1,2.83,0l1.4,1.43a1.91,1.91,0,0,1,.58,1.4,1.91,1.91,0,0,1-.58,1.4L9.25,21ZM18.45,9,17,7.55Zm-12,3A5.31,5.31,0,0,0,4.9,8.1,5.31,5.31,0,0,0,1,6.5,5.31,5.31,0,0,0,4.9,4.9,5.31,5.31,0,0,0,6.5,1,5.31,5.31,0,0,0,8.1,4.9,5.31,5.31,0,0,0,12,6.5,5.46,5.46,0,0,0,6.5,12Z\"/>\n",
       "  </svg>\n",
       "    </button>\n",
       "    <script>\n",
       "      (() => {\n",
       "      const buttonEl =\n",
       "        document.querySelector('#id_c59da3fa-0c5b-4750-b27a-cd2b3cb81f27 button.colab-df-generate');\n",
       "      buttonEl.style.display =\n",
       "        google.colab.kernel.accessAllowed ? 'block' : 'none';\n",
       "\n",
       "      buttonEl.onclick = () => {\n",
       "        google.colab.notebook.generateWithVariable('df');\n",
       "      }\n",
       "      })();\n",
       "    </script>\n",
       "  </div>\n",
       "\n",
       "    </div>\n",
       "  </div>\n"
      ],
      "text/plain": [
       "          ID     original_ID  \\\n",
       "0     6440.0       sign_6941   \n",
       "1    12874.0      sign_12479   \n",
       "2     4295.0      sign_12125   \n",
       "3     4147.0      train_2222   \n",
       "4    11437.0       sign_5017   \n",
       "..       ...             ...   \n",
       "731      NaN  lingkling_7851   \n",
       "732      NaN  lingkling_7869   \n",
       "733      NaN  lingkling_7892   \n",
       "734      NaN  lingkling_8002   \n",
       "735      NaN  lingkling_8050   \n",
       "\n",
       "                                                 tweet  \\\n",
       "0    i looove getting 3 hours of sleep because two ...   \n",
       "1    i hate people who use big words just to make t...   \n",
       "2          i love that girl who never liked even my dp   \n",
       "3              I hate that I wasted my whole weekend 😠   \n",
       "4                                 i love being ignored   \n",
       "..                                                 ...   \n",
       "731     I just love waking up to a nosebleed. #sarcasm   \n",
       "732  I just love being cornered and having to speak...   \n",
       "733  I just love getting text from nurses at seven ...   \n",
       "734  I just love hanging with super conservative pe...   \n",
       "735  I just love it when male customers use the res...   \n",
       "\n",
       "                                        modified_tweet  sarcastic  \\\n",
       "0    i looove getting 3 hours of sleep because two ...          1   \n",
       "1    i hate people who use big words just to make t...          1   \n",
       "2          i love that girl who never liked even my dp          1   \n",
       "3              I hate that I wasted my whole weekend 😠          0   \n",
       "4                                 i love being ignored          1   \n",
       "..                                                 ...        ...   \n",
       "731              I just love waking up to a nosebleed.          1   \n",
       "732  I just love being cornered and having to speak...          1   \n",
       "733  I just love getting text from nurses at seven ...          1   \n",
       "734  I just love hanging with super conservative pe...          1   \n",
       "735  I just love it when male customers use the res...          1   \n",
       "\n",
       "                                              rephrase   exp  \\\n",
       "0     i hate getting 3 hours of sleep because two jobs  exp1   \n",
       "1    i hate people who use big words just to make t...  exp1   \n",
       "2          i love that girl who never liked even my dp  exp1   \n",
       "3                                                  NaN  exp1   \n",
       "4                                 i hate being ignored  exp1   \n",
       "..                                                 ...   ...   \n",
       "731                                                NaN  exp3   \n",
       "732                                                NaN  exp3   \n",
       "733                                                NaN  exp3   \n",
       "734                                                NaN  exp3   \n",
       "735                                                NaN  exp3   \n",
       "\n",
       "     sentiment_distance  \n",
       "0              0.697120  \n",
       "1              0.060704  \n",
       "2              0.853947  \n",
       "3              0.034025  \n",
       "4              0.749764  \n",
       "..                  ...  \n",
       "731            0.795139  \n",
       "732            0.847187  \n",
       "733            0.697846  \n",
       "734            0.103802  \n",
       "735            0.923598  \n",
       "\n",
       "[736 rows x 8 columns]"
      ]
     },
     "execution_count": 15,
     "metadata": {},
     "output_type": "execute_result"
    }
   ],
   "source": [
    "df"
   ]
  },
  {
   "cell_type": "code",
   "execution_count": 16,
   "metadata": {
    "executionInfo": {
     "elapsed": 11,
     "status": "ok",
     "timestamp": 1735926627179,
     "user": {
      "displayName": "Zsofia Hauk",
      "userId": "13087667079812217952"
     },
     "user_tz": -60
    },
    "id": "IGDEN425SQdp"
   },
   "outputs": [],
   "source": [
    "df.to_csv('tweets_with_sentdist.csv', index = False)"
   ]
  },
  {
   "cell_type": "code",
   "execution_count": null,
   "metadata": {
    "id": "tZVfeN_CUtFj"
   },
   "outputs": [],
   "source": [
    "import json\n",
    "\n",
    "data_as_lists = [[item[0], item[1], float(item[2])] for item in tweet_annotation_sentiment_distance]\n",
    "\n",
    "with open('tweet_annotation_sentiment_distance_exp_final.json', 'w') as json_file:\n",
    "    json.dump(data_as_lists, json_file)"
   ]
  },
  {
   "cell_type": "code",
   "execution_count": null,
   "metadata": {
    "colab": {
     "base_uri": "https://localhost:8080/"
    },
    "executionInfo": {
     "elapsed": 499,
     "status": "ok",
     "timestamp": 1735474264363,
     "user": {
      "displayName": "Ivaylo Mitov",
      "userId": "02045773347946630217"
     },
     "user_tz": -120
    },
    "id": "fN7hWkxyfzY5",
    "outputId": "fdc4433a-4c49-4270-ec94-b8c6faea5667"
   },
   "outputs": [
    {
     "name": "stderr",
     "output_type": "stream",
     "text": [
      "100%|██████████| 101/101 [00:00<00:00, 271.48it/s]"
     ]
    },
    {
     "name": "stdout",
     "output_type": "stream",
     "text": [
      "Best threshold: 0.29\n",
      "F-0.1 score: 0.9393482149801664\n"
     ]
    },
    {
     "name": "stderr",
     "output_type": "stream",
     "text": [
      "\n"
     ]
    }
   ],
   "source": [
    "gap = 0.01\n",
    "threshold_list = list(np.arange(0, 1 + gap, gap))\n",
    "\n",
    "threshold_accuracy_dict = define_threshold(tweet_annotation_sentiment_distance, threshold_list, metric=\"f-score\")\n",
    "\n",
    "best_threshold = max(threshold_accuracy_dict, key=threshold_accuracy_dict.get)\n",
    "print(\"Best threshold:\", best_threshold)\n",
    "print(\"F-0.1 score:\", threshold_accuracy_dict[best_threshold])"
   ]
  },
  {
   "cell_type": "code",
   "execution_count": null,
   "metadata": {
    "colab": {
     "base_uri": "https://localhost:8080/",
     "height": 564
    },
    "executionInfo": {
     "elapsed": 1440,
     "status": "ok",
     "timestamp": 1735474294791,
     "user": {
      "displayName": "Ivaylo Mitov",
      "userId": "02045773347946630217"
     },
     "user_tz": -120
    },
    "id": "0uAM1qe9cvk3",
    "outputId": "7de8059b-331f-495e-d12e-eb5b6cbe5757"
   },
   "outputs": [
    {
     "data": {
      "image/png": "[encoded data removed]",
      "text/plain": [
       "<Figure size 1000x600 with 1 Axes>"
      ]
     },
     "metadata": {},
     "output_type": "display_data"
    }
   ],
   "source": [
    "#visualize\n",
    "data = [x[2] for x in tweet_annotation_sentiment_distance]\n",
    "labels = [x[1] for x in tweet_annotation_sentiment_distance] # 0 for red, 1 for blue\n",
    "threshold = best_threshold\n",
    "\n",
    "colors = ['red' if label == 0 else 'blue' for label in labels]\n",
    "\n",
    "plt.figure(figsize=(10, 6))\n",
    "plt.scatter(range(len(data)), data, color=colors, label='Data Points')\n",
    "plt.axhline(y=threshold, color='green', linestyle='--', label=f'Threshold = {threshold}')\n",
    "plt.xlabel('Index')\n",
    "plt.ylabel('Value')\n",
    "plt.title('Visualization for the whole dataset')\n",
    "plt.ylim(0,1)\n",
    "plt.legend(handles=[\n",
    "    plt.Line2D([0], [0], color='red', marker='o', linestyle='None', label='Label 0'),\n",
    "    plt.Line2D([0], [0], color='blue', marker='o', linestyle='None', label='Label 1'),\n",
    "    plt.Line2D([0], [0], color='green', linestyle='--', label=f'Threshold = {threshold}')\n",
    "])\n",
    "plt.grid()\n",
    "plt.show()"
   ]
  },
  {
   "cell_type": "markdown",
   "metadata": {
    "id": "SVZibyDJl6gs"
   },
   "source": [
    "# Train/Test"
   ]
  },
  {
   "cell_type": "code",
   "execution_count": null,
   "metadata": {
    "id": "44XG1rap4con"
   },
   "outputs": [],
   "source": [
    "#Get the sentiment distances for each tweet and the maximum sentiment distance in advance\n",
    "# tweet_annotation_sentiment_distance = get_sentiment_distance(df['modified_tweet'], df['sarcastic'], df['exp'], method=\"contextual\")"
   ]
  },
  {
   "cell_type": "markdown",
   "metadata": {
    "id": "a-ZeuJA4a4qD"
   },
   "source": [
    "## **TRAIN**: Defining the **Best Threshold** with KFold (k=5) Training and Testing"
   ]
  },
  {
   "cell_type": "code",
   "execution_count": null,
   "metadata": {
    "colab": {
     "base_uri": "https://localhost:8080/",
     "height": 1000
    },
    "executionInfo": {
     "elapsed": 5112,
     "status": "ok",
     "timestamp": 1735474347749,
     "user": {
      "displayName": "Ivaylo Mitov",
      "userId": "02045773347946630217"
     },
     "user_tz": -120
    },
    "id": "uHxlJ3-srPov",
    "outputId": "3052b786-f00a-40ee-c02c-8a1b9a33e64d"
   },
   "outputs": [
    {
     "name": "stderr",
     "output_type": "stream",
     "text": [
      "100%|██████████| 101/101 [00:00<00:00, 189.07it/s]\n"
     ]
    },
    {
     "name": "stdout",
     "output_type": "stream",
     "text": [
      "Best threshold: 0.33\n",
      "F-0.3 score: 0.942095439052102\n",
      "              precision    recall  f1-score   support\n",
      "\n",
      "           0       0.23      0.60      0.33        15\n",
      "           1       0.94      0.77      0.85       133\n",
      "\n",
      "    accuracy                           0.75       148\n",
      "   macro avg       0.58      0.68      0.59       148\n",
      "weighted avg       0.87      0.75      0.79       148\n",
      "\n"
     ]
    },
    {
     "data": {
      "image/png": "[encoded data removed]",
      "text/plain": [
       "<Figure size 1000x600 with 1 Axes>"
      ]
     },
     "metadata": {},
     "output_type": "display_data"
    },
    {
     "name": "stdout",
     "output_type": "stream",
     "text": [
      "------\n"
     ]
    },
    {
     "name": "stderr",
     "output_type": "stream",
     "text": [
      "100%|██████████| 101/101 [00:00<00:00, 169.59it/s]\n"
     ]
    },
    {
     "name": "stdout",
     "output_type": "stream",
     "text": [
      "Best threshold: 0.45\n",
      "F-0.3 score: 0.9403562768140272\n",
      "              precision    recall  f1-score   support\n",
      "\n",
      "           0       0.20      0.79      0.31        14\n",
      "           1       0.97      0.66      0.79       133\n",
      "\n",
      "    accuracy                           0.67       147\n",
      "   macro avg       0.58      0.72      0.55       147\n",
      "weighted avg       0.89      0.67      0.74       147\n",
      "\n"
     ]
    },
    {
     "data": {
      "image/png": "[encoded data removed]",
      "text/plain": [
       "<Figure size 1000x600 with 1 Axes>"
      ]
     },
     "metadata": {},
     "output_type": "display_data"
    },
    {
     "name": "stdout",
     "output_type": "stream",
     "text": [
      "------\n"
     ]
    },
    {
     "name": "stderr",
     "output_type": "stream",
     "text": [
      "100%|██████████| 101/101 [00:00<00:00, 176.08it/s]\n"
     ]
    },
    {
     "name": "stdout",
     "output_type": "stream",
     "text": [
      "Best threshold: 0.37\n",
      "F-0.3 score: 0.9418149314718652\n",
      "              precision    recall  f1-score   support\n",
      "\n",
      "           0       0.22      0.50      0.30        14\n",
      "           1       0.94      0.81      0.87       133\n",
      "\n",
      "    accuracy                           0.78       147\n",
      "   macro avg       0.58      0.66      0.59       147\n",
      "weighted avg       0.87      0.78      0.82       147\n",
      "\n"
     ]
    },
    {
     "data": {
      "image/png": "[encoded data removed]",
      "text/plain": [
       "<Figure size 1000x600 with 1 Axes>"
      ]
     },
     "metadata": {},
     "output_type": "display_data"
    },
    {
     "name": "stdout",
     "output_type": "stream",
     "text": [
      "------\n"
     ]
    },
    {
     "name": "stderr",
     "output_type": "stream",
     "text": [
      "100%|██████████| 101/101 [00:00<00:00, 288.36it/s]\n"
     ]
    },
    {
     "name": "stdout",
     "output_type": "stream",
     "text": [
      "Best threshold: 0.43\n",
      "F-0.3 score: 0.9412823550856727\n",
      "              precision    recall  f1-score   support\n",
      "\n",
      "           0       0.18      0.71      0.29        14\n",
      "           1       0.96      0.66      0.78       133\n",
      "\n",
      "    accuracy                           0.67       147\n",
      "   macro avg       0.57      0.69      0.54       147\n",
      "weighted avg       0.88      0.67      0.74       147\n",
      "\n"
     ]
    },
    {
     "data": {
      "image/png": "[encoded data removed]",
      "text/plain": [
       "<Figure size 1000x600 with 1 Axes>"
      ]
     },
     "metadata": {},
     "output_type": "display_data"
    },
    {
     "name": "stdout",
     "output_type": "stream",
     "text": [
      "------\n"
     ]
    },
    {
     "name": "stderr",
     "output_type": "stream",
     "text": [
      "100%|██████████| 101/101 [00:00<00:00, 273.95it/s]\n"
     ]
    },
    {
     "name": "stdout",
     "output_type": "stream",
     "text": [
      "Best threshold: 0.29\n",
      "F-0.3 score: 0.9387723144378328\n",
      "              precision    recall  f1-score   support\n",
      "\n",
      "           0       0.30      0.57      0.39        14\n",
      "           1       0.95      0.86      0.90       133\n",
      "\n",
      "    accuracy                           0.83       147\n",
      "   macro avg       0.62      0.71      0.65       147\n",
      "weighted avg       0.89      0.83      0.85       147\n",
      "\n"
     ]
    },
    {
     "data": {
      "image/png": "[encoded data removed]",
      "text/plain": [
       "<Figure size 1000x600 with 1 Axes>"
      ]
     },
     "metadata": {},
     "output_type": "display_data"
    },
    {
     "name": "stdout",
     "output_type": "stream",
     "text": [
      "------\n"
     ]
    }
   ],
   "source": [
    "gap = 0.01\n",
    "threshold_list = list(np.arange(0, 1 + gap, gap))\n",
    "\n",
    "skf = StratifiedKFold(n_splits=5, shuffle=True, random_state=42)\n",
    "tweets = [x[0] for x in tweet_annotation_sentiment_distance]\n",
    "targets = [x[1] for x in tweet_annotation_sentiment_distance]\n",
    "sentiment_distances = [x[2] for x in tweet_annotation_sentiment_distance]\n",
    "\n",
    "thresholds = []\n",
    "\n",
    "for train_index, test_index in skf.split(tweets, targets):\n",
    "\n",
    "  train = [val for i, val in enumerate(tweet_annotation_sentiment_distance) if i in train_index]\n",
    "  test = [val for i, val in enumerate(tweet_annotation_sentiment_distance) if i in test_index]\n",
    "\n",
    "  threshold_accuracy_dict = define_threshold(train, threshold_list, metric=\"f-score\")\n",
    "\n",
    "  best_threshold = max(threshold_accuracy_dict, key=threshold_accuracy_dict.get)\n",
    "  thresholds.append(best_threshold)\n",
    "  print(\"Best threshold:\", best_threshold)\n",
    "  print(\"F-0.3 score:\", threshold_accuracy_dict[best_threshold])\n",
    "\n",
    "  print(classification_report( [x[1] for x in test], [int(is_sarc(x[2], best_threshold)) for x in test], zero_division=0))\n",
    "\n",
    "  data = [x[2] for x in test]\n",
    "  labels = [x[1] for x in test] # 0 for red, 1 for blue\n",
    "  threshold = best_threshold\n",
    "\n",
    "  colors = ['red' if label == 0 else 'blue' for label in labels]\n",
    "\n",
    "  plt.figure(figsize=(10, 6))\n",
    "  plt.scatter(range(len(data)), data, color=colors, label='Data Points')\n",
    "  plt.axhline(y=threshold, color='green', linestyle='--', label=f'Threshold = {threshold}')\n",
    "  plt.xlabel('Index')\n",
    "  plt.ylabel('Value')\n",
    "  plt.title('Visualization for k-fold')\n",
    "  plt.legend(handles=[\n",
    "      plt.Line2D([0], [0], color='red', marker='o', linestyle='None', label='Label 0'),\n",
    "      plt.Line2D([0], [0], color='blue', marker='o', linestyle='None', label='Label 1'),\n",
    "      plt.Line2D([0], [0], color='green', linestyle='--', label=f'Threshold = {threshold}')\n",
    "  ])\n",
    "  plt.grid()\n",
    "  plt.show()\n",
    "\n",
    "  print('------')"
   ]
  },
  {
   "cell_type": "markdown",
   "metadata": {
    "id": "9S9pt2qbyTjF"
   },
   "source": [
    "## **TEST**: Applying the **Best Threshold** to a Test Sample (20% of exp_final, stratified)"
   ]
  },
  {
   "cell_type": "code",
   "execution_count": null,
   "metadata": {
    "id": "w8IPThClFK8C"
   },
   "outputs": [],
   "source": [
    "_, df_test = train_test_split(df, test_size=0.2, stratify=df['sarcastic'], random_state=27)\n",
    "df_test = df_test.reset_index()"
   ]
  },
  {
   "cell_type": "code",
   "execution_count": null,
   "metadata": {
    "colab": {
     "base_uri": "https://localhost:8080/"
    },
    "executionInfo": {
     "elapsed": 274,
     "status": "ok",
     "timestamp": 1735477163597,
     "user": {
      "displayName": "Ivaylo Mitov",
      "userId": "02045773347946630217"
     },
     "user_tz": -120
    },
    "id": "YWRWlIRrVe9O",
    "outputId": "f103dacd-879f-435d-95d9-8ee4477b49ef"
   },
   "outputs": [
    {
     "name": "stdout",
     "output_type": "stream",
     "text": [
      "Final threshold: 0.374\n"
     ]
    }
   ],
   "source": [
    "final_threshold = np.mean(thresholds)\n",
    "print(\"Final threshold:\", final_threshold)"
   ]
  },
  {
   "cell_type": "code",
   "execution_count": null,
   "metadata": {
    "id": "EdDq2pSBVZhc"
   },
   "outputs": [],
   "source": [
    "#test\n",
    "df_test['prediction'] = None\n",
    "df_test['correct'] = None\n",
    "for i in range(df_test.shape[0]):\n",
    " df_test.at[i, 'prediction'] = int(is_sarc(df_test['sentiment_distance'][i], final_threshold))  ###!!!!!!!!!!!!!!! tmp_threshold?\n",
    " df_test.at[i, 'correct'] = int(df_test.at[i, 'prediction'] ==df_test.at[i, 'sarcastic'])"
   ]
  },
  {
   "cell_type": "code",
   "execution_count": null,
   "metadata": {
    "colab": {
     "base_uri": "https://localhost:8080/"
    },
    "executionInfo": {
     "elapsed": 266,
     "status": "ok",
     "timestamp": 1735475077903,
     "user": {
      "displayName": "Ivaylo Mitov",
      "userId": "02045773347946630217"
     },
     "user_tz": -120
    },
    "id": "H5s3abX9dBLq",
    "outputId": "ed3e88cb-9d0d-4cc3-e722-5c74c5f4f013"
   },
   "outputs": [
    {
     "name": "stdout",
     "output_type": "stream",
     "text": [
      "              precision    recall  f1-score   support\n",
      "\n",
      "           0       0.24      0.71      0.36        14\n",
      "           1       0.96      0.77      0.85       134\n",
      "\n",
      "    accuracy                           0.76       148\n",
      "   macro avg       0.60      0.74      0.61       148\n",
      "weighted avg       0.89      0.76      0.81       148\n",
      "\n"
     ]
    }
   ],
   "source": [
    "print(classification_report(df_test['sarcastic'].to_list(), [int(is_sarc(x, final_threshold)) for x in df_test['sentiment_distance'].to_list()], zero_division=0))"
   ]
  },
  {
   "cell_type": "code",
   "execution_count": null,
   "metadata": {
    "colab": {
     "base_uri": "https://localhost:8080/",
     "height": 564
    },
    "executionInfo": {
     "elapsed": 717,
     "status": "ok",
     "timestamp": 1735475093309,
     "user": {
      "displayName": "Ivaylo Mitov",
      "userId": "02045773347946630217"
     },
     "user_tz": -120
    },
    "id": "nleOn1GSV46Q",
    "outputId": "6439238b-3979-4849-b8d0-e58732dae744"
   },
   "outputs": [
    {
     "data": {
      "image/png": "[encoded data removed]",
      "text/plain": [
       "<Figure size 1000x600 with 1 Axes>"
      ]
     },
     "metadata": {},
     "output_type": "display_data"
    }
   ],
   "source": [
    "#visualize\n",
    "\n",
    "data = df_test['sentiment_distance']\n",
    "labels = df_test['sarcastic']  # 0 for red, 1 for blue\n",
    "threshold = np.mean(thresholds)\n",
    "\n",
    "colors = ['red' if label == 0 else 'blue' for label in labels]\n",
    "\n",
    "plt.figure(figsize=(10, 6))\n",
    "plt.scatter(range(len(data)), data, color=colors, label='Data Points')\n",
    "plt.axhline(y=threshold, color='green', linestyle='--', label=f'Threshold = {threshold}')\n",
    "plt.xlabel('Index')\n",
    "plt.ylabel('Value')\n",
    "plt.title('Exp Final (Test)')\n",
    "plt.legend(handles=[\n",
    "    plt.Line2D([0], [0], color='red', marker='o', linestyle='None', label='Label 0'),\n",
    "    plt.Line2D([0], [0], color='blue', marker='o', linestyle='None', label='Label 1'),\n",
    "    plt.Line2D([0], [0], color='green', linestyle='--', label=f'Threshold = {threshold}')\n",
    "])\n",
    "plt.grid()\n",
    "plt.show()"
   ]
  },
  {
   "cell_type": "markdown",
   "metadata": {
    "id": "cKFxiHOutb_1"
   },
   "source": [
    "# Other"
   ]
  },
  {
   "cell_type": "code",
   "execution_count": null,
   "metadata": {
    "id": "Vk2cCPIqLPWb"
   },
   "outputs": [],
   "source": [
    "def define_threshold(tweets, gold_annotations, threshold_list, method, metric):\n",
    "  \"\"\"\n",
    "  Creates a list of tuples containing 1) the tweet body, 2) the sarc/non-sarc gold annotation, 3) the sentiment distance between V and NP.\n",
    "  Then, iterates over a list of thresholds and for each threshold calculates the accuracy between the gold annotations and the predicted values.\n",
    "  Returns a dictionary of thresholds and accuracies for those thresholds.\n",
    "  \"\"\"\n",
    "\n",
    "  threshold_accuracy_dict = {}\n",
    "  for threshold in threshold_list:\n",
    "    y_true = [item[1] for item in tweet_annotation_sentiment_distance]\n",
    "    y_pred = [int(is_sarc(item[2], threshold)) for item in tweet_annotation_sentiment_distance]\n",
    "\n",
    "    if metric == \"f-score\":\n",
    "      score = fbeta_score(y_true, y_pred, beta=0.5)\n",
    "\n",
    "    if metric == \"precision\":\n",
    "      score = precision_score(y_true, y_pred, zero_division=0)\n",
    "\n",
    "    if metric == \"youden_j\":\n",
    "      tpr, tpr, thresholds = roc_curve(y_true, y_pred)\n",
    "      print(tpr, fpr)\n",
    "      print(\"/////////////////////////\")\n",
    "      score = np.argmax(tpr - fpr)\n",
    "\n",
    "    threshold_accuracy_dict[threshold] = score\n",
    "\n",
    "  return threshold_accuracy_dict, tweet_annotation_sentiment_distance"
   ]
  },
  {
   "cell_type": "code",
   "execution_count": null,
   "metadata": {
    "colab": {
     "base_uri": "https://localhost:8080/"
    },
    "executionInfo": {
     "elapsed": 24624,
     "status": "ok",
     "timestamp": 1735395019922,
     "user": {
      "displayName": "Samba Fall",
      "userId": "17845594153074474775"
     },
     "user_tz": -60
    },
    "id": "uLvY7N9Ely6T",
    "outputId": "709774c7-f582-4819-86e5-e9265c0d18df"
   },
   "outputs": [
    {
     "name": "stderr",
     "output_type": "stream",
     "text": [
      "100%|██████████| 75/75 [00:00<00:00, 344.19it/s]\n"
     ]
    },
    {
     "name": "stdout",
     "output_type": "stream",
     "text": [
      "beta =  0.1\n",
      "              precision    recall  f1-score   support\n",
      "\n",
      "           0       0.16      0.97      0.28        71\n",
      "           1       0.99      0.47      0.64       665\n",
      "\n",
      "    accuracy                           0.52       736\n",
      "   macro avg       0.58      0.72      0.46       736\n",
      "weighted avg       0.91      0.52      0.61       736\n",
      "\n",
      "-----------------------------------------\n"
     ]
    },
    {
     "name": "stderr",
     "output_type": "stream",
     "text": [
      "100%|██████████| 75/75 [00:00<00:00, 364.96it/s]\n"
     ]
    },
    {
     "name": "stdout",
     "output_type": "stream",
     "text": [
      "beta =  0.11\n",
      "              precision    recall  f1-score   support\n",
      "\n",
      "           0       0.16      0.97      0.28        71\n",
      "           1       0.99      0.47      0.64       665\n",
      "\n",
      "    accuracy                           0.52       736\n",
      "   macro avg       0.58      0.72      0.46       736\n",
      "weighted avg       0.91      0.52      0.61       736\n",
      "\n",
      "-----------------------------------------\n"
     ]
    },
    {
     "name": "stderr",
     "output_type": "stream",
     "text": [
      "100%|██████████| 75/75 [00:00<00:00, 339.29it/s]\n"
     ]
    },
    {
     "name": "stdout",
     "output_type": "stream",
     "text": [
      "beta =  0.12\n",
      "              precision    recall  f1-score   support\n",
      "\n",
      "           0       0.16      0.97      0.28        71\n",
      "           1       0.99      0.47      0.64       665\n",
      "\n",
      "    accuracy                           0.52       736\n",
      "   macro avg       0.58      0.72      0.46       736\n",
      "weighted avg       0.91      0.52      0.61       736\n",
      "\n",
      "-----------------------------------------\n"
     ]
    },
    {
     "name": "stderr",
     "output_type": "stream",
     "text": [
      "100%|██████████| 75/75 [00:00<00:00, 355.68it/s]\n"
     ]
    },
    {
     "name": "stdout",
     "output_type": "stream",
     "text": [
      "beta =  0.13\n",
      "              precision    recall  f1-score   support\n",
      "\n",
      "           0       0.16      0.97      0.28        71\n",
      "           1       0.99      0.47      0.64       665\n",
      "\n",
      "    accuracy                           0.52       736\n",
      "   macro avg       0.58      0.72      0.46       736\n",
      "weighted avg       0.91      0.52      0.61       736\n",
      "\n",
      "-----------------------------------------\n"
     ]
    },
    {
     "name": "stderr",
     "output_type": "stream",
     "text": [
      "100%|██████████| 75/75 [00:00<00:00, 372.21it/s]\n"
     ]
    },
    {
     "name": "stdout",
     "output_type": "stream",
     "text": [
      "beta =  0.13999999999999999\n",
      "              precision    recall  f1-score   support\n",
      "\n",
      "           0       0.16      0.97      0.28        71\n",
      "           1       0.99      0.47      0.64       665\n",
      "\n",
      "    accuracy                           0.52       736\n",
      "   macro avg       0.58      0.72      0.46       736\n",
      "weighted avg       0.91      0.52      0.61       736\n",
      "\n",
      "-----------------------------------------\n"
     ]
    },
    {
     "name": "stderr",
     "output_type": "stream",
     "text": [
      "100%|██████████| 75/75 [00:00<00:00, 354.92it/s]\n"
     ]
    },
    {
     "name": "stdout",
     "output_type": "stream",
     "text": [
      "beta =  0.14999999999999997\n",
      "              precision    recall  f1-score   support\n",
      "\n",
      "           0       0.16      0.97      0.28        71\n",
      "           1       0.99      0.47      0.64       665\n",
      "\n",
      "    accuracy                           0.52       736\n",
      "   macro avg       0.58      0.72      0.46       736\n",
      "weighted avg       0.91      0.52      0.61       736\n",
      "\n",
      "-----------------------------------------\n"
     ]
    },
    {
     "name": "stderr",
     "output_type": "stream",
     "text": [
      "100%|██████████| 75/75 [00:00<00:00, 300.90it/s]\n"
     ]
    },
    {
     "name": "stdout",
     "output_type": "stream",
     "text": [
      "beta =  0.15999999999999998\n",
      "              precision    recall  f1-score   support\n",
      "\n",
      "           0       0.16      0.97      0.28        71\n",
      "           1       0.99      0.47      0.64       665\n",
      "\n",
      "    accuracy                           0.52       736\n",
      "   macro avg       0.58      0.72      0.46       736\n",
      "weighted avg       0.91      0.52      0.61       736\n",
      "\n",
      "-----------------------------------------\n"
     ]
    },
    {
     "name": "stderr",
     "output_type": "stream",
     "text": [
      "100%|██████████| 75/75 [00:00<00:00, 371.91it/s]\n"
     ]
    },
    {
     "name": "stdout",
     "output_type": "stream",
     "text": [
      "beta =  0.16999999999999998\n",
      "              precision    recall  f1-score   support\n",
      "\n",
      "           0       0.16      0.97      0.28        71\n",
      "           1       0.99      0.47      0.64       665\n",
      "\n",
      "    accuracy                           0.52       736\n",
      "   macro avg       0.58      0.72      0.46       736\n",
      "weighted avg       0.91      0.52      0.61       736\n",
      "\n",
      "-----------------------------------------\n"
     ]
    },
    {
     "name": "stderr",
     "output_type": "stream",
     "text": [
      "100%|██████████| 75/75 [00:00<00:00, 355.03it/s]\n"
     ]
    },
    {
     "name": "stdout",
     "output_type": "stream",
     "text": [
      "beta =  0.17999999999999997\n",
      "              precision    recall  f1-score   support\n",
      "\n",
      "           0       0.16      0.97      0.28        71\n",
      "           1       0.99      0.47      0.64       665\n",
      "\n",
      "    accuracy                           0.52       736\n",
      "   macro avg       0.58      0.72      0.46       736\n",
      "weighted avg       0.91      0.52      0.61       736\n",
      "\n",
      "-----------------------------------------\n"
     ]
    },
    {
     "name": "stderr",
     "output_type": "stream",
     "text": [
      "100%|██████████| 75/75 [00:00<00:00, 338.73it/s]\n"
     ]
    },
    {
     "name": "stdout",
     "output_type": "stream",
     "text": [
      "beta =  0.18999999999999995\n",
      "              precision    recall  f1-score   support\n",
      "\n",
      "           0       0.21      0.83      0.33        71\n",
      "           1       0.97      0.66      0.79       665\n",
      "\n",
      "    accuracy                           0.68       736\n",
      "   macro avg       0.59      0.75      0.56       736\n",
      "weighted avg       0.90      0.68      0.74       736\n",
      "\n",
      "-----------------------------------------\n"
     ]
    },
    {
     "name": "stderr",
     "output_type": "stream",
     "text": [
      "100%|██████████| 75/75 [00:00<00:00, 383.85it/s]\n"
     ]
    },
    {
     "name": "stdout",
     "output_type": "stream",
     "text": [
      "beta =  0.19999999999999996\n",
      "              precision    recall  f1-score   support\n",
      "\n",
      "           0       0.21      0.83      0.33        71\n",
      "           1       0.97      0.66      0.79       665\n",
      "\n",
      "    accuracy                           0.68       736\n",
      "   macro avg       0.59      0.75      0.56       736\n",
      "weighted avg       0.90      0.68      0.74       736\n",
      "\n",
      "-----------------------------------------\n"
     ]
    },
    {
     "name": "stderr",
     "output_type": "stream",
     "text": [
      "100%|██████████| 75/75 [00:00<00:00, 367.68it/s]\n"
     ]
    },
    {
     "name": "stdout",
     "output_type": "stream",
     "text": [
      "beta =  0.20999999999999996\n",
      "              precision    recall  f1-score   support\n",
      "\n",
      "           0       0.21      0.83      0.33        71\n",
      "           1       0.97      0.66      0.79       665\n",
      "\n",
      "    accuracy                           0.68       736\n",
      "   macro avg       0.59      0.75      0.56       736\n",
      "weighted avg       0.90      0.68      0.74       736\n",
      "\n",
      "-----------------------------------------\n"
     ]
    },
    {
     "name": "stderr",
     "output_type": "stream",
     "text": [
      "100%|██████████| 75/75 [00:00<00:00, 312.15it/s]\n"
     ]
    },
    {
     "name": "stdout",
     "output_type": "stream",
     "text": [
      "beta =  0.21999999999999995\n",
      "              precision    recall  f1-score   support\n",
      "\n",
      "           0       0.21      0.83      0.33        71\n",
      "           1       0.97      0.66      0.79       665\n",
      "\n",
      "    accuracy                           0.68       736\n",
      "   macro avg       0.59      0.75      0.56       736\n",
      "weighted avg       0.90      0.68      0.74       736\n",
      "\n",
      "-----------------------------------------\n"
     ]
    },
    {
     "name": "stderr",
     "output_type": "stream",
     "text": [
      "100%|██████████| 75/75 [00:00<00:00, 334.82it/s]\n"
     ]
    },
    {
     "name": "stdout",
     "output_type": "stream",
     "text": [
      "beta =  0.22999999999999995\n",
      "              precision    recall  f1-score   support\n",
      "\n",
      "           0       0.21      0.83      0.33        71\n",
      "           1       0.97      0.66      0.79       665\n",
      "\n",
      "    accuracy                           0.68       736\n",
      "   macro avg       0.59      0.75      0.56       736\n",
      "weighted avg       0.90      0.68      0.74       736\n",
      "\n",
      "-----------------------------------------\n"
     ]
    },
    {
     "name": "stderr",
     "output_type": "stream",
     "text": [
      "100%|██████████| 75/75 [00:00<00:00, 387.13it/s]\n"
     ]
    },
    {
     "name": "stdout",
     "output_type": "stream",
     "text": [
      "beta =  0.23999999999999994\n",
      "              precision    recall  f1-score   support\n",
      "\n",
      "           0       0.21      0.83      0.33        71\n",
      "           1       0.97      0.66      0.79       665\n",
      "\n",
      "    accuracy                           0.68       736\n",
      "   macro avg       0.59      0.75      0.56       736\n",
      "weighted avg       0.90      0.68      0.74       736\n",
      "\n",
      "-----------------------------------------\n"
     ]
    },
    {
     "name": "stderr",
     "output_type": "stream",
     "text": [
      "100%|██████████| 75/75 [00:00<00:00, 365.50it/s]\n"
     ]
    },
    {
     "name": "stdout",
     "output_type": "stream",
     "text": [
      "beta =  0.24999999999999992\n",
      "              precision    recall  f1-score   support\n",
      "\n",
      "           0       0.21      0.83      0.33        71\n",
      "           1       0.97      0.66      0.79       665\n",
      "\n",
      "    accuracy                           0.68       736\n",
      "   macro avg       0.59      0.75      0.56       736\n",
      "weighted avg       0.90      0.68      0.74       736\n",
      "\n",
      "-----------------------------------------\n"
     ]
    },
    {
     "name": "stderr",
     "output_type": "stream",
     "text": [
      "100%|██████████| 75/75 [00:00<00:00, 370.14it/s]\n"
     ]
    },
    {
     "name": "stdout",
     "output_type": "stream",
     "text": [
      "beta =  0.2599999999999999\n",
      "              precision    recall  f1-score   support\n",
      "\n",
      "           0       0.21      0.83      0.33        71\n",
      "           1       0.97      0.66      0.79       665\n",
      "\n",
      "    accuracy                           0.68       736\n",
      "   macro avg       0.59      0.75      0.56       736\n",
      "weighted avg       0.90      0.68      0.74       736\n",
      "\n",
      "-----------------------------------------\n"
     ]
    },
    {
     "name": "stderr",
     "output_type": "stream",
     "text": [
      "100%|██████████| 75/75 [00:00<00:00, 375.99it/s]\n"
     ]
    },
    {
     "name": "stdout",
     "output_type": "stream",
     "text": [
      "beta =  0.2699999999999999\n",
      "              precision    recall  f1-score   support\n",
      "\n",
      "           0       0.21      0.83      0.33        71\n",
      "           1       0.97      0.66      0.79       665\n",
      "\n",
      "    accuracy                           0.68       736\n",
      "   macro avg       0.59      0.75      0.56       736\n",
      "weighted avg       0.90      0.68      0.74       736\n",
      "\n",
      "-----------------------------------------\n"
     ]
    },
    {
     "name": "stderr",
     "output_type": "stream",
     "text": [
      "100%|██████████| 75/75 [00:00<00:00, 340.43it/s]\n"
     ]
    },
    {
     "name": "stdout",
     "output_type": "stream",
     "text": [
      "beta =  0.2799999999999999\n",
      "              precision    recall  f1-score   support\n",
      "\n",
      "           0       0.21      0.83      0.33        71\n",
      "           1       0.97      0.66      0.79       665\n",
      "\n",
      "    accuracy                           0.68       736\n",
      "   macro avg       0.59      0.75      0.56       736\n",
      "weighted avg       0.90      0.68      0.74       736\n",
      "\n",
      "-----------------------------------------\n"
     ]
    },
    {
     "name": "stderr",
     "output_type": "stream",
     "text": [
      "100%|██████████| 75/75 [00:00<00:00, 329.88it/s]\n"
     ]
    },
    {
     "name": "stdout",
     "output_type": "stream",
     "text": [
      "beta =  0.2899999999999999\n",
      "              precision    recall  f1-score   support\n",
      "\n",
      "           0       0.26      0.63      0.37        71\n",
      "           1       0.95      0.81      0.87       665\n",
      "\n",
      "    accuracy                           0.79       736\n",
      "   macro avg       0.61      0.72      0.62       736\n",
      "weighted avg       0.89      0.79      0.82       736\n",
      "\n",
      "-----------------------------------------\n"
     ]
    },
    {
     "name": "stderr",
     "output_type": "stream",
     "text": [
      "100%|██████████| 75/75 [00:00<00:00, 381.30it/s]\n"
     ]
    },
    {
     "name": "stdout",
     "output_type": "stream",
     "text": [
      "beta =  0.29999999999999993\n",
      "              precision    recall  f1-score   support\n",
      "\n",
      "           0       0.26      0.63      0.37        71\n",
      "           1       0.95      0.81      0.87       665\n",
      "\n",
      "    accuracy                           0.79       736\n",
      "   macro avg       0.61      0.72      0.62       736\n",
      "weighted avg       0.89      0.79      0.82       736\n",
      "\n",
      "-----------------------------------------\n"
     ]
    },
    {
     "name": "stderr",
     "output_type": "stream",
     "text": [
      "100%|██████████| 75/75 [00:00<00:00, 334.53it/s]\n"
     ]
    },
    {
     "name": "stdout",
     "output_type": "stream",
     "text": [
      "beta =  0.30999999999999994\n",
      "              precision    recall  f1-score   support\n",
      "\n",
      "           0       0.26      0.63      0.37        71\n",
      "           1       0.95      0.81      0.87       665\n",
      "\n",
      "    accuracy                           0.79       736\n",
      "   macro avg       0.61      0.72      0.62       736\n",
      "weighted avg       0.89      0.79      0.82       736\n",
      "\n",
      "-----------------------------------------\n"
     ]
    },
    {
     "name": "stderr",
     "output_type": "stream",
     "text": [
      "100%|██████████| 75/75 [00:00<00:00, 315.43it/s]\n"
     ]
    },
    {
     "name": "stdout",
     "output_type": "stream",
     "text": [
      "beta =  0.3199999999999999\n",
      "              precision    recall  f1-score   support\n",
      "\n",
      "           0       0.35      0.46      0.40        71\n",
      "           1       0.94      0.91      0.93       665\n",
      "\n",
      "    accuracy                           0.87       736\n",
      "   macro avg       0.65      0.69      0.66       736\n",
      "weighted avg       0.88      0.87      0.87       736\n",
      "\n",
      "-----------------------------------------\n"
     ]
    },
    {
     "name": "stderr",
     "output_type": "stream",
     "text": [
      "100%|██████████| 75/75 [00:00<00:00, 246.80it/s]\n"
     ]
    },
    {
     "name": "stdout",
     "output_type": "stream",
     "text": [
      "beta =  0.32999999999999985\n",
      "              precision    recall  f1-score   support\n",
      "\n",
      "           0       0.35      0.46      0.40        71\n",
      "           1       0.94      0.91      0.93       665\n",
      "\n",
      "    accuracy                           0.87       736\n",
      "   macro avg       0.65      0.69      0.66       736\n",
      "weighted avg       0.88      0.87      0.87       736\n",
      "\n",
      "-----------------------------------------\n"
     ]
    },
    {
     "name": "stderr",
     "output_type": "stream",
     "text": [
      "100%|██████████| 75/75 [00:00<00:00, 221.59it/s]\n"
     ]
    },
    {
     "name": "stdout",
     "output_type": "stream",
     "text": [
      "beta =  0.33999999999999986\n",
      "              precision    recall  f1-score   support\n",
      "\n",
      "           0       0.35      0.46      0.40        71\n",
      "           1       0.94      0.91      0.93       665\n",
      "\n",
      "    accuracy                           0.87       736\n",
      "   macro avg       0.65      0.69      0.66       736\n",
      "weighted avg       0.88      0.87      0.87       736\n",
      "\n",
      "-----------------------------------------\n"
     ]
    },
    {
     "name": "stderr",
     "output_type": "stream",
     "text": [
      "100%|██████████| 75/75 [00:00<00:00, 255.66it/s]\n"
     ]
    },
    {
     "name": "stdout",
     "output_type": "stream",
     "text": [
      "beta =  0.34999999999999987\n",
      "              precision    recall  f1-score   support\n",
      "\n",
      "           0       0.35      0.46      0.40        71\n",
      "           1       0.94      0.91      0.93       665\n",
      "\n",
      "    accuracy                           0.87       736\n",
      "   macro avg       0.65      0.69      0.66       736\n",
      "weighted avg       0.88      0.87      0.87       736\n",
      "\n",
      "-----------------------------------------\n"
     ]
    },
    {
     "name": "stderr",
     "output_type": "stream",
     "text": [
      "100%|██████████| 75/75 [00:00<00:00, 260.99it/s]\n"
     ]
    },
    {
     "name": "stdout",
     "output_type": "stream",
     "text": [
      "beta =  0.3599999999999999\n",
      "              precision    recall  f1-score   support\n",
      "\n",
      "           0       0.35      0.46      0.40        71\n",
      "           1       0.94      0.91      0.93       665\n",
      "\n",
      "    accuracy                           0.87       736\n",
      "   macro avg       0.65      0.69      0.66       736\n",
      "weighted avg       0.88      0.87      0.87       736\n",
      "\n",
      "-----------------------------------------\n"
     ]
    },
    {
     "name": "stderr",
     "output_type": "stream",
     "text": [
      "100%|██████████| 75/75 [00:00<00:00, 205.04it/s]\n"
     ]
    },
    {
     "name": "stdout",
     "output_type": "stream",
     "text": [
      "beta =  0.3699999999999999\n",
      "              precision    recall  f1-score   support\n",
      "\n",
      "           0       0.35      0.46      0.40        71\n",
      "           1       0.94      0.91      0.93       665\n",
      "\n",
      "    accuracy                           0.87       736\n",
      "   macro avg       0.65      0.69      0.66       736\n",
      "weighted avg       0.88      0.87      0.87       736\n",
      "\n",
      "-----------------------------------------\n"
     ]
    },
    {
     "name": "stderr",
     "output_type": "stream",
     "text": [
      "100%|██████████| 75/75 [00:00<00:00, 188.59it/s]\n"
     ]
    },
    {
     "name": "stdout",
     "output_type": "stream",
     "text": [
      "beta =  0.3799999999999999\n",
      "              precision    recall  f1-score   support\n",
      "\n",
      "           0       0.35      0.46      0.40        71\n",
      "           1       0.94      0.91      0.93       665\n",
      "\n",
      "    accuracy                           0.87       736\n",
      "   macro avg       0.65      0.69      0.66       736\n",
      "weighted avg       0.88      0.87      0.87       736\n",
      "\n",
      "-----------------------------------------\n"
     ]
    },
    {
     "name": "stderr",
     "output_type": "stream",
     "text": [
      "100%|██████████| 75/75 [00:00<00:00, 218.08it/s]\n"
     ]
    },
    {
     "name": "stdout",
     "output_type": "stream",
     "text": [
      "beta =  0.3899999999999999\n",
      "              precision    recall  f1-score   support\n",
      "\n",
      "           0       0.35      0.46      0.40        71\n",
      "           1       0.94      0.91      0.93       665\n",
      "\n",
      "    accuracy                           0.87       736\n",
      "   macro avg       0.65      0.69      0.66       736\n",
      "weighted avg       0.88      0.87      0.87       736\n",
      "\n",
      "-----------------------------------------\n"
     ]
    },
    {
     "name": "stderr",
     "output_type": "stream",
     "text": [
      "100%|██████████| 75/75 [00:00<00:00, 273.84it/s]\n"
     ]
    },
    {
     "name": "stdout",
     "output_type": "stream",
     "text": [
      "beta =  0.3999999999999998\n",
      "              precision    recall  f1-score   support\n",
      "\n",
      "           0       0.35      0.46      0.40        71\n",
      "           1       0.94      0.91      0.93       665\n",
      "\n",
      "    accuracy                           0.87       736\n",
      "   macro avg       0.65      0.69      0.66       736\n",
      "weighted avg       0.88      0.87      0.87       736\n",
      "\n",
      "-----------------------------------------\n"
     ]
    },
    {
     "name": "stderr",
     "output_type": "stream",
     "text": [
      "100%|██████████| 75/75 [00:00<00:00, 351.31it/s]\n"
     ]
    },
    {
     "name": "stdout",
     "output_type": "stream",
     "text": [
      "beta =  0.4099999999999998\n",
      "              precision    recall  f1-score   support\n",
      "\n",
      "           0       0.35      0.46      0.40        71\n",
      "           1       0.94      0.91      0.93       665\n",
      "\n",
      "    accuracy                           0.87       736\n",
      "   macro avg       0.65      0.69      0.66       736\n",
      "weighted avg       0.88      0.87      0.87       736\n",
      "\n",
      "-----------------------------------------\n"
     ]
    },
    {
     "name": "stderr",
     "output_type": "stream",
     "text": [
      "100%|██████████| 75/75 [00:00<00:00, 350.79it/s]\n"
     ]
    },
    {
     "name": "stdout",
     "output_type": "stream",
     "text": [
      "beta =  0.4199999999999998\n",
      "              precision    recall  f1-score   support\n",
      "\n",
      "           0       0.35      0.46      0.40        71\n",
      "           1       0.94      0.91      0.93       665\n",
      "\n",
      "    accuracy                           0.87       736\n",
      "   macro avg       0.65      0.69      0.66       736\n",
      "weighted avg       0.88      0.87      0.87       736\n",
      "\n",
      "-----------------------------------------\n"
     ]
    },
    {
     "name": "stderr",
     "output_type": "stream",
     "text": [
      "100%|██████████| 75/75 [00:00<00:00, 374.34it/s]\n"
     ]
    },
    {
     "name": "stdout",
     "output_type": "stream",
     "text": [
      "beta =  0.4299999999999998\n",
      "              precision    recall  f1-score   support\n",
      "\n",
      "           0       0.35      0.46      0.40        71\n",
      "           1       0.94      0.91      0.93       665\n",
      "\n",
      "    accuracy                           0.87       736\n",
      "   macro avg       0.65      0.69      0.66       736\n",
      "weighted avg       0.88      0.87      0.87       736\n",
      "\n",
      "-----------------------------------------\n"
     ]
    },
    {
     "name": "stderr",
     "output_type": "stream",
     "text": [
      "100%|██████████| 75/75 [00:00<00:00, 360.24it/s]\n"
     ]
    },
    {
     "name": "stdout",
     "output_type": "stream",
     "text": [
      "beta =  0.43999999999999984\n",
      "              precision    recall  f1-score   support\n",
      "\n",
      "           0       0.35      0.46      0.40        71\n",
      "           1       0.94      0.91      0.93       665\n",
      "\n",
      "    accuracy                           0.87       736\n",
      "   macro avg       0.65      0.69      0.66       736\n",
      "weighted avg       0.88      0.87      0.87       736\n",
      "\n",
      "-----------------------------------------\n"
     ]
    },
    {
     "name": "stderr",
     "output_type": "stream",
     "text": [
      "100%|██████████| 75/75 [00:00<00:00, 370.48it/s]\n"
     ]
    },
    {
     "name": "stdout",
     "output_type": "stream",
     "text": [
      "beta =  0.44999999999999984\n",
      "              precision    recall  f1-score   support\n",
      "\n",
      "           0       0.35      0.46      0.40        71\n",
      "           1       0.94      0.91      0.93       665\n",
      "\n",
      "    accuracy                           0.87       736\n",
      "   macro avg       0.65      0.69      0.66       736\n",
      "weighted avg       0.88      0.87      0.87       736\n",
      "\n",
      "-----------------------------------------\n"
     ]
    },
    {
     "name": "stderr",
     "output_type": "stream",
     "text": [
      "100%|██████████| 75/75 [00:00<00:00, 394.52it/s]\n"
     ]
    },
    {
     "name": "stdout",
     "output_type": "stream",
     "text": [
      "beta =  0.45999999999999985\n",
      "              precision    recall  f1-score   support\n",
      "\n",
      "           0       0.35      0.46      0.40        71\n",
      "           1       0.94      0.91      0.93       665\n",
      "\n",
      "    accuracy                           0.87       736\n",
      "   macro avg       0.65      0.69      0.66       736\n",
      "weighted avg       0.88      0.87      0.87       736\n",
      "\n",
      "-----------------------------------------\n"
     ]
    },
    {
     "name": "stderr",
     "output_type": "stream",
     "text": [
      "100%|██████████| 75/75 [00:00<00:00, 329.07it/s]\n"
     ]
    },
    {
     "name": "stdout",
     "output_type": "stream",
     "text": [
      "beta =  0.46999999999999986\n",
      "              precision    recall  f1-score   support\n",
      "\n",
      "           0       0.35      0.46      0.40        71\n",
      "           1       0.94      0.91      0.93       665\n",
      "\n",
      "    accuracy                           0.87       736\n",
      "   macro avg       0.65      0.69      0.66       736\n",
      "weighted avg       0.88      0.87      0.87       736\n",
      "\n",
      "-----------------------------------------\n"
     ]
    },
    {
     "name": "stderr",
     "output_type": "stream",
     "text": [
      "100%|██████████| 75/75 [00:00<00:00, 336.49it/s]\n"
     ]
    },
    {
     "name": "stdout",
     "output_type": "stream",
     "text": [
      "beta =  0.47999999999999976\n",
      "              precision    recall  f1-score   support\n",
      "\n",
      "           0       0.35      0.46      0.40        71\n",
      "           1       0.94      0.91      0.93       665\n",
      "\n",
      "    accuracy                           0.87       736\n",
      "   macro avg       0.65      0.69      0.66       736\n",
      "weighted avg       0.88      0.87      0.87       736\n",
      "\n",
      "-----------------------------------------\n"
     ]
    },
    {
     "name": "stderr",
     "output_type": "stream",
     "text": [
      "100%|██████████| 75/75 [00:00<00:00, 349.96it/s]\n"
     ]
    },
    {
     "name": "stdout",
     "output_type": "stream",
     "text": [
      "beta =  0.48999999999999977\n",
      "              precision    recall  f1-score   support\n",
      "\n",
      "           0       0.35      0.46      0.40        71\n",
      "           1       0.94      0.91      0.93       665\n",
      "\n",
      "    accuracy                           0.87       736\n",
      "   macro avg       0.65      0.69      0.66       736\n",
      "weighted avg       0.88      0.87      0.87       736\n",
      "\n",
      "-----------------------------------------\n"
     ]
    },
    {
     "name": "stderr",
     "output_type": "stream",
     "text": [
      "100%|██████████| 75/75 [00:00<00:00, 302.39it/s]\n"
     ]
    },
    {
     "name": "stdout",
     "output_type": "stream",
     "text": [
      "beta =  0.4999999999999998\n",
      "              precision    recall  f1-score   support\n",
      "\n",
      "           0       0.35      0.46      0.40        71\n",
      "           1       0.94      0.91      0.93       665\n",
      "\n",
      "    accuracy                           0.87       736\n",
      "   macro avg       0.65      0.69      0.66       736\n",
      "weighted avg       0.88      0.87      0.87       736\n",
      "\n",
      "-----------------------------------------\n"
     ]
    },
    {
     "name": "stderr",
     "output_type": "stream",
     "text": [
      "100%|██████████| 75/75 [00:00<00:00, 373.32it/s]\n"
     ]
    },
    {
     "name": "stdout",
     "output_type": "stream",
     "text": [
      "beta =  0.5099999999999998\n",
      "              precision    recall  f1-score   support\n",
      "\n",
      "           0       0.35      0.46      0.40        71\n",
      "           1       0.94      0.91      0.93       665\n",
      "\n",
      "    accuracy                           0.87       736\n",
      "   macro avg       0.65      0.69      0.66       736\n",
      "weighted avg       0.88      0.87      0.87       736\n",
      "\n",
      "-----------------------------------------\n"
     ]
    },
    {
     "name": "stderr",
     "output_type": "stream",
     "text": [
      "100%|██████████| 75/75 [00:00<00:00, 348.79it/s]\n"
     ]
    },
    {
     "name": "stdout",
     "output_type": "stream",
     "text": [
      "beta =  0.5199999999999998\n",
      "              precision    recall  f1-score   support\n",
      "\n",
      "           0       0.35      0.46      0.40        71\n",
      "           1       0.94      0.91      0.93       665\n",
      "\n",
      "    accuracy                           0.87       736\n",
      "   macro avg       0.65      0.69      0.66       736\n",
      "weighted avg       0.88      0.87      0.87       736\n",
      "\n",
      "-----------------------------------------\n"
     ]
    },
    {
     "name": "stderr",
     "output_type": "stream",
     "text": [
      "100%|██████████| 75/75 [00:00<00:00, 300.44it/s]\n"
     ]
    },
    {
     "name": "stdout",
     "output_type": "stream",
     "text": [
      "beta =  0.5299999999999998\n",
      "              precision    recall  f1-score   support\n",
      "\n",
      "           0       0.35      0.46      0.40        71\n",
      "           1       0.94      0.91      0.93       665\n",
      "\n",
      "    accuracy                           0.87       736\n",
      "   macro avg       0.65      0.69      0.66       736\n",
      "weighted avg       0.88      0.87      0.87       736\n",
      "\n",
      "-----------------------------------------\n"
     ]
    },
    {
     "name": "stderr",
     "output_type": "stream",
     "text": [
      "100%|██████████| 75/75 [00:00<00:00, 357.93it/s]\n"
     ]
    },
    {
     "name": "stdout",
     "output_type": "stream",
     "text": [
      "beta =  0.5399999999999998\n",
      "              precision    recall  f1-score   support\n",
      "\n",
      "           0       0.35      0.46      0.40        71\n",
      "           1       0.94      0.91      0.93       665\n",
      "\n",
      "    accuracy                           0.87       736\n",
      "   macro avg       0.65      0.69      0.66       736\n",
      "weighted avg       0.88      0.87      0.87       736\n",
      "\n",
      "-----------------------------------------\n"
     ]
    },
    {
     "name": "stderr",
     "output_type": "stream",
     "text": [
      "100%|██████████| 75/75 [00:00<00:00, 371.21it/s]\n"
     ]
    },
    {
     "name": "stdout",
     "output_type": "stream",
     "text": [
      "beta =  0.5499999999999998\n",
      "              precision    recall  f1-score   support\n",
      "\n",
      "           0       0.35      0.46      0.40        71\n",
      "           1       0.94      0.91      0.93       665\n",
      "\n",
      "    accuracy                           0.87       736\n",
      "   macro avg       0.65      0.69      0.66       736\n",
      "weighted avg       0.88      0.87      0.87       736\n",
      "\n",
      "-----------------------------------------\n"
     ]
    },
    {
     "name": "stderr",
     "output_type": "stream",
     "text": [
      "100%|██████████| 75/75 [00:00<00:00, 311.93it/s]\n"
     ]
    },
    {
     "name": "stdout",
     "output_type": "stream",
     "text": [
      "beta =  0.5599999999999997\n",
      "              precision    recall  f1-score   support\n",
      "\n",
      "           0       0.36      0.44      0.39        71\n",
      "           1       0.94      0.92      0.93       665\n",
      "\n",
      "    accuracy                           0.87       736\n",
      "   macro avg       0.65      0.68      0.66       736\n",
      "weighted avg       0.88      0.87      0.88       736\n",
      "\n",
      "-----------------------------------------\n"
     ]
    },
    {
     "name": "stderr",
     "output_type": "stream",
     "text": [
      "100%|██████████| 75/75 [00:00<00:00, 366.84it/s]\n"
     ]
    },
    {
     "name": "stdout",
     "output_type": "stream",
     "text": [
      "beta =  0.5699999999999997\n",
      "              precision    recall  f1-score   support\n",
      "\n",
      "           0       0.36      0.44      0.39        71\n",
      "           1       0.94      0.92      0.93       665\n",
      "\n",
      "    accuracy                           0.87       736\n",
      "   macro avg       0.65      0.68      0.66       736\n",
      "weighted avg       0.88      0.87      0.88       736\n",
      "\n",
      "-----------------------------------------\n"
     ]
    },
    {
     "name": "stderr",
     "output_type": "stream",
     "text": [
      "100%|██████████| 75/75 [00:00<00:00, 369.47it/s]\n"
     ]
    },
    {
     "name": "stdout",
     "output_type": "stream",
     "text": [
      "beta =  0.5799999999999997\n",
      "              precision    recall  f1-score   support\n",
      "\n",
      "           0       0.36      0.44      0.39        71\n",
      "           1       0.94      0.92      0.93       665\n",
      "\n",
      "    accuracy                           0.87       736\n",
      "   macro avg       0.65      0.68      0.66       736\n",
      "weighted avg       0.88      0.87      0.88       736\n",
      "\n",
      "-----------------------------------------\n"
     ]
    },
    {
     "name": "stderr",
     "output_type": "stream",
     "text": [
      "100%|██████████| 75/75 [00:00<00:00, 360.04it/s]\n"
     ]
    },
    {
     "name": "stdout",
     "output_type": "stream",
     "text": [
      "beta =  0.5899999999999997\n",
      "              precision    recall  f1-score   support\n",
      "\n",
      "           0       0.36      0.44      0.39        71\n",
      "           1       0.94      0.92      0.93       665\n",
      "\n",
      "    accuracy                           0.87       736\n",
      "   macro avg       0.65      0.68      0.66       736\n",
      "weighted avg       0.88      0.87      0.88       736\n",
      "\n",
      "-----------------------------------------\n"
     ]
    },
    {
     "name": "stderr",
     "output_type": "stream",
     "text": [
      "100%|██████████| 75/75 [00:00<00:00, 341.45it/s]\n"
     ]
    },
    {
     "name": "stdout",
     "output_type": "stream",
     "text": [
      "beta =  0.5999999999999998\n",
      "              precision    recall  f1-score   support\n",
      "\n",
      "           0       0.36      0.44      0.39        71\n",
      "           1       0.94      0.92      0.93       665\n",
      "\n",
      "    accuracy                           0.87       736\n",
      "   macro avg       0.65      0.68      0.66       736\n",
      "weighted avg       0.88      0.87      0.88       736\n",
      "\n",
      "-----------------------------------------\n"
     ]
    },
    {
     "name": "stderr",
     "output_type": "stream",
     "text": [
      "100%|██████████| 75/75 [00:00<00:00, 338.89it/s]\n"
     ]
    },
    {
     "name": "stdout",
     "output_type": "stream",
     "text": [
      "beta =  0.6099999999999998\n",
      "              precision    recall  f1-score   support\n",
      "\n",
      "           0       0.36      0.44      0.39        71\n",
      "           1       0.94      0.92      0.93       665\n",
      "\n",
      "    accuracy                           0.87       736\n",
      "   macro avg       0.65      0.68      0.66       736\n",
      "weighted avg       0.88      0.87      0.88       736\n",
      "\n",
      "-----------------------------------------\n"
     ]
    },
    {
     "name": "stderr",
     "output_type": "stream",
     "text": [
      "100%|██████████| 75/75 [00:00<00:00, 315.88it/s]\n"
     ]
    },
    {
     "name": "stdout",
     "output_type": "stream",
     "text": [
      "beta =  0.6199999999999998\n",
      "              precision    recall  f1-score   support\n",
      "\n",
      "           0       0.36      0.44      0.39        71\n",
      "           1       0.94      0.92      0.93       665\n",
      "\n",
      "    accuracy                           0.87       736\n",
      "   macro avg       0.65      0.68      0.66       736\n",
      "weighted avg       0.88      0.87      0.88       736\n",
      "\n",
      "-----------------------------------------\n"
     ]
    },
    {
     "name": "stderr",
     "output_type": "stream",
     "text": [
      "100%|██████████| 75/75 [00:00<00:00, 345.39it/s]\n"
     ]
    },
    {
     "name": "stdout",
     "output_type": "stream",
     "text": [
      "beta =  0.6299999999999997\n",
      "              precision    recall  f1-score   support\n",
      "\n",
      "           0       0.36      0.44      0.39        71\n",
      "           1       0.94      0.92      0.93       665\n",
      "\n",
      "    accuracy                           0.87       736\n",
      "   macro avg       0.65      0.68      0.66       736\n",
      "weighted avg       0.88      0.87      0.88       736\n",
      "\n",
      "-----------------------------------------\n"
     ]
    },
    {
     "name": "stderr",
     "output_type": "stream",
     "text": [
      "100%|██████████| 75/75 [00:00<00:00, 376.11it/s]\n"
     ]
    },
    {
     "name": "stdout",
     "output_type": "stream",
     "text": [
      "beta =  0.6399999999999997\n",
      "              precision    recall  f1-score   support\n",
      "\n",
      "           0       0.37      0.31      0.34        71\n",
      "           1       0.93      0.94      0.94       665\n",
      "\n",
      "    accuracy                           0.88       736\n",
      "   macro avg       0.65      0.63      0.64       736\n",
      "weighted avg       0.87      0.88      0.88       736\n",
      "\n",
      "-----------------------------------------\n"
     ]
    },
    {
     "name": "stderr",
     "output_type": "stream",
     "text": [
      "100%|██████████| 75/75 [00:00<00:00, 381.65it/s]\n"
     ]
    },
    {
     "name": "stdout",
     "output_type": "stream",
     "text": [
      "beta =  0.6499999999999997\n",
      "              precision    recall  f1-score   support\n",
      "\n",
      "           0       0.50      0.08      0.14        71\n",
      "           1       0.91      0.99      0.95       665\n",
      "\n",
      "    accuracy                           0.90       736\n",
      "   macro avg       0.71      0.54      0.55       736\n",
      "weighted avg       0.87      0.90      0.87       736\n",
      "\n",
      "-----------------------------------------\n"
     ]
    },
    {
     "name": "stderr",
     "output_type": "stream",
     "text": [
      "100%|██████████| 75/75 [00:00<00:00, 316.85it/s]\n"
     ]
    },
    {
     "name": "stdout",
     "output_type": "stream",
     "text": [
      "beta =  0.6599999999999997\n",
      "              precision    recall  f1-score   support\n",
      "\n",
      "           0       0.50      0.08      0.14        71\n",
      "           1       0.91      0.99      0.95       665\n",
      "\n",
      "    accuracy                           0.90       736\n",
      "   macro avg       0.71      0.54      0.55       736\n",
      "weighted avg       0.87      0.90      0.87       736\n",
      "\n",
      "-----------------------------------------\n"
     ]
    },
    {
     "name": "stderr",
     "output_type": "stream",
     "text": [
      "100%|██████████| 75/75 [00:00<00:00, 379.45it/s]\n"
     ]
    },
    {
     "name": "stdout",
     "output_type": "stream",
     "text": [
      "beta =  0.6699999999999997\n",
      "              precision    recall  f1-score   support\n",
      "\n",
      "           0       0.50      0.08      0.14        71\n",
      "           1       0.91      0.99      0.95       665\n",
      "\n",
      "    accuracy                           0.90       736\n",
      "   macro avg       0.71      0.54      0.55       736\n",
      "weighted avg       0.87      0.90      0.87       736\n",
      "\n",
      "-----------------------------------------\n"
     ]
    },
    {
     "name": "stderr",
     "output_type": "stream",
     "text": [
      "100%|██████████| 75/75 [00:00<00:00, 333.73it/s]\n"
     ]
    },
    {
     "name": "stdout",
     "output_type": "stream",
     "text": [
      "beta =  0.6799999999999997\n",
      "              precision    recall  f1-score   support\n",
      "\n",
      "           0       0.50      0.08      0.14        71\n",
      "           1       0.91      0.99      0.95       665\n",
      "\n",
      "    accuracy                           0.90       736\n",
      "   macro avg       0.71      0.54      0.55       736\n",
      "weighted avg       0.87      0.90      0.87       736\n",
      "\n",
      "-----------------------------------------\n"
     ]
    },
    {
     "name": "stderr",
     "output_type": "stream",
     "text": [
      "100%|██████████| 75/75 [00:00<00:00, 313.87it/s]\n"
     ]
    },
    {
     "name": "stdout",
     "output_type": "stream",
     "text": [
      "beta =  0.6899999999999997\n",
      "              precision    recall  f1-score   support\n",
      "\n",
      "           0       0.50      0.08      0.14        71\n",
      "           1       0.91      0.99      0.95       665\n",
      "\n",
      "    accuracy                           0.90       736\n",
      "   macro avg       0.71      0.54      0.55       736\n",
      "weighted avg       0.87      0.90      0.87       736\n",
      "\n",
      "-----------------------------------------\n"
     ]
    },
    {
     "name": "stderr",
     "output_type": "stream",
     "text": [
      "100%|██████████| 75/75 [00:00<00:00, 331.61it/s]\n"
     ]
    },
    {
     "name": "stdout",
     "output_type": "stream",
     "text": [
      "beta =  0.6999999999999996\n",
      "              precision    recall  f1-score   support\n",
      "\n",
      "           0       0.50      0.08      0.14        71\n",
      "           1       0.91      0.99      0.95       665\n",
      "\n",
      "    accuracy                           0.90       736\n",
      "   macro avg       0.71      0.54      0.55       736\n",
      "weighted avg       0.87      0.90      0.87       736\n",
      "\n",
      "-----------------------------------------\n"
     ]
    },
    {
     "name": "stderr",
     "output_type": "stream",
     "text": [
      "100%|██████████| 75/75 [00:00<00:00, 384.87it/s]\n"
     ]
    },
    {
     "name": "stdout",
     "output_type": "stream",
     "text": [
      "beta =  0.7099999999999996\n",
      "              precision    recall  f1-score   support\n",
      "\n",
      "           0       0.50      0.08      0.14        71\n",
      "           1       0.91      0.99      0.95       665\n",
      "\n",
      "    accuracy                           0.90       736\n",
      "   macro avg       0.71      0.54      0.55       736\n",
      "weighted avg       0.87      0.90      0.87       736\n",
      "\n",
      "-----------------------------------------\n"
     ]
    },
    {
     "name": "stderr",
     "output_type": "stream",
     "text": [
      "100%|██████████| 75/75 [00:00<00:00, 208.47it/s]\n"
     ]
    },
    {
     "name": "stdout",
     "output_type": "stream",
     "text": [
      "beta =  0.7199999999999996\n",
      "              precision    recall  f1-score   support\n",
      "\n",
      "           0       0.50      0.08      0.14        71\n",
      "           1       0.91      0.99      0.95       665\n",
      "\n",
      "    accuracy                           0.90       736\n",
      "   macro avg       0.71      0.54      0.55       736\n",
      "weighted avg       0.87      0.90      0.87       736\n",
      "\n",
      "-----------------------------------------\n"
     ]
    },
    {
     "name": "stderr",
     "output_type": "stream",
     "text": [
      "100%|██████████| 75/75 [00:00<00:00, 230.84it/s]\n"
     ]
    },
    {
     "name": "stdout",
     "output_type": "stream",
     "text": [
      "beta =  0.7299999999999996\n",
      "              precision    recall  f1-score   support\n",
      "\n",
      "           0       0.50      0.08      0.14        71\n",
      "           1       0.91      0.99      0.95       665\n",
      "\n",
      "    accuracy                           0.90       736\n",
      "   macro avg       0.71      0.54      0.55       736\n",
      "weighted avg       0.87      0.90      0.87       736\n",
      "\n",
      "-----------------------------------------\n"
     ]
    },
    {
     "name": "stderr",
     "output_type": "stream",
     "text": [
      "100%|██████████| 75/75 [00:00<00:00, 230.79it/s]\n"
     ]
    },
    {
     "name": "stdout",
     "output_type": "stream",
     "text": [
      "beta =  0.7399999999999997\n",
      "              precision    recall  f1-score   support\n",
      "\n",
      "           0       0.50      0.08      0.14        71\n",
      "           1       0.91      0.99      0.95       665\n",
      "\n",
      "    accuracy                           0.90       736\n",
      "   macro avg       0.71      0.54      0.55       736\n",
      "weighted avg       0.87      0.90      0.87       736\n",
      "\n",
      "-----------------------------------------\n"
     ]
    },
    {
     "name": "stderr",
     "output_type": "stream",
     "text": [
      "100%|██████████| 75/75 [00:00<00:00, 210.08it/s]\n"
     ]
    },
    {
     "name": "stdout",
     "output_type": "stream",
     "text": [
      "beta =  0.7499999999999997\n",
      "              precision    recall  f1-score   support\n",
      "\n",
      "           0       0.50      0.08      0.14        71\n",
      "           1       0.91      0.99      0.95       665\n",
      "\n",
      "    accuracy                           0.90       736\n",
      "   macro avg       0.71      0.54      0.55       736\n",
      "weighted avg       0.87      0.90      0.87       736\n",
      "\n",
      "-----------------------------------------\n"
     ]
    },
    {
     "name": "stderr",
     "output_type": "stream",
     "text": [
      "100%|██████████| 75/75 [00:00<00:00, 197.69it/s]\n"
     ]
    },
    {
     "name": "stdout",
     "output_type": "stream",
     "text": [
      "beta =  0.7599999999999997\n",
      "              precision    recall  f1-score   support\n",
      "\n",
      "           0       0.50      0.08      0.14        71\n",
      "           1       0.91      0.99      0.95       665\n",
      "\n",
      "    accuracy                           0.90       736\n",
      "   macro avg       0.71      0.54      0.55       736\n",
      "weighted avg       0.87      0.90      0.87       736\n",
      "\n",
      "-----------------------------------------\n"
     ]
    },
    {
     "name": "stderr",
     "output_type": "stream",
     "text": [
      "100%|██████████| 75/75 [00:00<00:00, 265.51it/s]\n"
     ]
    },
    {
     "name": "stdout",
     "output_type": "stream",
     "text": [
      "beta =  0.7699999999999997\n",
      "              precision    recall  f1-score   support\n",
      "\n",
      "           0       0.50      0.08      0.14        71\n",
      "           1       0.91      0.99      0.95       665\n",
      "\n",
      "    accuracy                           0.90       736\n",
      "   macro avg       0.71      0.54      0.55       736\n",
      "weighted avg       0.87      0.90      0.87       736\n",
      "\n",
      "-----------------------------------------\n"
     ]
    },
    {
     "name": "stderr",
     "output_type": "stream",
     "text": [
      "100%|██████████| 75/75 [00:00<00:00, 322.11it/s]\n"
     ]
    },
    {
     "name": "stdout",
     "output_type": "stream",
     "text": [
      "beta =  0.7799999999999997\n",
      "              precision    recall  f1-score   support\n",
      "\n",
      "           0       0.50      0.08      0.14        71\n",
      "           1       0.91      0.99      0.95       665\n",
      "\n",
      "    accuracy                           0.90       736\n",
      "   macro avg       0.71      0.54      0.55       736\n",
      "weighted avg       0.87      0.90      0.87       736\n",
      "\n",
      "-----------------------------------------\n"
     ]
    },
    {
     "name": "stderr",
     "output_type": "stream",
     "text": [
      "100%|██████████| 75/75 [00:00<00:00, 326.30it/s]\n"
     ]
    },
    {
     "name": "stdout",
     "output_type": "stream",
     "text": [
      "beta =  0.7899999999999996\n",
      "              precision    recall  f1-score   support\n",
      "\n",
      "           0       0.50      0.08      0.14        71\n",
      "           1       0.91      0.99      0.95       665\n",
      "\n",
      "    accuracy                           0.90       736\n",
      "   macro avg       0.71      0.54      0.55       736\n",
      "weighted avg       0.87      0.90      0.87       736\n",
      "\n",
      "-----------------------------------------\n"
     ]
    }
   ],
   "source": [
    "# Exploring different beta parameters for F-score\n",
    "for beta in np.arange(0.1, 0.8, 0.01) :\n",
    "  gap = 0.1\n",
    "  threshold_list = list(np.arange(0, max_sentiment, gap))\n",
    "\n",
    "  threshold_accuracy_dict = define_threshold(tweet_annotation_sentiment_distance, threshold_list, metric=\"f-score\", beta=beta)\n",
    "\n",
    "  best_threshold = max(threshold_accuracy_dict, key=threshold_accuracy_dict.get)\n",
    "  df['prediction'] = None\n",
    "  df['correct'] = None\n",
    "  df['sentiment distance'] = None\n",
    "  for i in range(df.shape[0]):\n",
    "    df.at[i, 'sentiment distance'] = tweet_annotation_sentiment_distance[i][2]\n",
    "    df.at[i, 'prediction'] = int(is_sarc(df['sentiment distance'][i], best_threshold))\n",
    "    df.at[i, 'correct'] = int(df.at[i, 'prediction'] ==df.at[i, 'sarcastic'])\n",
    "  print('beta = ', beta)\n",
    "  print(classification_report(df['sarcastic'].to_list(), df['prediction'].to_list(), zero_division=0))\n",
    "  print(\"-----------------------------------------\")\n"
   ]
  },
  {
   "cell_type": "code",
   "execution_count": null,
   "metadata": {
    "colab": {
     "base_uri": "https://localhost:8080/",
     "height": 564
    },
    "executionInfo": {
     "elapsed": 573,
     "status": "ok",
     "timestamp": 1735309646902,
     "user": {
      "displayName": "Ivaylo Mitov",
      "userId": "02045773347946630217"
     },
     "user_tz": -120
    },
    "id": "hw7M19FJUHhN",
    "outputId": "83d15a78-09ff-4a8a-d536-d6cc19082c0e"
   },
   "outputs": [
    {
     "data": {
      "image/png": "[encoded data removed]",
      "text/plain": [
       "<Figure size 800x600 with 1 Axes>"
      ]
     },
     "metadata": {},
     "output_type": "display_data"
    }
   ],
   "source": [
    "from sklearn.metrics import roc_curve, roc_auc_score\n",
    "\n",
    "fpr, tpr, thresholds = roc_curve(df_test['sarcastic'], df_test['prediction'])\n",
    "\n",
    "# Plot ROC curve\n",
    "plt.figure(figsize=(8, 6))\n",
    "plt.plot(fpr, tpr, label=f\"ROC Curve (AUC = {roc_auc_score(df_test['sarcastic'], df_test['prediction'])})\", color=\"blue\")\n",
    "plt.plot([0, 1], [0, 1], \"k--\", label=\"Random Model (AUC = 0.5)\")\n",
    "plt.xlabel(\"False Positive Rate (FPR)\")\n",
    "plt.ylabel(\"True Positive Rate (TPR)\")\n",
    "plt.title(\"ROC Curve\")\n",
    "plt.legend(loc=\"lower right\")\n",
    "plt.show()"
   ]
  },
  {
   "cell_type": "code",
   "execution_count": null,
   "metadata": {
    "colab": {
     "base_uri": "https://localhost:8080/"
    },
    "executionInfo": {
     "elapsed": 150243,
     "status": "ok",
     "timestamp": 1735395532625,
     "user": {
      "displayName": "Samba Fall",
      "userId": "17845594153074474775"
     },
     "user_tz": -60
    },
    "id": "7bkCZL10l6Io",
    "outputId": "ba8e3d77-4442-47b2-bbdd-fe2844112267"
   },
   "outputs": [
    {
     "name": "stderr",
     "output_type": "stream",
     "text": [
      "100%|██████████| 588/588 [02:28<00:00,  3.97it/s]\n",
      "100%|██████████| 731/731 [00:01<00:00, 375.65it/s]"
     ]
    },
    {
     "name": "stdout",
     "output_type": "stream",
     "text": [
      "Best threshold: 1.1500000000000001\n",
      "F-0.3 score: 0.9354590856703804\n"
     ]
    },
    {
     "name": "stderr",
     "output_type": "stream",
     "text": [
      "\n"
     ]
    }
   ],
   "source": [
    "#train\n",
    "tweet_annotation_sentiment_distance, max_sentiment = get_sentiment_distance(df_train['modified_tweet'], df_train['sarcastic'], df_train['exp'], method=\"contextual\")\n",
    "\n",
    "\n",
    "gap = 0.01\n",
    "threshold_list = list(np.arange(0, max_sentiment, gap))\n",
    "\n",
    "threshold_accuracy_dict = define_threshold(tweet_annotation_sentiment_distance, threshold_list, metric=\"f-score\")\n",
    "\n",
    "best_threshold = max(threshold_accuracy_dict, key=threshold_accuracy_dict.get)\n",
    "print(\"Best threshold:\", best_threshold)\n",
    "print(\"F-0.3 score:\", threshold_accuracy_dict[best_threshold])\n"
   ]
  }
 ],
 "metadata": {
  "colab": {
   "provenance": [
    {
     "file_id": "1UWDNYCrnazWxfZ4Lh16g3lQt9KoXSa0k",
     "timestamp": 1729265331715
    }
   ],
   "toc_visible": true
  },
  "kernelspec": {
   "display_name": "Python 3",
   "name": "python3"
  },
  "language_info": {
   "name": "python"
  },
  "widgets": {
   "application/vnd.jupyter.widget-state+json": {
    "00beb3cbd979445e94ec5fe6905f1ff4": {
     "model_module": "@jupyter-widgets/controls",
     "model_module_version": "1.5.0",
     "model_name": "DescriptionStyleModel",
     "state": {
      "_model_module": "@jupyter-widgets/controls",
      "_model_module_version": "1.5.0",
      "_model_name": "DescriptionStyleModel",
      "_view_count": null,
      "_view_module": "@jupyter-widgets/base",
      "_view_module_version": "1.2.0",
      "_view_name": "StyleView",
      "description_width": ""
     }
    },
    "0e53593846e743409e2483194e51ca8d": {
     "model_module": "@jupyter-widgets/controls",
     "model_module_version": "1.5.0",
     "model_name": "HTMLModel",
     "state": {
      "_dom_classes": [],
      "_model_module": "@jupyter-widgets/controls",
      "_model_module_version": "1.5.0",
      "_model_name": "HTMLModel",
      "_view_count": null,
      "_view_module": "@jupyter-widgets/controls",
      "_view_module_version": "1.5.0",
      "_view_name": "HTMLView",
      "description": "",
      "description_tooltip": null,
      "layout": "IPY_MODEL_b28e0567976f4289b78535ddd3346f84",
      "placeholder": "​",
      "style": "IPY_MODEL_00beb3cbd979445e94ec5fe6905f1ff4",
      "value": " 501M/501M [00:04&lt;00:00, 140MB/s]"
     }
    },
    "12c81cfd9e8c4f5b971d290e887f3016": {
     "model_module": "@jupyter-widgets/base",
     "model_module_version": "1.2.0",
     "model_name": "LayoutModel",
     "state": {
      "_model_module": "@jupyter-widgets/base",
      "_model_module_version": "1.2.0",
      "_model_name": "LayoutModel",
      "_view_count": null,
      "_view_module": "@jupyter-widgets/base",
      "_view_module_version": "1.2.0",
      "_view_name": "LayoutView",
      "align_content": null,
      "align_items": null,
      "align_self": null,
      "border": null,
      "bottom": null,
      "display": null,
      "flex": null,
      "flex_flow": null,
      "grid_area": null,
      "grid_auto_columns": null,
      "grid_auto_flow": null,
      "grid_auto_rows": null,
      "grid_column": null,
      "grid_gap": null,
      "grid_row": null,
      "grid_template_areas": null,
      "grid_template_columns": null,
      "grid_template_rows": null,
      "height": null,
      "justify_content": null,
      "justify_items": null,
      "left": null,
      "margin": null,
      "max_height": null,
      "max_width": null,
      "min_height": null,
      "min_width": null,
      "object_fit": null,
      "object_position": null,
      "order": null,
      "overflow": null,
      "overflow_x": null,
      "overflow_y": null,
      "padding": null,
      "right": null,
      "top": null,
      "visibility": null,
      "width": null
     }
    },
    "1c950cf1ec3a4c9aa1e93abe81721546": {
     "model_module": "@jupyter-widgets/base",
     "model_module_version": "1.2.0",
     "model_name": "LayoutModel",
     "state": {
      "_model_module": "@jupyter-widgets/base",
      "_model_module_version": "1.2.0",
      "_model_name": "LayoutModel",
      "_view_count": null,
      "_view_module": "@jupyter-widgets/base",
      "_view_module_version": "1.2.0",
      "_view_name": "LayoutView",
      "align_content": null,
      "align_items": null,
      "align_self": null,
      "border": null,
      "bottom": null,
      "display": null,
      "flex": null,
      "flex_flow": null,
      "grid_area": null,
      "grid_auto_columns": null,
      "grid_auto_flow": null,
      "grid_auto_rows": null,
      "grid_column": null,
      "grid_gap": null,
      "grid_row": null,
      "grid_template_areas": null,
      "grid_template_columns": null,
      "grid_template_rows": null,
      "height": null,
      "justify_content": null,
      "justify_items": null,
      "left": null,
      "margin": null,
      "max_height": null,
      "max_width": null,
      "min_height": null,
      "min_width": null,
      "object_fit": null,
      "object_position": null,
      "order": null,
      "overflow": null,
      "overflow_x": null,
      "overflow_y": null,
      "padding": null,
      "right": null,
      "top": null,
      "visibility": null,
      "width": null
     }
    },
    "2bf9c123bdf94a68acdf76599fe6add2": {
     "model_module": "@jupyter-widgets/base",
     "model_module_version": "1.2.0",
     "model_name": "LayoutModel",
     "state": {
      "_model_module": "@jupyter-widgets/base",
      "_model_module_version": "1.2.0",
      "_model_name": "LayoutModel",
      "_view_count": null,
      "_view_module": "@jupyter-widgets/base",
      "_view_module_version": "1.2.0",
      "_view_name": "LayoutView",
      "align_content": null,
      "align_items": null,
      "align_self": null,
      "border": null,
      "bottom": null,
      "display": null,
      "flex": null,
      "flex_flow": null,
      "grid_area": null,
      "grid_auto_columns": null,
      "grid_auto_flow": null,
      "grid_auto_rows": null,
      "grid_column": null,
      "grid_gap": null,
      "grid_row": null,
      "grid_template_areas": null,
      "grid_template_columns": null,
      "grid_template_rows": null,
      "height": null,
      "justify_content": null,
      "justify_items": null,
      "left": null,
      "margin": null,
      "max_height": null,
      "max_width": null,
      "min_height": null,
      "min_width": null,
      "object_fit": null,
      "object_position": null,
      "order": null,
      "overflow": null,
      "overflow_x": null,
      "overflow_y": null,
      "padding": null,
      "right": null,
      "top": null,
      "visibility": null,
      "width": null
     }
    },
    "2cbe2d94d3fe4b16bf86e0d705b6a926": {
     "model_module": "@jupyter-widgets/base",
     "model_module_version": "1.2.0",
     "model_name": "LayoutModel",
     "state": {
      "_model_module": "@jupyter-widgets/base",
      "_model_module_version": "1.2.0",
      "_model_name": "LayoutModel",
      "_view_count": null,
      "_view_module": "@jupyter-widgets/base",
      "_view_module_version": "1.2.0",
      "_view_name": "LayoutView",
      "align_content": null,
      "align_items": null,
      "align_self": null,
      "border": null,
      "bottom": null,
      "display": null,
      "flex": null,
      "flex_flow": null,
      "grid_area": null,
      "grid_auto_columns": null,
      "grid_auto_flow": null,
      "grid_auto_rows": null,
      "grid_column": null,
      "grid_gap": null,
      "grid_row": null,
      "grid_template_areas": null,
      "grid_template_columns": null,
      "grid_template_rows": null,
      "height": null,
      "justify_content": null,
      "justify_items": null,
      "left": null,
      "margin": null,
      "max_height": null,
      "max_width": null,
      "min_height": null,
      "min_width": null,
      "object_fit": null,
      "object_position": null,
      "order": null,
      "overflow": null,
      "overflow_x": null,
      "overflow_y": null,
      "padding": null,
      "right": null,
      "top": null,
      "visibility": null,
      "width": null
     }
    },
    "32f3a5d0444b4dff83bea9658264f8fa": {
     "model_module": "@jupyter-widgets/base",
     "model_module_version": "1.2.0",
     "model_name": "LayoutModel",
     "state": {
      "_model_module": "@jupyter-widgets/base",
      "_model_module_version": "1.2.0",
      "_model_name": "LayoutModel",
      "_view_count": null,
      "_view_module": "@jupyter-widgets/base",
      "_view_module_version": "1.2.0",
      "_view_name": "LayoutView",
      "align_content": null,
      "align_items": null,
      "align_self": null,
      "border": null,
      "bottom": null,
      "display": null,
      "flex": null,
      "flex_flow": null,
      "grid_area": null,
      "grid_auto_columns": null,
      "grid_auto_flow": null,
      "grid_auto_rows": null,
      "grid_column": null,
      "grid_gap": null,
      "grid_row": null,
      "grid_template_areas": null,
      "grid_template_columns": null,
      "grid_template_rows": null,
      "height": null,
      "justify_content": null,
      "justify_items": null,
      "left": null,
      "margin": null,
      "max_height": null,
      "max_width": null,
      "min_height": null,
      "min_width": null,
      "object_fit": null,
      "object_position": null,
      "order": null,
      "overflow": null,
      "overflow_x": null,
      "overflow_y": null,
      "padding": null,
      "right": null,
      "top": null,
      "visibility": null,
      "width": null
     }
    },
    "380659609d184944a48095de7cf309ac": {
     "model_module": "@jupyter-widgets/controls",
     "model_module_version": "1.5.0",
     "model_name": "FloatProgressModel",
     "state": {
      "_dom_classes": [],
      "_model_module": "@jupyter-widgets/controls",
      "_model_module_version": "1.5.0",
      "_model_name": "FloatProgressModel",
      "_view_count": null,
      "_view_module": "@jupyter-widgets/controls",
      "_view_module_version": "1.5.0",
      "_view_name": "ProgressView",
      "bar_style": "success",
      "description": "",
      "description_tooltip": null,
      "layout": "IPY_MODEL_a4f1b0725c454a938fc5094e6cf64c7b",
      "max": 929,
      "min": 0,
      "orientation": "horizontal",
      "style": "IPY_MODEL_a0461ca6c92f44d097ade7ffca916fd9",
      "value": 929
     }
    },
    "3ae65b27640948deb375986dcafe8696": {
     "model_module": "@jupyter-widgets/controls",
     "model_module_version": "1.5.0",
     "model_name": "HTMLModel",
     "state": {
      "_dom_classes": [],
      "_model_module": "@jupyter-widgets/controls",
      "_model_module_version": "1.5.0",
      "_model_name": "HTMLModel",
      "_view_count": null,
      "_view_module": "@jupyter-widgets/controls",
      "_view_module_version": "1.5.0",
      "_view_name": "HTMLView",
      "description": "",
      "description_tooltip": null,
      "layout": "IPY_MODEL_91746449c3ce476b8f06622fbf268d94",
      "placeholder": "​",
      "style": "IPY_MODEL_bf02863d22b8433e8ae965f230beeb88",
      "value": "vocab.json: 100%"
     }
    },
    "4c396a06bac84a1a9d48e8077261513f": {
     "model_module": "@jupyter-widgets/controls",
     "model_module_version": "1.5.0",
     "model_name": "DescriptionStyleModel",
     "state": {
      "_model_module": "@jupyter-widgets/controls",
      "_model_module_version": "1.5.0",
      "_model_name": "DescriptionStyleModel",
      "_view_count": null,
      "_view_module": "@jupyter-widgets/base",
      "_view_module_version": "1.2.0",
      "_view_name": "StyleView",
      "description_width": ""
     }
    },
    "51d092280a2b440bb3c0b769bf484b80": {
     "model_module": "@jupyter-widgets/controls",
     "model_module_version": "1.5.0",
     "model_name": "HBoxModel",
     "state": {
      "_dom_classes": [],
      "_model_module": "@jupyter-widgets/controls",
      "_model_module_version": "1.5.0",
      "_model_name": "HBoxModel",
      "_view_count": null,
      "_view_module": "@jupyter-widgets/controls",
      "_view_module_version": "1.5.0",
      "_view_name": "HBoxView",
      "box_style": "",
      "children": [
       "IPY_MODEL_3ae65b27640948deb375986dcafe8696",
       "IPY_MODEL_5bdad685675840fb99b380698f382230",
       "IPY_MODEL_ffc0e662f2f94459b8deded5758c0993"
      ],
      "layout": "IPY_MODEL_a327c4da381544f38d9660f499cdf91f"
     }
    },
    "57a5f664bb024d91a3441ddd0a8f4cb2": {
     "model_module": "@jupyter-widgets/controls",
     "model_module_version": "1.5.0",
     "model_name": "HTMLModel",
     "state": {
      "_dom_classes": [],
      "_model_module": "@jupyter-widgets/controls",
      "_model_module_version": "1.5.0",
      "_model_name": "HTMLModel",
      "_view_count": null,
      "_view_module": "@jupyter-widgets/controls",
      "_view_module_version": "1.5.0",
      "_view_name": "HTMLView",
      "description": "",
      "description_tooltip": null,
      "layout": "IPY_MODEL_fc132af226424b3bacd9e6462d27cda0",
      "placeholder": "​",
      "style": "IPY_MODEL_b9e2f259af1842c6ba54fd5b81c05bf9",
      "value": " 456k/456k [00:00&lt;00:00, 1.29MB/s]"
     }
    },
    "5bdad685675840fb99b380698f382230": {
     "model_module": "@jupyter-widgets/controls",
     "model_module_version": "1.5.0",
     "model_name": "FloatProgressModel",
     "state": {
      "_dom_classes": [],
      "_model_module": "@jupyter-widgets/controls",
      "_model_module_version": "1.5.0",
      "_model_name": "FloatProgressModel",
      "_view_count": null,
      "_view_module": "@jupyter-widgets/controls",
      "_view_module_version": "1.5.0",
      "_view_name": "ProgressView",
      "bar_style": "success",
      "description": "",
      "description_tooltip": null,
      "layout": "IPY_MODEL_bfb4de0dafe64e0ab1832ce85616180d",
      "max": 898822,
      "min": 0,
      "orientation": "horizontal",
      "style": "IPY_MODEL_f1febe1225b34a34a37292e411131655",
      "value": 898822
     }
    },
    "6ce0288b1dba4ffa89b6b2c6d247cbc5": {
     "model_module": "@jupyter-widgets/base",
     "model_module_version": "1.2.0",
     "model_name": "LayoutModel",
     "state": {
      "_model_module": "@jupyter-widgets/base",
      "_model_module_version": "1.2.0",
      "_model_name": "LayoutModel",
      "_view_count": null,
      "_view_module": "@jupyter-widgets/base",
      "_view_module_version": "1.2.0",
      "_view_name": "LayoutView",
      "align_content": null,
      "align_items": null,
      "align_self": null,
      "border": null,
      "bottom": null,
      "display": null,
      "flex": null,
      "flex_flow": null,
      "grid_area": null,
      "grid_auto_columns": null,
      "grid_auto_flow": null,
      "grid_auto_rows": null,
      "grid_column": null,
      "grid_gap": null,
      "grid_row": null,
      "grid_template_areas": null,
      "grid_template_columns": null,
      "grid_template_rows": null,
      "height": null,
      "justify_content": null,
      "justify_items": null,
      "left": null,
      "margin": null,
      "max_height": null,
      "max_width": null,
      "min_height": null,
      "min_width": null,
      "object_fit": null,
      "object_position": null,
      "order": null,
      "overflow": null,
      "overflow_x": null,
      "overflow_y": null,
      "padding": null,
      "right": null,
      "top": null,
      "visibility": null,
      "width": null
     }
    },
    "6e0a48a7bc84458d98efa0fb42a813a5": {
     "model_module": "@jupyter-widgets/controls",
     "model_module_version": "1.5.0",
     "model_name": "DescriptionStyleModel",
     "state": {
      "_model_module": "@jupyter-widgets/controls",
      "_model_module_version": "1.5.0",
      "_model_name": "DescriptionStyleModel",
      "_view_count": null,
      "_view_module": "@jupyter-widgets/base",
      "_view_module_version": "1.2.0",
      "_view_name": "StyleView",
      "description_width": ""
     }
    },
    "714407fba9cf44e9a7ed8f576de56fa4": {
     "model_module": "@jupyter-widgets/base",
     "model_module_version": "1.2.0",
     "model_name": "LayoutModel",
     "state": {
      "_model_module": "@jupyter-widgets/base",
      "_model_module_version": "1.2.0",
      "_model_name": "LayoutModel",
      "_view_count": null,
      "_view_module": "@jupyter-widgets/base",
      "_view_module_version": "1.2.0",
      "_view_name": "LayoutView",
      "align_content": null,
      "align_items": null,
      "align_self": null,
      "border": null,
      "bottom": null,
      "display": null,
      "flex": null,
      "flex_flow": null,
      "grid_area": null,
      "grid_auto_columns": null,
      "grid_auto_flow": null,
      "grid_auto_rows": null,
      "grid_column": null,
      "grid_gap": null,
      "grid_row": null,
      "grid_template_areas": null,
      "grid_template_columns": null,
      "grid_template_rows": null,
      "height": null,
      "justify_content": null,
      "justify_items": null,
      "left": null,
      "margin": null,
      "max_height": null,
      "max_width": null,
      "min_height": null,
      "min_width": null,
      "object_fit": null,
      "object_position": null,
      "order": null,
      "overflow": null,
      "overflow_x": null,
      "overflow_y": null,
      "padding": null,
      "right": null,
      "top": null,
      "visibility": null,
      "width": null
     }
    },
    "71e68170887c4190818d7acc59d45604": {
     "model_module": "@jupyter-widgets/base",
     "model_module_version": "1.2.0",
     "model_name": "LayoutModel",
     "state": {
      "_model_module": "@jupyter-widgets/base",
      "_model_module_version": "1.2.0",
      "_model_name": "LayoutModel",
      "_view_count": null,
      "_view_module": "@jupyter-widgets/base",
      "_view_module_version": "1.2.0",
      "_view_name": "LayoutView",
      "align_content": null,
      "align_items": null,
      "align_self": null,
      "border": null,
      "bottom": null,
      "display": null,
      "flex": null,
      "flex_flow": null,
      "grid_area": null,
      "grid_auto_columns": null,
      "grid_auto_flow": null,
      "grid_auto_rows": null,
      "grid_column": null,
      "grid_gap": null,
      "grid_row": null,
      "grid_template_areas": null,
      "grid_template_columns": null,
      "grid_template_rows": null,
      "height": null,
      "justify_content": null,
      "justify_items": null,
      "left": null,
      "margin": null,
      "max_height": null,
      "max_width": null,
      "min_height": null,
      "min_width": null,
      "object_fit": null,
      "object_position": null,
      "order": null,
      "overflow": null,
      "overflow_x": null,
      "overflow_y": null,
      "padding": null,
      "right": null,
      "top": null,
      "visibility": null,
      "width": null
     }
    },
    "76e7bc8c6a9b46f79d348148d7dcface": {
     "model_module": "@jupyter-widgets/base",
     "model_module_version": "1.2.0",
     "model_name": "LayoutModel",
     "state": {
      "_model_module": "@jupyter-widgets/base",
      "_model_module_version": "1.2.0",
      "_model_name": "LayoutModel",
      "_view_count": null,
      "_view_module": "@jupyter-widgets/base",
      "_view_module_version": "1.2.0",
      "_view_name": "LayoutView",
      "align_content": null,
      "align_items": null,
      "align_self": null,
      "border": null,
      "bottom": null,
      "display": null,
      "flex": null,
      "flex_flow": null,
      "grid_area": null,
      "grid_auto_columns": null,
      "grid_auto_flow": null,
      "grid_auto_rows": null,
      "grid_column": null,
      "grid_gap": null,
      "grid_row": null,
      "grid_template_areas": null,
      "grid_template_columns": null,
      "grid_template_rows": null,
      "height": null,
      "justify_content": null,
      "justify_items": null,
      "left": null,
      "margin": null,
      "max_height": null,
      "max_width": null,
      "min_height": null,
      "min_width": null,
      "object_fit": null,
      "object_position": null,
      "order": null,
      "overflow": null,
      "overflow_x": null,
      "overflow_y": null,
      "padding": null,
      "right": null,
      "top": null,
      "visibility": null,
      "width": null
     }
    },
    "7db06957435048ad9bd77ae6e5c54727": {
     "model_module": "@jupyter-widgets/controls",
     "model_module_version": "1.5.0",
     "model_name": "ProgressStyleModel",
     "state": {
      "_model_module": "@jupyter-widgets/controls",
      "_model_module_version": "1.5.0",
      "_model_name": "ProgressStyleModel",
      "_view_count": null,
      "_view_module": "@jupyter-widgets/base",
      "_view_module_version": "1.2.0",
      "_view_name": "StyleView",
      "bar_color": null,
      "description_width": ""
     }
    },
    "87d2a81a96514a4dad12b0e921a20a33": {
     "model_module": "@jupyter-widgets/controls",
     "model_module_version": "1.5.0",
     "model_name": "ProgressStyleModel",
     "state": {
      "_model_module": "@jupyter-widgets/controls",
      "_model_module_version": "1.5.0",
      "_model_name": "ProgressStyleModel",
      "_view_count": null,
      "_view_module": "@jupyter-widgets/base",
      "_view_module_version": "1.2.0",
      "_view_name": "StyleView",
      "bar_color": null,
      "description_width": ""
     }
    },
    "87dc9a16cb584dc4aa6bc3270207dd40": {
     "model_module": "@jupyter-widgets/base",
     "model_module_version": "1.2.0",
     "model_name": "LayoutModel",
     "state": {
      "_model_module": "@jupyter-widgets/base",
      "_model_module_version": "1.2.0",
      "_model_name": "LayoutModel",
      "_view_count": null,
      "_view_module": "@jupyter-widgets/base",
      "_view_module_version": "1.2.0",
      "_view_name": "LayoutView",
      "align_content": null,
      "align_items": null,
      "align_self": null,
      "border": null,
      "bottom": null,
      "display": null,
      "flex": null,
      "flex_flow": null,
      "grid_area": null,
      "grid_auto_columns": null,
      "grid_auto_flow": null,
      "grid_auto_rows": null,
      "grid_column": null,
      "grid_gap": null,
      "grid_row": null,
      "grid_template_areas": null,
      "grid_template_columns": null,
      "grid_template_rows": null,
      "height": null,
      "justify_content": null,
      "justify_items": null,
      "left": null,
      "margin": null,
      "max_height": null,
      "max_width": null,
      "min_height": null,
      "min_width": null,
      "object_fit": null,
      "object_position": null,
      "order": null,
      "overflow": null,
      "overflow_x": null,
      "overflow_y": null,
      "padding": null,
      "right": null,
      "top": null,
      "visibility": null,
      "width": null
     }
    },
    "8ebb6d6babac4e26a7ca0926a2e540fa": {
     "model_module": "@jupyter-widgets/controls",
     "model_module_version": "1.5.0",
     "model_name": "HBoxModel",
     "state": {
      "_dom_classes": [],
      "_model_module": "@jupyter-widgets/controls",
      "_model_module_version": "1.5.0",
      "_model_name": "HBoxModel",
      "_view_count": null,
      "_view_module": "@jupyter-widgets/controls",
      "_view_module_version": "1.5.0",
      "_view_name": "HBoxView",
      "box_style": "",
      "children": [
       "IPY_MODEL_c7b45d9013b44561909dbdcfc2d12ceb",
       "IPY_MODEL_a548ebafc76c445f87e806e78531d2fb",
       "IPY_MODEL_cfa68d6e6ff447e8b1786259b1704273"
      ],
      "layout": "IPY_MODEL_2cbe2d94d3fe4b16bf86e0d705b6a926"
     }
    },
    "91746449c3ce476b8f06622fbf268d94": {
     "model_module": "@jupyter-widgets/base",
     "model_module_version": "1.2.0",
     "model_name": "LayoutModel",
     "state": {
      "_model_module": "@jupyter-widgets/base",
      "_model_module_version": "1.2.0",
      "_model_name": "LayoutModel",
      "_view_count": null,
      "_view_module": "@jupyter-widgets/base",
      "_view_module_version": "1.2.0",
      "_view_name": "LayoutView",
      "align_content": null,
      "align_items": null,
      "align_self": null,
      "border": null,
      "bottom": null,
      "display": null,
      "flex": null,
      "flex_flow": null,
      "grid_area": null,
      "grid_auto_columns": null,
      "grid_auto_flow": null,
      "grid_auto_rows": null,
      "grid_column": null,
      "grid_gap": null,
      "grid_row": null,
      "grid_template_areas": null,
      "grid_template_columns": null,
      "grid_template_rows": null,
      "height": null,
      "justify_content": null,
      "justify_items": null,
      "left": null,
      "margin": null,
      "max_height": null,
      "max_width": null,
      "min_height": null,
      "min_width": null,
      "object_fit": null,
      "object_position": null,
      "order": null,
      "overflow": null,
      "overflow_x": null,
      "overflow_y": null,
      "padding": null,
      "right": null,
      "top": null,
      "visibility": null,
      "width": null
     }
    },
    "9283b76a21d540da8e2a2e77cfcbf107": {
     "model_module": "@jupyter-widgets/controls",
     "model_module_version": "1.5.0",
     "model_name": "HTMLModel",
     "state": {
      "_dom_classes": [],
      "_model_module": "@jupyter-widgets/controls",
      "_model_module_version": "1.5.0",
      "_model_name": "HTMLModel",
      "_view_count": null,
      "_view_module": "@jupyter-widgets/controls",
      "_view_module_version": "1.5.0",
      "_view_name": "HTMLView",
      "description": "",
      "description_tooltip": null,
      "layout": "IPY_MODEL_2bf9c123bdf94a68acdf76599fe6add2",
      "placeholder": "​",
      "style": "IPY_MODEL_b8180c9ff3334f8d9dd0a92185c27acb",
      "value": "pytorch_model.bin: 100%"
     }
    },
    "a0461ca6c92f44d097ade7ffca916fd9": {
     "model_module": "@jupyter-widgets/controls",
     "model_module_version": "1.5.0",
     "model_name": "ProgressStyleModel",
     "state": {
      "_model_module": "@jupyter-widgets/controls",
      "_model_module_version": "1.5.0",
      "_model_name": "ProgressStyleModel",
      "_view_count": null,
      "_view_module": "@jupyter-widgets/base",
      "_view_module_version": "1.2.0",
      "_view_name": "StyleView",
      "bar_color": null,
      "description_width": ""
     }
    },
    "a327c4da381544f38d9660f499cdf91f": {
     "model_module": "@jupyter-widgets/base",
     "model_module_version": "1.2.0",
     "model_name": "LayoutModel",
     "state": {
      "_model_module": "@jupyter-widgets/base",
      "_model_module_version": "1.2.0",
      "_model_name": "LayoutModel",
      "_view_count": null,
      "_view_module": "@jupyter-widgets/base",
      "_view_module_version": "1.2.0",
      "_view_name": "LayoutView",
      "align_content": null,
      "align_items": null,
      "align_self": null,
      "border": null,
      "bottom": null,
      "display": null,
      "flex": null,
      "flex_flow": null,
      "grid_area": null,
      "grid_auto_columns": null,
      "grid_auto_flow": null,
      "grid_auto_rows": null,
      "grid_column": null,
      "grid_gap": null,
      "grid_row": null,
      "grid_template_areas": null,
      "grid_template_columns": null,
      "grid_template_rows": null,
      "height": null,
      "justify_content": null,
      "justify_items": null,
      "left": null,
      "margin": null,
      "max_height": null,
      "max_width": null,
      "min_height": null,
      "min_width": null,
      "object_fit": null,
      "object_position": null,
      "order": null,
      "overflow": null,
      "overflow_x": null,
      "overflow_y": null,
      "padding": null,
      "right": null,
      "top": null,
      "visibility": null,
      "width": null
     }
    },
    "a4f1b0725c454a938fc5094e6cf64c7b": {
     "model_module": "@jupyter-widgets/base",
     "model_module_version": "1.2.0",
     "model_name": "LayoutModel",
     "state": {
      "_model_module": "@jupyter-widgets/base",
      "_model_module_version": "1.2.0",
      "_model_name": "LayoutModel",
      "_view_count": null,
      "_view_module": "@jupyter-widgets/base",
      "_view_module_version": "1.2.0",
      "_view_name": "LayoutView",
      "align_content": null,
      "align_items": null,
      "align_self": null,
      "border": null,
      "bottom": null,
      "display": null,
      "flex": null,
      "flex_flow": null,
      "grid_area": null,
      "grid_auto_columns": null,
      "grid_auto_flow": null,
      "grid_auto_rows": null,
      "grid_column": null,
      "grid_gap": null,
      "grid_row": null,
      "grid_template_areas": null,
      "grid_template_columns": null,
      "grid_template_rows": null,
      "height": null,
      "justify_content": null,
      "justify_items": null,
      "left": null,
      "margin": null,
      "max_height": null,
      "max_width": null,
      "min_height": null,
      "min_width": null,
      "object_fit": null,
      "object_position": null,
      "order": null,
      "overflow": null,
      "overflow_x": null,
      "overflow_y": null,
      "padding": null,
      "right": null,
      "top": null,
      "visibility": null,
      "width": null
     }
    },
    "a548ebafc76c445f87e806e78531d2fb": {
     "model_module": "@jupyter-widgets/controls",
     "model_module_version": "1.5.0",
     "model_name": "FloatProgressModel",
     "state": {
      "_dom_classes": [],
      "_model_module": "@jupyter-widgets/controls",
      "_model_module_version": "1.5.0",
      "_model_name": "FloatProgressModel",
      "_view_count": null,
      "_view_module": "@jupyter-widgets/controls",
      "_view_module_version": "1.5.0",
      "_view_name": "ProgressView",
      "bar_style": "success",
      "description": "",
      "description_tooltip": null,
      "layout": "IPY_MODEL_ff52b843f72b4a6488820aa6012e2c58",
      "max": 239,
      "min": 0,
      "orientation": "horizontal",
      "style": "IPY_MODEL_7db06957435048ad9bd77ae6e5c54727",
      "value": 239
     }
    },
    "a717d928bb624d399ea2504ad6dbe2b5": {
     "model_module": "@jupyter-widgets/controls",
     "model_module_version": "1.5.0",
     "model_name": "FloatProgressModel",
     "state": {
      "_dom_classes": [],
      "_model_module": "@jupyter-widgets/controls",
      "_model_module_version": "1.5.0",
      "_model_name": "FloatProgressModel",
      "_view_count": null,
      "_view_module": "@jupyter-widgets/controls",
      "_view_module_version": "1.5.0",
      "_view_name": "ProgressView",
      "bar_style": "success",
      "description": "",
      "description_tooltip": null,
      "layout": "IPY_MODEL_c744ac39306147f9a950bec7bf6921e6",
      "max": 456318,
      "min": 0,
      "orientation": "horizontal",
      "style": "IPY_MODEL_87d2a81a96514a4dad12b0e921a20a33",
      "value": 456318
     }
    },
    "b28e0567976f4289b78535ddd3346f84": {
     "model_module": "@jupyter-widgets/base",
     "model_module_version": "1.2.0",
     "model_name": "LayoutModel",
     "state": {
      "_model_module": "@jupyter-widgets/base",
      "_model_module_version": "1.2.0",
      "_model_name": "LayoutModel",
      "_view_count": null,
      "_view_module": "@jupyter-widgets/base",
      "_view_module_version": "1.2.0",
      "_view_name": "LayoutView",
      "align_content": null,
      "align_items": null,
      "align_self": null,
      "border": null,
      "bottom": null,
      "display": null,
      "flex": null,
      "flex_flow": null,
      "grid_area": null,
      "grid_auto_columns": null,
      "grid_auto_flow": null,
      "grid_auto_rows": null,
      "grid_column": null,
      "grid_gap": null,
      "grid_row": null,
      "grid_template_areas": null,
      "grid_template_columns": null,
      "grid_template_rows": null,
      "height": null,
      "justify_content": null,
      "justify_items": null,
      "left": null,
      "margin": null,
      "max_height": null,
      "max_width": null,
      "min_height": null,
      "min_width": null,
      "object_fit": null,
      "object_position": null,
      "order": null,
      "overflow": null,
      "overflow_x": null,
      "overflow_y": null,
      "padding": null,
      "right": null,
      "top": null,
      "visibility": null,
      "width": null
     }
    },
    "b8180c9ff3334f8d9dd0a92185c27acb": {
     "model_module": "@jupyter-widgets/controls",
     "model_module_version": "1.5.0",
     "model_name": "DescriptionStyleModel",
     "state": {
      "_model_module": "@jupyter-widgets/controls",
      "_model_module_version": "1.5.0",
      "_model_name": "DescriptionStyleModel",
      "_view_count": null,
      "_view_module": "@jupyter-widgets/base",
      "_view_module_version": "1.2.0",
      "_view_name": "StyleView",
      "description_width": ""
     }
    },
    "b9e2f259af1842c6ba54fd5b81c05bf9": {
     "model_module": "@jupyter-widgets/controls",
     "model_module_version": "1.5.0",
     "model_name": "DescriptionStyleModel",
     "state": {
      "_model_module": "@jupyter-widgets/controls",
      "_model_module_version": "1.5.0",
      "_model_name": "DescriptionStyleModel",
      "_view_count": null,
      "_view_module": "@jupyter-widgets/base",
      "_view_module_version": "1.2.0",
      "_view_name": "StyleView",
      "description_width": ""
     }
    },
    "bba729436a254b6f9cf818829be2c68e": {
     "model_module": "@jupyter-widgets/controls",
     "model_module_version": "1.5.0",
     "model_name": "DescriptionStyleModel",
     "state": {
      "_model_module": "@jupyter-widgets/controls",
      "_model_module_version": "1.5.0",
      "_model_name": "DescriptionStyleModel",
      "_view_count": null,
      "_view_module": "@jupyter-widgets/base",
      "_view_module_version": "1.2.0",
      "_view_name": "StyleView",
      "description_width": ""
     }
    },
    "bf02863d22b8433e8ae965f230beeb88": {
     "model_module": "@jupyter-widgets/controls",
     "model_module_version": "1.5.0",
     "model_name": "DescriptionStyleModel",
     "state": {
      "_model_module": "@jupyter-widgets/controls",
      "_model_module_version": "1.5.0",
      "_model_name": "DescriptionStyleModel",
      "_view_count": null,
      "_view_module": "@jupyter-widgets/base",
      "_view_module_version": "1.2.0",
      "_view_name": "StyleView",
      "description_width": ""
     }
    },
    "bfb4de0dafe64e0ab1832ce85616180d": {
     "model_module": "@jupyter-widgets/base",
     "model_module_version": "1.2.0",
     "model_name": "LayoutModel",
     "state": {
      "_model_module": "@jupyter-widgets/base",
      "_model_module_version": "1.2.0",
      "_model_name": "LayoutModel",
      "_view_count": null,
      "_view_module": "@jupyter-widgets/base",
      "_view_module_version": "1.2.0",
      "_view_name": "LayoutView",
      "align_content": null,
      "align_items": null,
      "align_self": null,
      "border": null,
      "bottom": null,
      "display": null,
      "flex": null,
      "flex_flow": null,
      "grid_area": null,
      "grid_auto_columns": null,
      "grid_auto_flow": null,
      "grid_auto_rows": null,
      "grid_column": null,
      "grid_gap": null,
      "grid_row": null,
      "grid_template_areas": null,
      "grid_template_columns": null,
      "grid_template_rows": null,
      "height": null,
      "justify_content": null,
      "justify_items": null,
      "left": null,
      "margin": null,
      "max_height": null,
      "max_width": null,
      "min_height": null,
      "min_width": null,
      "object_fit": null,
      "object_position": null,
      "order": null,
      "overflow": null,
      "overflow_x": null,
      "overflow_y": null,
      "padding": null,
      "right": null,
      "top": null,
      "visibility": null,
      "width": null
     }
    },
    "c2b4ab38073c4f5da1319fc07d0f1d23": {
     "model_module": "@jupyter-widgets/base",
     "model_module_version": "1.2.0",
     "model_name": "LayoutModel",
     "state": {
      "_model_module": "@jupyter-widgets/base",
      "_model_module_version": "1.2.0",
      "_model_name": "LayoutModel",
      "_view_count": null,
      "_view_module": "@jupyter-widgets/base",
      "_view_module_version": "1.2.0",
      "_view_name": "LayoutView",
      "align_content": null,
      "align_items": null,
      "align_self": null,
      "border": null,
      "bottom": null,
      "display": null,
      "flex": null,
      "flex_flow": null,
      "grid_area": null,
      "grid_auto_columns": null,
      "grid_auto_flow": null,
      "grid_auto_rows": null,
      "grid_column": null,
      "grid_gap": null,
      "grid_row": null,
      "grid_template_areas": null,
      "grid_template_columns": null,
      "grid_template_rows": null,
      "height": null,
      "justify_content": null,
      "justify_items": null,
      "left": null,
      "margin": null,
      "max_height": null,
      "max_width": null,
      "min_height": null,
      "min_width": null,
      "object_fit": null,
      "object_position": null,
      "order": null,
      "overflow": null,
      "overflow_x": null,
      "overflow_y": null,
      "padding": null,
      "right": null,
      "top": null,
      "visibility": null,
      "width": null
     }
    },
    "c638281e86ec4d18ba7709e356cfdf5a": {
     "model_module": "@jupyter-widgets/controls",
     "model_module_version": "1.5.0",
     "model_name": "ProgressStyleModel",
     "state": {
      "_model_module": "@jupyter-widgets/controls",
      "_model_module_version": "1.5.0",
      "_model_name": "ProgressStyleModel",
      "_view_count": null,
      "_view_module": "@jupyter-widgets/base",
      "_view_module_version": "1.2.0",
      "_view_name": "StyleView",
      "bar_color": null,
      "description_width": ""
     }
    },
    "c647cc79cd554374ac000f2a0ec52f79": {
     "model_module": "@jupyter-widgets/controls",
     "model_module_version": "1.5.0",
     "model_name": "HBoxModel",
     "state": {
      "_dom_classes": [],
      "_model_module": "@jupyter-widgets/controls",
      "_model_module_version": "1.5.0",
      "_model_name": "HBoxModel",
      "_view_count": null,
      "_view_module": "@jupyter-widgets/controls",
      "_view_module_version": "1.5.0",
      "_view_name": "HBoxView",
      "box_style": "",
      "children": [
       "IPY_MODEL_9283b76a21d540da8e2a2e77cfcbf107",
       "IPY_MODEL_fa898c83674e45cb898494ad9430a74a",
       "IPY_MODEL_0e53593846e743409e2483194e51ca8d"
      ],
      "layout": "IPY_MODEL_87dc9a16cb584dc4aa6bc3270207dd40"
     }
    },
    "c744ac39306147f9a950bec7bf6921e6": {
     "model_module": "@jupyter-widgets/base",
     "model_module_version": "1.2.0",
     "model_name": "LayoutModel",
     "state": {
      "_model_module": "@jupyter-widgets/base",
      "_model_module_version": "1.2.0",
      "_model_name": "LayoutModel",
      "_view_count": null,
      "_view_module": "@jupyter-widgets/base",
      "_view_module_version": "1.2.0",
      "_view_name": "LayoutView",
      "align_content": null,
      "align_items": null,
      "align_self": null,
      "border": null,
      "bottom": null,
      "display": null,
      "flex": null,
      "flex_flow": null,
      "grid_area": null,
      "grid_auto_columns": null,
      "grid_auto_flow": null,
      "grid_auto_rows": null,
      "grid_column": null,
      "grid_gap": null,
      "grid_row": null,
      "grid_template_areas": null,
      "grid_template_columns": null,
      "grid_template_rows": null,
      "height": null,
      "justify_content": null,
      "justify_items": null,
      "left": null,
      "margin": null,
      "max_height": null,
      "max_width": null,
      "min_height": null,
      "min_width": null,
      "object_fit": null,
      "object_position": null,
      "order": null,
      "overflow": null,
      "overflow_x": null,
      "overflow_y": null,
      "padding": null,
      "right": null,
      "top": null,
      "visibility": null,
      "width": null
     }
    },
    "c75edf88c41246dea76ab2abec3a407f": {
     "model_module": "@jupyter-widgets/controls",
     "model_module_version": "1.5.0",
     "model_name": "DescriptionStyleModel",
     "state": {
      "_model_module": "@jupyter-widgets/controls",
      "_model_module_version": "1.5.0",
      "_model_name": "DescriptionStyleModel",
      "_view_count": null,
      "_view_module": "@jupyter-widgets/base",
      "_view_module_version": "1.2.0",
      "_view_name": "StyleView",
      "description_width": ""
     }
    },
    "c7b45d9013b44561909dbdcfc2d12ceb": {
     "model_module": "@jupyter-widgets/controls",
     "model_module_version": "1.5.0",
     "model_name": "HTMLModel",
     "state": {
      "_dom_classes": [],
      "_model_module": "@jupyter-widgets/controls",
      "_model_module_version": "1.5.0",
      "_model_name": "HTMLModel",
      "_view_count": null,
      "_view_module": "@jupyter-widgets/controls",
      "_view_module_version": "1.5.0",
      "_view_name": "HTMLView",
      "description": "",
      "description_tooltip": null,
      "layout": "IPY_MODEL_12c81cfd9e8c4f5b971d290e887f3016",
      "placeholder": "​",
      "style": "IPY_MODEL_f8fb36c9867d4728bfd2a9aa28199e66",
      "value": "special_tokens_map.json: 100%"
     }
    },
    "c825d4ea06a148b4a5fc32076a5c617e": {
     "model_module": "@jupyter-widgets/controls",
     "model_module_version": "1.5.0",
     "model_name": "HTMLModel",
     "state": {
      "_dom_classes": [],
      "_model_module": "@jupyter-widgets/controls",
      "_model_module_version": "1.5.0",
      "_model_name": "HTMLModel",
      "_view_count": null,
      "_view_module": "@jupyter-widgets/controls",
      "_view_module_version": "1.5.0",
      "_view_name": "HTMLView",
      "description": "",
      "description_tooltip": null,
      "layout": "IPY_MODEL_76e7bc8c6a9b46f79d348148d7dcface",
      "placeholder": "​",
      "style": "IPY_MODEL_c75edf88c41246dea76ab2abec3a407f",
      "value": "config.json: 100%"
     }
    },
    "cfa68d6e6ff447e8b1786259b1704273": {
     "model_module": "@jupyter-widgets/controls",
     "model_module_version": "1.5.0",
     "model_name": "HTMLModel",
     "state": {
      "_dom_classes": [],
      "_model_module": "@jupyter-widgets/controls",
      "_model_module_version": "1.5.0",
      "_model_name": "HTMLModel",
      "_view_count": null,
      "_view_module": "@jupyter-widgets/controls",
      "_view_module_version": "1.5.0",
      "_view_name": "HTMLView",
      "description": "",
      "description_tooltip": null,
      "layout": "IPY_MODEL_f4218aa6076a402a8e0d924b7920b5e2",
      "placeholder": "​",
      "style": "IPY_MODEL_4c396a06bac84a1a9d48e8077261513f",
      "value": " 239/239 [00:00&lt;00:00, 12.9kB/s]"
     }
    },
    "d86981d0f026471c89f391d40cccd735": {
     "model_module": "@jupyter-widgets/controls",
     "model_module_version": "1.5.0",
     "model_name": "DescriptionStyleModel",
     "state": {
      "_model_module": "@jupyter-widgets/controls",
      "_model_module_version": "1.5.0",
      "_model_name": "DescriptionStyleModel",
      "_view_count": null,
      "_view_module": "@jupyter-widgets/base",
      "_view_module_version": "1.2.0",
      "_view_name": "StyleView",
      "description_width": ""
     }
    },
    "e7935eb53a464b70a8c8a9716e5524c6": {
     "model_module": "@jupyter-widgets/controls",
     "model_module_version": "1.5.0",
     "model_name": "HTMLModel",
     "state": {
      "_dom_classes": [],
      "_model_module": "@jupyter-widgets/controls",
      "_model_module_version": "1.5.0",
      "_model_name": "HTMLModel",
      "_view_count": null,
      "_view_module": "@jupyter-widgets/controls",
      "_view_module_version": "1.5.0",
      "_view_name": "HTMLView",
      "description": "",
      "description_tooltip": null,
      "layout": "IPY_MODEL_714407fba9cf44e9a7ed8f576de56fa4",
      "placeholder": "​",
      "style": "IPY_MODEL_d86981d0f026471c89f391d40cccd735",
      "value": " 929/929 [00:00&lt;00:00, 37.7kB/s]"
     }
    },
    "e8ed49d55dad430dbeaae45bd7d6990e": {
     "model_module": "@jupyter-widgets/controls",
     "model_module_version": "1.5.0",
     "model_name": "HBoxModel",
     "state": {
      "_dom_classes": [],
      "_model_module": "@jupyter-widgets/controls",
      "_model_module_version": "1.5.0",
      "_model_name": "HBoxModel",
      "_view_count": null,
      "_view_module": "@jupyter-widgets/controls",
      "_view_module_version": "1.5.0",
      "_view_name": "HBoxView",
      "box_style": "",
      "children": [
       "IPY_MODEL_fca50ee27c68474bbbc57a45d491204d",
       "IPY_MODEL_a717d928bb624d399ea2504ad6dbe2b5",
       "IPY_MODEL_57a5f664bb024d91a3441ddd0a8f4cb2"
      ],
      "layout": "IPY_MODEL_c2b4ab38073c4f5da1319fc07d0f1d23"
     }
    },
    "f1febe1225b34a34a37292e411131655": {
     "model_module": "@jupyter-widgets/controls",
     "model_module_version": "1.5.0",
     "model_name": "ProgressStyleModel",
     "state": {
      "_model_module": "@jupyter-widgets/controls",
      "_model_module_version": "1.5.0",
      "_model_name": "ProgressStyleModel",
      "_view_count": null,
      "_view_module": "@jupyter-widgets/base",
      "_view_module_version": "1.2.0",
      "_view_name": "StyleView",
      "bar_color": null,
      "description_width": ""
     }
    },
    "f4218aa6076a402a8e0d924b7920b5e2": {
     "model_module": "@jupyter-widgets/base",
     "model_module_version": "1.2.0",
     "model_name": "LayoutModel",
     "state": {
      "_model_module": "@jupyter-widgets/base",
      "_model_module_version": "1.2.0",
      "_model_name": "LayoutModel",
      "_view_count": null,
      "_view_module": "@jupyter-widgets/base",
      "_view_module_version": "1.2.0",
      "_view_name": "LayoutView",
      "align_content": null,
      "align_items": null,
      "align_self": null,
      "border": null,
      "bottom": null,
      "display": null,
      "flex": null,
      "flex_flow": null,
      "grid_area": null,
      "grid_auto_columns": null,
      "grid_auto_flow": null,
      "grid_auto_rows": null,
      "grid_column": null,
      "grid_gap": null,
      "grid_row": null,
      "grid_template_areas": null,
      "grid_template_columns": null,
      "grid_template_rows": null,
      "height": null,
      "justify_content": null,
      "justify_items": null,
      "left": null,
      "margin": null,
      "max_height": null,
      "max_width": null,
      "min_height": null,
      "min_width": null,
      "object_fit": null,
      "object_position": null,
      "order": null,
      "overflow": null,
      "overflow_x": null,
      "overflow_y": null,
      "padding": null,
      "right": null,
      "top": null,
      "visibility": null,
      "width": null
     }
    },
    "f4c18d52013e4b74ac9c9d846b6e51a9": {
     "model_module": "@jupyter-widgets/controls",
     "model_module_version": "1.5.0",
     "model_name": "HBoxModel",
     "state": {
      "_dom_classes": [],
      "_model_module": "@jupyter-widgets/controls",
      "_model_module_version": "1.5.0",
      "_model_name": "HBoxModel",
      "_view_count": null,
      "_view_module": "@jupyter-widgets/controls",
      "_view_module_version": "1.5.0",
      "_view_name": "HBoxView",
      "box_style": "",
      "children": [
       "IPY_MODEL_c825d4ea06a148b4a5fc32076a5c617e",
       "IPY_MODEL_380659609d184944a48095de7cf309ac",
       "IPY_MODEL_e7935eb53a464b70a8c8a9716e5524c6"
      ],
      "layout": "IPY_MODEL_6ce0288b1dba4ffa89b6b2c6d247cbc5"
     }
    },
    "f8fb36c9867d4728bfd2a9aa28199e66": {
     "model_module": "@jupyter-widgets/controls",
     "model_module_version": "1.5.0",
     "model_name": "DescriptionStyleModel",
     "state": {
      "_model_module": "@jupyter-widgets/controls",
      "_model_module_version": "1.5.0",
      "_model_name": "DescriptionStyleModel",
      "_view_count": null,
      "_view_module": "@jupyter-widgets/base",
      "_view_module_version": "1.2.0",
      "_view_name": "StyleView",
      "description_width": ""
     }
    },
    "fa898c83674e45cb898494ad9430a74a": {
     "model_module": "@jupyter-widgets/controls",
     "model_module_version": "1.5.0",
     "model_name": "FloatProgressModel",
     "state": {
      "_dom_classes": [],
      "_model_module": "@jupyter-widgets/controls",
      "_model_module_version": "1.5.0",
      "_model_name": "FloatProgressModel",
      "_view_count": null,
      "_view_module": "@jupyter-widgets/controls",
      "_view_module_version": "1.5.0",
      "_view_name": "ProgressView",
      "bar_style": "success",
      "description": "",
      "description_tooltip": null,
      "layout": "IPY_MODEL_32f3a5d0444b4dff83bea9658264f8fa",
      "max": 501045531,
      "min": 0,
      "orientation": "horizontal",
      "style": "IPY_MODEL_c638281e86ec4d18ba7709e356cfdf5a",
      "value": 501045531
     }
    },
    "fc132af226424b3bacd9e6462d27cda0": {
     "model_module": "@jupyter-widgets/base",
     "model_module_version": "1.2.0",
     "model_name": "LayoutModel",
     "state": {
      "_model_module": "@jupyter-widgets/base",
      "_model_module_version": "1.2.0",
      "_model_name": "LayoutModel",
      "_view_count": null,
      "_view_module": "@jupyter-widgets/base",
      "_view_module_version": "1.2.0",
      "_view_name": "LayoutView",
      "align_content": null,
      "align_items": null,
      "align_self": null,
      "border": null,
      "bottom": null,
      "display": null,
      "flex": null,
      "flex_flow": null,
      "grid_area": null,
      "grid_auto_columns": null,
      "grid_auto_flow": null,
      "grid_auto_rows": null,
      "grid_column": null,
      "grid_gap": null,
      "grid_row": null,
      "grid_template_areas": null,
      "grid_template_columns": null,
      "grid_template_rows": null,
      "height": null,
      "justify_content": null,
      "justify_items": null,
      "left": null,
      "margin": null,
      "max_height": null,
      "max_width": null,
      "min_height": null,
      "min_width": null,
      "object_fit": null,
      "object_position": null,
      "order": null,
      "overflow": null,
      "overflow_x": null,
      "overflow_y": null,
      "padding": null,
      "right": null,
      "top": null,
      "visibility": null,
      "width": null
     }
    },
    "fca50ee27c68474bbbc57a45d491204d": {
     "model_module": "@jupyter-widgets/controls",
     "model_module_version": "1.5.0",
     "model_name": "HTMLModel",
     "state": {
      "_dom_classes": [],
      "_model_module": "@jupyter-widgets/controls",
      "_model_module_version": "1.5.0",
      "_model_name": "HTMLModel",
      "_view_count": null,
      "_view_module": "@jupyter-widgets/controls",
      "_view_module_version": "1.5.0",
      "_view_name": "HTMLView",
      "description": "",
      "description_tooltip": null,
      "layout": "IPY_MODEL_71e68170887c4190818d7acc59d45604",
      "placeholder": "​",
      "style": "IPY_MODEL_6e0a48a7bc84458d98efa0fb42a813a5",
      "value": "merges.txt: 100%"
     }
    },
    "ff52b843f72b4a6488820aa6012e2c58": {
     "model_module": "@jupyter-widgets/base",
     "model_module_version": "1.2.0",
     "model_name": "LayoutModel",
     "state": {
      "_model_module": "@jupyter-widgets/base",
      "_model_module_version": "1.2.0",
      "_model_name": "LayoutModel",
      "_view_count": null,
      "_view_module": "@jupyter-widgets/base",
      "_view_module_version": "1.2.0",
      "_view_name": "LayoutView",
      "align_content": null,
      "align_items": null,
      "align_self": null,
      "border": null,
      "bottom": null,
      "display": null,
      "flex": null,
      "flex_flow": null,
      "grid_area": null,
      "grid_auto_columns": null,
      "grid_auto_flow": null,
      "grid_auto_rows": null,
      "grid_column": null,
      "grid_gap": null,
      "grid_row": null,
      "grid_template_areas": null,
      "grid_template_columns": null,
      "grid_template_rows": null,
      "height": null,
      "justify_content": null,
      "justify_items": null,
      "left": null,
      "margin": null,
      "max_height": null,
      "max_width": null,
      "min_height": null,
      "min_width": null,
      "object_fit": null,
      "object_position": null,
      "order": null,
      "overflow": null,
      "overflow_x": null,
      "overflow_y": null,
      "padding": null,
      "right": null,
      "top": null,
      "visibility": null,
      "width": null
     }
    },
    "ffc0e662f2f94459b8deded5758c0993": {
     "model_module": "@jupyter-widgets/controls",
     "model_module_version": "1.5.0",
     "model_name": "HTMLModel",
     "state": {
      "_dom_classes": [],
      "_model_module": "@jupyter-widgets/controls",
      "_model_module_version": "1.5.0",
      "_model_name": "HTMLModel",
      "_view_count": null,
      "_view_module": "@jupyter-widgets/controls",
      "_view_module_version": "1.5.0",
      "_view_name": "HTMLView",
      "description": "",
      "description_tooltip": null,
      "layout": "IPY_MODEL_1c950cf1ec3a4c9aa1e93abe81721546",
      "placeholder": "​",
      "style": "IPY_MODEL_bba729436a254b6f9cf818829be2c68e",
      "value": " 899k/899k [00:00&lt;00:00, 1.73MB/s]"
     }
    }
   }
  }
 },
 "nbformat": 4,
 "nbformat_minor": 0
}
